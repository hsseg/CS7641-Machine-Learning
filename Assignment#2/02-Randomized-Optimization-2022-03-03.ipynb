{
 "cells": [
  {
   "cell_type": "markdown",
   "metadata": {
    "application/vnd.databricks.v1+cell": {
     "inputWidgets": {},
     "nuid": "7a868251-713e-4a80-9182-5614fccfdf2b",
     "showTitle": false,
     "title": ""
    }
   },
   "source": [
    "# Randomized Optimization\n",
    "The purpose of this project is to explore random search. As always, it is important to realize that understanding an algorithm or technique requires more than reading about that algorithm or even implementing it. You must implement four local random search algorithms. They are: \n",
    "- randomized hill climbing (RHC)\n",
    "- simulated annealing (SA)\n",
    "- a genetic algorithm (GA)\n",
    "- Mutual Information maximum Input Clustering (MIMIC)"
   ]
  },
  {
   "cell_type": "code",
   "execution_count": 0,
   "metadata": {
    "application/vnd.databricks.v1+cell": {
     "inputWidgets": {},
     "nuid": "7a6b06ea-4d00-4f8d-9091-f940c92b8d7c",
     "showTitle": false,
     "title": ""
    }
   },
   "outputs": [
    {
     "data": {
      "text/html": [
       "<style scoped>\n",
       "  .ansiout {\n",
       "    display: block;\n",
       "    unicode-bidi: embed;\n",
       "    white-space: pre-wrap;\n",
       "    word-wrap: break-word;\n",
       "    word-break: break-all;\n",
       "    font-family: \"Source Code Pro\", \"Menlo\", monospace;;\n",
       "    font-size: 13px;\n",
       "    color: #555;\n",
       "    margin-left: 4px;\n",
       "    line-height: 19px;\n",
       "  }\n",
       "</style>\n",
       "<div class=\"ansiout\"></div>"
      ]
     },
     "metadata": {
      "application/vnd.databricks.v1+output": {
       "addedWidgets": {},
       "arguments": {},
       "data": "<div class=\"ansiout\"></div>",
       "datasetInfos": [],
       "metadata": {},
       "removedWidgets": [],
       "type": "html"
      }
     },
     "output_type": "display_data"
    }
   ],
   "source": [
    "# Cluster - georgia_tech\n",
    "# Runtime: 10.2 ML\n",
    "# Driver: Standard_DS5_v2\n",
    "# Worker(s): Standard_DS5_v2\n",
    "# Created by: Herbert Ssegane\n",
    "# Date: 03/03/2022"
   ]
  },
  {
   "cell_type": "code",
   "execution_count": 0,
   "metadata": {
    "application/vnd.databricks.v1+cell": {
     "inputWidgets": {},
     "nuid": "38570e64-7198-40d7-96ec-2408d12b0b74",
     "showTitle": false,
     "title": ""
    }
   },
   "outputs": [
    {
     "data": {
      "text/html": [
       "<style scoped>\n",
       "  .ansiout {\n",
       "    display: block;\n",
       "    unicode-bidi: embed;\n",
       "    white-space: pre-wrap;\n",
       "    word-wrap: break-word;\n",
       "    word-break: break-all;\n",
       "    font-family: \"Source Code Pro\", \"Menlo\", monospace;;\n",
       "    font-size: 13px;\n",
       "    color: #555;\n",
       "    margin-left: 4px;\n",
       "    line-height: 19px;\n",
       "  }\n",
       "</style>\n",
       "<div class=\"ansiout\"></div>"
      ]
     },
     "metadata": {
      "application/vnd.databricks.v1+output": {
       "addedWidgets": {},
       "arguments": {},
       "data": "<div class=\"ansiout\"></div>",
       "datasetInfos": [],
       "metadata": {},
       "removedWidgets": [],
       "type": "html"
      }
     },
     "output_type": "display_data"
    }
   ],
   "source": [
    "import numpy as np\n",
    "import pandas as pd\n",
    "import matplotlib.pyplot as plt\n",
    "from datetime import datetime, date\n",
    "import seaborn as sns\n",
    "\n",
    "from IPython.core.display import display, HTML\n",
    "import mlrose_hiive\n",
    "from mlrose_hiive import QueensGenerator, MaxKColorGenerator, TSPGenerator, KnapsackGenerator\n",
    "from mlrose_hiive import SARunner, GARunner, RHCRunner, MIMICRunner\n",
    "import networkx as nx"
   ]
  },
  {
   "cell_type": "markdown",
   "metadata": {
    "application/vnd.databricks.v1+cell": {
     "inputWidgets": {},
     "nuid": "f9e3bd7c-1ef4-4969-896b-788c966723c2",
     "showTitle": false,
     "title": ""
    }
   },
   "source": [
    "# 8-Queens"
   ]
  },
  {
   "cell_type": "code",
   "execution_count": 0,
   "metadata": {
    "application/vnd.databricks.v1+cell": {
     "inputWidgets": {},
     "nuid": "c4dc4a6d-5918-4618-b7f8-c931819e3cc3",
     "showTitle": false,
     "title": ""
    }
   },
   "outputs": [
    {
     "data": {
      "text/html": [
       "<style scoped>\n",
       "  .ansiout {\n",
       "    display: block;\n",
       "    unicode-bidi: embed;\n",
       "    white-space: pre-wrap;\n",
       "    word-wrap: break-word;\n",
       "    word-break: break-all;\n",
       "    font-family: \"Source Code Pro\", \"Menlo\", monospace;;\n",
       "    font-size: 13px;\n",
       "    color: #555;\n",
       "    margin-left: 4px;\n",
       "    line-height: 19px;\n",
       "  }\n",
       "</style>\n",
       "<div class=\"ansiout\">Out[107]: array([6, 4, 6, 2, 7, 4, 3, 4])</div>"
      ]
     },
     "metadata": {
      "application/vnd.databricks.v1+output": {
       "addedWidgets": {},
       "arguments": {},
       "data": "<div class=\"ansiout\">Out[107]: array([6, 4, 6, 2, 7, 4, 3, 4])</div>",
       "datasetInfos": [],
       "metadata": {},
       "removedWidgets": [],
       "type": "html"
      }
     },
     "output_type": "display_data"
    }
   ],
   "source": [
    "# Generate a new 8-Queen problem using a fixed seed.\n",
    "problem = QueensGenerator().generate(seed=42, size=8)\n",
    "state = problem.get_state()\n",
    "\n",
    "\n",
    "state"
   ]
  },
  {
   "cell_type": "code",
   "execution_count": 0,
   "metadata": {
    "application/vnd.databricks.v1+cell": {
     "inputWidgets": {},
     "nuid": "bcae49b5-4d55-4d82-b6a2-0deb2b6ec8cb",
     "showTitle": true,
     "title": "randomized hill climbing (RHC)"
    }
   },
   "outputs": [
    {
     "data": {
      "text/html": [
       "<style scoped>\n",
       "  .ansiout {\n",
       "    display: block;\n",
       "    unicode-bidi: embed;\n",
       "    white-space: pre-wrap;\n",
       "    word-wrap: break-word;\n",
       "    word-break: break-all;\n",
       "    font-family: \"Source Code Pro\", \"Menlo\", monospace;;\n",
       "    font-size: 13px;\n",
       "    color: #555;\n",
       "    margin-left: 4px;\n",
       "    line-height: 19px;\n",
       "  }\n",
       "</style>\n",
       "<div class=\"ansiout\"></div>"
      ]
     },
     "metadata": {
      "application/vnd.databricks.v1+output": {
       "addedWidgets": {},
       "arguments": {},
       "data": "<div class=\"ansiout\"></div>",
       "datasetInfos": [],
       "metadata": {},
       "removedWidgets": [],
       "type": "html"
      }
     },
     "output_type": "display_data"
    }
   ],
   "source": [
    "rhc = RHCRunner(problem = problem,\n",
    "                experiment_name = 'queens-8-rhc',\n",
    "                output_directory=None,\n",
    "                seed = 42,\n",
    "                iteration_list = 2**np.arange(15),\n",
    "                restart_list = [5],\n",
    "                max_attempts=1000,\n",
    "                generate_curves=True\n",
    "               )\n",
    "\n",
    "# the two data frames will contain the results\n",
    "df_run_stats_rhc, df_run_curves_rhc = rhc.run()"
   ]
  },
  {
   "cell_type": "code",
   "execution_count": 0,
   "metadata": {
    "application/vnd.databricks.v1+cell": {
     "inputWidgets": {},
     "nuid": "f02abfde-98b2-4ee3-8bbb-d6991c09af57",
     "showTitle": false,
     "title": ""
    }
   },
   "outputs": [
    {
     "data": {
      "text/html": [
       "<style scoped>\n",
       "  .ansiout {\n",
       "    display: block;\n",
       "    unicode-bidi: embed;\n",
       "    white-space: pre-wrap;\n",
       "    word-wrap: break-word;\n",
       "    word-break: break-all;\n",
       "    font-family: \"Source Code Pro\", \"Menlo\", monospace;;\n",
       "    font-size: 13px;\n",
       "    color: #555;\n",
       "    margin-left: 4px;\n",
       "    line-height: 19px;\n",
       "  }\n",
       "</style>\n",
       "<div class=\"ansiout\">(48, 8) (2116, 7)\n",
       "</div>"
      ]
     },
     "metadata": {
      "application/vnd.databricks.v1+output": {
       "addedWidgets": {},
       "arguments": {},
       "data": "<div class=\"ansiout\">(48, 8) (2116, 7)\n</div>",
       "datasetInfos": [],
       "metadata": {},
       "removedWidgets": [],
       "type": "html"
      }
     },
     "output_type": "display_data"
    }
   ],
   "source": [
    "print(df_run_stats_rhc.shape, df_run_curves_rhc.shape)"
   ]
  },
  {
   "cell_type": "code",
   "execution_count": 0,
   "metadata": {
    "application/vnd.databricks.v1+cell": {
     "inputWidgets": {},
     "nuid": "bfd64743-b7bc-4053-b136-04617f316b43",
     "showTitle": false,
     "title": ""
    }
   },
   "outputs": [
    {
     "data": {
      "text/html": [
       "<style scoped>\n",
       "  .ansiout {\n",
       "    display: block;\n",
       "    unicode-bidi: embed;\n",
       "    white-space: pre-wrap;\n",
       "    word-wrap: break-word;\n",
       "    word-break: break-all;\n",
       "    font-family: \"Source Code Pro\", \"Menlo\", monospace;;\n",
       "    font-size: 13px;\n",
       "    color: #555;\n",
       "    margin-left: 4px;\n",
       "    line-height: 19px;\n",
       "  }\n",
       "</style>\n",
       "<div class=\"ansiout\">Out[110]: array([2, 5, 7, 0, 3, 6, 4, 1])</div>"
      ]
     },
     "metadata": {
      "application/vnd.databricks.v1+output": {
       "addedWidgets": {},
       "arguments": {},
       "data": "<div class=\"ansiout\">Out[110]: array([2, 5, 7, 0, 3, 6, 4, 1])</div>",
       "datasetInfos": [],
       "metadata": {},
       "removedWidgets": [],
       "type": "html"
      }
     },
     "output_type": "display_data"
    }
   ],
   "source": [
    "# # Initial state\n",
    "problem.get_state()"
   ]
  },
  {
   "cell_type": "code",
   "execution_count": 0,
   "metadata": {
    "application/vnd.databricks.v1+cell": {
     "inputWidgets": {},
     "nuid": "a8748326-6cca-48a3-8ec0-4ce826cdb069",
     "showTitle": false,
     "title": ""
    }
   },
   "outputs": [
    {
     "data": {
      "text/html": [
       "<style scoped>\n",
       "  .ansiout {\n",
       "    display: block;\n",
       "    unicode-bidi: embed;\n",
       "    white-space: pre-wrap;\n",
       "    word-wrap: break-word;\n",
       "    word-break: break-all;\n",
       "    font-family: \"Source Code Pro\", \"Menlo\", monospace;;\n",
       "    font-size: 13px;\n",
       "    color: #555;\n",
       "    margin-left: 4px;\n",
       "    line-height: 19px;\n",
       "  }\n",
       "</style>\n",
       "<div class=\"ansiout\">Out[111]: </div>"
      ]
     },
     "metadata": {
      "application/vnd.databricks.v1+output": {
       "addedWidgets": {},
       "arguments": {},
       "data": "<div class=\"ansiout\">Out[111]: </div>",
       "datasetInfos": [],
       "metadata": {},
       "removedWidgets": [],
       "type": "html"
      }
     },
     "output_type": "display_data"
    },
    {
     "data": {
      "text/html": [
       "<div>\n",
       "<style scoped>\n",
       "    .dataframe tbody tr th:only-of-type {\n",
       "        vertical-align: middle;\n",
       "    }\n",
       "\n",
       "    .dataframe tbody tr th {\n",
       "        vertical-align: top;\n",
       "    }\n",
       "\n",
       "    .dataframe thead th {\n",
       "        text-align: right;\n",
       "    }\n",
       "</style>\n",
       "<table border=\"1\" class=\"dataframe\">\n",
       "  <thead>\n",
       "    <tr style=\"text-align: right;\">\n",
       "      <th></th>\n",
       "      <th>Iteration</th>\n",
       "      <th>Fitness</th>\n",
       "      <th>FEvals</th>\n",
       "      <th>Time</th>\n",
       "      <th>State</th>\n",
       "      <th>Restarts</th>\n",
       "      <th>max_iters</th>\n",
       "      <th>current_restart</th>\n",
       "    </tr>\n",
       "  </thead>\n",
       "  <tbody>\n",
       "    <tr>\n",
       "      <th>43</th>\n",
       "      <td>1024</td>\n",
       "      <td>0.0</td>\n",
       "      <td>2130</td>\n",
       "      <td>3.165051</td>\n",
       "      <td>[2, 5, 7, 0, 3, 6, 4, 1]</td>\n",
       "      <td>5</td>\n",
       "      <td>16384</td>\n",
       "      <td>2</td>\n",
       "    </tr>\n",
       "    <tr>\n",
       "      <th>44</th>\n",
       "      <td>2048</td>\n",
       "      <td>0.0</td>\n",
       "      <td>2130</td>\n",
       "      <td>3.165051</td>\n",
       "      <td>[2, 5, 7, 0, 3, 6, 4, 1]</td>\n",
       "      <td>5</td>\n",
       "      <td>16384</td>\n",
       "      <td>2</td>\n",
       "    </tr>\n",
       "    <tr>\n",
       "      <th>45</th>\n",
       "      <td>4096</td>\n",
       "      <td>0.0</td>\n",
       "      <td>2130</td>\n",
       "      <td>3.165051</td>\n",
       "      <td>[2, 5, 7, 0, 3, 6, 4, 1]</td>\n",
       "      <td>5</td>\n",
       "      <td>16384</td>\n",
       "      <td>2</td>\n",
       "    </tr>\n",
       "    <tr>\n",
       "      <th>46</th>\n",
       "      <td>8192</td>\n",
       "      <td>0.0</td>\n",
       "      <td>2130</td>\n",
       "      <td>3.165051</td>\n",
       "      <td>[2, 5, 7, 0, 3, 6, 4, 1]</td>\n",
       "      <td>5</td>\n",
       "      <td>16384</td>\n",
       "      <td>2</td>\n",
       "    </tr>\n",
       "    <tr>\n",
       "      <th>47</th>\n",
       "      <td>16384</td>\n",
       "      <td>0.0</td>\n",
       "      <td>2130</td>\n",
       "      <td>3.165051</td>\n",
       "      <td>[2, 5, 7, 0, 3, 6, 4, 1]</td>\n",
       "      <td>5</td>\n",
       "      <td>16384</td>\n",
       "      <td>2</td>\n",
       "    </tr>\n",
       "  </tbody>\n",
       "</table>\n",
       "</div>"
      ]
     },
     "metadata": {
      "application/vnd.databricks.v1+output": {
       "addedWidgets": {},
       "arguments": {},
       "data": "<div>\n<style scoped>\n    .dataframe tbody tr th:only-of-type {\n        vertical-align: middle;\n    }\n\n    .dataframe tbody tr th {\n        vertical-align: top;\n    }\n\n    .dataframe thead th {\n        text-align: right;\n    }\n</style>\n<table border=\"1\" class=\"dataframe\">\n  <thead>\n    <tr style=\"text-align: right;\">\n      <th></th>\n      <th>Iteration</th>\n      <th>Fitness</th>\n      <th>FEvals</th>\n      <th>Time</th>\n      <th>State</th>\n      <th>Restarts</th>\n      <th>max_iters</th>\n      <th>current_restart</th>\n    </tr>\n  </thead>\n  <tbody>\n    <tr>\n      <th>43</th>\n      <td>1024</td>\n      <td>0.0</td>\n      <td>2130</td>\n      <td>3.165051</td>\n      <td>[2, 5, 7, 0, 3, 6, 4, 1]</td>\n      <td>5</td>\n      <td>16384</td>\n      <td>2</td>\n    </tr>\n    <tr>\n      <th>44</th>\n      <td>2048</td>\n      <td>0.0</td>\n      <td>2130</td>\n      <td>3.165051</td>\n      <td>[2, 5, 7, 0, 3, 6, 4, 1]</td>\n      <td>5</td>\n      <td>16384</td>\n      <td>2</td>\n    </tr>\n    <tr>\n      <th>45</th>\n      <td>4096</td>\n      <td>0.0</td>\n      <td>2130</td>\n      <td>3.165051</td>\n      <td>[2, 5, 7, 0, 3, 6, 4, 1]</td>\n      <td>5</td>\n      <td>16384</td>\n      <td>2</td>\n    </tr>\n    <tr>\n      <th>46</th>\n      <td>8192</td>\n      <td>0.0</td>\n      <td>2130</td>\n      <td>3.165051</td>\n      <td>[2, 5, 7, 0, 3, 6, 4, 1]</td>\n      <td>5</td>\n      <td>16384</td>\n      <td>2</td>\n    </tr>\n    <tr>\n      <th>47</th>\n      <td>16384</td>\n      <td>0.0</td>\n      <td>2130</td>\n      <td>3.165051</td>\n      <td>[2, 5, 7, 0, 3, 6, 4, 1]</td>\n      <td>5</td>\n      <td>16384</td>\n      <td>2</td>\n    </tr>\n  </tbody>\n</table>\n</div>",
       "datasetInfos": [],
       "metadata": {},
       "removedWidgets": [],
       "textData": null,
       "type": "htmlSandbox"
      }
     },
     "output_type": "display_data"
    }
   ],
   "source": [
    "df_run_stats_rhc.tail()"
   ]
  },
  {
   "cell_type": "code",
   "execution_count": 0,
   "metadata": {
    "application/vnd.databricks.v1+cell": {
     "inputWidgets": {},
     "nuid": "e111b977-6a3c-4c97-bfd6-908d49099615",
     "showTitle": false,
     "title": ""
    }
   },
   "outputs": [
    {
     "data": {
      "text/html": [
       "<style scoped>\n",
       "  .ansiout {\n",
       "    display: block;\n",
       "    unicode-bidi: embed;\n",
       "    white-space: pre-wrap;\n",
       "    word-wrap: break-word;\n",
       "    word-break: break-all;\n",
       "    font-family: \"Source Code Pro\", \"Menlo\", monospace;;\n",
       "    font-size: 13px;\n",
       "    color: #555;\n",
       "    margin-left: 4px;\n",
       "    line-height: 19px;\n",
       "  }\n",
       "</style>\n",
       "<div class=\"ansiout\">Out[112]: </div>"
      ]
     },
     "metadata": {
      "application/vnd.databricks.v1+output": {
       "addedWidgets": {},
       "arguments": {},
       "data": "<div class=\"ansiout\">Out[112]: </div>",
       "datasetInfos": [],
       "metadata": {},
       "removedWidgets": [],
       "type": "html"
      }
     },
     "output_type": "display_data"
    },
    {
     "data": {
      "text/html": [
       "<div>\n",
       "<style scoped>\n",
       "    .dataframe tbody tr th:only-of-type {\n",
       "        vertical-align: middle;\n",
       "    }\n",
       "\n",
       "    .dataframe tbody tr th {\n",
       "        vertical-align: top;\n",
       "    }\n",
       "\n",
       "    .dataframe thead th {\n",
       "        text-align: right;\n",
       "    }\n",
       "</style>\n",
       "<table border=\"1\" class=\"dataframe\">\n",
       "  <thead>\n",
       "    <tr style=\"text-align: right;\">\n",
       "      <th></th>\n",
       "      <th>Iteration</th>\n",
       "      <th>Fitness</th>\n",
       "      <th>FEvals</th>\n",
       "      <th>Time</th>\n",
       "      <th>State</th>\n",
       "      <th>Restarts</th>\n",
       "      <th>max_iters</th>\n",
       "      <th>current_restart</th>\n",
       "    </tr>\n",
       "  </thead>\n",
       "  <tbody>\n",
       "    <tr>\n",
       "      <th>39</th>\n",
       "      <td>64</td>\n",
       "      <td>0.0</td>\n",
       "      <td>2130</td>\n",
       "      <td>3.165051</td>\n",
       "      <td>[2, 5, 7, 0, 3, 6, 4, 1]</td>\n",
       "      <td>5</td>\n",
       "      <td>16384</td>\n",
       "      <td>2</td>\n",
       "    </tr>\n",
       "  </tbody>\n",
       "</table>\n",
       "</div>"
      ]
     },
     "metadata": {
      "application/vnd.databricks.v1+output": {
       "addedWidgets": {},
       "arguments": {},
       "data": "<div>\n<style scoped>\n    .dataframe tbody tr th:only-of-type {\n        vertical-align: middle;\n    }\n\n    .dataframe tbody tr th {\n        vertical-align: top;\n    }\n\n    .dataframe thead th {\n        text-align: right;\n    }\n</style>\n<table border=\"1\" class=\"dataframe\">\n  <thead>\n    <tr style=\"text-align: right;\">\n      <th></th>\n      <th>Iteration</th>\n      <th>Fitness</th>\n      <th>FEvals</th>\n      <th>Time</th>\n      <th>State</th>\n      <th>Restarts</th>\n      <th>max_iters</th>\n      <th>current_restart</th>\n    </tr>\n  </thead>\n  <tbody>\n    <tr>\n      <th>39</th>\n      <td>64</td>\n      <td>0.0</td>\n      <td>2130</td>\n      <td>3.165051</td>\n      <td>[2, 5, 7, 0, 3, 6, 4, 1]</td>\n      <td>5</td>\n      <td>16384</td>\n      <td>2</td>\n    </tr>\n  </tbody>\n</table>\n</div>",
       "datasetInfos": [],
       "metadata": {},
       "removedWidgets": [],
       "textData": null,
       "type": "htmlSandbox"
      }
     },
     "output_type": "display_data"
    }
   ],
   "source": [
    "optimal_queen8 = df_run_stats_rhc[df_run_stats_rhc['Fitness']==0].drop_duplicates(subset=['State'])\n",
    "optimal_queen8"
   ]
  },
  {
   "cell_type": "code",
   "execution_count": 0,
   "metadata": {
    "application/vnd.databricks.v1+cell": {
     "inputWidgets": {},
     "nuid": "72609abd-e6ac-49fb-a4c9-1b9ca1dc24ce",
     "showTitle": false,
     "title": ""
    }
   },
   "outputs": [
    {
     "data": {
      "text/html": [
       "<style scoped>\n",
       "  .ansiout {\n",
       "    display: block;\n",
       "    unicode-bidi: embed;\n",
       "    white-space: pre-wrap;\n",
       "    word-wrap: break-word;\n",
       "    word-break: break-all;\n",
       "    font-family: \"Source Code Pro\", \"Menlo\", monospace;;\n",
       "    font-size: 13px;\n",
       "    color: #555;\n",
       "    margin-left: 4px;\n",
       "    line-height: 19px;\n",
       "  }\n",
       "</style>\n",
       "<div class=\"ansiout\">Out[11]: </div>"
      ]
     },
     "metadata": {
      "application/vnd.databricks.v1+output": {
       "addedWidgets": {},
       "arguments": {},
       "data": "<div class=\"ansiout\">Out[11]: </div>",
       "datasetInfos": [],
       "metadata": {},
       "removedWidgets": [],
       "type": "html"
      }
     },
     "output_type": "display_data"
    },
    {
     "data": {
      "text/html": [
       "<div>\n",
       "<style scoped>\n",
       "    .dataframe tbody tr th:only-of-type {\n",
       "        vertical-align: middle;\n",
       "    }\n",
       "\n",
       "    .dataframe tbody tr th {\n",
       "        vertical-align: top;\n",
       "    }\n",
       "\n",
       "    .dataframe thead th {\n",
       "        text-align: right;\n",
       "    }\n",
       "</style>\n",
       "<table border=\"1\" class=\"dataframe\">\n",
       "  <thead>\n",
       "    <tr style=\"text-align: right;\">\n",
       "      <th></th>\n",
       "      <th>Iteration</th>\n",
       "      <th>Time</th>\n",
       "      <th>Fitness</th>\n",
       "      <th>FEvals</th>\n",
       "      <th>Restarts</th>\n",
       "      <th>max_iters</th>\n",
       "      <th>current_restart</th>\n",
       "    </tr>\n",
       "  </thead>\n",
       "  <tbody>\n",
       "    <tr>\n",
       "      <th>2115</th>\n",
       "      <td>40</td>\n",
       "      <td>0.030914</td>\n",
       "      <td>0.0</td>\n",
       "      <td>2130.0</td>\n",
       "      <td>5</td>\n",
       "      <td>16384</td>\n",
       "      <td>2</td>\n",
       "    </tr>\n",
       "  </tbody>\n",
       "</table>\n",
       "</div>"
      ]
     },
     "metadata": {
      "application/vnd.databricks.v1+output": {
       "addedWidgets": {},
       "arguments": {},
       "data": "<div>\n<style scoped>\n    .dataframe tbody tr th:only-of-type {\n        vertical-align: middle;\n    }\n\n    .dataframe tbody tr th {\n        vertical-align: top;\n    }\n\n    .dataframe thead th {\n        text-align: right;\n    }\n</style>\n<table border=\"1\" class=\"dataframe\">\n  <thead>\n    <tr style=\"text-align: right;\">\n      <th></th>\n      <th>Iteration</th>\n      <th>Time</th>\n      <th>Fitness</th>\n      <th>FEvals</th>\n      <th>Restarts</th>\n      <th>max_iters</th>\n      <th>current_restart</th>\n    </tr>\n  </thead>\n  <tbody>\n    <tr>\n      <th>2115</th>\n      <td>40</td>\n      <td>0.030914</td>\n      <td>0.0</td>\n      <td>2130.0</td>\n      <td>5</td>\n      <td>16384</td>\n      <td>2</td>\n    </tr>\n  </tbody>\n</table>\n</div>",
       "datasetInfos": [],
       "metadata": {},
       "removedWidgets": [],
       "textData": null,
       "type": "htmlSandbox"
      }
     },
     "output_type": "display_data"
    }
   ],
   "source": [
    "# best runs\n",
    "best_runs = df_run_curves_rhc[df_run_curves_rhc['Fitness'] == df_run_curves_rhc['Fitness'].min()]\n",
    "best_runs"
   ]
  },
  {
   "cell_type": "code",
   "execution_count": 0,
   "metadata": {
    "application/vnd.databricks.v1+cell": {
     "inputWidgets": {},
     "nuid": "b8379153-69db-43e8-8f29-ec91724ee858",
     "showTitle": false,
     "title": ""
    }
   },
   "outputs": [
    {
     "data": {
      "text/html": [
       "<style scoped>\n",
       "  .ansiout {\n",
       "    display: block;\n",
       "    unicode-bidi: embed;\n",
       "    white-space: pre-wrap;\n",
       "    word-wrap: break-word;\n",
       "    word-break: break-all;\n",
       "    font-family: \"Source Code Pro\", \"Menlo\", monospace;;\n",
       "    font-size: 13px;\n",
       "    color: #555;\n",
       "    margin-left: 4px;\n",
       "    line-height: 19px;\n",
       "  }\n",
       "</style>\n",
       "<div class=\"ansiout\">(40, 4)\n",
       "Out[27]: </div>"
      ]
     },
     "metadata": {
      "application/vnd.databricks.v1+output": {
       "addedWidgets": {},
       "arguments": {},
       "data": "<div class=\"ansiout\">(40, 4)\nOut[27]: </div>",
       "datasetInfos": [],
       "metadata": {},
       "removedWidgets": [],
       "type": "html"
      }
     },
     "output_type": "display_data"
    },
    {
     "data": {
      "text/html": [
       "<div>\n",
       "<style scoped>\n",
       "    .dataframe tbody tr th:only-of-type {\n",
       "        vertical-align: middle;\n",
       "    }\n",
       "\n",
       "    .dataframe tbody tr th {\n",
       "        vertical-align: top;\n",
       "    }\n",
       "\n",
       "    .dataframe thead th {\n",
       "        text-align: right;\n",
       "    }\n",
       "</style>\n",
       "<table border=\"1\" class=\"dataframe\">\n",
       "  <thead>\n",
       "    <tr style=\"text-align: right;\">\n",
       "      <th></th>\n",
       "      <th>Iteration</th>\n",
       "      <th>Time</th>\n",
       "      <th>Fitness</th>\n",
       "      <th>FEvals</th>\n",
       "    </tr>\n",
       "  </thead>\n",
       "  <tbody>\n",
       "    <tr>\n",
       "      <th>2076</th>\n",
       "      <td>1</td>\n",
       "      <td>0.004069</td>\n",
       "      <td>9.0</td>\n",
       "      <td>2087.0</td>\n",
       "    </tr>\n",
       "    <tr>\n",
       "      <th>2077</th>\n",
       "      <td>2</td>\n",
       "      <td>0.007036</td>\n",
       "      <td>9.0</td>\n",
       "      <td>2088.0</td>\n",
       "    </tr>\n",
       "    <tr>\n",
       "      <th>2078</th>\n",
       "      <td>3</td>\n",
       "      <td>0.009604</td>\n",
       "      <td>4.0</td>\n",
       "      <td>2090.0</td>\n",
       "    </tr>\n",
       "    <tr>\n",
       "      <th>2079</th>\n",
       "      <td>4</td>\n",
       "      <td>0.009902</td>\n",
       "      <td>4.0</td>\n",
       "      <td>2091.0</td>\n",
       "    </tr>\n",
       "    <tr>\n",
       "      <th>2080</th>\n",
       "      <td>5</td>\n",
       "      <td>0.012698</td>\n",
       "      <td>3.0</td>\n",
       "      <td>2093.0</td>\n",
       "    </tr>\n",
       "  </tbody>\n",
       "</table>\n",
       "</div>"
      ]
     },
     "metadata": {
      "application/vnd.databricks.v1+output": {
       "addedWidgets": {},
       "arguments": {},
       "data": "<div>\n<style scoped>\n    .dataframe tbody tr th:only-of-type {\n        vertical-align: middle;\n    }\n\n    .dataframe tbody tr th {\n        vertical-align: top;\n    }\n\n    .dataframe thead th {\n        text-align: right;\n    }\n</style>\n<table border=\"1\" class=\"dataframe\">\n  <thead>\n    <tr style=\"text-align: right;\">\n      <th></th>\n      <th>Iteration</th>\n      <th>Time</th>\n      <th>Fitness</th>\n      <th>FEvals</th>\n    </tr>\n  </thead>\n  <tbody>\n    <tr>\n      <th>2076</th>\n      <td>1</td>\n      <td>0.004069</td>\n      <td>9.0</td>\n      <td>2087.0</td>\n    </tr>\n    <tr>\n      <th>2077</th>\n      <td>2</td>\n      <td>0.007036</td>\n      <td>9.0</td>\n      <td>2088.0</td>\n    </tr>\n    <tr>\n      <th>2078</th>\n      <td>3</td>\n      <td>0.009604</td>\n      <td>4.0</td>\n      <td>2090.0</td>\n    </tr>\n    <tr>\n      <th>2079</th>\n      <td>4</td>\n      <td>0.009902</td>\n      <td>4.0</td>\n      <td>2091.0</td>\n    </tr>\n    <tr>\n      <th>2080</th>\n      <td>5</td>\n      <td>0.012698</td>\n      <td>3.0</td>\n      <td>2093.0</td>\n    </tr>\n  </tbody>\n</table>\n</div>",
       "datasetInfos": [],
       "metadata": {},
       "removedWidgets": [],
       "textData": null,
       "type": "htmlSandbox"
      }
     },
     "output_type": "display_data"
    }
   ],
   "source": [
    "rhc = df_run_curves_rhc[(df_run_curves_rhc['Restarts']==5) & (df_run_curves_rhc['current_restart']==2)]\n",
    "rhc = rhc[['Iteration', 'Time', 'Fitness', 'FEvals']]\n",
    "\n",
    "print(rhc.shape)\n",
    "rhc.head()"
   ]
  },
  {
   "cell_type": "code",
   "execution_count": 0,
   "metadata": {
    "application/vnd.databricks.v1+cell": {
     "inputWidgets": {},
     "nuid": "183eb334-e0b7-4ad3-8a85-c0ccffdf457d",
     "showTitle": true,
     "title": "simulated annealing (SA)"
    }
   },
   "outputs": [
    {
     "data": {
      "text/html": [
       "<style scoped>\n",
       "  .ansiout {\n",
       "    display: block;\n",
       "    unicode-bidi: embed;\n",
       "    white-space: pre-wrap;\n",
       "    word-wrap: break-word;\n",
       "    word-break: break-all;\n",
       "    font-family: \"Source Code Pro\", \"Menlo\", monospace;;\n",
       "    font-size: 13px;\n",
       "    color: #555;\n",
       "    margin-left: 4px;\n",
       "    line-height: 19px;\n",
       "  }\n",
       "</style>\n",
       "<div class=\"ansiout\"></div>"
      ]
     },
     "metadata": {
      "application/vnd.databricks.v1+output": {
       "addedWidgets": {},
       "arguments": {},
       "data": "<div class=\"ansiout\"></div>",
       "datasetInfos": [],
       "metadata": {},
       "removedWidgets": [],
       "type": "html"
      }
     },
     "output_type": "display_data"
    }
   ],
   "source": [
    "# create a runner class and solve the problem\n",
    "sa = SARunner(problem=problem,\n",
    "              experiment_name='queens-8-sa',\n",
    "              output_directory=None, \n",
    "              seed=42,\n",
    "              iteration_list=2 ** np.arange(15),\n",
    "              max_attempts=500,\n",
    "              temperature_list=[0.01, 0.10, 0.25, 0.50, 0.75, 1.00, 2.0, 3.0, 4.0, 5, 10],\n",
    "              decay_list=[mlrose_hiive.ExpDecay])\n",
    "\n",
    "# the two data frames will contain the results\n",
    "df_run_stats_sa, df_run_curves_sa = sa.run()"
   ]
  },
  {
   "cell_type": "code",
   "execution_count": 0,
   "metadata": {
    "application/vnd.databricks.v1+cell": {
     "inputWidgets": {},
     "nuid": "c1d6c29f-8584-423c-9196-1ca56503614d",
     "showTitle": false,
     "title": ""
    }
   },
   "outputs": [
    {
     "data": {
      "text/html": [
       "<style scoped>\n",
       "  .ansiout {\n",
       "    display: block;\n",
       "    unicode-bidi: embed;\n",
       "    white-space: pre-wrap;\n",
       "    word-wrap: break-word;\n",
       "    word-break: break-all;\n",
       "    font-family: \"Source Code Pro\", \"Menlo\", monospace;;\n",
       "    font-size: 13px;\n",
       "    color: #555;\n",
       "    margin-left: 4px;\n",
       "    line-height: 19px;\n",
       "  }\n",
       "</style>\n",
       "<div class=\"ansiout\">(176, 12) (5133, 6)\n",
       "</div>"
      ]
     },
     "metadata": {
      "application/vnd.databricks.v1+output": {
       "addedWidgets": {},
       "arguments": {},
       "data": "<div class=\"ansiout\">(176, 12) (5133, 6)\n</div>",
       "datasetInfos": [],
       "metadata": {},
       "removedWidgets": [],
       "type": "html"
      }
     },
     "output_type": "display_data"
    }
   ],
   "source": [
    "print(df_run_stats_sa.shape, df_run_curves_sa.shape)"
   ]
  },
  {
   "cell_type": "code",
   "execution_count": 0,
   "metadata": {
    "application/vnd.databricks.v1+cell": {
     "inputWidgets": {},
     "nuid": "c5ce9499-55c1-4dba-ad14-bb77b44d0756",
     "showTitle": false,
     "title": ""
    }
   },
   "outputs": [
    {
     "data": {
      "text/html": [
       "<style scoped>\n",
       "  .ansiout {\n",
       "    display: block;\n",
       "    unicode-bidi: embed;\n",
       "    white-space: pre-wrap;\n",
       "    word-wrap: break-word;\n",
       "    word-break: break-all;\n",
       "    font-family: \"Source Code Pro\", \"Menlo\", monospace;;\n",
       "    font-size: 13px;\n",
       "    color: #555;\n",
       "    margin-left: 4px;\n",
       "    line-height: 19px;\n",
       "  }\n",
       "</style>\n",
       "<div class=\"ansiout\">Out[32]: [6, 4, 6, 2, 7, 4, 3, 4]</div>"
      ]
     },
     "metadata": {
      "application/vnd.databricks.v1+output": {
       "addedWidgets": {},
       "arguments": {},
       "data": "<div class=\"ansiout\">Out[32]: [6, 4, 6, 2, 7, 4, 3, 4]</div>",
       "datasetInfos": [],
       "metadata": {},
       "removedWidgets": [],
       "type": "html"
      }
     },
     "output_type": "display_data"
    }
   ],
   "source": [
    "# Initial state\n",
    "state.tolist()"
   ]
  },
  {
   "cell_type": "code",
   "execution_count": 0,
   "metadata": {
    "application/vnd.databricks.v1+cell": {
     "inputWidgets": {},
     "nuid": "3e6e3a70-d163-45e5-b959-5f60fe518727",
     "showTitle": false,
     "title": ""
    }
   },
   "outputs": [
    {
     "data": {
      "text/html": [
       "<style scoped>\n",
       "  .ansiout {\n",
       "    display: block;\n",
       "    unicode-bidi: embed;\n",
       "    white-space: pre-wrap;\n",
       "    word-wrap: break-word;\n",
       "    word-break: break-all;\n",
       "    font-family: \"Source Code Pro\", \"Menlo\", monospace;;\n",
       "    font-size: 13px;\n",
       "    color: #555;\n",
       "    margin-left: 4px;\n",
       "    line-height: 19px;\n",
       "  }\n",
       "</style>\n",
       "<div class=\"ansiout\">Out[33]: </div>"
      ]
     },
     "metadata": {
      "application/vnd.databricks.v1+output": {
       "addedWidgets": {},
       "arguments": {},
       "data": "<div class=\"ansiout\">Out[33]: </div>",
       "datasetInfos": [],
       "metadata": {},
       "removedWidgets": [],
       "type": "html"
      }
     },
     "output_type": "display_data"
    },
    {
     "data": {
      "text/html": [
       "<div>\n",
       "<style scoped>\n",
       "    .dataframe tbody tr th:only-of-type {\n",
       "        vertical-align: middle;\n",
       "    }\n",
       "\n",
       "    .dataframe tbody tr th {\n",
       "        vertical-align: top;\n",
       "    }\n",
       "\n",
       "    .dataframe thead th {\n",
       "        text-align: right;\n",
       "    }\n",
       "</style>\n",
       "<table border=\"1\" class=\"dataframe\">\n",
       "  <thead>\n",
       "    <tr style=\"text-align: right;\">\n",
       "      <th></th>\n",
       "      <th>Iteration</th>\n",
       "      <th>Fitness</th>\n",
       "      <th>FEvals</th>\n",
       "      <th>Time</th>\n",
       "      <th>State</th>\n",
       "      <th>Temperature</th>\n",
       "      <th>max_iters</th>\n",
       "    </tr>\n",
       "  </thead>\n",
       "  <tbody>\n",
       "    <tr>\n",
       "      <th>0</th>\n",
       "      <td>0</td>\n",
       "      <td>10.0</td>\n",
       "      <td>0</td>\n",
       "      <td>0.000818</td>\n",
       "      <td>[6, 3, 4, 6, 2, 7, 4, 4]</td>\n",
       "      <td>0.01</td>\n",
       "      <td>16384</td>\n",
       "    </tr>\n",
       "    <tr>\n",
       "      <th>1</th>\n",
       "      <td>1</td>\n",
       "      <td>8.0</td>\n",
       "      <td>2</td>\n",
       "      <td>0.004506</td>\n",
       "      <td>[6, 3, 4, 6, 2, 7, 1, 4]</td>\n",
       "      <td>0.01</td>\n",
       "      <td>16384</td>\n",
       "    </tr>\n",
       "    <tr>\n",
       "      <th>2</th>\n",
       "      <td>2</td>\n",
       "      <td>5.0</td>\n",
       "      <td>4</td>\n",
       "      <td>0.007644</td>\n",
       "      <td>[6, 3, 7, 6, 2, 7, 1, 4]</td>\n",
       "      <td>0.01</td>\n",
       "      <td>16384</td>\n",
       "    </tr>\n",
       "    <tr>\n",
       "      <th>3</th>\n",
       "      <td>4</td>\n",
       "      <td>5.0</td>\n",
       "      <td>8</td>\n",
       "      <td>0.011315</td>\n",
       "      <td>[6, 3, 2, 2, 2, 7, 1, 4]</td>\n",
       "      <td>0.01</td>\n",
       "      <td>16384</td>\n",
       "    </tr>\n",
       "    <tr>\n",
       "      <th>4</th>\n",
       "      <td>8</td>\n",
       "      <td>5.0</td>\n",
       "      <td>15</td>\n",
       "      <td>0.015912</td>\n",
       "      <td>[6, 3, 2, 0, 2, 7, 1, 4]</td>\n",
       "      <td>0.01</td>\n",
       "      <td>16384</td>\n",
       "    </tr>\n",
       "  </tbody>\n",
       "</table>\n",
       "</div>"
      ]
     },
     "metadata": {
      "application/vnd.databricks.v1+output": {
       "addedWidgets": {},
       "arguments": {},
       "data": "<div>\n<style scoped>\n    .dataframe tbody tr th:only-of-type {\n        vertical-align: middle;\n    }\n\n    .dataframe tbody tr th {\n        vertical-align: top;\n    }\n\n    .dataframe thead th {\n        text-align: right;\n    }\n</style>\n<table border=\"1\" class=\"dataframe\">\n  <thead>\n    <tr style=\"text-align: right;\">\n      <th></th>\n      <th>Iteration</th>\n      <th>Fitness</th>\n      <th>FEvals</th>\n      <th>Time</th>\n      <th>State</th>\n      <th>Temperature</th>\n      <th>max_iters</th>\n    </tr>\n  </thead>\n  <tbody>\n    <tr>\n      <th>0</th>\n      <td>0</td>\n      <td>10.0</td>\n      <td>0</td>\n      <td>0.000818</td>\n      <td>[6, 3, 4, 6, 2, 7, 4, 4]</td>\n      <td>0.01</td>\n      <td>16384</td>\n    </tr>\n    <tr>\n      <th>1</th>\n      <td>1</td>\n      <td>8.0</td>\n      <td>2</td>\n      <td>0.004506</td>\n      <td>[6, 3, 4, 6, 2, 7, 1, 4]</td>\n      <td>0.01</td>\n      <td>16384</td>\n    </tr>\n    <tr>\n      <th>2</th>\n      <td>2</td>\n      <td>5.0</td>\n      <td>4</td>\n      <td>0.007644</td>\n      <td>[6, 3, 7, 6, 2, 7, 1, 4]</td>\n      <td>0.01</td>\n      <td>16384</td>\n    </tr>\n    <tr>\n      <th>3</th>\n      <td>4</td>\n      <td>5.0</td>\n      <td>8</td>\n      <td>0.011315</td>\n      <td>[6, 3, 2, 2, 2, 7, 1, 4]</td>\n      <td>0.01</td>\n      <td>16384</td>\n    </tr>\n    <tr>\n      <th>4</th>\n      <td>8</td>\n      <td>5.0</td>\n      <td>15</td>\n      <td>0.015912</td>\n      <td>[6, 3, 2, 0, 2, 7, 1, 4]</td>\n      <td>0.01</td>\n      <td>16384</td>\n    </tr>\n  </tbody>\n</table>\n</div>",
       "datasetInfos": [],
       "metadata": {},
       "removedWidgets": [],
       "textData": null,
       "type": "htmlSandbox"
      }
     },
     "output_type": "display_data"
    }
   ],
   "source": [
    "df_run_stats_sa[['Iteration', 'Fitness', 'FEvals', 'Time', 'State', 'Temperature', 'max_iters']].head()"
   ]
  },
  {
   "cell_type": "code",
   "execution_count": 0,
   "metadata": {
    "application/vnd.databricks.v1+cell": {
     "inputWidgets": {},
     "nuid": "728469c8-0f9e-4659-93d2-f3fa10b9e0f9",
     "showTitle": false,
     "title": ""
    }
   },
   "outputs": [
    {
     "data": {
      "text/html": [
       "<style scoped>\n",
       "  .ansiout {\n",
       "    display: block;\n",
       "    unicode-bidi: embed;\n",
       "    white-space: pre-wrap;\n",
       "    word-wrap: break-word;\n",
       "    word-break: break-all;\n",
       "    font-family: \"Source Code Pro\", \"Menlo\", monospace;;\n",
       "    font-size: 13px;\n",
       "    color: #555;\n",
       "    margin-left: 4px;\n",
       "    line-height: 19px;\n",
       "  }\n",
       "</style>\n",
       "<div class=\"ansiout\">Out[34]: </div>"
      ]
     },
     "metadata": {
      "application/vnd.databricks.v1+output": {
       "addedWidgets": {},
       "arguments": {},
       "data": "<div class=\"ansiout\">Out[34]: </div>",
       "datasetInfos": [],
       "metadata": {},
       "removedWidgets": [],
       "type": "html"
      }
     },
     "output_type": "display_data"
    },
    {
     "data": {
      "text/html": [
       "<div>\n",
       "<style scoped>\n",
       "    .dataframe tbody tr th:only-of-type {\n",
       "        vertical-align: middle;\n",
       "    }\n",
       "\n",
       "    .dataframe tbody tr th {\n",
       "        vertical-align: top;\n",
       "    }\n",
       "\n",
       "    .dataframe thead th {\n",
       "        text-align: right;\n",
       "    }\n",
       "</style>\n",
       "<table border=\"1\" class=\"dataframe\">\n",
       "  <thead>\n",
       "    <tr style=\"text-align: right;\">\n",
       "      <th></th>\n",
       "      <th>Iteration</th>\n",
       "      <th>Fitness</th>\n",
       "      <th>FEvals</th>\n",
       "      <th>Time</th>\n",
       "      <th>State</th>\n",
       "    </tr>\n",
       "  </thead>\n",
       "  <tbody>\n",
       "    <tr>\n",
       "      <th>9</th>\n",
       "      <td>256</td>\n",
       "      <td>0.0</td>\n",
       "      <td>169</td>\n",
       "      <td>0.084898</td>\n",
       "      <td>[1, 4, 6, 0, 2, 7, 5, 3]</td>\n",
       "    </tr>\n",
       "    <tr>\n",
       "      <th>58</th>\n",
       "      <td>512</td>\n",
       "      <td>0.0</td>\n",
       "      <td>298</td>\n",
       "      <td>0.153497</td>\n",
       "      <td>[1, 4, 6, 3, 0, 7, 5, 2]</td>\n",
       "    </tr>\n",
       "    <tr>\n",
       "      <th>75</th>\n",
       "      <td>1024</td>\n",
       "      <td>0.0</td>\n",
       "      <td>695</td>\n",
       "      <td>0.423261</td>\n",
       "      <td>[2, 5, 1, 4, 7, 0, 6, 3]</td>\n",
       "    </tr>\n",
       "    <tr>\n",
       "      <th>91</th>\n",
       "      <td>1024</td>\n",
       "      <td>0.0</td>\n",
       "      <td>643</td>\n",
       "      <td>0.368758</td>\n",
       "      <td>[1, 6, 4, 7, 0, 3, 5, 2]</td>\n",
       "    </tr>\n",
       "    <tr>\n",
       "      <th>107</th>\n",
       "      <td>1024</td>\n",
       "      <td>0.0</td>\n",
       "      <td>761</td>\n",
       "      <td>0.439747</td>\n",
       "      <td>[4, 6, 3, 0, 2, 7, 5, 1]</td>\n",
       "    </tr>\n",
       "    <tr>\n",
       "      <th>123</th>\n",
       "      <td>1024</td>\n",
       "      <td>0.0</td>\n",
       "      <td>1079</td>\n",
       "      <td>0.698591</td>\n",
       "      <td>[3, 6, 2, 7, 1, 4, 0, 5]</td>\n",
       "    </tr>\n",
       "    <tr>\n",
       "      <th>138</th>\n",
       "      <td>512</td>\n",
       "      <td>0.0</td>\n",
       "      <td>769</td>\n",
       "      <td>0.405563</td>\n",
       "      <td>[1, 6, 2, 5, 7, 4, 0, 3]</td>\n",
       "    </tr>\n",
       "    <tr>\n",
       "      <th>155</th>\n",
       "      <td>1024</td>\n",
       "      <td>0.0</td>\n",
       "      <td>878</td>\n",
       "      <td>0.498207</td>\n",
       "      <td>[2, 6, 1, 7, 5, 3, 0, 4]</td>\n",
       "    </tr>\n",
       "    <tr>\n",
       "      <th>171</th>\n",
       "      <td>1024</td>\n",
       "      <td>0.0</td>\n",
       "      <td>1289</td>\n",
       "      <td>0.803308</td>\n",
       "      <td>[3, 6, 0, 7, 4, 1, 5, 2]</td>\n",
       "    </tr>\n",
       "  </tbody>\n",
       "</table>\n",
       "</div>"
      ]
     },
     "metadata": {
      "application/vnd.databricks.v1+output": {
       "addedWidgets": {},
       "arguments": {},
       "data": "<div>\n<style scoped>\n    .dataframe tbody tr th:only-of-type {\n        vertical-align: middle;\n    }\n\n    .dataframe tbody tr th {\n        vertical-align: top;\n    }\n\n    .dataframe thead th {\n        text-align: right;\n    }\n</style>\n<table border=\"1\" class=\"dataframe\">\n  <thead>\n    <tr style=\"text-align: right;\">\n      <th></th>\n      <th>Iteration</th>\n      <th>Fitness</th>\n      <th>FEvals</th>\n      <th>Time</th>\n      <th>State</th>\n    </tr>\n  </thead>\n  <tbody>\n    <tr>\n      <th>9</th>\n      <td>256</td>\n      <td>0.0</td>\n      <td>169</td>\n      <td>0.084898</td>\n      <td>[1, 4, 6, 0, 2, 7, 5, 3]</td>\n    </tr>\n    <tr>\n      <th>58</th>\n      <td>512</td>\n      <td>0.0</td>\n      <td>298</td>\n      <td>0.153497</td>\n      <td>[1, 4, 6, 3, 0, 7, 5, 2]</td>\n    </tr>\n    <tr>\n      <th>75</th>\n      <td>1024</td>\n      <td>0.0</td>\n      <td>695</td>\n      <td>0.423261</td>\n      <td>[2, 5, 1, 4, 7, 0, 6, 3]</td>\n    </tr>\n    <tr>\n      <th>91</th>\n      <td>1024</td>\n      <td>0.0</td>\n      <td>643</td>\n      <td>0.368758</td>\n      <td>[1, 6, 4, 7, 0, 3, 5, 2]</td>\n    </tr>\n    <tr>\n      <th>107</th>\n      <td>1024</td>\n      <td>0.0</td>\n      <td>761</td>\n      <td>0.439747</td>\n      <td>[4, 6, 3, 0, 2, 7, 5, 1]</td>\n    </tr>\n    <tr>\n      <th>123</th>\n      <td>1024</td>\n      <td>0.0</td>\n      <td>1079</td>\n      <td>0.698591</td>\n      <td>[3, 6, 2, 7, 1, 4, 0, 5]</td>\n    </tr>\n    <tr>\n      <th>138</th>\n      <td>512</td>\n      <td>0.0</td>\n      <td>769</td>\n      <td>0.405563</td>\n      <td>[1, 6, 2, 5, 7, 4, 0, 3]</td>\n    </tr>\n    <tr>\n      <th>155</th>\n      <td>1024</td>\n      <td>0.0</td>\n      <td>878</td>\n      <td>0.498207</td>\n      <td>[2, 6, 1, 7, 5, 3, 0, 4]</td>\n    </tr>\n    <tr>\n      <th>171</th>\n      <td>1024</td>\n      <td>0.0</td>\n      <td>1289</td>\n      <td>0.803308</td>\n      <td>[3, 6, 0, 7, 4, 1, 5, 2]</td>\n    </tr>\n  </tbody>\n</table>\n</div>",
       "datasetInfos": [],
       "metadata": {},
       "removedWidgets": [],
       "textData": null,
       "type": "htmlSandbox"
      }
     },
     "output_type": "display_data"
    }
   ],
   "source": [
    "optimal_queen8 = df_run_stats_sa[df_run_stats_sa['Fitness']==0][['Iteration', 'Fitness', 'FEvals', 'Time', 'State']].drop_duplicates(subset=['State'])\n",
    "optimal_queen8"
   ]
  },
  {
   "cell_type": "code",
   "execution_count": 0,
   "metadata": {
    "application/vnd.databricks.v1+cell": {
     "inputWidgets": {},
     "nuid": "d3dbd5fb-2b91-4f0b-abf5-dfaa6a4b603b",
     "showTitle": false,
     "title": ""
    }
   },
   "outputs": [
    {
     "data": {
      "text/html": [
       "<style scoped>\n",
       "  .ansiout {\n",
       "    display: block;\n",
       "    unicode-bidi: embed;\n",
       "    white-space: pre-wrap;\n",
       "    word-wrap: break-word;\n",
       "    word-break: break-all;\n",
       "    font-family: \"Source Code Pro\", \"Menlo\", monospace;;\n",
       "    font-size: 13px;\n",
       "    color: #555;\n",
       "    margin-left: 4px;\n",
       "    line-height: 19px;\n",
       "  }\n",
       "</style>\n",
       "<div class=\"ansiout\">Out[37]: </div>"
      ]
     },
     "metadata": {
      "application/vnd.databricks.v1+output": {
       "addedWidgets": {},
       "arguments": {},
       "data": "<div class=\"ansiout\">Out[37]: </div>",
       "datasetInfos": [],
       "metadata": {},
       "removedWidgets": [],
       "type": "html"
      }
     },
     "output_type": "display_data"
    },
    {
     "data": {
      "text/html": [
       "<div>\n",
       "<style scoped>\n",
       "    .dataframe tbody tr th:only-of-type {\n",
       "        vertical-align: middle;\n",
       "    }\n",
       "\n",
       "    .dataframe tbody tr th {\n",
       "        vertical-align: top;\n",
       "    }\n",
       "\n",
       "    .dataframe thead th {\n",
       "        text-align: right;\n",
       "    }\n",
       "</style>\n",
       "<table border=\"1\" class=\"dataframe\">\n",
       "  <thead>\n",
       "    <tr style=\"text-align: right;\">\n",
       "      <th></th>\n",
       "      <th>Iteration</th>\n",
       "      <th>Time</th>\n",
       "      <th>Fitness</th>\n",
       "      <th>FEvals</th>\n",
       "      <th>Temperature</th>\n",
       "      <th>max_iters</th>\n",
       "    </tr>\n",
       "  </thead>\n",
       "  <tbody>\n",
       "    <tr>\n",
       "      <th>146</th>\n",
       "      <td>146</td>\n",
       "      <td>0.084898</td>\n",
       "      <td>0.0</td>\n",
       "      <td>169.0</td>\n",
       "      <td>0.01</td>\n",
       "      <td>16384</td>\n",
       "    </tr>\n",
       "    <tr>\n",
       "      <th>293</th>\n",
       "      <td>146</td>\n",
       "      <td>0.084898</td>\n",
       "      <td>0.0</td>\n",
       "      <td>169.0</td>\n",
       "      <td>0.1</td>\n",
       "      <td>16384</td>\n",
       "    </tr>\n",
       "    <tr>\n",
       "      <th>440</th>\n",
       "      <td>146</td>\n",
       "      <td>0.084898</td>\n",
       "      <td>0.0</td>\n",
       "      <td>169.0</td>\n",
       "      <td>0.25</td>\n",
       "      <td>16384</td>\n",
       "    </tr>\n",
       "    <tr>\n",
       "      <th>704</th>\n",
       "      <td>263</td>\n",
       "      <td>0.068985</td>\n",
       "      <td>0.0</td>\n",
       "      <td>298.0</td>\n",
       "      <td>0.5</td>\n",
       "      <td>16384</td>\n",
       "    </tr>\n",
       "    <tr>\n",
       "      <th>1311</th>\n",
       "      <td>606</td>\n",
       "      <td>0.098887</td>\n",
       "      <td>0.0</td>\n",
       "      <td>695.0</td>\n",
       "      <td>0.75</td>\n",
       "      <td>16384</td>\n",
       "    </tr>\n",
       "    <tr>\n",
       "      <th>1829</th>\n",
       "      <td>517</td>\n",
       "      <td>0.058621</td>\n",
       "      <td>0.0</td>\n",
       "      <td>643.0</td>\n",
       "      <td>1.0</td>\n",
       "      <td>16384</td>\n",
       "    </tr>\n",
       "    <tr>\n",
       "      <th>2406</th>\n",
       "      <td>576</td>\n",
       "      <td>0.085860</td>\n",
       "      <td>0.0</td>\n",
       "      <td>761.0</td>\n",
       "      <td>2.0</td>\n",
       "      <td>16384</td>\n",
       "    </tr>\n",
       "    <tr>\n",
       "      <th>3223</th>\n",
       "      <td>816</td>\n",
       "      <td>0.079277</td>\n",
       "      <td>0.0</td>\n",
       "      <td>1079.0</td>\n",
       "      <td>3.0</td>\n",
       "      <td>16384</td>\n",
       "    </tr>\n",
       "    <tr>\n",
       "      <th>3719</th>\n",
       "      <td>495</td>\n",
       "      <td>0.046678</td>\n",
       "      <td>0.0</td>\n",
       "      <td>769.0</td>\n",
       "      <td>4.0</td>\n",
       "      <td>16384</td>\n",
       "    </tr>\n",
       "    <tr>\n",
       "      <th>4287</th>\n",
       "      <td>567</td>\n",
       "      <td>0.078440</td>\n",
       "      <td>0.0</td>\n",
       "      <td>878.0</td>\n",
       "      <td>5</td>\n",
       "      <td>16384</td>\n",
       "    </tr>\n",
       "    <tr>\n",
       "      <th>5132</th>\n",
       "      <td>844</td>\n",
       "      <td>0.096336</td>\n",
       "      <td>0.0</td>\n",
       "      <td>1289.0</td>\n",
       "      <td>10</td>\n",
       "      <td>16384</td>\n",
       "    </tr>\n",
       "  </tbody>\n",
       "</table>\n",
       "</div>"
      ]
     },
     "metadata": {
      "application/vnd.databricks.v1+output": {
       "addedWidgets": {},
       "arguments": {},
       "data": "<div>\n<style scoped>\n    .dataframe tbody tr th:only-of-type {\n        vertical-align: middle;\n    }\n\n    .dataframe tbody tr th {\n        vertical-align: top;\n    }\n\n    .dataframe thead th {\n        text-align: right;\n    }\n</style>\n<table border=\"1\" class=\"dataframe\">\n  <thead>\n    <tr style=\"text-align: right;\">\n      <th></th>\n      <th>Iteration</th>\n      <th>Time</th>\n      <th>Fitness</th>\n      <th>FEvals</th>\n      <th>Temperature</th>\n      <th>max_iters</th>\n    </tr>\n  </thead>\n  <tbody>\n    <tr>\n      <th>146</th>\n      <td>146</td>\n      <td>0.084898</td>\n      <td>0.0</td>\n      <td>169.0</td>\n      <td>0.01</td>\n      <td>16384</td>\n    </tr>\n    <tr>\n      <th>293</th>\n      <td>146</td>\n      <td>0.084898</td>\n      <td>0.0</td>\n      <td>169.0</td>\n      <td>0.1</td>\n      <td>16384</td>\n    </tr>\n    <tr>\n      <th>440</th>\n      <td>146</td>\n      <td>0.084898</td>\n      <td>0.0</td>\n      <td>169.0</td>\n      <td>0.25</td>\n      <td>16384</td>\n    </tr>\n    <tr>\n      <th>704</th>\n      <td>263</td>\n      <td>0.068985</td>\n      <td>0.0</td>\n      <td>298.0</td>\n      <td>0.5</td>\n      <td>16384</td>\n    </tr>\n    <tr>\n      <th>1311</th>\n      <td>606</td>\n      <td>0.098887</td>\n      <td>0.0</td>\n      <td>695.0</td>\n      <td>0.75</td>\n      <td>16384</td>\n    </tr>\n    <tr>\n      <th>1829</th>\n      <td>517</td>\n      <td>0.058621</td>\n      <td>0.0</td>\n      <td>643.0</td>\n      <td>1.0</td>\n      <td>16384</td>\n    </tr>\n    <tr>\n      <th>2406</th>\n      <td>576</td>\n      <td>0.085860</td>\n      <td>0.0</td>\n      <td>761.0</td>\n      <td>2.0</td>\n      <td>16384</td>\n    </tr>\n    <tr>\n      <th>3223</th>\n      <td>816</td>\n      <td>0.079277</td>\n      <td>0.0</td>\n      <td>1079.0</td>\n      <td>3.0</td>\n      <td>16384</td>\n    </tr>\n    <tr>\n      <th>3719</th>\n      <td>495</td>\n      <td>0.046678</td>\n      <td>0.0</td>\n      <td>769.0</td>\n      <td>4.0</td>\n      <td>16384</td>\n    </tr>\n    <tr>\n      <th>4287</th>\n      <td>567</td>\n      <td>0.078440</td>\n      <td>0.0</td>\n      <td>878.0</td>\n      <td>5</td>\n      <td>16384</td>\n    </tr>\n    <tr>\n      <th>5132</th>\n      <td>844</td>\n      <td>0.096336</td>\n      <td>0.0</td>\n      <td>1289.0</td>\n      <td>10</td>\n      <td>16384</td>\n    </tr>\n  </tbody>\n</table>\n</div>",
       "datasetInfos": [],
       "metadata": {},
       "removedWidgets": [],
       "textData": null,
       "type": "htmlSandbox"
      }
     },
     "output_type": "display_data"
    }
   ],
   "source": [
    "best_fitness = df_run_curves_sa['Fitness'].min()\n",
    "best_runs = df_run_curves_sa[df_run_curves_sa['Fitness'] == best_fitness]\n",
    "best_runs"
   ]
  },
  {
   "cell_type": "code",
   "execution_count": 0,
   "metadata": {
    "application/vnd.databricks.v1+cell": {
     "inputWidgets": {},
     "nuid": "65048f09-b7ac-41b3-a447-d1ecbbb47be9",
     "showTitle": false,
     "title": ""
    }
   },
   "outputs": [
    {
     "data": {
      "text/html": [
       "<style scoped>\n",
       "  .ansiout {\n",
       "    display: block;\n",
       "    unicode-bidi: embed;\n",
       "    white-space: pre-wrap;\n",
       "    word-wrap: break-word;\n",
       "    word-break: break-all;\n",
       "    font-family: \"Source Code Pro\", \"Menlo\", monospace;;\n",
       "    font-size: 13px;\n",
       "    color: #555;\n",
       "    margin-left: 4px;\n",
       "    line-height: 19px;\n",
       "  }\n",
       "</style>\n",
       "<div class=\"ansiout\">\n",
       "</div>"
      ]
     },
     "metadata": {
      "application/vnd.databricks.v1+output": {
       "addedWidgets": {},
       "arguments": {},
       "data": "<div class=\"ansiout\">\n</div>",
       "datasetInfos": [],
       "metadata": {},
       "removedWidgets": [],
       "type": "html"
      }
     },
     "output_type": "display_data"
    }
   ],
   "source": [
    "'''\n",
    "Impact of the decay function\n",
    "1. Arithmetic Decay:  ArithDecay\n",
    "2. Exponential Decay: ExpDecay\n",
    "3. Geometric Decay:   GeomDecay\n",
    "\n",
    "'''\n",
    "print('')"
   ]
  },
  {
   "cell_type": "code",
   "execution_count": 0,
   "metadata": {
    "application/vnd.databricks.v1+cell": {
     "inputWidgets": {},
     "nuid": "ed26dadb-5f75-418d-9ebf-8959a5dcdb54",
     "showTitle": false,
     "title": ""
    }
   },
   "outputs": [
    {
     "data": {
      "text/html": [
       "<style scoped>\n",
       "  .ansiout {\n",
       "    display: block;\n",
       "    unicode-bidi: embed;\n",
       "    white-space: pre-wrap;\n",
       "    word-wrap: break-word;\n",
       "    word-break: break-all;\n",
       "    font-family: \"Source Code Pro\", \"Menlo\", monospace;;\n",
       "    font-size: 13px;\n",
       "    color: #555;\n",
       "    margin-left: 4px;\n",
       "    line-height: 19px;\n",
       "  }\n",
       "</style>\n",
       "<div class=\"ansiout\"></div>"
      ]
     },
     "metadata": {
      "application/vnd.databricks.v1+output": {
       "addedWidgets": {},
       "arguments": {},
       "data": "<div class=\"ansiout\"></div>",
       "datasetInfos": [],
       "metadata": {},
       "removedWidgets": [],
       "type": "html"
      }
     },
     "output_type": "display_data"
    }
   ],
   "source": [
    "# # create a runner class and solve the problem\n",
    "# #***************** Arithmetic Decay ************\n",
    "# sa = SARunner(problem=problem,\n",
    "#               experiment_name='queens-8-sa',\n",
    "#               output_directory=None, \n",
    "#               seed=42,\n",
    "#               iteration_list=2 ** np.arange(15),\n",
    "#               max_attempts=500,\n",
    "#               temperature_list=[0.01, 0.10, 0.25, 0.50, 0.75, 1.00, 2.0, 3.0, 4.0, 5, 10],\n",
    "#               decay_list=[mlrose_hiive.ArithDecay])\n",
    "\n",
    "# # run the optimization algorithm\n",
    "# df_run_stats, df_run_curves = sa.run()\n",
    "\n",
    "# # Best runs\n",
    "# best_fitness = df_run_curves['Fitness'].min()\n",
    "# best_runs = df_run_curves[df_run_curves['Fitness'] == best_fitness]\n",
    "# best_runs"
   ]
  },
  {
   "cell_type": "code",
   "execution_count": 0,
   "metadata": {
    "application/vnd.databricks.v1+cell": {
     "inputWidgets": {},
     "nuid": "a9970faf-e210-441f-b6ff-37515faa951c",
     "showTitle": false,
     "title": ""
    }
   },
   "outputs": [
    {
     "data": {
      "text/html": [
       "<style scoped>\n",
       "  .ansiout {\n",
       "    display: block;\n",
       "    unicode-bidi: embed;\n",
       "    white-space: pre-wrap;\n",
       "    word-wrap: break-word;\n",
       "    word-break: break-all;\n",
       "    font-family: \"Source Code Pro\", \"Menlo\", monospace;;\n",
       "    font-size: 13px;\n",
       "    color: #555;\n",
       "    margin-left: 4px;\n",
       "    line-height: 19px;\n",
       "  }\n",
       "</style>\n",
       "<div class=\"ansiout\">Out[18]: &#39;\\nGeometric Decay &amp; Exponential Decay gave same results\\n\\n&#39;</div>"
      ]
     },
     "metadata": {
      "application/vnd.databricks.v1+output": {
       "addedWidgets": {},
       "arguments": {},
       "data": "<div class=\"ansiout\">Out[18]: &#39;\\nGeometric Decay &amp; Exponential Decay gave same results\\n\\n&#39;</div>",
       "datasetInfos": [],
       "metadata": {},
       "removedWidgets": [],
       "type": "html"
      }
     },
     "output_type": "display_data"
    }
   ],
   "source": [
    "'''\n",
    "Geometric Decay & Exponential Decay gave same results\n",
    "\n",
    "'''\n",
    "\n",
    "# # create a runner class and solve the problem\n",
    "# #***************** Geometric Decay ************\n",
    "# sa = SARunner(problem=problem,\n",
    "#               experiment_name='queens-8-sa',\n",
    "#               output_directory=None, \n",
    "#               seed=42,\n",
    "#               iteration_list=2 ** np.arange(15),\n",
    "#               max_attempts=500,\n",
    "#               temperature_list=[0.01, 0.10, 0.25, 0.50, 0.75, 1.00, 2.0, 3.0, 4.0, 5, 10],\n",
    "#               decay_list=[mlrose_hiive.GeomDecay])\n",
    "\n",
    "# # run the optimization\n",
    "# df_run_stats, df_run_curves = sa.run()\n",
    "\n",
    "# # Best runs\n",
    "# best_fitness = df_run_curves['Fitness'].min()\n",
    "# best_runs = df_run_curves[df_run_curves['Fitness'] == best_fitness]\n",
    "# best_runs"
   ]
  },
  {
   "cell_type": "code",
   "execution_count": 0,
   "metadata": {
    "application/vnd.databricks.v1+cell": {
     "inputWidgets": {},
     "nuid": "c09b73fc-ccde-4b12-843c-afd256d95d66",
     "showTitle": false,
     "title": ""
    }
   },
   "outputs": [
    {
     "data": {
      "text/html": [
       "<style scoped>\n",
       "  .ansiout {\n",
       "    display: block;\n",
       "    unicode-bidi: embed;\n",
       "    white-space: pre-wrap;\n",
       "    word-wrap: break-word;\n",
       "    word-break: break-all;\n",
       "    font-family: \"Source Code Pro\", \"Menlo\", monospace;;\n",
       "    font-size: 13px;\n",
       "    color: #555;\n",
       "    margin-left: 4px;\n",
       "    line-height: 19px;\n",
       "  }\n",
       "</style>\n",
       "<div class=\"ansiout\">&lt;class &#39;pandas.core.frame.DataFrame&#39;&gt;\n",
       "RangeIndex: 5133 entries, 0 to 5132\n",
       "Data columns (total 6 columns):\n",
       " #   Column       Non-Null Count  Dtype  \n",
       "---  ------       --------------  -----  \n",
       " 0   Iteration    5133 non-null   int64  \n",
       " 1   Time         5133 non-null   float64\n",
       " 2   Fitness      5133 non-null   float64\n",
       " 3   FEvals       5133 non-null   float64\n",
       " 4   Temperature  5133 non-null   object \n",
       " 5   max_iters    5133 non-null   int64  \n",
       "dtypes: float64(3), int64(2), object(1)\n",
       "memory usage: 240.7+ KB\n",
       "</div>"
      ]
     },
     "metadata": {
      "application/vnd.databricks.v1+output": {
       "addedWidgets": {},
       "arguments": {},
       "data": "<div class=\"ansiout\">&lt;class &#39;pandas.core.frame.DataFrame&#39;&gt;\nRangeIndex: 5133 entries, 0 to 5132\nData columns (total 6 columns):\n #   Column       Non-Null Count  Dtype  \n---  ------       --------------  -----  \n 0   Iteration    5133 non-null   int64  \n 1   Time         5133 non-null   float64\n 2   Fitness      5133 non-null   float64\n 3   FEvals       5133 non-null   float64\n 4   Temperature  5133 non-null   object \n 5   max_iters    5133 non-null   int64  \ndtypes: float64(3), int64(2), object(1)\nmemory usage: 240.7+ KB\n</div>",
       "datasetInfos": [],
       "metadata": {},
       "removedWidgets": [],
       "type": "html"
      }
     },
     "output_type": "display_data"
    }
   ],
   "source": [
    "df_run_curves_sa.info()"
   ]
  },
  {
   "cell_type": "code",
   "execution_count": 0,
   "metadata": {
    "application/vnd.databricks.v1+cell": {
     "inputWidgets": {},
     "nuid": "f4abbffc-9f2a-4106-90cf-31fda94665de",
     "showTitle": false,
     "title": ""
    }
   },
   "outputs": [
    {
     "data": {
      "text/html": [
       "<style scoped>\n",
       "  .ansiout {\n",
       "    display: block;\n",
       "    unicode-bidi: embed;\n",
       "    white-space: pre-wrap;\n",
       "    word-wrap: break-word;\n",
       "    word-break: break-all;\n",
       "    font-family: \"Source Code Pro\", \"Menlo\", monospace;;\n",
       "    font-size: 13px;\n",
       "    color: #555;\n",
       "    margin-left: 4px;\n",
       "    line-height: 19px;\n",
       "  }\n",
       "</style>\n",
       "<div class=\"ansiout\"></div>"
      ]
     },
     "metadata": {
      "application/vnd.databricks.v1+output": {
       "addedWidgets": {},
       "arguments": {},
       "data": "<div class=\"ansiout\"></div>",
       "datasetInfos": [],
       "metadata": {},
       "removedWidgets": [],
       "type": "html"
      }
     },
     "output_type": "display_data"
    }
   ],
   "source": [
    "df_run_curves_sa['Temperature'] = df_run_curves_sa['Temperature'].apply(lambda x: float(str(x)))"
   ]
  },
  {
   "cell_type": "code",
   "execution_count": 0,
   "metadata": {
    "application/vnd.databricks.v1+cell": {
     "inputWidgets": {},
     "nuid": "4743a7c0-29e5-4b0c-bdde-ccc43faba805",
     "showTitle": false,
     "title": ""
    }
   },
   "outputs": [
    {
     "data": {
      "text/html": [
       "<style scoped>\n",
       "  .ansiout {\n",
       "    display: block;\n",
       "    unicode-bidi: embed;\n",
       "    white-space: pre-wrap;\n",
       "    word-wrap: break-word;\n",
       "    word-break: break-all;\n",
       "    font-family: \"Source Code Pro\", \"Menlo\", monospace;;\n",
       "    font-size: 13px;\n",
       "    color: #555;\n",
       "    margin-left: 4px;\n",
       "    line-height: 19px;\n",
       "  }\n",
       "</style>\n",
       "<div class=\"ansiout\">(147, 4)\n",
       "Out[47]: </div>"
      ]
     },
     "metadata": {
      "application/vnd.databricks.v1+output": {
       "addedWidgets": {},
       "arguments": {},
       "data": "<div class=\"ansiout\">(147, 4)\nOut[47]: </div>",
       "datasetInfos": [],
       "metadata": {},
       "removedWidgets": [],
       "type": "html"
      }
     },
     "output_type": "display_data"
    },
    {
     "data": {
      "text/html": [
       "<div>\n",
       "<style scoped>\n",
       "    .dataframe tbody tr th:only-of-type {\n",
       "        vertical-align: middle;\n",
       "    }\n",
       "\n",
       "    .dataframe tbody tr th {\n",
       "        vertical-align: top;\n",
       "    }\n",
       "\n",
       "    .dataframe thead th {\n",
       "        text-align: right;\n",
       "    }\n",
       "</style>\n",
       "<table border=\"1\" class=\"dataframe\">\n",
       "  <thead>\n",
       "    <tr style=\"text-align: right;\">\n",
       "      <th></th>\n",
       "      <th>Iteration</th>\n",
       "      <th>Time</th>\n",
       "      <th>Fitness</th>\n",
       "      <th>FEvals</th>\n",
       "    </tr>\n",
       "  </thead>\n",
       "  <tbody>\n",
       "    <tr>\n",
       "      <th>0</th>\n",
       "      <td>0</td>\n",
       "      <td>0.000818</td>\n",
       "      <td>10.0</td>\n",
       "      <td>0.0</td>\n",
       "    </tr>\n",
       "    <tr>\n",
       "      <th>1</th>\n",
       "      <td>1</td>\n",
       "      <td>0.004506</td>\n",
       "      <td>8.0</td>\n",
       "      <td>2.0</td>\n",
       "    </tr>\n",
       "    <tr>\n",
       "      <th>2</th>\n",
       "      <td>2</td>\n",
       "      <td>0.007644</td>\n",
       "      <td>5.0</td>\n",
       "      <td>4.0</td>\n",
       "    </tr>\n",
       "    <tr>\n",
       "      <th>3</th>\n",
       "      <td>3</td>\n",
       "      <td>0.010764</td>\n",
       "      <td>5.0</td>\n",
       "      <td>6.0</td>\n",
       "    </tr>\n",
       "    <tr>\n",
       "      <th>4</th>\n",
       "      <td>4</td>\n",
       "      <td>0.011315</td>\n",
       "      <td>5.0</td>\n",
       "      <td>8.0</td>\n",
       "    </tr>\n",
       "  </tbody>\n",
       "</table>\n",
       "</div>"
      ]
     },
     "metadata": {
      "application/vnd.databricks.v1+output": {
       "addedWidgets": {},
       "arguments": {},
       "data": "<div>\n<style scoped>\n    .dataframe tbody tr th:only-of-type {\n        vertical-align: middle;\n    }\n\n    .dataframe tbody tr th {\n        vertical-align: top;\n    }\n\n    .dataframe thead th {\n        text-align: right;\n    }\n</style>\n<table border=\"1\" class=\"dataframe\">\n  <thead>\n    <tr style=\"text-align: right;\">\n      <th></th>\n      <th>Iteration</th>\n      <th>Time</th>\n      <th>Fitness</th>\n      <th>FEvals</th>\n    </tr>\n  </thead>\n  <tbody>\n    <tr>\n      <th>0</th>\n      <td>0</td>\n      <td>0.000818</td>\n      <td>10.0</td>\n      <td>0.0</td>\n    </tr>\n    <tr>\n      <th>1</th>\n      <td>1</td>\n      <td>0.004506</td>\n      <td>8.0</td>\n      <td>2.0</td>\n    </tr>\n    <tr>\n      <th>2</th>\n      <td>2</td>\n      <td>0.007644</td>\n      <td>5.0</td>\n      <td>4.0</td>\n    </tr>\n    <tr>\n      <th>3</th>\n      <td>3</td>\n      <td>0.010764</td>\n      <td>5.0</td>\n      <td>6.0</td>\n    </tr>\n    <tr>\n      <th>4</th>\n      <td>4</td>\n      <td>0.011315</td>\n      <td>5.0</td>\n      <td>8.0</td>\n    </tr>\n  </tbody>\n</table>\n</div>",
       "datasetInfos": [],
       "metadata": {},
       "removedWidgets": [],
       "textData": null,
       "type": "htmlSandbox"
      }
     },
     "output_type": "display_data"
    }
   ],
   "source": [
    "sac = df_run_curves_sa[(df_run_curves_sa['Temperature'] == 0.01)]\n",
    "sac = sac[['Iteration', 'Time', 'Fitness', 'FEvals']]\n",
    "\n",
    "print(sac.shape)\n",
    "sac.head()"
   ]
  },
  {
   "cell_type": "code",
   "execution_count": 0,
   "metadata": {
    "application/vnd.databricks.v1+cell": {
     "inputWidgets": {},
     "nuid": "7c854592-3ab8-4f78-a4a7-632fbcbe5684",
     "showTitle": true,
     "title": "genetic algorithm (GA)"
    }
   },
   "outputs": [
    {
     "data": {
      "text/html": [
       "<style scoped>\n",
       "  .ansiout {\n",
       "    display: block;\n",
       "    unicode-bidi: embed;\n",
       "    white-space: pre-wrap;\n",
       "    word-wrap: break-word;\n",
       "    word-break: break-all;\n",
       "    font-family: \"Source Code Pro\", \"Menlo\", monospace;;\n",
       "    font-size: 13px;\n",
       "    color: #555;\n",
       "    margin-left: 4px;\n",
       "    line-height: 19px;\n",
       "  }\n",
       "</style>\n",
       "<div class=\"ansiout\"></div>"
      ]
     },
     "metadata": {
      "application/vnd.databricks.v1+output": {
       "addedWidgets": {},
       "arguments": {},
       "data": "<div class=\"ansiout\"></div>",
       "datasetInfos": [],
       "metadata": {},
       "removedWidgets": [],
       "type": "html"
      }
     },
     "output_type": "display_data"
    }
   ],
   "source": [
    "# create a runner class and solve the problem\n",
    "#***************** Arithmetic Decay ************\n",
    "ga = GARunner(problem=problem,\n",
    "              experiment_name='queens-8-ga',\n",
    "              output_directory=None, \n",
    "              seed=42,\n",
    "              iteration_list=2 ** np.arange(15),\n",
    "              population_sizes=[10, 20, 50, 100],\n",
    "              mutation_rates=[0.01, 0.05, 0.1, 0.2, 0.5])\n",
    "\n",
    "# run the optimization algorithm\n",
    "df_run_stats_ga, df_run_curves_ga = ga.run()"
   ]
  },
  {
   "cell_type": "code",
   "execution_count": 0,
   "metadata": {
    "application/vnd.databricks.v1+cell": {
     "inputWidgets": {},
     "nuid": "59af53ba-a80e-420f-8ad8-e1ad86aef91d",
     "showTitle": false,
     "title": ""
    }
   },
   "outputs": [
    {
     "data": {
      "text/html": [
       "<style scoped>\n",
       "  .ansiout {\n",
       "    display: block;\n",
       "    unicode-bidi: embed;\n",
       "    white-space: pre-wrap;\n",
       "    word-wrap: break-word;\n",
       "    word-break: break-all;\n",
       "    font-family: \"Source Code Pro\", \"Menlo\", monospace;;\n",
       "    font-size: 13px;\n",
       "    color: #555;\n",
       "    margin-left: 4px;\n",
       "    line-height: 19px;\n",
       "  }\n",
       "</style>\n",
       "<div class=\"ansiout\">Out[49]: </div>"
      ]
     },
     "metadata": {
      "application/vnd.databricks.v1+output": {
       "addedWidgets": {},
       "arguments": {},
       "data": "<div class=\"ansiout\">Out[49]: </div>",
       "datasetInfos": [],
       "metadata": {},
       "removedWidgets": [],
       "type": "html"
      }
     },
     "output_type": "display_data"
    },
    {
     "data": {
      "text/html": [
       "<div>\n",
       "<style scoped>\n",
       "    .dataframe tbody tr th:only-of-type {\n",
       "        vertical-align: middle;\n",
       "    }\n",
       "\n",
       "    .dataframe tbody tr th {\n",
       "        vertical-align: top;\n",
       "    }\n",
       "\n",
       "    .dataframe thead th {\n",
       "        text-align: right;\n",
       "    }\n",
       "</style>\n",
       "<table border=\"1\" class=\"dataframe\">\n",
       "  <thead>\n",
       "    <tr style=\"text-align: right;\">\n",
       "      <th></th>\n",
       "      <th>Iteration</th>\n",
       "      <th>Fitness</th>\n",
       "      <th>FEvals</th>\n",
       "      <th>Time</th>\n",
       "      <th>State</th>\n",
       "      <th>Population Size</th>\n",
       "      <th>Mutation Rate</th>\n",
       "      <th>max_iters</th>\n",
       "    </tr>\n",
       "  </thead>\n",
       "  <tbody>\n",
       "    <tr>\n",
       "      <th>69</th>\n",
       "      <td>16</td>\n",
       "      <td>0.0</td>\n",
       "      <td>192</td>\n",
       "      <td>0.105291</td>\n",
       "      <td>[6, 1, 3, 0, 7, 4, 2, 5]</td>\n",
       "      <td>10</td>\n",
       "      <td>0.50</td>\n",
       "      <td>16384</td>\n",
       "    </tr>\n",
       "    <tr>\n",
       "      <th>153</th>\n",
       "      <td>256</td>\n",
       "      <td>0.0</td>\n",
       "      <td>3110</td>\n",
       "      <td>1.199190</td>\n",
       "      <td>[7, 1, 4, 2, 0, 6, 3, 5]</td>\n",
       "      <td>20</td>\n",
       "      <td>0.50</td>\n",
       "      <td>16384</td>\n",
       "    </tr>\n",
       "    <tr>\n",
       "      <th>216</th>\n",
       "      <td>128</td>\n",
       "      <td>0.0</td>\n",
       "      <td>5816</td>\n",
       "      <td>1.792388</td>\n",
       "      <td>[1, 5, 7, 2, 0, 3, 6, 4]</td>\n",
       "      <td>50</td>\n",
       "      <td>0.20</td>\n",
       "      <td>16384</td>\n",
       "    </tr>\n",
       "    <tr>\n",
       "      <th>230</th>\n",
       "      <td>32</td>\n",
       "      <td>0.0</td>\n",
       "      <td>1176</td>\n",
       "      <td>0.425357</td>\n",
       "      <td>[2, 5, 3, 1, 7, 4, 6, 0]</td>\n",
       "      <td>50</td>\n",
       "      <td>0.50</td>\n",
       "      <td>16384</td>\n",
       "    </tr>\n",
       "    <tr>\n",
       "      <th>248</th>\n",
       "      <td>128</td>\n",
       "      <td>0.0</td>\n",
       "      <td>11112</td>\n",
       "      <td>3.585048</td>\n",
       "      <td>[1, 4, 6, 3, 0, 7, 5, 2]</td>\n",
       "      <td>100</td>\n",
       "      <td>0.01</td>\n",
       "      <td>16384</td>\n",
       "    </tr>\n",
       "    <tr>\n",
       "      <th>261</th>\n",
       "      <td>16</td>\n",
       "      <td>0.0</td>\n",
       "      <td>1518</td>\n",
       "      <td>0.543702</td>\n",
       "      <td>[4, 6, 0, 3, 1, 7, 5, 2]</td>\n",
       "      <td>100</td>\n",
       "      <td>0.05</td>\n",
       "      <td>16384</td>\n",
       "    </tr>\n",
       "    <tr>\n",
       "      <th>281</th>\n",
       "      <td>256</td>\n",
       "      <td>0.0</td>\n",
       "      <td>16769</td>\n",
       "      <td>7.211258</td>\n",
       "      <td>[3, 5, 7, 2, 0, 6, 4, 1]</td>\n",
       "      <td>100</td>\n",
       "      <td>0.10</td>\n",
       "      <td>16384</td>\n",
       "    </tr>\n",
       "    <tr>\n",
       "      <th>310</th>\n",
       "      <td>32</td>\n",
       "      <td>0.0</td>\n",
       "      <td>2124</td>\n",
       "      <td>0.706517</td>\n",
       "      <td>[3, 0, 4, 7, 5, 2, 6, 1]</td>\n",
       "      <td>100</td>\n",
       "      <td>0.50</td>\n",
       "      <td>16384</td>\n",
       "    </tr>\n",
       "  </tbody>\n",
       "</table>\n",
       "</div>"
      ]
     },
     "metadata": {
      "application/vnd.databricks.v1+output": {
       "addedWidgets": {},
       "arguments": {},
       "data": "<div>\n<style scoped>\n    .dataframe tbody tr th:only-of-type {\n        vertical-align: middle;\n    }\n\n    .dataframe tbody tr th {\n        vertical-align: top;\n    }\n\n    .dataframe thead th {\n        text-align: right;\n    }\n</style>\n<table border=\"1\" class=\"dataframe\">\n  <thead>\n    <tr style=\"text-align: right;\">\n      <th></th>\n      <th>Iteration</th>\n      <th>Fitness</th>\n      <th>FEvals</th>\n      <th>Time</th>\n      <th>State</th>\n      <th>Population Size</th>\n      <th>Mutation Rate</th>\n      <th>max_iters</th>\n    </tr>\n  </thead>\n  <tbody>\n    <tr>\n      <th>69</th>\n      <td>16</td>\n      <td>0.0</td>\n      <td>192</td>\n      <td>0.105291</td>\n      <td>[6, 1, 3, 0, 7, 4, 2, 5]</td>\n      <td>10</td>\n      <td>0.50</td>\n      <td>16384</td>\n    </tr>\n    <tr>\n      <th>153</th>\n      <td>256</td>\n      <td>0.0</td>\n      <td>3110</td>\n      <td>1.199190</td>\n      <td>[7, 1, 4, 2, 0, 6, 3, 5]</td>\n      <td>20</td>\n      <td>0.50</td>\n      <td>16384</td>\n    </tr>\n    <tr>\n      <th>216</th>\n      <td>128</td>\n      <td>0.0</td>\n      <td>5816</td>\n      <td>1.792388</td>\n      <td>[1, 5, 7, 2, 0, 3, 6, 4]</td>\n      <td>50</td>\n      <td>0.20</td>\n      <td>16384</td>\n    </tr>\n    <tr>\n      <th>230</th>\n      <td>32</td>\n      <td>0.0</td>\n      <td>1176</td>\n      <td>0.425357</td>\n      <td>[2, 5, 3, 1, 7, 4, 6, 0]</td>\n      <td>50</td>\n      <td>0.50</td>\n      <td>16384</td>\n    </tr>\n    <tr>\n      <th>248</th>\n      <td>128</td>\n      <td>0.0</td>\n      <td>11112</td>\n      <td>3.585048</td>\n      <td>[1, 4, 6, 3, 0, 7, 5, 2]</td>\n      <td>100</td>\n      <td>0.01</td>\n      <td>16384</td>\n    </tr>\n    <tr>\n      <th>261</th>\n      <td>16</td>\n      <td>0.0</td>\n      <td>1518</td>\n      <td>0.543702</td>\n      <td>[4, 6, 0, 3, 1, 7, 5, 2]</td>\n      <td>100</td>\n      <td>0.05</td>\n      <td>16384</td>\n    </tr>\n    <tr>\n      <th>281</th>\n      <td>256</td>\n      <td>0.0</td>\n      <td>16769</td>\n      <td>7.211258</td>\n      <td>[3, 5, 7, 2, 0, 6, 4, 1]</td>\n      <td>100</td>\n      <td>0.10</td>\n      <td>16384</td>\n    </tr>\n    <tr>\n      <th>310</th>\n      <td>32</td>\n      <td>0.0</td>\n      <td>2124</td>\n      <td>0.706517</td>\n      <td>[3, 0, 4, 7, 5, 2, 6, 1]</td>\n      <td>100</td>\n      <td>0.50</td>\n      <td>16384</td>\n    </tr>\n  </tbody>\n</table>\n</div>",
       "datasetInfos": [],
       "metadata": {},
       "removedWidgets": [],
       "textData": null,
       "type": "htmlSandbox"
      }
     },
     "output_type": "display_data"
    }
   ],
   "source": [
    "# optimal solutions\n",
    "optimal_queen8 = df_run_stats_ga[df_run_stats_ga['Fitness']==0].drop_duplicates(subset=['State'])\n",
    "optimal_queen8"
   ]
  },
  {
   "cell_type": "code",
   "execution_count": 0,
   "metadata": {
    "application/vnd.databricks.v1+cell": {
     "inputWidgets": {},
     "nuid": "4d047f9c-8916-4cef-95d0-c0e6f194aeda",
     "showTitle": false,
     "title": ""
    }
   },
   "outputs": [
    {
     "data": {
      "text/html": [
       "<style scoped>\n",
       "  .ansiout {\n",
       "    display: block;\n",
       "    unicode-bidi: embed;\n",
       "    white-space: pre-wrap;\n",
       "    word-wrap: break-word;\n",
       "    word-break: break-all;\n",
       "    font-family: \"Source Code Pro\", \"Menlo\", monospace;;\n",
       "    font-size: 13px;\n",
       "    color: #555;\n",
       "    margin-left: 4px;\n",
       "    line-height: 19px;\n",
       "  }\n",
       "</style>\n",
       "<div class=\"ansiout\">Out[50]: </div>"
      ]
     },
     "metadata": {
      "application/vnd.databricks.v1+output": {
       "addedWidgets": {},
       "arguments": {},
       "data": "<div class=\"ansiout\">Out[50]: </div>",
       "datasetInfos": [],
       "metadata": {},
       "removedWidgets": [],
       "type": "html"
      }
     },
     "output_type": "display_data"
    },
    {
     "data": {
      "text/html": [
       "<div>\n",
       "<style scoped>\n",
       "    .dataframe tbody tr th:only-of-type {\n",
       "        vertical-align: middle;\n",
       "    }\n",
       "\n",
       "    .dataframe tbody tr th {\n",
       "        vertical-align: top;\n",
       "    }\n",
       "\n",
       "    .dataframe thead th {\n",
       "        text-align: right;\n",
       "    }\n",
       "</style>\n",
       "<table border=\"1\" class=\"dataframe\">\n",
       "  <thead>\n",
       "    <tr style=\"text-align: right;\">\n",
       "      <th></th>\n",
       "      <th>Iteration</th>\n",
       "      <th>Time</th>\n",
       "      <th>Fitness</th>\n",
       "      <th>FEvals</th>\n",
       "      <th>Population Size</th>\n",
       "      <th>Mutation Rate</th>\n",
       "      <th>max_iters</th>\n",
       "    </tr>\n",
       "  </thead>\n",
       "  <tbody>\n",
       "    <tr>\n",
       "      <th>3138</th>\n",
       "      <td>16</td>\n",
       "      <td>0.067273</td>\n",
       "      <td>0.0</td>\n",
       "      <td>192.0</td>\n",
       "      <td>10</td>\n",
       "      <td>0.50</td>\n",
       "      <td>16384</td>\n",
       "    </tr>\n",
       "    <tr>\n",
       "      <th>5472</th>\n",
       "      <td>147</td>\n",
       "      <td>0.502426</td>\n",
       "      <td>0.0</td>\n",
       "      <td>3110.0</td>\n",
       "      <td>20</td>\n",
       "      <td>0.50</td>\n",
       "      <td>16384</td>\n",
       "    </tr>\n",
       "    <tr>\n",
       "      <th>7109</th>\n",
       "      <td>113</td>\n",
       "      <td>0.385531</td>\n",
       "      <td>0.0</td>\n",
       "      <td>5816.0</td>\n",
       "      <td>50</td>\n",
       "      <td>0.20</td>\n",
       "      <td>16384</td>\n",
       "    </tr>\n",
       "    <tr>\n",
       "      <th>7132</th>\n",
       "      <td>22</td>\n",
       "      <td>0.089068</td>\n",
       "      <td>0.0</td>\n",
       "      <td>1176.0</td>\n",
       "      <td>50</td>\n",
       "      <td>0.50</td>\n",
       "      <td>16384</td>\n",
       "    </tr>\n",
       "    <tr>\n",
       "      <th>7242</th>\n",
       "      <td>109</td>\n",
       "      <td>0.372505</td>\n",
       "      <td>0.0</td>\n",
       "      <td>11112.0</td>\n",
       "      <td>100</td>\n",
       "      <td>0.01</td>\n",
       "      <td>16384</td>\n",
       "    </tr>\n",
       "    <tr>\n",
       "      <th>7257</th>\n",
       "      <td>14</td>\n",
       "      <td>0.060770</td>\n",
       "      <td>0.0</td>\n",
       "      <td>1518.0</td>\n",
       "      <td>100</td>\n",
       "      <td>0.05</td>\n",
       "      <td>16384</td>\n",
       "    </tr>\n",
       "    <tr>\n",
       "      <th>7423</th>\n",
       "      <td>165</td>\n",
       "      <td>0.563160</td>\n",
       "      <td>0.0</td>\n",
       "      <td>16769.0</td>\n",
       "      <td>100</td>\n",
       "      <td>0.10</td>\n",
       "      <td>16384</td>\n",
       "    </tr>\n",
       "    <tr>\n",
       "      <th>7962</th>\n",
       "      <td>20</td>\n",
       "      <td>0.082637</td>\n",
       "      <td>0.0</td>\n",
       "      <td>2124.0</td>\n",
       "      <td>100</td>\n",
       "      <td>0.50</td>\n",
       "      <td>16384</td>\n",
       "    </tr>\n",
       "  </tbody>\n",
       "</table>\n",
       "</div>"
      ]
     },
     "metadata": {
      "application/vnd.databricks.v1+output": {
       "addedWidgets": {},
       "arguments": {},
       "data": "<div>\n<style scoped>\n    .dataframe tbody tr th:only-of-type {\n        vertical-align: middle;\n    }\n\n    .dataframe tbody tr th {\n        vertical-align: top;\n    }\n\n    .dataframe thead th {\n        text-align: right;\n    }\n</style>\n<table border=\"1\" class=\"dataframe\">\n  <thead>\n    <tr style=\"text-align: right;\">\n      <th></th>\n      <th>Iteration</th>\n      <th>Time</th>\n      <th>Fitness</th>\n      <th>FEvals</th>\n      <th>Population Size</th>\n      <th>Mutation Rate</th>\n      <th>max_iters</th>\n    </tr>\n  </thead>\n  <tbody>\n    <tr>\n      <th>3138</th>\n      <td>16</td>\n      <td>0.067273</td>\n      <td>0.0</td>\n      <td>192.0</td>\n      <td>10</td>\n      <td>0.50</td>\n      <td>16384</td>\n    </tr>\n    <tr>\n      <th>5472</th>\n      <td>147</td>\n      <td>0.502426</td>\n      <td>0.0</td>\n      <td>3110.0</td>\n      <td>20</td>\n      <td>0.50</td>\n      <td>16384</td>\n    </tr>\n    <tr>\n      <th>7109</th>\n      <td>113</td>\n      <td>0.385531</td>\n      <td>0.0</td>\n      <td>5816.0</td>\n      <td>50</td>\n      <td>0.20</td>\n      <td>16384</td>\n    </tr>\n    <tr>\n      <th>7132</th>\n      <td>22</td>\n      <td>0.089068</td>\n      <td>0.0</td>\n      <td>1176.0</td>\n      <td>50</td>\n      <td>0.50</td>\n      <td>16384</td>\n    </tr>\n    <tr>\n      <th>7242</th>\n      <td>109</td>\n      <td>0.372505</td>\n      <td>0.0</td>\n      <td>11112.0</td>\n      <td>100</td>\n      <td>0.01</td>\n      <td>16384</td>\n    </tr>\n    <tr>\n      <th>7257</th>\n      <td>14</td>\n      <td>0.060770</td>\n      <td>0.0</td>\n      <td>1518.0</td>\n      <td>100</td>\n      <td>0.05</td>\n      <td>16384</td>\n    </tr>\n    <tr>\n      <th>7423</th>\n      <td>165</td>\n      <td>0.563160</td>\n      <td>0.0</td>\n      <td>16769.0</td>\n      <td>100</td>\n      <td>0.10</td>\n      <td>16384</td>\n    </tr>\n    <tr>\n      <th>7962</th>\n      <td>20</td>\n      <td>0.082637</td>\n      <td>0.0</td>\n      <td>2124.0</td>\n      <td>100</td>\n      <td>0.50</td>\n      <td>16384</td>\n    </tr>\n  </tbody>\n</table>\n</div>",
       "datasetInfos": [],
       "metadata": {},
       "removedWidgets": [],
       "textData": null,
       "type": "htmlSandbox"
      }
     },
     "output_type": "display_data"
    }
   ],
   "source": [
    "# Best runs\n",
    "best_fitness = df_run_curves_ga['Fitness'].min()\n",
    "best_runs = df_run_curves_ga[df_run_curves_ga['Fitness'] == best_fitness]\n",
    "best_runs"
   ]
  },
  {
   "cell_type": "code",
   "execution_count": 0,
   "metadata": {
    "application/vnd.databricks.v1+cell": {
     "inputWidgets": {},
     "nuid": "94f2324d-2cc3-4fda-9629-5cb926cd8aab",
     "showTitle": false,
     "title": ""
    }
   },
   "outputs": [
    {
     "data": {
      "text/html": [
       "<style scoped>\n",
       "  .ansiout {\n",
       "    display: block;\n",
       "    unicode-bidi: embed;\n",
       "    white-space: pre-wrap;\n",
       "    word-wrap: break-word;\n",
       "    word-break: break-all;\n",
       "    font-family: \"Source Code Pro\", \"Menlo\", monospace;;\n",
       "    font-size: 13px;\n",
       "    color: #555;\n",
       "    margin-left: 4px;\n",
       "    line-height: 19px;\n",
       "  }\n",
       "</style>\n",
       "<div class=\"ansiout\">(15, 4)\n",
       "Out[51]: </div>"
      ]
     },
     "metadata": {
      "application/vnd.databricks.v1+output": {
       "addedWidgets": {},
       "arguments": {},
       "data": "<div class=\"ansiout\">(15, 4)\nOut[51]: </div>",
       "datasetInfos": [],
       "metadata": {},
       "removedWidgets": [],
       "type": "html"
      }
     },
     "output_type": "display_data"
    },
    {
     "data": {
      "text/html": [
       "<div>\n",
       "<style scoped>\n",
       "    .dataframe tbody tr th:only-of-type {\n",
       "        vertical-align: middle;\n",
       "    }\n",
       "\n",
       "    .dataframe tbody tr th {\n",
       "        vertical-align: top;\n",
       "    }\n",
       "\n",
       "    .dataframe thead th {\n",
       "        text-align: right;\n",
       "    }\n",
       "</style>\n",
       "<table border=\"1\" class=\"dataframe\">\n",
       "  <thead>\n",
       "    <tr style=\"text-align: right;\">\n",
       "      <th></th>\n",
       "      <th>Iteration</th>\n",
       "      <th>Time</th>\n",
       "      <th>Fitness</th>\n",
       "      <th>FEvals</th>\n",
       "    </tr>\n",
       "  </thead>\n",
       "  <tbody>\n",
       "    <tr>\n",
       "      <th>7243</th>\n",
       "      <td>0</td>\n",
       "      <td>0.003229</td>\n",
       "      <td>10.0</td>\n",
       "      <td>100.0</td>\n",
       "    </tr>\n",
       "    <tr>\n",
       "      <th>7244</th>\n",
       "      <td>1</td>\n",
       "      <td>0.009334</td>\n",
       "      <td>3.0</td>\n",
       "      <td>202.0</td>\n",
       "    </tr>\n",
       "    <tr>\n",
       "      <th>7245</th>\n",
       "      <td>2</td>\n",
       "      <td>0.014871</td>\n",
       "      <td>3.0</td>\n",
       "      <td>303.0</td>\n",
       "    </tr>\n",
       "    <tr>\n",
       "      <th>7246</th>\n",
       "      <td>3</td>\n",
       "      <td>0.020380</td>\n",
       "      <td>3.0</td>\n",
       "      <td>404.0</td>\n",
       "    </tr>\n",
       "    <tr>\n",
       "      <th>7247</th>\n",
       "      <td>4</td>\n",
       "      <td>0.023597</td>\n",
       "      <td>3.0</td>\n",
       "      <td>505.0</td>\n",
       "    </tr>\n",
       "  </tbody>\n",
       "</table>\n",
       "</div>"
      ]
     },
     "metadata": {
      "application/vnd.databricks.v1+output": {
       "addedWidgets": {},
       "arguments": {},
       "data": "<div>\n<style scoped>\n    .dataframe tbody tr th:only-of-type {\n        vertical-align: middle;\n    }\n\n    .dataframe tbody tr th {\n        vertical-align: top;\n    }\n\n    .dataframe thead th {\n        text-align: right;\n    }\n</style>\n<table border=\"1\" class=\"dataframe\">\n  <thead>\n    <tr style=\"text-align: right;\">\n      <th></th>\n      <th>Iteration</th>\n      <th>Time</th>\n      <th>Fitness</th>\n      <th>FEvals</th>\n    </tr>\n  </thead>\n  <tbody>\n    <tr>\n      <th>7243</th>\n      <td>0</td>\n      <td>0.003229</td>\n      <td>10.0</td>\n      <td>100.0</td>\n    </tr>\n    <tr>\n      <th>7244</th>\n      <td>1</td>\n      <td>0.009334</td>\n      <td>3.0</td>\n      <td>202.0</td>\n    </tr>\n    <tr>\n      <th>7245</th>\n      <td>2</td>\n      <td>0.014871</td>\n      <td>3.0</td>\n      <td>303.0</td>\n    </tr>\n    <tr>\n      <th>7246</th>\n      <td>3</td>\n      <td>0.020380</td>\n      <td>3.0</td>\n      <td>404.0</td>\n    </tr>\n    <tr>\n      <th>7247</th>\n      <td>4</td>\n      <td>0.023597</td>\n      <td>3.0</td>\n      <td>505.0</td>\n    </tr>\n  </tbody>\n</table>\n</div>",
       "datasetInfos": [],
       "metadata": {},
       "removedWidgets": [],
       "textData": null,
       "type": "htmlSandbox"
      }
     },
     "output_type": "display_data"
    }
   ],
   "source": [
    "gac = df_run_curves_ga[(df_run_curves_ga['Population Size'] == 100) & ((df_run_curves_ga['Mutation Rate'] == 0.05))]\n",
    "gac = gac[['Iteration', 'Time', 'Fitness', 'FEvals']]\n",
    "\n",
    "print(gac.shape)\n",
    "gac.head()"
   ]
  },
  {
   "cell_type": "code",
   "execution_count": 0,
   "metadata": {
    "application/vnd.databricks.v1+cell": {
     "inputWidgets": {},
     "nuid": "1fca4d32-7419-460e-ba2b-7bc94274a9ca",
     "showTitle": true,
     "title": "Mutual Information Maximum Input Clustering (MIMIC)"
    }
   },
   "outputs": [
    {
     "data": {
      "text/html": [
       "<style scoped>\n",
       "  .ansiout {\n",
       "    display: block;\n",
       "    unicode-bidi: embed;\n",
       "    white-space: pre-wrap;\n",
       "    word-wrap: break-word;\n",
       "    word-break: break-all;\n",
       "    font-family: \"Source Code Pro\", \"Menlo\", monospace;;\n",
       "    font-size: 13px;\n",
       "    color: #555;\n",
       "    margin-left: 4px;\n",
       "    line-height: 19px;\n",
       "  }\n",
       "</style>\n",
       "<div class=\"ansiout\"></div>"
      ]
     },
     "metadata": {
      "application/vnd.databricks.v1+output": {
       "addedWidgets": {},
       "arguments": {},
       "data": "<div class=\"ansiout\"></div>",
       "datasetInfos": [],
       "metadata": {},
       "removedWidgets": [],
       "type": "html"
      }
     },
     "output_type": "display_data"
    }
   ],
   "source": [
    "# fitness = mlrose_hiive.Queens()\n",
    "# problem = mlrose_hiive.DiscreteOpt(length=100, fitness_fn=fitness, maximize=True)\n",
    "# max_attempts = 100\n",
    "# max_iters = 100\n",
    "\n",
    "mimic = MIMICRunner(problem = problem,\n",
    "                    experiment_name = 'queens-8-mimic',\n",
    "                    output_directory = None,\n",
    "                    seed = 42,\n",
    "                    iteration_list = 2 ** np.arange(15),\n",
    "                    population_sizes = [10, 20, 50, 100, 500],\n",
    "                    keep_percent_list = [0.01, 0.05, 0.1, 0.2, 0.5],\n",
    "                    max_attempts=500,\n",
    "                    generate_curves=True,\n",
    "                    use_fast_mimic=False)\n",
    "\n",
    "# run the optimization algorithm\n",
    "df_run_stats_mimic, df_run_curves_mimic = mimic.run()"
   ]
  },
  {
   "cell_type": "code",
   "execution_count": 0,
   "metadata": {
    "application/vnd.databricks.v1+cell": {
     "inputWidgets": {},
     "nuid": "0bd359b8-0f20-4ff3-a366-650bbe84a56c",
     "showTitle": false,
     "title": ""
    }
   },
   "outputs": [
    {
     "data": {
      "text/html": [
       "<style scoped>\n",
       "  .ansiout {\n",
       "    display: block;\n",
       "    unicode-bidi: embed;\n",
       "    white-space: pre-wrap;\n",
       "    word-wrap: break-word;\n",
       "    word-break: break-all;\n",
       "    font-family: \"Source Code Pro\", \"Menlo\", monospace;;\n",
       "    font-size: 13px;\n",
       "    color: #555;\n",
       "    margin-left: 4px;\n",
       "    line-height: 19px;\n",
       "  }\n",
       "</style>\n",
       "<div class=\"ansiout\">Out[4]: </div>"
      ]
     },
     "metadata": {
      "application/vnd.databricks.v1+output": {
       "addedWidgets": {},
       "arguments": {},
       "data": "<div class=\"ansiout\">Out[4]: </div>",
       "datasetInfos": [],
       "metadata": {},
       "removedWidgets": [],
       "type": "html"
      }
     },
     "output_type": "display_data"
    },
    {
     "data": {
      "text/html": [
       "<div>\n",
       "<style scoped>\n",
       "    .dataframe tbody tr th:only-of-type {\n",
       "        vertical-align: middle;\n",
       "    }\n",
       "\n",
       "    .dataframe tbody tr th {\n",
       "        vertical-align: top;\n",
       "    }\n",
       "\n",
       "    .dataframe thead th {\n",
       "        text-align: right;\n",
       "    }\n",
       "</style>\n",
       "<table border=\"1\" class=\"dataframe\">\n",
       "  <thead>\n",
       "    <tr style=\"text-align: right;\">\n",
       "      <th></th>\n",
       "      <th>Iteration</th>\n",
       "      <th>Fitness</th>\n",
       "      <th>FEvals</th>\n",
       "      <th>Time</th>\n",
       "      <th>State</th>\n",
       "      <th>use_fast_mimic</th>\n",
       "      <th>Population Size</th>\n",
       "      <th>Keep Percent</th>\n",
       "      <th>max_iters</th>\n",
       "    </tr>\n",
       "  </thead>\n",
       "  <tbody>\n",
       "    <tr>\n",
       "      <th>311</th>\n",
       "      <td>64</td>\n",
       "      <td>0.0</td>\n",
       "      <td>4043</td>\n",
       "      <td>2.302994</td>\n",
       "      <td>[3.0, 5.0, 7.0, 2.0, 0.0, 6.0, 4.0, 1.0]</td>\n",
       "      <td>False</td>\n",
       "      <td>100</td>\n",
       "      <td>0.5</td>\n",
       "      <td>16384</td>\n",
       "    </tr>\n",
       "    <tr>\n",
       "      <th>355</th>\n",
       "      <td>4</td>\n",
       "      <td>0.0</td>\n",
       "      <td>2507</td>\n",
       "      <td>0.805769</td>\n",
       "      <td>[5.0, 3.0, 0.0, 4.0, 7.0, 1.0, 6.0, 2.0]</td>\n",
       "      <td>False</td>\n",
       "      <td>500</td>\n",
       "      <td>0.1</td>\n",
       "      <td>16384</td>\n",
       "    </tr>\n",
       "    <tr>\n",
       "      <th>387</th>\n",
       "      <td>4</td>\n",
       "      <td>0.0</td>\n",
       "      <td>2506</td>\n",
       "      <td>0.835806</td>\n",
       "      <td>[5.0, 2.0, 6.0, 3.0, 0.0, 7.0, 1.0, 4.0]</td>\n",
       "      <td>False</td>\n",
       "      <td>500</td>\n",
       "      <td>0.5</td>\n",
       "      <td>16384</td>\n",
       "    </tr>\n",
       "  </tbody>\n",
       "</table>\n",
       "</div>"
      ]
     },
     "metadata": {
      "application/vnd.databricks.v1+output": {
       "addedWidgets": {},
       "arguments": {},
       "data": "<div>\n<style scoped>\n    .dataframe tbody tr th:only-of-type {\n        vertical-align: middle;\n    }\n\n    .dataframe tbody tr th {\n        vertical-align: top;\n    }\n\n    .dataframe thead th {\n        text-align: right;\n    }\n</style>\n<table border=\"1\" class=\"dataframe\">\n  <thead>\n    <tr style=\"text-align: right;\">\n      <th></th>\n      <th>Iteration</th>\n      <th>Fitness</th>\n      <th>FEvals</th>\n      <th>Time</th>\n      <th>State</th>\n      <th>use_fast_mimic</th>\n      <th>Population Size</th>\n      <th>Keep Percent</th>\n      <th>max_iters</th>\n    </tr>\n  </thead>\n  <tbody>\n    <tr>\n      <th>311</th>\n      <td>64</td>\n      <td>0.0</td>\n      <td>4043</td>\n      <td>2.302994</td>\n      <td>[3.0, 5.0, 7.0, 2.0, 0.0, 6.0, 4.0, 1.0]</td>\n      <td>False</td>\n      <td>100</td>\n      <td>0.5</td>\n      <td>16384</td>\n    </tr>\n    <tr>\n      <th>355</th>\n      <td>4</td>\n      <td>0.0</td>\n      <td>2507</td>\n      <td>0.805769</td>\n      <td>[5.0, 3.0, 0.0, 4.0, 7.0, 1.0, 6.0, 2.0]</td>\n      <td>False</td>\n      <td>500</td>\n      <td>0.1</td>\n      <td>16384</td>\n    </tr>\n    <tr>\n      <th>387</th>\n      <td>4</td>\n      <td>0.0</td>\n      <td>2506</td>\n      <td>0.835806</td>\n      <td>[5.0, 2.0, 6.0, 3.0, 0.0, 7.0, 1.0, 4.0]</td>\n      <td>False</td>\n      <td>500</td>\n      <td>0.5</td>\n      <td>16384</td>\n    </tr>\n  </tbody>\n</table>\n</div>",
       "datasetInfos": [],
       "metadata": {},
       "removedWidgets": [],
       "textData": null,
       "type": "htmlSandbox"
      }
     },
     "output_type": "display_data"
    }
   ],
   "source": [
    "# optimal solutions\n",
    "optimal_queen8 = df_run_stats_mimic[df_run_stats_mimic['Fitness']==df_run_stats_mimic['Fitness'].min()].drop_duplicates(subset=['State'])\n",
    "optimal_queen8"
   ]
  },
  {
   "cell_type": "code",
   "execution_count": 0,
   "metadata": {
    "application/vnd.databricks.v1+cell": {
     "inputWidgets": {},
     "nuid": "45de1e54-3187-4b73-9131-528efcbf4e1d",
     "showTitle": false,
     "title": ""
    }
   },
   "outputs": [
    {
     "data": {
      "text/html": [
       "<style scoped>\n",
       "  .ansiout {\n",
       "    display: block;\n",
       "    unicode-bidi: embed;\n",
       "    white-space: pre-wrap;\n",
       "    word-wrap: break-word;\n",
       "    word-break: break-all;\n",
       "    font-family: \"Source Code Pro\", \"Menlo\", monospace;;\n",
       "    font-size: 13px;\n",
       "    color: #555;\n",
       "    margin-left: 4px;\n",
       "    line-height: 19px;\n",
       "  }\n",
       "</style>\n",
       "<div class=\"ansiout\">Out[5]: </div>"
      ]
     },
     "metadata": {
      "application/vnd.databricks.v1+output": {
       "addedWidgets": {},
       "arguments": {},
       "data": "<div class=\"ansiout\">Out[5]: </div>",
       "datasetInfos": [],
       "metadata": {},
       "removedWidgets": [],
       "type": "html"
      }
     },
     "output_type": "display_data"
    },
    {
     "data": {
      "text/html": [
       "<div>\n",
       "<style scoped>\n",
       "    .dataframe tbody tr th:only-of-type {\n",
       "        vertical-align: middle;\n",
       "    }\n",
       "\n",
       "    .dataframe tbody tr th {\n",
       "        vertical-align: top;\n",
       "    }\n",
       "\n",
       "    .dataframe thead th {\n",
       "        text-align: right;\n",
       "    }\n",
       "</style>\n",
       "<table border=\"1\" class=\"dataframe\">\n",
       "  <thead>\n",
       "    <tr style=\"text-align: right;\">\n",
       "      <th></th>\n",
       "      <th>Iteration</th>\n",
       "      <th>Time</th>\n",
       "      <th>Fitness</th>\n",
       "      <th>FEvals</th>\n",
       "      <th>use_fast_mimic</th>\n",
       "      <th>Population Size</th>\n",
       "      <th>Keep Percent</th>\n",
       "      <th>max_iters</th>\n",
       "    </tr>\n",
       "  </thead>\n",
       "  <tbody>\n",
       "    <tr>\n",
       "      <th>9582</th>\n",
       "      <td>39</td>\n",
       "      <td>1.435068</td>\n",
       "      <td>0.0</td>\n",
       "      <td>4043.0</td>\n",
       "      <td>False</td>\n",
       "      <td>100</td>\n",
       "      <td>0.5</td>\n",
       "      <td>16384</td>\n",
       "    </tr>\n",
       "    <tr>\n",
       "      <th>10591</th>\n",
       "      <td>4</td>\n",
       "      <td>0.166637</td>\n",
       "      <td>0.0</td>\n",
       "      <td>2507.0</td>\n",
       "      <td>False</td>\n",
       "      <td>500</td>\n",
       "      <td>0.1</td>\n",
       "      <td>16384</td>\n",
       "    </tr>\n",
       "    <tr>\n",
       "      <th>10598</th>\n",
       "      <td>6</td>\n",
       "      <td>0.243026</td>\n",
       "      <td>0.0</td>\n",
       "      <td>3509.0</td>\n",
       "      <td>False</td>\n",
       "      <td>500</td>\n",
       "      <td>0.2</td>\n",
       "      <td>16384</td>\n",
       "    </tr>\n",
       "    <tr>\n",
       "      <th>10603</th>\n",
       "      <td>4</td>\n",
       "      <td>0.166637</td>\n",
       "      <td>0.0</td>\n",
       "      <td>2506.0</td>\n",
       "      <td>False</td>\n",
       "      <td>500</td>\n",
       "      <td>0.5</td>\n",
       "      <td>16384</td>\n",
       "    </tr>\n",
       "  </tbody>\n",
       "</table>\n",
       "</div>"
      ]
     },
     "metadata": {
      "application/vnd.databricks.v1+output": {
       "addedWidgets": {},
       "arguments": {},
       "data": "<div>\n<style scoped>\n    .dataframe tbody tr th:only-of-type {\n        vertical-align: middle;\n    }\n\n    .dataframe tbody tr th {\n        vertical-align: top;\n    }\n\n    .dataframe thead th {\n        text-align: right;\n    }\n</style>\n<table border=\"1\" class=\"dataframe\">\n  <thead>\n    <tr style=\"text-align: right;\">\n      <th></th>\n      <th>Iteration</th>\n      <th>Time</th>\n      <th>Fitness</th>\n      <th>FEvals</th>\n      <th>use_fast_mimic</th>\n      <th>Population Size</th>\n      <th>Keep Percent</th>\n      <th>max_iters</th>\n    </tr>\n  </thead>\n  <tbody>\n    <tr>\n      <th>9582</th>\n      <td>39</td>\n      <td>1.435068</td>\n      <td>0.0</td>\n      <td>4043.0</td>\n      <td>False</td>\n      <td>100</td>\n      <td>0.5</td>\n      <td>16384</td>\n    </tr>\n    <tr>\n      <th>10591</th>\n      <td>4</td>\n      <td>0.166637</td>\n      <td>0.0</td>\n      <td>2507.0</td>\n      <td>False</td>\n      <td>500</td>\n      <td>0.1</td>\n      <td>16384</td>\n    </tr>\n    <tr>\n      <th>10598</th>\n      <td>6</td>\n      <td>0.243026</td>\n      <td>0.0</td>\n      <td>3509.0</td>\n      <td>False</td>\n      <td>500</td>\n      <td>0.2</td>\n      <td>16384</td>\n    </tr>\n    <tr>\n      <th>10603</th>\n      <td>4</td>\n      <td>0.166637</td>\n      <td>0.0</td>\n      <td>2506.0</td>\n      <td>False</td>\n      <td>500</td>\n      <td>0.5</td>\n      <td>16384</td>\n    </tr>\n  </tbody>\n</table>\n</div>",
       "datasetInfos": [],
       "metadata": {},
       "removedWidgets": [],
       "textData": null,
       "type": "htmlSandbox"
      }
     },
     "output_type": "display_data"
    }
   ],
   "source": [
    "# Best runs\n",
    "best_fitness = df_run_curves_mimic['Fitness'].min()\n",
    "best_runs = df_run_curves_mimic[df_run_curves_mimic['Fitness'] == best_fitness]\n",
    "best_runs"
   ]
  },
  {
   "cell_type": "code",
   "execution_count": 0,
   "metadata": {
    "application/vnd.databricks.v1+cell": {
     "inputWidgets": {},
     "nuid": "e3c5ad3a-87aa-4687-be27-a9c86a3d24c7",
     "showTitle": false,
     "title": ""
    }
   },
   "outputs": [
    {
     "data": {
      "text/html": [
       "<style scoped>\n",
       "  .ansiout {\n",
       "    display: block;\n",
       "    unicode-bidi: embed;\n",
       "    white-space: pre-wrap;\n",
       "    word-wrap: break-word;\n",
       "    word-break: break-all;\n",
       "    font-family: \"Source Code Pro\", \"Menlo\", monospace;;\n",
       "    font-size: 13px;\n",
       "    color: #555;\n",
       "    margin-left: 4px;\n",
       "    line-height: 19px;\n",
       "  }\n",
       "</style>\n",
       "<div class=\"ansiout\">(5, 4)\n",
       "Out[52]: </div>"
      ]
     },
     "metadata": {
      "application/vnd.databricks.v1+output": {
       "addedWidgets": {},
       "arguments": {},
       "data": "<div class=\"ansiout\">(5, 4)\nOut[52]: </div>",
       "datasetInfos": [],
       "metadata": {},
       "removedWidgets": [],
       "type": "html"
      }
     },
     "output_type": "display_data"
    },
    {
     "data": {
      "text/html": [
       "<div>\n",
       "<style scoped>\n",
       "    .dataframe tbody tr th:only-of-type {\n",
       "        vertical-align: middle;\n",
       "    }\n",
       "\n",
       "    .dataframe tbody tr th {\n",
       "        vertical-align: top;\n",
       "    }\n",
       "\n",
       "    .dataframe thead th {\n",
       "        text-align: right;\n",
       "    }\n",
       "</style>\n",
       "<table border=\"1\" class=\"dataframe\">\n",
       "  <thead>\n",
       "    <tr style=\"text-align: right;\">\n",
       "      <th></th>\n",
       "      <th>Iteration</th>\n",
       "      <th>Time</th>\n",
       "      <th>Fitness</th>\n",
       "      <th>FEvals</th>\n",
       "    </tr>\n",
       "  </thead>\n",
       "  <tbody>\n",
       "    <tr>\n",
       "      <th>10587</th>\n",
       "      <td>0</td>\n",
       "      <td>0.003215</td>\n",
       "      <td>10.0</td>\n",
       "      <td>500.0</td>\n",
       "    </tr>\n",
       "    <tr>\n",
       "      <th>10588</th>\n",
       "      <td>1</td>\n",
       "      <td>0.052989</td>\n",
       "      <td>2.0</td>\n",
       "      <td>1002.0</td>\n",
       "    </tr>\n",
       "    <tr>\n",
       "      <th>10589</th>\n",
       "      <td>2</td>\n",
       "      <td>0.091908</td>\n",
       "      <td>1.0</td>\n",
       "      <td>1504.0</td>\n",
       "    </tr>\n",
       "    <tr>\n",
       "      <th>10590</th>\n",
       "      <td>3</td>\n",
       "      <td>0.129050</td>\n",
       "      <td>1.0</td>\n",
       "      <td>2005.0</td>\n",
       "    </tr>\n",
       "    <tr>\n",
       "      <th>10591</th>\n",
       "      <td>4</td>\n",
       "      <td>0.166637</td>\n",
       "      <td>0.0</td>\n",
       "      <td>2507.0</td>\n",
       "    </tr>\n",
       "  </tbody>\n",
       "</table>\n",
       "</div>"
      ]
     },
     "metadata": {
      "application/vnd.databricks.v1+output": {
       "addedWidgets": {},
       "arguments": {},
       "data": "<div>\n<style scoped>\n    .dataframe tbody tr th:only-of-type {\n        vertical-align: middle;\n    }\n\n    .dataframe tbody tr th {\n        vertical-align: top;\n    }\n\n    .dataframe thead th {\n        text-align: right;\n    }\n</style>\n<table border=\"1\" class=\"dataframe\">\n  <thead>\n    <tr style=\"text-align: right;\">\n      <th></th>\n      <th>Iteration</th>\n      <th>Time</th>\n      <th>Fitness</th>\n      <th>FEvals</th>\n    </tr>\n  </thead>\n  <tbody>\n    <tr>\n      <th>10587</th>\n      <td>0</td>\n      <td>0.003215</td>\n      <td>10.0</td>\n      <td>500.0</td>\n    </tr>\n    <tr>\n      <th>10588</th>\n      <td>1</td>\n      <td>0.052989</td>\n      <td>2.0</td>\n      <td>1002.0</td>\n    </tr>\n    <tr>\n      <th>10589</th>\n      <td>2</td>\n      <td>0.091908</td>\n      <td>1.0</td>\n      <td>1504.0</td>\n    </tr>\n    <tr>\n      <th>10590</th>\n      <td>3</td>\n      <td>0.129050</td>\n      <td>1.0</td>\n      <td>2005.0</td>\n    </tr>\n    <tr>\n      <th>10591</th>\n      <td>4</td>\n      <td>0.166637</td>\n      <td>0.0</td>\n      <td>2507.0</td>\n    </tr>\n  </tbody>\n</table>\n</div>",
       "datasetInfos": [],
       "metadata": {},
       "removedWidgets": [],
       "textData": null,
       "type": "htmlSandbox"
      }
     },
     "output_type": "display_data"
    }
   ],
   "source": [
    "mmc = df_run_curves_mimic[(df_run_curves_mimic['Population Size'] == 500) & ((df_run_curves_mimic['Keep Percent'] == 0.1))]\n",
    "mmc = mmc[['Iteration', 'Time', 'Fitness', 'FEvals']]\n",
    "\n",
    "print(mmc.shape)\n",
    "mmc.head()"
   ]
  },
  {
   "cell_type": "code",
   "execution_count": 0,
   "metadata": {
    "application/vnd.databricks.v1+cell": {
     "inputWidgets": {},
     "nuid": "fa8ccce2-71ac-4d07-8286-515c84b17f02",
     "showTitle": true,
     "title": "combine data into single dataframe"
    }
   },
   "outputs": [
    {
     "data": {
      "text/html": [
       "<style scoped>\n",
       "  .ansiout {\n",
       "    display: block;\n",
       "    unicode-bidi: embed;\n",
       "    white-space: pre-wrap;\n",
       "    word-wrap: break-word;\n",
       "    word-break: break-all;\n",
       "    font-family: \"Source Code Pro\", \"Menlo\", monospace;;\n",
       "    font-size: 13px;\n",
       "    color: #555;\n",
       "    margin-left: 4px;\n",
       "    line-height: 19px;\n",
       "  }\n",
       "</style>\n",
       "<div class=\"ansiout\">(147, 13)\n",
       "Out[57]: </div>"
      ]
     },
     "metadata": {
      "application/vnd.databricks.v1+output": {
       "addedWidgets": {},
       "arguments": {},
       "data": "<div class=\"ansiout\">(147, 13)\nOut[57]: </div>",
       "datasetInfos": [],
       "metadata": {},
       "removedWidgets": [],
       "type": "html"
      }
     },
     "output_type": "display_data"
    },
    {
     "data": {
      "text/html": [
       "<div>\n",
       "<style scoped>\n",
       "    .dataframe tbody tr th:only-of-type {\n",
       "        vertical-align: middle;\n",
       "    }\n",
       "\n",
       "    .dataframe tbody tr th {\n",
       "        vertical-align: top;\n",
       "    }\n",
       "\n",
       "    .dataframe thead th {\n",
       "        text-align: right;\n",
       "    }\n",
       "</style>\n",
       "<table border=\"1\" class=\"dataframe\">\n",
       "  <thead>\n",
       "    <tr style=\"text-align: right;\">\n",
       "      <th></th>\n",
       "      <th>Iteration</th>\n",
       "      <th>TimeSA</th>\n",
       "      <th>FitnessSA</th>\n",
       "      <th>FEvalsSA</th>\n",
       "      <th>TimeRHC</th>\n",
       "      <th>FitnessRHC</th>\n",
       "      <th>FEvalsRHC</th>\n",
       "      <th>TimeGA</th>\n",
       "      <th>FitnessGA</th>\n",
       "      <th>FEvalsGA</th>\n",
       "      <th>TimeMIMIC</th>\n",
       "      <th>FitnessMIMIC</th>\n",
       "      <th>FEvalsMIMIC</th>\n",
       "    </tr>\n",
       "  </thead>\n",
       "  <tbody>\n",
       "    <tr>\n",
       "      <th>0</th>\n",
       "      <td>0</td>\n",
       "      <td>0.000818</td>\n",
       "      <td>10.0</td>\n",
       "      <td>0.0</td>\n",
       "      <td>NaN</td>\n",
       "      <td>NaN</td>\n",
       "      <td>NaN</td>\n",
       "      <td>0.003229</td>\n",
       "      <td>10.0</td>\n",
       "      <td>100.0</td>\n",
       "      <td>0.003215</td>\n",
       "      <td>10.0</td>\n",
       "      <td>500.0</td>\n",
       "    </tr>\n",
       "    <tr>\n",
       "      <th>1</th>\n",
       "      <td>1</td>\n",
       "      <td>0.004506</td>\n",
       "      <td>8.0</td>\n",
       "      <td>2.0</td>\n",
       "      <td>0.004069</td>\n",
       "      <td>9.0</td>\n",
       "      <td>2087.0</td>\n",
       "      <td>0.009334</td>\n",
       "      <td>3.0</td>\n",
       "      <td>202.0</td>\n",
       "      <td>0.052989</td>\n",
       "      <td>2.0</td>\n",
       "      <td>1002.0</td>\n",
       "    </tr>\n",
       "    <tr>\n",
       "      <th>2</th>\n",
       "      <td>2</td>\n",
       "      <td>0.007644</td>\n",
       "      <td>5.0</td>\n",
       "      <td>4.0</td>\n",
       "      <td>0.007036</td>\n",
       "      <td>9.0</td>\n",
       "      <td>2088.0</td>\n",
       "      <td>0.014871</td>\n",
       "      <td>3.0</td>\n",
       "      <td>303.0</td>\n",
       "      <td>0.091908</td>\n",
       "      <td>1.0</td>\n",
       "      <td>1504.0</td>\n",
       "    </tr>\n",
       "    <tr>\n",
       "      <th>3</th>\n",
       "      <td>3</td>\n",
       "      <td>0.010764</td>\n",
       "      <td>5.0</td>\n",
       "      <td>6.0</td>\n",
       "      <td>0.009604</td>\n",
       "      <td>4.0</td>\n",
       "      <td>2090.0</td>\n",
       "      <td>0.020380</td>\n",
       "      <td>3.0</td>\n",
       "      <td>404.0</td>\n",
       "      <td>0.129050</td>\n",
       "      <td>1.0</td>\n",
       "      <td>2005.0</td>\n",
       "    </tr>\n",
       "    <tr>\n",
       "      <th>4</th>\n",
       "      <td>4</td>\n",
       "      <td>0.011315</td>\n",
       "      <td>5.0</td>\n",
       "      <td>8.0</td>\n",
       "      <td>0.009902</td>\n",
       "      <td>4.0</td>\n",
       "      <td>2091.0</td>\n",
       "      <td>0.023597</td>\n",
       "      <td>3.0</td>\n",
       "      <td>505.0</td>\n",
       "      <td>0.166637</td>\n",
       "      <td>0.0</td>\n",
       "      <td>2507.0</td>\n",
       "    </tr>\n",
       "  </tbody>\n",
       "</table>\n",
       "</div>"
      ]
     },
     "metadata": {
      "application/vnd.databricks.v1+output": {
       "addedWidgets": {},
       "arguments": {},
       "data": "<div>\n<style scoped>\n    .dataframe tbody tr th:only-of-type {\n        vertical-align: middle;\n    }\n\n    .dataframe tbody tr th {\n        vertical-align: top;\n    }\n\n    .dataframe thead th {\n        text-align: right;\n    }\n</style>\n<table border=\"1\" class=\"dataframe\">\n  <thead>\n    <tr style=\"text-align: right;\">\n      <th></th>\n      <th>Iteration</th>\n      <th>TimeSA</th>\n      <th>FitnessSA</th>\n      <th>FEvalsSA</th>\n      <th>TimeRHC</th>\n      <th>FitnessRHC</th>\n      <th>FEvalsRHC</th>\n      <th>TimeGA</th>\n      <th>FitnessGA</th>\n      <th>FEvalsGA</th>\n      <th>TimeMIMIC</th>\n      <th>FitnessMIMIC</th>\n      <th>FEvalsMIMIC</th>\n    </tr>\n  </thead>\n  <tbody>\n    <tr>\n      <th>0</th>\n      <td>0</td>\n      <td>0.000818</td>\n      <td>10.0</td>\n      <td>0.0</td>\n      <td>NaN</td>\n      <td>NaN</td>\n      <td>NaN</td>\n      <td>0.003229</td>\n      <td>10.0</td>\n      <td>100.0</td>\n      <td>0.003215</td>\n      <td>10.0</td>\n      <td>500.0</td>\n    </tr>\n    <tr>\n      <th>1</th>\n      <td>1</td>\n      <td>0.004506</td>\n      <td>8.0</td>\n      <td>2.0</td>\n      <td>0.004069</td>\n      <td>9.0</td>\n      <td>2087.0</td>\n      <td>0.009334</td>\n      <td>3.0</td>\n      <td>202.0</td>\n      <td>0.052989</td>\n      <td>2.0</td>\n      <td>1002.0</td>\n    </tr>\n    <tr>\n      <th>2</th>\n      <td>2</td>\n      <td>0.007644</td>\n      <td>5.0</td>\n      <td>4.0</td>\n      <td>0.007036</td>\n      <td>9.0</td>\n      <td>2088.0</td>\n      <td>0.014871</td>\n      <td>3.0</td>\n      <td>303.0</td>\n      <td>0.091908</td>\n      <td>1.0</td>\n      <td>1504.0</td>\n    </tr>\n    <tr>\n      <th>3</th>\n      <td>3</td>\n      <td>0.010764</td>\n      <td>5.0</td>\n      <td>6.0</td>\n      <td>0.009604</td>\n      <td>4.0</td>\n      <td>2090.0</td>\n      <td>0.020380</td>\n      <td>3.0</td>\n      <td>404.0</td>\n      <td>0.129050</td>\n      <td>1.0</td>\n      <td>2005.0</td>\n    </tr>\n    <tr>\n      <th>4</th>\n      <td>4</td>\n      <td>0.011315</td>\n      <td>5.0</td>\n      <td>8.0</td>\n      <td>0.009902</td>\n      <td>4.0</td>\n      <td>2091.0</td>\n      <td>0.023597</td>\n      <td>3.0</td>\n      <td>505.0</td>\n      <td>0.166637</td>\n      <td>0.0</td>\n      <td>2507.0</td>\n    </tr>\n  </tbody>\n</table>\n</div>",
       "datasetInfos": [],
       "metadata": {},
       "removedWidgets": [],
       "textData": null,
       "type": "htmlSandbox"
      }
     },
     "output_type": "display_data"
    }
   ],
   "source": [
    "# combine dataframes\n",
    "comb_df = sac.merge(rhc, how='left', on='Iteration')\n",
    "comb_df = comb_df.merge(gac, how='left', on='Iteration')\n",
    "comb_df = comb_df.merge(mmc, how='left', on='Iteration')\n",
    "comb_df.columns = ['Iteration', 'TimeSA', 'FitnessSA', 'FEvalsSA', 'TimeRHC', 'FitnessRHC', 'FEvalsRHC', 'TimeGA', 'FitnessGA', 'FEvalsGA', 'TimeMIMIC', 'FitnessMIMIC', 'FEvalsMIMIC']\n",
    "\n",
    "print(comb_df.shape)\n",
    "comb_df.head()"
   ]
  },
  {
   "cell_type": "code",
   "execution_count": 0,
   "metadata": {
    "application/vnd.databricks.v1+cell": {
     "inputWidgets": {},
     "nuid": "bab6637d-3d9f-4c3b-9ed7-f50d0c453e6d",
     "showTitle": false,
     "title": ""
    }
   },
   "outputs": [
    {
     "data": {
      "text/html": [
       "<style scoped>\n",
       "  .ansiout {\n",
       "    display: block;\n",
       "    unicode-bidi: embed;\n",
       "    white-space: pre-wrap;\n",
       "    word-wrap: break-word;\n",
       "    word-break: break-all;\n",
       "    font-family: \"Source Code Pro\", \"Menlo\", monospace;;\n",
       "    font-size: 13px;\n",
       "    color: #555;\n",
       "    margin-left: 4px;\n",
       "    line-height: 19px;\n",
       "  }\n",
       "</style>\n",
       "<div class=\"ansiout\">Out[65]: </div>"
      ]
     },
     "metadata": {
      "application/vnd.databricks.v1+output": {
       "addedWidgets": {},
       "arguments": {},
       "data": "<div class=\"ansiout\">Out[65]: </div>",
       "datasetInfos": [],
       "metadata": {},
       "removedWidgets": [],
       "type": "html"
      }
     },
     "output_type": "display_data"
    },
    {
     "data": {
      "text/html": [
       "<div>\n",
       "<style scoped>\n",
       "    .dataframe tbody tr th:only-of-type {\n",
       "        vertical-align: middle;\n",
       "    }\n",
       "\n",
       "    .dataframe tbody tr th {\n",
       "        vertical-align: top;\n",
       "    }\n",
       "\n",
       "    .dataframe thead th {\n",
       "        text-align: right;\n",
       "    }\n",
       "</style>\n",
       "<table border=\"1\" class=\"dataframe\">\n",
       "  <thead>\n",
       "    <tr style=\"text-align: right;\">\n",
       "      <th></th>\n",
       "      <th>Iteration</th>\n",
       "      <th>FitnessSA</th>\n",
       "      <th>FitnessRHC</th>\n",
       "      <th>FitnessGA</th>\n",
       "      <th>FitnessMIMIC</th>\n",
       "    </tr>\n",
       "  </thead>\n",
       "  <tbody>\n",
       "    <tr>\n",
       "      <th>0</th>\n",
       "      <td>0</td>\n",
       "      <td>10.0</td>\n",
       "      <td>10.0</td>\n",
       "      <td>10.0</td>\n",
       "      <td>10.0</td>\n",
       "    </tr>\n",
       "    <tr>\n",
       "      <th>1</th>\n",
       "      <td>1</td>\n",
       "      <td>8.0</td>\n",
       "      <td>9.0</td>\n",
       "      <td>3.0</td>\n",
       "      <td>2.0</td>\n",
       "    </tr>\n",
       "    <tr>\n",
       "      <th>2</th>\n",
       "      <td>2</td>\n",
       "      <td>5.0</td>\n",
       "      <td>9.0</td>\n",
       "      <td>3.0</td>\n",
       "      <td>1.0</td>\n",
       "    </tr>\n",
       "    <tr>\n",
       "      <th>3</th>\n",
       "      <td>3</td>\n",
       "      <td>5.0</td>\n",
       "      <td>4.0</td>\n",
       "      <td>3.0</td>\n",
       "      <td>1.0</td>\n",
       "    </tr>\n",
       "    <tr>\n",
       "      <th>4</th>\n",
       "      <td>4</td>\n",
       "      <td>5.0</td>\n",
       "      <td>4.0</td>\n",
       "      <td>3.0</td>\n",
       "      <td>0.0</td>\n",
       "    </tr>\n",
       "  </tbody>\n",
       "</table>\n",
       "</div>"
      ]
     },
     "metadata": {
      "application/vnd.databricks.v1+output": {
       "addedWidgets": {},
       "arguments": {},
       "data": "<div>\n<style scoped>\n    .dataframe tbody tr th:only-of-type {\n        vertical-align: middle;\n    }\n\n    .dataframe tbody tr th {\n        vertical-align: top;\n    }\n\n    .dataframe thead th {\n        text-align: right;\n    }\n</style>\n<table border=\"1\" class=\"dataframe\">\n  <thead>\n    <tr style=\"text-align: right;\">\n      <th></th>\n      <th>Iteration</th>\n      <th>FitnessSA</th>\n      <th>FitnessRHC</th>\n      <th>FitnessGA</th>\n      <th>FitnessMIMIC</th>\n    </tr>\n  </thead>\n  <tbody>\n    <tr>\n      <th>0</th>\n      <td>0</td>\n      <td>10.0</td>\n      <td>10.0</td>\n      <td>10.0</td>\n      <td>10.0</td>\n    </tr>\n    <tr>\n      <th>1</th>\n      <td>1</td>\n      <td>8.0</td>\n      <td>9.0</td>\n      <td>3.0</td>\n      <td>2.0</td>\n    </tr>\n    <tr>\n      <th>2</th>\n      <td>2</td>\n      <td>5.0</td>\n      <td>9.0</td>\n      <td>3.0</td>\n      <td>1.0</td>\n    </tr>\n    <tr>\n      <th>3</th>\n      <td>3</td>\n      <td>5.0</td>\n      <td>4.0</td>\n      <td>3.0</td>\n      <td>1.0</td>\n    </tr>\n    <tr>\n      <th>4</th>\n      <td>4</td>\n      <td>5.0</td>\n      <td>4.0</td>\n      <td>3.0</td>\n      <td>0.0</td>\n    </tr>\n  </tbody>\n</table>\n</div>",
       "datasetInfos": [],
       "metadata": {},
       "removedWidgets": [],
       "textData": null,
       "type": "htmlSandbox"
      }
     },
     "output_type": "display_data"
    }
   ],
   "source": [
    "fitness_df = comb_df[['Iteration', 'FitnessSA', 'FitnessRHC', 'FitnessGA', 'FitnessMIMIC']]\n",
    "fitness_df.loc[0, ['FitnessSA', 'FitnessRHC', 'FitnessGA', 'FitnessMIMIC']] = 10\n",
    "fitness_df[['FitnessSA', 'FitnessRHC', 'FitnessGA', 'FitnessMIMIC']] = fitness_df[['FitnessSA', 'FitnessRHC', 'FitnessGA', 'FitnessMIMIC']].fillna(0)\n",
    "\n",
    "fitness_df.head()"
   ]
  },
  {
   "cell_type": "code",
   "execution_count": 0,
   "metadata": {
    "application/vnd.databricks.v1+cell": {
     "inputWidgets": {},
     "nuid": "cf6f5d26-9abe-40bd-8179-ea6b0a53a0be",
     "showTitle": false,
     "title": ""
    }
   },
   "outputs": [
    {
     "data": {
      "image/png": "[encoded data removed]"
     },
     "metadata": {
      "application/vnd.databricks.v1+output": {
       "addedWidgets": {},
       "arguments": {},
       "data": "data:image/png;base64,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",
       "datasetInfos": [],
       "metadata": {
        "imageDimensions": {
         "height": 352,
         "width": 424
        }
       },
       "removedWidgets": [],
       "type": "image"
      },
      "image/png": {
       "height": 352,
       "width": 424
      }
     },
     "output_type": "display_data"
    }
   ],
   "source": [
    "fig = plt.figure(figsize=(6, 5))\n",
    "plt.style.use('ggplot')\n",
    "\n",
    "# Train curve\n",
    "plt.title(\"8-Queens: Iterations to Convergence\", size = 16 )\n",
    "plt.xlabel(r\"Iterations\", size = 16)\n",
    "plt.ylabel(\"Algorithm Fitness Score\", size = 16)\n",
    "# plt.ylim(0.65, 1.02)\n",
    "plt.xticks(size = 12)\n",
    "plt.yticks(size = 12)\n",
    "plt.plot(fitness_df['Iteration'], fitness_df['FitnessRHC'], label=\"RHC\", lw=3)\n",
    "plt.plot(fitness_df['Iteration'], fitness_df['FitnessSA'], label=\"SA\", lw=3)\n",
    "plt.plot(fitness_df['Iteration'], fitness_df['FitnessGA'], label=\"GA\", lw=3)\n",
    "plt.plot(fitness_df['Iteration'], fitness_df['FitnessMIMIC'], label=\"MIMIC\", lw=3)\n",
    "\n",
    "plt.legend(loc='best', fontsize=12)\n",
    "plt.tight_layout()"
   ]
  },
  {
   "cell_type": "code",
   "execution_count": 0,
   "metadata": {
    "application/vnd.databricks.v1+cell": {
     "inputWidgets": {},
     "nuid": "b37116eb-7e12-44f0-8e03-053b83ede93d",
     "showTitle": false,
     "title": ""
    }
   },
   "outputs": [
    {
     "data": {
      "text/html": [
       "<style scoped>\n",
       "  .ansiout {\n",
       "    display: block;\n",
       "    unicode-bidi: embed;\n",
       "    white-space: pre-wrap;\n",
       "    word-wrap: break-word;\n",
       "    word-break: break-all;\n",
       "    font-family: \"Source Code Pro\", \"Menlo\", monospace;;\n",
       "    font-size: 13px;\n",
       "    color: #555;\n",
       "    margin-left: 4px;\n",
       "    line-height: 19px;\n",
       "  }\n",
       "</style>\n",
       "<div class=\"ansiout\">Out[85]: </div>"
      ]
     },
     "metadata": {
      "application/vnd.databricks.v1+output": {
       "addedWidgets": {},
       "arguments": {},
       "data": "<div class=\"ansiout\">Out[85]: </div>",
       "datasetInfos": [],
       "metadata": {},
       "removedWidgets": [],
       "type": "html"
      }
     },
     "output_type": "display_data"
    },
    {
     "data": {
      "image/png": "[encoded data removed]"
     },
     "metadata": {
      "application/vnd.databricks.v1+output": {
       "addedWidgets": {},
       "arguments": {},
       "data": "data:image/png;base64,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",
       "datasetInfos": [],
       "metadata": {
        "imageDimensions": {
         "height": 340,
         "width": 397
        }
       },
       "removedWidgets": [],
       "type": "image"
      },
      "image/png": {
       "height": 340,
       "width": 397
      }
     },
     "output_type": "display_data"
    },
    {
     "data": {
      "text/html": [
       "<style scoped>\n",
       "  .ansiout {\n",
       "    display: block;\n",
       "    unicode-bidi: embed;\n",
       "    white-space: pre-wrap;\n",
       "    word-wrap: break-word;\n",
       "    word-break: break-all;\n",
       "    font-family: \"Source Code Pro\", \"Menlo\", monospace;;\n",
       "    font-size: 13px;\n",
       "    color: #555;\n",
       "    margin-left: 4px;\n",
       "    line-height: 19px;\n",
       "  }\n",
       "</style>\n",
       "<div class=\"ansiout\">&lt;AxesSubplot:title={&#39;center&#39;:&#39;8-Queens: Time to Convergence&#39;}, xlabel=&#39;Algorithm&#39;, ylabel=&#39;Time2Converge&#39;&gt;</div>"
      ]
     },
     "metadata": {
      "application/vnd.databricks.v1+output": {
       "addedWidgets": {},
       "arguments": {},
       "data": "<div class=\"ansiout\">&lt;AxesSubplot:title={&#39;center&#39;:&#39;8-Queens: Time to Convergence&#39;}, xlabel=&#39;Algorithm&#39;, ylabel=&#39;Time2Converge&#39;&gt;</div>",
       "datasetInfos": [],
       "metadata": {},
       "removedWidgets": [],
       "type": "html"
      }
     },
     "output_type": "display_data"
    }
   ],
   "source": [
    "time_df = comb_df[['TimeSA', 'TimeRHC', 'TimeGA', 'TimeMIMIC']]\n",
    "tmax = pd.DataFrame(time_df.max().sort_values()).reset_index()\n",
    "tmax.columns = ['Algorithm', 'Time2Converge']\n",
    "tmax\n",
    "\n",
    "fig = plt.figure(figsize=(6, 5))\n",
    "plt.title(\"8-Queens: Time to Convergence\", size = 16 )\n",
    "plt.xlabel(r\"Algorithm\", size = 16)\n",
    "plt.ylabel(\"Time to Converge\", size = 16)\n",
    "sns.barplot(tmax['Algorithm'], tmax['Time2Converge'])\n",
    "\n",
    "\n",
    "# # Train curve\n",
    "\n",
    "# # plt.ylim(0.65, 1.02)\n",
    "# plt.xticks(size = 12)\n",
    "# plt.yticks(size = 12)\n",
    "# plt.plot(time_df['Iteration'], time_df['TimeRHC'], label=\"RHC\", lw=3)\n",
    "# plt.plot(time_df['Iteration'], time_df['TimeSA'], label=\"SA\", lw=3)\n",
    "# plt.plot(time_df['Iteration'], time_df['TimeGA'], label=\"GA\", lw=3)\n",
    "# plt.plot(time_df['Iteration'], time_df['TimeMIMIC'], label=\"MIMIC\", lw=3)\n",
    "\n",
    "# plt.legend(loc='best', fontsize=12)\n",
    "# plt.tight_layout()"
   ]
  },
  {
   "cell_type": "markdown",
   "metadata": {
    "application/vnd.databricks.v1+cell": {
     "inputWidgets": {},
     "nuid": "767c2b06-7bed-41a7-b637-c27330b27709",
     "showTitle": false,
     "title": ""
    }
   },
   "source": [
    "# Knapsack Problem"
   ]
  },
  {
   "cell_type": "code",
   "execution_count": 0,
   "metadata": {
    "application/vnd.databricks.v1+cell": {
     "inputWidgets": {},
     "nuid": "b56110cb-9622-4e49-837c-d5d835a6552c",
     "showTitle": false,
     "title": ""
    }
   },
   "outputs": [
    {
     "data": {
      "text/html": [
       "<style scoped>\n",
       "  .ansiout {\n",
       "    display: block;\n",
       "    unicode-bidi: embed;\n",
       "    white-space: pre-wrap;\n",
       "    word-wrap: break-word;\n",
       "    word-break: break-all;\n",
       "    font-family: \"Source Code Pro\", \"Menlo\", monospace;;\n",
       "    font-size: 13px;\n",
       "    color: #555;\n",
       "    margin-left: 4px;\n",
       "    line-height: 19px;\n",
       "  }\n",
       "</style>\n",
       "<div class=\"ansiout\"></div>"
      ]
     },
     "metadata": {
      "application/vnd.databricks.v1+output": {
       "addedWidgets": {},
       "arguments": {},
       "data": "<div class=\"ansiout\"></div>",
       "datasetInfos": [],
       "metadata": {},
       "removedWidgets": [],
       "type": "html"
      }
     },
     "output_type": "display_data"
    }
   ],
   "source": [
    "\n",
    "weights=[7, 0.5, 30, 22, 80, 94, 11, 81, 70, 64,\n",
    "         59, 18, 0.5, 36, 3, 8, 15, 42, 9, 0.5,\n",
    "         42, 47, 52, 32, 26, 48, 55, 6, 29, 84, 2,\n",
    "         4, 18, 56, 7, 29, 93, 44, 71, 3, 86, 66,\n",
    "         31, 65, 0.5, 79, 20, 65, 52, 13] # (lbs)\n",
    "\n",
    "values=[360, 83, 59, 130, 431, 67, 230, 52, 93, 125,\n",
    "        670, 892, 600, 38, 48, 147, 78, 256, 63, 17,\n",
    "        120, 164, 432, 35, 92, 110, 22, 42, 50, 323,\n",
    "        514, 28, 87, 73, 78, 15, 26, 78, 210, 36, 85,\n",
    "        189, 274, 43, 33, 10, 19, 389, 276, 312] #($)\n",
    "\n",
    "# max weight as a percent\n",
    "max_weight = 0.45 # about 843 lbs\n",
    "\n",
    "# Define fitness\n",
    "fitness = mlrose_hiive.Knapsack(weights=weights,\n",
    "                               values=values,\n",
    "                               max_weight_pct=max_weight)\n",
    "# Define problem\n",
    "problem = mlrose_hiive.DiscreteOpt(length=50, fitness_fn=fitness, maximize=True, max_val=2)"
   ]
  },
  {
   "cell_type": "code",
   "execution_count": 0,
   "metadata": {
    "application/vnd.databricks.v1+cell": {
     "inputWidgets": {},
     "nuid": "98a27133-073e-4c99-811b-7b8ad8d96396",
     "showTitle": true,
     "title": "RHC"
    }
   },
   "outputs": [
    {
     "data": {
      "text/html": [
       "<style scoped>\n",
       "  .ansiout {\n",
       "    display: block;\n",
       "    unicode-bidi: embed;\n",
       "    white-space: pre-wrap;\n",
       "    word-wrap: break-word;\n",
       "    word-break: break-all;\n",
       "    font-family: \"Source Code Pro\", \"Menlo\", monospace;;\n",
       "    font-size: 13px;\n",
       "    color: #555;\n",
       "    margin-left: 4px;\n",
       "    line-height: 19px;\n",
       "  }\n",
       "</style>\n",
       "<div class=\"ansiout\"></div>"
      ]
     },
     "metadata": {
      "application/vnd.databricks.v1+output": {
       "addedWidgets": {},
       "arguments": {},
       "data": "<div class=\"ansiout\"></div>",
       "datasetInfos": [],
       "metadata": {},
       "removedWidgets": [],
       "type": "html"
      }
     },
     "output_type": "display_data"
    }
   ],
   "source": [
    "rhc = RHCRunner(problem = problem,\n",
    "                experiment_name = None,\n",
    "                output_directory=None,\n",
    "                seed = 42,\n",
    "                iteration_list = 2**np.arange(15),\n",
    "                restart_list = [20],\n",
    "                max_attempts=1000,\n",
    "                generate_curves=True\n",
    "               )\n",
    "\n",
    "# the two data frames will contain the results\n",
    "df_run_stats_rhc, df_run_curves_rhc = rhc.run()"
   ]
  },
  {
   "cell_type": "code",
   "execution_count": 0,
   "metadata": {
    "application/vnd.databricks.v1+cell": {
     "inputWidgets": {},
     "nuid": "b165678e-1b71-4e76-849f-c8e279498be9",
     "showTitle": false,
     "title": ""
    }
   },
   "outputs": [
    {
     "data": {
      "text/html": [
       "<style scoped>\n",
       "  .ansiout {\n",
       "    display: block;\n",
       "    unicode-bidi: embed;\n",
       "    white-space: pre-wrap;\n",
       "    word-wrap: break-word;\n",
       "    word-break: break-all;\n",
       "    font-family: \"Source Code Pro\", \"Menlo\", monospace;;\n",
       "    font-size: 13px;\n",
       "    color: #555;\n",
       "    margin-left: 4px;\n",
       "    line-height: 19px;\n",
       "  }\n",
       "</style>\n",
       "<div class=\"ansiout\">Out[4]: </div>"
      ]
     },
     "metadata": {
      "application/vnd.databricks.v1+output": {
       "addedWidgets": {},
       "arguments": {},
       "data": "<div class=\"ansiout\">Out[4]: </div>",
       "datasetInfos": [],
       "metadata": {},
       "removedWidgets": [],
       "type": "html"
      }
     },
     "output_type": "display_data"
    },
    {
     "data": {
      "text/html": [
       "<div>\n",
       "<style scoped>\n",
       "    .dataframe tbody tr th:only-of-type {\n",
       "        vertical-align: middle;\n",
       "    }\n",
       "\n",
       "    .dataframe tbody tr th {\n",
       "        vertical-align: top;\n",
       "    }\n",
       "\n",
       "    .dataframe thead th {\n",
       "        text-align: right;\n",
       "    }\n",
       "</style>\n",
       "<table border=\"1\" class=\"dataframe\">\n",
       "  <thead>\n",
       "    <tr style=\"text-align: right;\">\n",
       "      <th></th>\n",
       "      <th>Iteration</th>\n",
       "      <th>Fitness</th>\n",
       "      <th>FEvals</th>\n",
       "      <th>Time</th>\n",
       "      <th>State</th>\n",
       "      <th>Restarts</th>\n",
       "      <th>max_iters</th>\n",
       "      <th>current_restart</th>\n",
       "    </tr>\n",
       "  </thead>\n",
       "  <tbody>\n",
       "    <tr>\n",
       "      <th>0</th>\n",
       "      <td>0</td>\n",
       "      <td>0.0</td>\n",
       "      <td>0</td>\n",
       "      <td>0.000212</td>\n",
       "      <td>[0, 1, 0, 0, 0, 1, 0, 0, 0, 1, 0, 0, 0, 0, 1, ...</td>\n",
       "      <td>20</td>\n",
       "      <td>16384</td>\n",
       "      <td>0</td>\n",
       "    </tr>\n",
       "    <tr>\n",
       "      <th>1</th>\n",
       "      <td>1</td>\n",
       "      <td>0.0</td>\n",
       "      <td>1</td>\n",
       "      <td>0.004541</td>\n",
       "      <td>[0, 1, 0, 0, 0, 1, 0, 0, 0, 1, 0, 0, 0, 0, 1, ...</td>\n",
       "      <td>20</td>\n",
       "      <td>16384</td>\n",
       "      <td>0</td>\n",
       "    </tr>\n",
       "    <tr>\n",
       "      <th>2</th>\n",
       "      <td>2</td>\n",
       "      <td>0.0</td>\n",
       "      <td>2</td>\n",
       "      <td>0.007004</td>\n",
       "      <td>[0, 1, 0, 0, 0, 1, 0, 0, 0, 1, 0, 0, 0, 0, 1, ...</td>\n",
       "      <td>20</td>\n",
       "      <td>16384</td>\n",
       "      <td>0</td>\n",
       "    </tr>\n",
       "    <tr>\n",
       "      <th>3</th>\n",
       "      <td>4</td>\n",
       "      <td>0.0</td>\n",
       "      <td>4</td>\n",
       "      <td>0.009548</td>\n",
       "      <td>[0, 1, 0, 0, 0, 1, 0, 0, 0, 1, 0, 0, 0, 0, 1, ...</td>\n",
       "      <td>20</td>\n",
       "      <td>16384</td>\n",
       "      <td>0</td>\n",
       "    </tr>\n",
       "    <tr>\n",
       "      <th>4</th>\n",
       "      <td>8</td>\n",
       "      <td>0.0</td>\n",
       "      <td>8</td>\n",
       "      <td>0.012188</td>\n",
       "      <td>[0, 1, 0, 0, 0, 1, 0, 0, 0, 1, 0, 0, 0, 0, 1, ...</td>\n",
       "      <td>20</td>\n",
       "      <td>16384</td>\n",
       "      <td>0</td>\n",
       "    </tr>\n",
       "  </tbody>\n",
       "</table>\n",
       "</div>"
      ]
     },
     "metadata": {
      "application/vnd.databricks.v1+output": {
       "addedWidgets": {},
       "arguments": {},
       "data": "<div>\n<style scoped>\n    .dataframe tbody tr th:only-of-type {\n        vertical-align: middle;\n    }\n\n    .dataframe tbody tr th {\n        vertical-align: top;\n    }\n\n    .dataframe thead th {\n        text-align: right;\n    }\n</style>\n<table border=\"1\" class=\"dataframe\">\n  <thead>\n    <tr style=\"text-align: right;\">\n      <th></th>\n      <th>Iteration</th>\n      <th>Fitness</th>\n      <th>FEvals</th>\n      <th>Time</th>\n      <th>State</th>\n      <th>Restarts</th>\n      <th>max_iters</th>\n      <th>current_restart</th>\n    </tr>\n  </thead>\n  <tbody>\n    <tr>\n      <th>0</th>\n      <td>0</td>\n      <td>0.0</td>\n      <td>0</td>\n      <td>0.000212</td>\n      <td>[0, 1, 0, 0, 0, 1, 0, 0, 0, 1, 0, 0, 0, 0, 1, ...</td>\n      <td>20</td>\n      <td>16384</td>\n      <td>0</td>\n    </tr>\n    <tr>\n      <th>1</th>\n      <td>1</td>\n      <td>0.0</td>\n      <td>1</td>\n      <td>0.004541</td>\n      <td>[0, 1, 0, 0, 0, 1, 0, 0, 0, 1, 0, 0, 0, 0, 1, ...</td>\n      <td>20</td>\n      <td>16384</td>\n      <td>0</td>\n    </tr>\n    <tr>\n      <th>2</th>\n      <td>2</td>\n      <td>0.0</td>\n      <td>2</td>\n      <td>0.007004</td>\n      <td>[0, 1, 0, 0, 0, 1, 0, 0, 0, 1, 0, 0, 0, 0, 1, ...</td>\n      <td>20</td>\n      <td>16384</td>\n      <td>0</td>\n    </tr>\n    <tr>\n      <th>3</th>\n      <td>4</td>\n      <td>0.0</td>\n      <td>4</td>\n      <td>0.009548</td>\n      <td>[0, 1, 0, 0, 0, 1, 0, 0, 0, 1, 0, 0, 0, 0, 1, ...</td>\n      <td>20</td>\n      <td>16384</td>\n      <td>0</td>\n    </tr>\n    <tr>\n      <th>4</th>\n      <td>8</td>\n      <td>0.0</td>\n      <td>8</td>\n      <td>0.012188</td>\n      <td>[0, 1, 0, 0, 0, 1, 0, 0, 0, 1, 0, 0, 0, 0, 1, ...</td>\n      <td>20</td>\n      <td>16384</td>\n      <td>0</td>\n    </tr>\n  </tbody>\n</table>\n</div>",
       "datasetInfos": [],
       "metadata": {},
       "removedWidgets": [],
       "textData": null,
       "type": "htmlSandbox"
      }
     },
     "output_type": "display_data"
    }
   ],
   "source": [
    "df_run_stats_rhc.head()"
   ]
  },
  {
   "cell_type": "code",
   "execution_count": 0,
   "metadata": {
    "application/vnd.databricks.v1+cell": {
     "inputWidgets": {},
     "nuid": "4bfbf659-5123-4522-9a9d-d6d5ff4007a1",
     "showTitle": false,
     "title": ""
    }
   },
   "outputs": [
    {
     "data": {
      "text/html": [
       "<style scoped>\n",
       "  .ansiout {\n",
       "    display: block;\n",
       "    unicode-bidi: embed;\n",
       "    white-space: pre-wrap;\n",
       "    word-wrap: break-word;\n",
       "    word-break: break-all;\n",
       "    font-family: \"Source Code Pro\", \"Menlo\", monospace;;\n",
       "    font-size: 13px;\n",
       "    color: #555;\n",
       "    margin-left: 4px;\n",
       "    line-height: 19px;\n",
       "  }\n",
       "</style>\n",
       "<div class=\"ansiout\">Out[5]: </div>"
      ]
     },
     "metadata": {
      "application/vnd.databricks.v1+output": {
       "addedWidgets": {},
       "arguments": {},
       "data": "<div class=\"ansiout\">Out[5]: </div>",
       "datasetInfos": [],
       "metadata": {},
       "removedWidgets": [],
       "type": "html"
      }
     },
     "output_type": "display_data"
    },
    {
     "data": {
      "text/html": [
       "<div>\n",
       "<style scoped>\n",
       "    .dataframe tbody tr th:only-of-type {\n",
       "        vertical-align: middle;\n",
       "    }\n",
       "\n",
       "    .dataframe tbody tr th {\n",
       "        vertical-align: top;\n",
       "    }\n",
       "\n",
       "    .dataframe thead th {\n",
       "        text-align: right;\n",
       "    }\n",
       "</style>\n",
       "<table border=\"1\" class=\"dataframe\">\n",
       "  <thead>\n",
       "    <tr style=\"text-align: right;\">\n",
       "      <th></th>\n",
       "      <th>Iteration</th>\n",
       "      <th>Fitness</th>\n",
       "      <th>FEvals</th>\n",
       "      <th>Time</th>\n",
       "      <th>State</th>\n",
       "      <th>Restarts</th>\n",
       "      <th>max_iters</th>\n",
       "      <th>current_restart</th>\n",
       "    </tr>\n",
       "  </thead>\n",
       "  <tbody>\n",
       "    <tr>\n",
       "      <th>331</th>\n",
       "      <td>1024</td>\n",
       "      <td>0.0</td>\n",
       "      <td>21611</td>\n",
       "      <td>244.281611</td>\n",
       "      <td>[0, 0, 0, 1, 0, 1, 0, 1, 1, 1, 1, 0, 0, 1, 1, ...</td>\n",
       "      <td>20</td>\n",
       "      <td>16384</td>\n",
       "      <td>20</td>\n",
       "    </tr>\n",
       "    <tr>\n",
       "      <th>332</th>\n",
       "      <td>2048</td>\n",
       "      <td>0.0</td>\n",
       "      <td>21611</td>\n",
       "      <td>244.281611</td>\n",
       "      <td>[0, 0, 0, 1, 0, 1, 0, 1, 1, 1, 1, 0, 0, 1, 1, ...</td>\n",
       "      <td>20</td>\n",
       "      <td>16384</td>\n",
       "      <td>20</td>\n",
       "    </tr>\n",
       "    <tr>\n",
       "      <th>333</th>\n",
       "      <td>4096</td>\n",
       "      <td>0.0</td>\n",
       "      <td>21611</td>\n",
       "      <td>244.281611</td>\n",
       "      <td>[0, 0, 0, 1, 0, 1, 0, 1, 1, 1, 1, 0, 0, 1, 1, ...</td>\n",
       "      <td>20</td>\n",
       "      <td>16384</td>\n",
       "      <td>20</td>\n",
       "    </tr>\n",
       "    <tr>\n",
       "      <th>334</th>\n",
       "      <td>8192</td>\n",
       "      <td>0.0</td>\n",
       "      <td>21611</td>\n",
       "      <td>244.281611</td>\n",
       "      <td>[0, 0, 0, 1, 0, 1, 0, 1, 1, 1, 1, 0, 0, 1, 1, ...</td>\n",
       "      <td>20</td>\n",
       "      <td>16384</td>\n",
       "      <td>20</td>\n",
       "    </tr>\n",
       "    <tr>\n",
       "      <th>335</th>\n",
       "      <td>16384</td>\n",
       "      <td>0.0</td>\n",
       "      <td>21611</td>\n",
       "      <td>244.281611</td>\n",
       "      <td>[0, 0, 0, 1, 0, 1, 0, 1, 1, 1, 1, 0, 0, 1, 1, ...</td>\n",
       "      <td>20</td>\n",
       "      <td>16384</td>\n",
       "      <td>20</td>\n",
       "    </tr>\n",
       "  </tbody>\n",
       "</table>\n",
       "</div>"
      ]
     },
     "metadata": {
      "application/vnd.databricks.v1+output": {
       "addedWidgets": {},
       "arguments": {},
       "data": "<div>\n<style scoped>\n    .dataframe tbody tr th:only-of-type {\n        vertical-align: middle;\n    }\n\n    .dataframe tbody tr th {\n        vertical-align: top;\n    }\n\n    .dataframe thead th {\n        text-align: right;\n    }\n</style>\n<table border=\"1\" class=\"dataframe\">\n  <thead>\n    <tr style=\"text-align: right;\">\n      <th></th>\n      <th>Iteration</th>\n      <th>Fitness</th>\n      <th>FEvals</th>\n      <th>Time</th>\n      <th>State</th>\n      <th>Restarts</th>\n      <th>max_iters</th>\n      <th>current_restart</th>\n    </tr>\n  </thead>\n  <tbody>\n    <tr>\n      <th>331</th>\n      <td>1024</td>\n      <td>0.0</td>\n      <td>21611</td>\n      <td>244.281611</td>\n      <td>[0, 0, 0, 1, 0, 1, 0, 1, 1, 1, 1, 0, 0, 1, 1, ...</td>\n      <td>20</td>\n      <td>16384</td>\n      <td>20</td>\n    </tr>\n    <tr>\n      <th>332</th>\n      <td>2048</td>\n      <td>0.0</td>\n      <td>21611</td>\n      <td>244.281611</td>\n      <td>[0, 0, 0, 1, 0, 1, 0, 1, 1, 1, 1, 0, 0, 1, 1, ...</td>\n      <td>20</td>\n      <td>16384</td>\n      <td>20</td>\n    </tr>\n    <tr>\n      <th>333</th>\n      <td>4096</td>\n      <td>0.0</td>\n      <td>21611</td>\n      <td>244.281611</td>\n      <td>[0, 0, 0, 1, 0, 1, 0, 1, 1, 1, 1, 0, 0, 1, 1, ...</td>\n      <td>20</td>\n      <td>16384</td>\n      <td>20</td>\n    </tr>\n    <tr>\n      <th>334</th>\n      <td>8192</td>\n      <td>0.0</td>\n      <td>21611</td>\n      <td>244.281611</td>\n      <td>[0, 0, 0, 1, 0, 1, 0, 1, 1, 1, 1, 0, 0, 1, 1, ...</td>\n      <td>20</td>\n      <td>16384</td>\n      <td>20</td>\n    </tr>\n    <tr>\n      <th>335</th>\n      <td>16384</td>\n      <td>0.0</td>\n      <td>21611</td>\n      <td>244.281611</td>\n      <td>[0, 0, 0, 1, 0, 1, 0, 1, 1, 1, 1, 0, 0, 1, 1, ...</td>\n      <td>20</td>\n      <td>16384</td>\n      <td>20</td>\n    </tr>\n  </tbody>\n</table>\n</div>",
       "datasetInfos": [],
       "metadata": {},
       "removedWidgets": [],
       "textData": null,
       "type": "htmlSandbox"
      }
     },
     "output_type": "display_data"
    }
   ],
   "source": [
    "df_run_stats_rhc.tail()"
   ]
  },
  {
   "cell_type": "code",
   "execution_count": 0,
   "metadata": {
    "application/vnd.databricks.v1+cell": {
     "inputWidgets": {},
     "nuid": "b42ea48a-ecc4-448e-82ec-56ee31debd8a",
     "showTitle": false,
     "title": ""
    }
   },
   "outputs": [
    {
     "data": {
      "text/html": [
       "<style scoped>\n",
       "  .ansiout {\n",
       "    display: block;\n",
       "    unicode-bidi: embed;\n",
       "    white-space: pre-wrap;\n",
       "    word-wrap: break-word;\n",
       "    word-break: break-all;\n",
       "    font-family: \"Source Code Pro\", \"Menlo\", monospace;;\n",
       "    font-size: 13px;\n",
       "    color: #555;\n",
       "    margin-left: 4px;\n",
       "    line-height: 19px;\n",
       "  }\n",
       "</style>\n",
       "<div class=\"ansiout\">Out[6]: </div>"
      ]
     },
     "metadata": {
      "application/vnd.databricks.v1+output": {
       "addedWidgets": {},
       "arguments": {},
       "data": "<div class=\"ansiout\">Out[6]: </div>",
       "datasetInfos": [],
       "metadata": {},
       "removedWidgets": [],
       "type": "html"
      }
     },
     "output_type": "display_data"
    },
    {
     "data": {
      "text/html": [
       "<div>\n",
       "<style scoped>\n",
       "    .dataframe tbody tr th:only-of-type {\n",
       "        vertical-align: middle;\n",
       "    }\n",
       "\n",
       "    .dataframe tbody tr th {\n",
       "        vertical-align: top;\n",
       "    }\n",
       "\n",
       "    .dataframe thead th {\n",
       "        text-align: right;\n",
       "    }\n",
       "</style>\n",
       "<table border=\"1\" class=\"dataframe\">\n",
       "  <thead>\n",
       "    <tr style=\"text-align: right;\">\n",
       "      <th></th>\n",
       "      <th>Iteration</th>\n",
       "      <th>Fitness</th>\n",
       "      <th>FEvals</th>\n",
       "      <th>Time</th>\n",
       "      <th>State</th>\n",
       "      <th>Restarts</th>\n",
       "      <th>max_iters</th>\n",
       "      <th>current_restart</th>\n",
       "    </tr>\n",
       "  </thead>\n",
       "  <tbody>\n",
       "    <tr>\n",
       "      <th>88</th>\n",
       "      <td>128</td>\n",
       "      <td>5972.0</td>\n",
       "      <td>5236</td>\n",
       "      <td>14.064167</td>\n",
       "      <td>[1, 1, 0, 0, 0, 1, 0, 0, 0, 1, 1, 1, 1, 0, 1, ...</td>\n",
       "      <td>20</td>\n",
       "      <td>16384</td>\n",
       "      <td>5</td>\n",
       "    </tr>\n",
       "  </tbody>\n",
       "</table>\n",
       "</div>"
      ]
     },
     "metadata": {
      "application/vnd.databricks.v1+output": {
       "addedWidgets": {},
       "arguments": {},
       "data": "<div>\n<style scoped>\n    .dataframe tbody tr th:only-of-type {\n        vertical-align: middle;\n    }\n\n    .dataframe tbody tr th {\n        vertical-align: top;\n    }\n\n    .dataframe thead th {\n        text-align: right;\n    }\n</style>\n<table border=\"1\" class=\"dataframe\">\n  <thead>\n    <tr style=\"text-align: right;\">\n      <th></th>\n      <th>Iteration</th>\n      <th>Fitness</th>\n      <th>FEvals</th>\n      <th>Time</th>\n      <th>State</th>\n      <th>Restarts</th>\n      <th>max_iters</th>\n      <th>current_restart</th>\n    </tr>\n  </thead>\n  <tbody>\n    <tr>\n      <th>88</th>\n      <td>128</td>\n      <td>5972.0</td>\n      <td>5236</td>\n      <td>14.064167</td>\n      <td>[1, 1, 0, 0, 0, 1, 0, 0, 0, 1, 1, 1, 1, 0, 1, ...</td>\n      <td>20</td>\n      <td>16384</td>\n      <td>5</td>\n    </tr>\n  </tbody>\n</table>\n</div>",
       "datasetInfos": [],
       "metadata": {},
       "removedWidgets": [],
       "textData": null,
       "type": "htmlSandbox"
      }
     },
     "output_type": "display_data"
    }
   ],
   "source": [
    "optimal_queen8 = df_run_stats_rhc[df_run_stats_rhc['Fitness']==df_run_stats_rhc['Fitness'].max()].drop_duplicates(subset=['State'])\n",
    "optimal_queen8"
   ]
  },
  {
   "cell_type": "code",
   "execution_count": 0,
   "metadata": {
    "application/vnd.databricks.v1+cell": {
     "inputWidgets": {},
     "nuid": "dd3dd0e9-dff4-4118-931e-f46474cfaf3f",
     "showTitle": false,
     "title": ""
    }
   },
   "outputs": [
    {
     "data": {
      "text/html": [
       "<style scoped>\n",
       "  .ansiout {\n",
       "    display: block;\n",
       "    unicode-bidi: embed;\n",
       "    white-space: pre-wrap;\n",
       "    word-wrap: break-word;\n",
       "    word-break: break-all;\n",
       "    font-family: \"Source Code Pro\", \"Menlo\", monospace;;\n",
       "    font-size: 13px;\n",
       "    color: #555;\n",
       "    margin-left: 4px;\n",
       "    line-height: 19px;\n",
       "  }\n",
       "</style>\n",
       "<div class=\"ansiout\">Out[7]: </div>"
      ]
     },
     "metadata": {
      "application/vnd.databricks.v1+output": {
       "addedWidgets": {},
       "arguments": {},
       "data": "<div class=\"ansiout\">Out[7]: </div>",
       "datasetInfos": [],
       "metadata": {},
       "removedWidgets": [],
       "type": "html"
      }
     },
     "output_type": "display_data"
    },
    {
     "data": {
      "text/html": [
       "<div>\n",
       "<style scoped>\n",
       "    .dataframe tbody tr th:only-of-type {\n",
       "        vertical-align: middle;\n",
       "    }\n",
       "\n",
       "    .dataframe tbody tr th {\n",
       "        vertical-align: top;\n",
       "    }\n",
       "\n",
       "    .dataframe thead th {\n",
       "        text-align: right;\n",
       "    }\n",
       "</style>\n",
       "<table border=\"1\" class=\"dataframe\">\n",
       "  <thead>\n",
       "    <tr style=\"text-align: right;\">\n",
       "      <th></th>\n",
       "      <th>Iteration</th>\n",
       "      <th>Time</th>\n",
       "      <th>Fitness</th>\n",
       "      <th>FEvals</th>\n",
       "      <th>Restarts</th>\n",
       "      <th>max_iters</th>\n",
       "      <th>current_restart</th>\n",
       "    </tr>\n",
       "  </thead>\n",
       "  <tbody>\n",
       "    <tr>\n",
       "      <th>5169</th>\n",
       "      <td>77</td>\n",
       "      <td>0.027783</td>\n",
       "      <td>5972.0</td>\n",
       "      <td>5185.0</td>\n",
       "      <td>20</td>\n",
       "      <td>16384</td>\n",
       "      <td>5</td>\n",
       "    </tr>\n",
       "    <tr>\n",
       "      <th>5170</th>\n",
       "      <td>78</td>\n",
       "      <td>0.027918</td>\n",
       "      <td>5972.0</td>\n",
       "      <td>5186.0</td>\n",
       "      <td>20</td>\n",
       "      <td>16384</td>\n",
       "      <td>5</td>\n",
       "    </tr>\n",
       "    <tr>\n",
       "      <th>5171</th>\n",
       "      <td>79</td>\n",
       "      <td>0.028084</td>\n",
       "      <td>5972.0</td>\n",
       "      <td>5187.0</td>\n",
       "      <td>20</td>\n",
       "      <td>16384</td>\n",
       "      <td>5</td>\n",
       "    </tr>\n",
       "    <tr>\n",
       "      <th>5172</th>\n",
       "      <td>80</td>\n",
       "      <td>0.028213</td>\n",
       "      <td>5972.0</td>\n",
       "      <td>5188.0</td>\n",
       "      <td>20</td>\n",
       "      <td>16384</td>\n",
       "      <td>5</td>\n",
       "    </tr>\n",
       "    <tr>\n",
       "      <th>5173</th>\n",
       "      <td>81</td>\n",
       "      <td>0.028344</td>\n",
       "      <td>5972.0</td>\n",
       "      <td>5189.0</td>\n",
       "      <td>20</td>\n",
       "      <td>16384</td>\n",
       "      <td>5</td>\n",
       "    </tr>\n",
       "  </tbody>\n",
       "</table>\n",
       "</div>"
      ]
     },
     "metadata": {
      "application/vnd.databricks.v1+output": {
       "addedWidgets": {},
       "arguments": {},
       "data": "<div>\n<style scoped>\n    .dataframe tbody tr th:only-of-type {\n        vertical-align: middle;\n    }\n\n    .dataframe tbody tr th {\n        vertical-align: top;\n    }\n\n    .dataframe thead th {\n        text-align: right;\n    }\n</style>\n<table border=\"1\" class=\"dataframe\">\n  <thead>\n    <tr style=\"text-align: right;\">\n      <th></th>\n      <th>Iteration</th>\n      <th>Time</th>\n      <th>Fitness</th>\n      <th>FEvals</th>\n      <th>Restarts</th>\n      <th>max_iters</th>\n      <th>current_restart</th>\n    </tr>\n  </thead>\n  <tbody>\n    <tr>\n      <th>5169</th>\n      <td>77</td>\n      <td>0.027783</td>\n      <td>5972.0</td>\n      <td>5185.0</td>\n      <td>20</td>\n      <td>16384</td>\n      <td>5</td>\n    </tr>\n    <tr>\n      <th>5170</th>\n      <td>78</td>\n      <td>0.027918</td>\n      <td>5972.0</td>\n      <td>5186.0</td>\n      <td>20</td>\n      <td>16384</td>\n      <td>5</td>\n    </tr>\n    <tr>\n      <th>5171</th>\n      <td>79</td>\n      <td>0.028084</td>\n      <td>5972.0</td>\n      <td>5187.0</td>\n      <td>20</td>\n      <td>16384</td>\n      <td>5</td>\n    </tr>\n    <tr>\n      <th>5172</th>\n      <td>80</td>\n      <td>0.028213</td>\n      <td>5972.0</td>\n      <td>5188.0</td>\n      <td>20</td>\n      <td>16384</td>\n      <td>5</td>\n    </tr>\n    <tr>\n      <th>5173</th>\n      <td>81</td>\n      <td>0.028344</td>\n      <td>5972.0</td>\n      <td>5189.0</td>\n      <td>20</td>\n      <td>16384</td>\n      <td>5</td>\n    </tr>\n  </tbody>\n</table>\n</div>",
       "datasetInfos": [],
       "metadata": {},
       "removedWidgets": [],
       "textData": null,
       "type": "htmlSandbox"
      }
     },
     "output_type": "display_data"
    }
   ],
   "source": [
    "# Best runs\n",
    "best_fitness = df_run_curves_rhc['Fitness'].max()\n",
    "best_runs = df_run_curves_rhc[df_run_curves_rhc['Fitness'] == best_fitness]\n",
    "best_runs.head()\n"
   ]
  },
  {
   "cell_type": "code",
   "execution_count": 0,
   "metadata": {
    "application/vnd.databricks.v1+cell": {
     "inputWidgets": {},
     "nuid": "5950dee6-fd7d-4d56-9a4c-fb40149686b1",
     "showTitle": false,
     "title": ""
    }
   },
   "outputs": [
    {
     "data": {
      "text/html": [
       "<style scoped>\n",
       "  .ansiout {\n",
       "    display: block;\n",
       "    unicode-bidi: embed;\n",
       "    white-space: pre-wrap;\n",
       "    word-wrap: break-word;\n",
       "    word-break: break-all;\n",
       "    font-family: \"Source Code Pro\", \"Menlo\", monospace;;\n",
       "    font-size: 13px;\n",
       "    color: #555;\n",
       "    margin-left: 4px;\n",
       "    line-height: 19px;\n",
       "  }\n",
       "</style>\n",
       "<div class=\"ansiout\">(1077, 4)\n",
       "Out[8]: </div>"
      ]
     },
     "metadata": {
      "application/vnd.databricks.v1+output": {
       "addedWidgets": {},
       "arguments": {},
       "data": "<div class=\"ansiout\">(1077, 4)\nOut[8]: </div>",
       "datasetInfos": [],
       "metadata": {},
       "removedWidgets": [],
       "type": "html"
      }
     },
     "output_type": "display_data"
    },
    {
     "data": {
      "text/html": [
       "<div>\n",
       "<style scoped>\n",
       "    .dataframe tbody tr th:only-of-type {\n",
       "        vertical-align: middle;\n",
       "    }\n",
       "\n",
       "    .dataframe tbody tr th {\n",
       "        vertical-align: top;\n",
       "    }\n",
       "\n",
       "    .dataframe thead th {\n",
       "        text-align: right;\n",
       "    }\n",
       "</style>\n",
       "<table border=\"1\" class=\"dataframe\">\n",
       "  <thead>\n",
       "    <tr style=\"text-align: right;\">\n",
       "      <th></th>\n",
       "      <th>Iteration</th>\n",
       "      <th>Time</th>\n",
       "      <th>Fitness</th>\n",
       "      <th>FEvals</th>\n",
       "    </tr>\n",
       "  </thead>\n",
       "  <tbody>\n",
       "    <tr>\n",
       "      <th>5093</th>\n",
       "      <td>1</td>\n",
       "      <td>0.004541</td>\n",
       "      <td>2810.0</td>\n",
       "      <td>5099.0</td>\n",
       "    </tr>\n",
       "    <tr>\n",
       "      <th>5094</th>\n",
       "      <td>2</td>\n",
       "      <td>0.007004</td>\n",
       "      <td>3084.0</td>\n",
       "      <td>5101.0</td>\n",
       "    </tr>\n",
       "    <tr>\n",
       "      <th>5095</th>\n",
       "      <td>3</td>\n",
       "      <td>0.009476</td>\n",
       "      <td>3167.0</td>\n",
       "      <td>5103.0</td>\n",
       "    </tr>\n",
       "    <tr>\n",
       "      <th>5096</th>\n",
       "      <td>4</td>\n",
       "      <td>0.009548</td>\n",
       "      <td>3292.0</td>\n",
       "      <td>5105.0</td>\n",
       "    </tr>\n",
       "    <tr>\n",
       "      <th>5097</th>\n",
       "      <td>5</td>\n",
       "      <td>0.011993</td>\n",
       "      <td>3292.0</td>\n",
       "      <td>5106.0</td>\n",
       "    </tr>\n",
       "  </tbody>\n",
       "</table>\n",
       "</div>"
      ]
     },
     "metadata": {
      "application/vnd.databricks.v1+output": {
       "addedWidgets": {},
       "arguments": {},
       "data": "<div>\n<style scoped>\n    .dataframe tbody tr th:only-of-type {\n        vertical-align: middle;\n    }\n\n    .dataframe tbody tr th {\n        vertical-align: top;\n    }\n\n    .dataframe thead th {\n        text-align: right;\n    }\n</style>\n<table border=\"1\" class=\"dataframe\">\n  <thead>\n    <tr style=\"text-align: right;\">\n      <th></th>\n      <th>Iteration</th>\n      <th>Time</th>\n      <th>Fitness</th>\n      <th>FEvals</th>\n    </tr>\n  </thead>\n  <tbody>\n    <tr>\n      <th>5093</th>\n      <td>1</td>\n      <td>0.004541</td>\n      <td>2810.0</td>\n      <td>5099.0</td>\n    </tr>\n    <tr>\n      <th>5094</th>\n      <td>2</td>\n      <td>0.007004</td>\n      <td>3084.0</td>\n      <td>5101.0</td>\n    </tr>\n    <tr>\n      <th>5095</th>\n      <td>3</td>\n      <td>0.009476</td>\n      <td>3167.0</td>\n      <td>5103.0</td>\n    </tr>\n    <tr>\n      <th>5096</th>\n      <td>4</td>\n      <td>0.009548</td>\n      <td>3292.0</td>\n      <td>5105.0</td>\n    </tr>\n    <tr>\n      <th>5097</th>\n      <td>5</td>\n      <td>0.011993</td>\n      <td>3292.0</td>\n      <td>5106.0</td>\n    </tr>\n  </tbody>\n</table>\n</div>",
       "datasetInfos": [],
       "metadata": {},
       "removedWidgets": [],
       "textData": null,
       "type": "htmlSandbox"
      }
     },
     "output_type": "display_data"
    }
   ],
   "source": [
    "rhc = df_run_curves_rhc[(df_run_curves_rhc['current_restart'] == 5)]\n",
    "rhc = rhc[['Iteration', 'Time', 'Fitness', 'FEvals']]\n",
    "\n",
    "print(rhc.shape)\n",
    "rhc.head()"
   ]
  },
  {
   "cell_type": "code",
   "execution_count": 0,
   "metadata": {
    "application/vnd.databricks.v1+cell": {
     "inputWidgets": {},
     "nuid": "aa6efdc3-3144-4c09-914b-06c3dab58b02",
     "showTitle": false,
     "title": ""
    }
   },
   "outputs": [
    {
     "data": {
      "text/html": [
       "<style scoped>\n",
       "  .ansiout {\n",
       "    display: block;\n",
       "    unicode-bidi: embed;\n",
       "    white-space: pre-wrap;\n",
       "    word-wrap: break-word;\n",
       "    word-break: break-all;\n",
       "    font-family: \"Source Code Pro\", \"Menlo\", monospace;;\n",
       "    font-size: 13px;\n",
       "    color: #555;\n",
       "    margin-left: 4px;\n",
       "    line-height: 19px;\n",
       "  }\n",
       "</style>\n",
       "<div class=\"ansiout\">Out[9]: </div>"
      ]
     },
     "metadata": {
      "application/vnd.databricks.v1+output": {
       "addedWidgets": {},
       "arguments": {},
       "data": "<div class=\"ansiout\">Out[9]: </div>",
       "datasetInfos": [],
       "metadata": {},
       "removedWidgets": [],
       "type": "html"
      }
     },
     "output_type": "display_data"
    },
    {
     "data": {
      "text/html": [
       "<div>\n",
       "<style scoped>\n",
       "    .dataframe tbody tr th:only-of-type {\n",
       "        vertical-align: middle;\n",
       "    }\n",
       "\n",
       "    .dataframe tbody tr th {\n",
       "        vertical-align: top;\n",
       "    }\n",
       "\n",
       "    .dataframe thead th {\n",
       "        text-align: right;\n",
       "    }\n",
       "</style>\n",
       "<table border=\"1\" class=\"dataframe\">\n",
       "  <thead>\n",
       "    <tr style=\"text-align: right;\">\n",
       "      <th></th>\n",
       "      <th>Iteration</th>\n",
       "      <th>Time</th>\n",
       "      <th>Fitness</th>\n",
       "      <th>FEvals</th>\n",
       "    </tr>\n",
       "  </thead>\n",
       "  <tbody>\n",
       "    <tr>\n",
       "      <th>5169</th>\n",
       "      <td>77</td>\n",
       "      <td>0.027783</td>\n",
       "      <td>5972.0</td>\n",
       "      <td>5185.0</td>\n",
       "    </tr>\n",
       "  </tbody>\n",
       "</table>\n",
       "</div>"
      ]
     },
     "metadata": {
      "application/vnd.databricks.v1+output": {
       "addedWidgets": {},
       "arguments": {},
       "data": "<div>\n<style scoped>\n    .dataframe tbody tr th:only-of-type {\n        vertical-align: middle;\n    }\n\n    .dataframe tbody tr th {\n        vertical-align: top;\n    }\n\n    .dataframe thead th {\n        text-align: right;\n    }\n</style>\n<table border=\"1\" class=\"dataframe\">\n  <thead>\n    <tr style=\"text-align: right;\">\n      <th></th>\n      <th>Iteration</th>\n      <th>Time</th>\n      <th>Fitness</th>\n      <th>FEvals</th>\n    </tr>\n  </thead>\n  <tbody>\n    <tr>\n      <th>5169</th>\n      <td>77</td>\n      <td>0.027783</td>\n      <td>5972.0</td>\n      <td>5185.0</td>\n    </tr>\n  </tbody>\n</table>\n</div>",
       "datasetInfos": [],
       "metadata": {},
       "removedWidgets": [],
       "textData": null,
       "type": "htmlSandbox"
      }
     },
     "output_type": "display_data"
    }
   ],
   "source": [
    "rhc[rhc['Iteration']==77]"
   ]
  },
  {
   "cell_type": "code",
   "execution_count": 0,
   "metadata": {
    "application/vnd.databricks.v1+cell": {
     "inputWidgets": {},
     "nuid": "1cbc988d-7d4f-4819-9448-27768c93ca48",
     "showTitle": true,
     "title": "SA"
    }
   },
   "outputs": [
    {
     "data": {
      "text/html": [
       "<style scoped>\n",
       "  .ansiout {\n",
       "    display: block;\n",
       "    unicode-bidi: embed;\n",
       "    white-space: pre-wrap;\n",
       "    word-wrap: break-word;\n",
       "    word-break: break-all;\n",
       "    font-family: \"Source Code Pro\", \"Menlo\", monospace;;\n",
       "    font-size: 13px;\n",
       "    color: #555;\n",
       "    margin-left: 4px;\n",
       "    line-height: 19px;\n",
       "  }\n",
       "</style>\n",
       "<div class=\"ansiout\"></div>"
      ]
     },
     "metadata": {
      "application/vnd.databricks.v1+output": {
       "addedWidgets": {},
       "arguments": {},
       "data": "<div class=\"ansiout\"></div>",
       "datasetInfos": [],
       "metadata": {},
       "removedWidgets": [],
       "type": "html"
      }
     },
     "output_type": "display_data"
    }
   ],
   "source": [
    "# create a runner class and solve the problem\n",
    "sa = SARunner(problem=problem,\n",
    "              experiment_name=None,\n",
    "              output_directory=None, \n",
    "              seed=42,\n",
    "              iteration_list=2 ** np.arange(15),\n",
    "              max_attempts=1000,\n",
    "              temperature_list=[0.10, 1.0,  5, 10, 100, 500, 1000, 5000, 10000, 100000],\n",
    "              decay_list=[mlrose_hiive.ExpDecay])\n",
    "\n",
    "# the two data frames will contain the results\n",
    "df_run_stats_sa, df_run_curves_sa = sa.run()"
   ]
  },
  {
   "cell_type": "code",
   "execution_count": 0,
   "metadata": {
    "application/vnd.databricks.v1+cell": {
     "inputWidgets": {},
     "nuid": "aa50b43f-6e41-4926-9bd4-397cf4eea013",
     "showTitle": false,
     "title": ""
    }
   },
   "outputs": [
    {
     "data": {
      "text/html": [
       "<style scoped>\n",
       "  .ansiout {\n",
       "    display: block;\n",
       "    unicode-bidi: embed;\n",
       "    white-space: pre-wrap;\n",
       "    word-wrap: break-word;\n",
       "    word-break: break-all;\n",
       "    font-family: \"Source Code Pro\", \"Menlo\", monospace;;\n",
       "    font-size: 13px;\n",
       "    color: #555;\n",
       "    margin-left: 4px;\n",
       "    line-height: 19px;\n",
       "  }\n",
       "</style>\n",
       "<div class=\"ansiout\">Out[11]: </div>"
      ]
     },
     "metadata": {
      "application/vnd.databricks.v1+output": {
       "addedWidgets": {},
       "arguments": {},
       "data": "<div class=\"ansiout\">Out[11]: </div>",
       "datasetInfos": [],
       "metadata": {},
       "removedWidgets": [],
       "type": "html"
      }
     },
     "output_type": "display_data"
    },
    {
     "data": {
      "text/html": [
       "<div>\n",
       "<style scoped>\n",
       "    .dataframe tbody tr th:only-of-type {\n",
       "        vertical-align: middle;\n",
       "    }\n",
       "\n",
       "    .dataframe tbody tr th {\n",
       "        vertical-align: top;\n",
       "    }\n",
       "\n",
       "    .dataframe thead th {\n",
       "        text-align: right;\n",
       "    }\n",
       "</style>\n",
       "<table border=\"1\" class=\"dataframe\">\n",
       "  <thead>\n",
       "    <tr style=\"text-align: right;\">\n",
       "      <th></th>\n",
       "      <th>Iteration</th>\n",
       "      <th>Fitness</th>\n",
       "      <th>FEvals</th>\n",
       "      <th>Time</th>\n",
       "      <th>State</th>\n",
       "    </tr>\n",
       "  </thead>\n",
       "  <tbody>\n",
       "    <tr>\n",
       "      <th>124</th>\n",
       "      <td>2048</td>\n",
       "      <td>7118.0</td>\n",
       "      <td>2676</td>\n",
       "      <td>2.474414</td>\n",
       "      <td>[1, 1, 0, 1, 1, 0, 1, 1, 0, 1, 1, 1, 1, 0, 1, ...</td>\n",
       "    </tr>\n",
       "  </tbody>\n",
       "</table>\n",
       "</div>"
      ]
     },
     "metadata": {
      "application/vnd.databricks.v1+output": {
       "addedWidgets": {},
       "arguments": {},
       "data": "<div>\n<style scoped>\n    .dataframe tbody tr th:only-of-type {\n        vertical-align: middle;\n    }\n\n    .dataframe tbody tr th {\n        vertical-align: top;\n    }\n\n    .dataframe thead th {\n        text-align: right;\n    }\n</style>\n<table border=\"1\" class=\"dataframe\">\n  <thead>\n    <tr style=\"text-align: right;\">\n      <th></th>\n      <th>Iteration</th>\n      <th>Fitness</th>\n      <th>FEvals</th>\n      <th>Time</th>\n      <th>State</th>\n    </tr>\n  </thead>\n  <tbody>\n    <tr>\n      <th>124</th>\n      <td>2048</td>\n      <td>7118.0</td>\n      <td>2676</td>\n      <td>2.474414</td>\n      <td>[1, 1, 0, 1, 1, 0, 1, 1, 0, 1, 1, 1, 1, 0, 1, ...</td>\n    </tr>\n  </tbody>\n</table>\n</div>",
       "datasetInfos": [],
       "metadata": {},
       "removedWidgets": [],
       "textData": null,
       "type": "htmlSandbox"
      }
     },
     "output_type": "display_data"
    }
   ],
   "source": [
    "optimal_queen8 = df_run_stats_sa[df_run_stats_sa['Fitness']==df_run_stats_sa['Fitness'].max()][['Iteration', 'Fitness', 'FEvals', 'Time', 'State']].drop_duplicates(subset=['State'])\n",
    "optimal_queen8"
   ]
  },
  {
   "cell_type": "code",
   "execution_count": 0,
   "metadata": {
    "application/vnd.databricks.v1+cell": {
     "inputWidgets": {},
     "nuid": "9345ab4e-97e6-4d76-8318-c760cd27d434",
     "showTitle": false,
     "title": ""
    }
   },
   "outputs": [
    {
     "data": {
      "text/html": [
       "<style scoped>\n",
       "  .ansiout {\n",
       "    display: block;\n",
       "    unicode-bidi: embed;\n",
       "    white-space: pre-wrap;\n",
       "    word-wrap: break-word;\n",
       "    word-break: break-all;\n",
       "    font-family: \"Source Code Pro\", \"Menlo\", monospace;;\n",
       "    font-size: 13px;\n",
       "    color: #555;\n",
       "    margin-left: 4px;\n",
       "    line-height: 19px;\n",
       "  }\n",
       "</style>\n",
       "<div class=\"ansiout\">Out[12]: </div>"
      ]
     },
     "metadata": {
      "application/vnd.databricks.v1+output": {
       "addedWidgets": {},
       "arguments": {},
       "data": "<div class=\"ansiout\">Out[12]: </div>",
       "datasetInfos": [],
       "metadata": {},
       "removedWidgets": [],
       "type": "html"
      }
     },
     "output_type": "display_data"
    },
    {
     "data": {
      "text/html": [
       "<div>\n",
       "<style scoped>\n",
       "    .dataframe tbody tr th:only-of-type {\n",
       "        vertical-align: middle;\n",
       "    }\n",
       "\n",
       "    .dataframe tbody tr th {\n",
       "        vertical-align: top;\n",
       "    }\n",
       "\n",
       "    .dataframe thead th {\n",
       "        text-align: right;\n",
       "    }\n",
       "</style>\n",
       "<table border=\"1\" class=\"dataframe\">\n",
       "  <thead>\n",
       "    <tr style=\"text-align: right;\">\n",
       "      <th></th>\n",
       "      <th>Iteration</th>\n",
       "      <th>Time</th>\n",
       "      <th>Fitness</th>\n",
       "      <th>FEvals</th>\n",
       "      <th>Temperature</th>\n",
       "      <th>max_iters</th>\n",
       "    </tr>\n",
       "  </thead>\n",
       "  <tbody>\n",
       "    <tr>\n",
       "      <th>10774</th>\n",
       "      <td>1263</td>\n",
       "      <td>0.064695</td>\n",
       "      <td>7118.0</td>\n",
       "      <td>1891.0</td>\n",
       "      <td>5000.0</td>\n",
       "      <td>16384</td>\n",
       "    </tr>\n",
       "  </tbody>\n",
       "</table>\n",
       "</div>"
      ]
     },
     "metadata": {
      "application/vnd.databricks.v1+output": {
       "addedWidgets": {},
       "arguments": {},
       "data": "<div>\n<style scoped>\n    .dataframe tbody tr th:only-of-type {\n        vertical-align: middle;\n    }\n\n    .dataframe tbody tr th {\n        vertical-align: top;\n    }\n\n    .dataframe thead th {\n        text-align: right;\n    }\n</style>\n<table border=\"1\" class=\"dataframe\">\n  <thead>\n    <tr style=\"text-align: right;\">\n      <th></th>\n      <th>Iteration</th>\n      <th>Time</th>\n      <th>Fitness</th>\n      <th>FEvals</th>\n      <th>Temperature</th>\n      <th>max_iters</th>\n    </tr>\n  </thead>\n  <tbody>\n    <tr>\n      <th>10774</th>\n      <td>1263</td>\n      <td>0.064695</td>\n      <td>7118.0</td>\n      <td>1891.0</td>\n      <td>5000.0</td>\n      <td>16384</td>\n    </tr>\n  </tbody>\n</table>\n</div>",
       "datasetInfos": [],
       "metadata": {},
       "removedWidgets": [],
       "textData": null,
       "type": "htmlSandbox"
      }
     },
     "output_type": "display_data"
    }
   ],
   "source": [
    "df_run_curves_sa['Temperature'] = df_run_curves_sa['Temperature'].apply(lambda x: float(str(x)))\n",
    "\n",
    "best_fitness = df_run_curves_sa['Fitness'].max()\n",
    "best_runs = df_run_curves_sa[df_run_curves_sa['Fitness'] == best_fitness].drop_duplicates(subset='Temperature')\n",
    "best_runs"
   ]
  },
  {
   "cell_type": "code",
   "execution_count": 0,
   "metadata": {
    "application/vnd.databricks.v1+cell": {
     "inputWidgets": {},
     "nuid": "8c8edd38-da3c-4c97-820d-a506573f78de",
     "showTitle": false,
     "title": ""
    }
   },
   "outputs": [
    {
     "data": {
      "text/html": [
       "<style scoped>\n",
       "  .ansiout {\n",
       "    display: block;\n",
       "    unicode-bidi: embed;\n",
       "    white-space: pre-wrap;\n",
       "    word-wrap: break-word;\n",
       "    word-break: break-all;\n",
       "    font-family: \"Source Code Pro\", \"Menlo\", monospace;;\n",
       "    font-size: 13px;\n",
       "    color: #555;\n",
       "    margin-left: 4px;\n",
       "    line-height: 19px;\n",
       "  }\n",
       "</style>\n",
       "<div class=\"ansiout\">(2264, 4)\n",
       "Out[13]: </div>"
      ]
     },
     "metadata": {
      "application/vnd.databricks.v1+output": {
       "addedWidgets": {},
       "arguments": {},
       "data": "<div class=\"ansiout\">(2264, 4)\nOut[13]: </div>",
       "datasetInfos": [],
       "metadata": {},
       "removedWidgets": [],
       "type": "html"
      }
     },
     "output_type": "display_data"
    },
    {
     "data": {
      "text/html": [
       "<div>\n",
       "<style scoped>\n",
       "    .dataframe tbody tr th:only-of-type {\n",
       "        vertical-align: middle;\n",
       "    }\n",
       "\n",
       "    .dataframe tbody tr th {\n",
       "        vertical-align: top;\n",
       "    }\n",
       "\n",
       "    .dataframe thead th {\n",
       "        text-align: right;\n",
       "    }\n",
       "</style>\n",
       "<table border=\"1\" class=\"dataframe\">\n",
       "  <thead>\n",
       "    <tr style=\"text-align: right;\">\n",
       "      <th></th>\n",
       "      <th>Iteration</th>\n",
       "      <th>Time</th>\n",
       "      <th>Fitness</th>\n",
       "      <th>FEvals</th>\n",
       "    </tr>\n",
       "  </thead>\n",
       "  <tbody>\n",
       "    <tr>\n",
       "      <th>9511</th>\n",
       "      <td>0</td>\n",
       "      <td>0.000178</td>\n",
       "      <td>0.0</td>\n",
       "      <td>0.0</td>\n",
       "    </tr>\n",
       "    <tr>\n",
       "      <th>9512</th>\n",
       "      <td>1</td>\n",
       "      <td>0.002997</td>\n",
       "      <td>0.0</td>\n",
       "      <td>2.0</td>\n",
       "    </tr>\n",
       "    <tr>\n",
       "      <th>9513</th>\n",
       "      <td>2</td>\n",
       "      <td>0.005761</td>\n",
       "      <td>0.0</td>\n",
       "      <td>4.0</td>\n",
       "    </tr>\n",
       "    <tr>\n",
       "      <th>9514</th>\n",
       "      <td>3</td>\n",
       "      <td>0.008379</td>\n",
       "      <td>0.0</td>\n",
       "      <td>6.0</td>\n",
       "    </tr>\n",
       "    <tr>\n",
       "      <th>9515</th>\n",
       "      <td>4</td>\n",
       "      <td>0.008487</td>\n",
       "      <td>0.0</td>\n",
       "      <td>8.0</td>\n",
       "    </tr>\n",
       "  </tbody>\n",
       "</table>\n",
       "</div>"
      ]
     },
     "metadata": {
      "application/vnd.databricks.v1+output": {
       "addedWidgets": {},
       "arguments": {},
       "data": "<div>\n<style scoped>\n    .dataframe tbody tr th:only-of-type {\n        vertical-align: middle;\n    }\n\n    .dataframe tbody tr th {\n        vertical-align: top;\n    }\n\n    .dataframe thead th {\n        text-align: right;\n    }\n</style>\n<table border=\"1\" class=\"dataframe\">\n  <thead>\n    <tr style=\"text-align: right;\">\n      <th></th>\n      <th>Iteration</th>\n      <th>Time</th>\n      <th>Fitness</th>\n      <th>FEvals</th>\n    </tr>\n  </thead>\n  <tbody>\n    <tr>\n      <th>9511</th>\n      <td>0</td>\n      <td>0.000178</td>\n      <td>0.0</td>\n      <td>0.0</td>\n    </tr>\n    <tr>\n      <th>9512</th>\n      <td>1</td>\n      <td>0.002997</td>\n      <td>0.0</td>\n      <td>2.0</td>\n    </tr>\n    <tr>\n      <th>9513</th>\n      <td>2</td>\n      <td>0.005761</td>\n      <td>0.0</td>\n      <td>4.0</td>\n    </tr>\n    <tr>\n      <th>9514</th>\n      <td>3</td>\n      <td>0.008379</td>\n      <td>0.0</td>\n      <td>6.0</td>\n    </tr>\n    <tr>\n      <th>9515</th>\n      <td>4</td>\n      <td>0.008487</td>\n      <td>0.0</td>\n      <td>8.0</td>\n    </tr>\n  </tbody>\n</table>\n</div>",
       "datasetInfos": [],
       "metadata": {},
       "removedWidgets": [],
       "textData": null,
       "type": "htmlSandbox"
      }
     },
     "output_type": "display_data"
    }
   ],
   "source": [
    "sac = df_run_curves_sa[(df_run_curves_sa['Temperature'] == 5000)]\n",
    "sac = sac[['Iteration', 'Time', 'Fitness', 'FEvals']]\n",
    "\n",
    "print(sac.shape)\n",
    "sac.head()"
   ]
  },
  {
   "cell_type": "code",
   "execution_count": 0,
   "metadata": {
    "application/vnd.databricks.v1+cell": {
     "inputWidgets": {},
     "nuid": "06814c44-70b8-4f3c-a6e7-48dd351b6000",
     "showTitle": true,
     "title": "GA"
    }
   },
   "outputs": [
    {
     "data": {
      "text/html": [
       "<style scoped>\n",
       "  .ansiout {\n",
       "    display: block;\n",
       "    unicode-bidi: embed;\n",
       "    white-space: pre-wrap;\n",
       "    word-wrap: break-word;\n",
       "    word-break: break-all;\n",
       "    font-family: \"Source Code Pro\", \"Menlo\", monospace;;\n",
       "    font-size: 13px;\n",
       "    color: #555;\n",
       "    margin-left: 4px;\n",
       "    line-height: 19px;\n",
       "  }\n",
       "</style>\n",
       "<div class=\"ansiout\"></div>"
      ]
     },
     "metadata": {
      "application/vnd.databricks.v1+output": {
       "addedWidgets": {},
       "arguments": {},
       "data": "<div class=\"ansiout\"></div>",
       "datasetInfos": [],
       "metadata": {},
       "removedWidgets": [],
       "type": "html"
      }
     },
     "output_type": "display_data"
    }
   ],
   "source": [
    "# create a runner class and solve the problem\n",
    "#***************** Arithmetic Decay ************\n",
    "ga = GARunner(problem=problem,\n",
    "              experiment_name='queens-8-ga',\n",
    "              output_directory=None, \n",
    "              seed=42,\n",
    "              iteration_list=2 ** np.arange(15),\n",
    "              population_sizes=[50, 100, 500, 1000],\n",
    "              mutation_rates=[0.1, 0.2, 0.5])\n",
    "\n",
    "# run the optimization algorithm\n",
    "df_run_stats_ga, df_run_curves_ga = ga.run()"
   ]
  },
  {
   "cell_type": "code",
   "execution_count": 0,
   "metadata": {
    "application/vnd.databricks.v1+cell": {
     "inputWidgets": {},
     "nuid": "b346f1f3-e058-4e53-8baa-9ccd56ef388c",
     "showTitle": false,
     "title": ""
    }
   },
   "outputs": [
    {
     "data": {
      "text/html": [
       "<style scoped>\n",
       "  .ansiout {\n",
       "    display: block;\n",
       "    unicode-bidi: embed;\n",
       "    white-space: pre-wrap;\n",
       "    word-wrap: break-word;\n",
       "    word-break: break-all;\n",
       "    font-family: \"Source Code Pro\", \"Menlo\", monospace;;\n",
       "    font-size: 13px;\n",
       "    color: #555;\n",
       "    margin-left: 4px;\n",
       "    line-height: 19px;\n",
       "  }\n",
       "</style>\n",
       "<div class=\"ansiout\">Out[15]: </div>"
      ]
     },
     "metadata": {
      "application/vnd.databricks.v1+output": {
       "addedWidgets": {},
       "arguments": {},
       "data": "<div class=\"ansiout\">Out[15]: </div>",
       "datasetInfos": [],
       "metadata": {},
       "removedWidgets": [],
       "type": "html"
      }
     },
     "output_type": "display_data"
    },
    {
     "data": {
      "text/html": [
       "<div>\n",
       "<style scoped>\n",
       "    .dataframe tbody tr th:only-of-type {\n",
       "        vertical-align: middle;\n",
       "    }\n",
       "\n",
       "    .dataframe tbody tr th {\n",
       "        vertical-align: top;\n",
       "    }\n",
       "\n",
       "    .dataframe thead th {\n",
       "        text-align: right;\n",
       "    }\n",
       "</style>\n",
       "<table border=\"1\" class=\"dataframe\">\n",
       "  <thead>\n",
       "    <tr style=\"text-align: right;\">\n",
       "      <th></th>\n",
       "      <th>Iteration</th>\n",
       "      <th>Fitness</th>\n",
       "      <th>FEvals</th>\n",
       "      <th>Time</th>\n",
       "      <th>State</th>\n",
       "      <th>Population Size</th>\n",
       "      <th>Mutation Rate</th>\n",
       "      <th>max_iters</th>\n",
       "    </tr>\n",
       "  </thead>\n",
       "  <tbody>\n",
       "    <tr>\n",
       "      <th>9</th>\n",
       "      <td>256</td>\n",
       "      <td>7512.0</td>\n",
       "      <td>13128</td>\n",
       "      <td>1.223293</td>\n",
       "      <td>[1, 1, 0, 1, 1, 0, 1, 0, 0, 0, 1, 1, 1, 0, 1, ...</td>\n",
       "      <td>50</td>\n",
       "      <td>0.1</td>\n",
       "      <td>16384</td>\n",
       "    </tr>\n",
       "  </tbody>\n",
       "</table>\n",
       "</div>"
      ]
     },
     "metadata": {
      "application/vnd.databricks.v1+output": {
       "addedWidgets": {},
       "arguments": {},
       "data": "<div>\n<style scoped>\n    .dataframe tbody tr th:only-of-type {\n        vertical-align: middle;\n    }\n\n    .dataframe tbody tr th {\n        vertical-align: top;\n    }\n\n    .dataframe thead th {\n        text-align: right;\n    }\n</style>\n<table border=\"1\" class=\"dataframe\">\n  <thead>\n    <tr style=\"text-align: right;\">\n      <th></th>\n      <th>Iteration</th>\n      <th>Fitness</th>\n      <th>FEvals</th>\n      <th>Time</th>\n      <th>State</th>\n      <th>Population Size</th>\n      <th>Mutation Rate</th>\n      <th>max_iters</th>\n    </tr>\n  </thead>\n  <tbody>\n    <tr>\n      <th>9</th>\n      <td>256</td>\n      <td>7512.0</td>\n      <td>13128</td>\n      <td>1.223293</td>\n      <td>[1, 1, 0, 1, 1, 0, 1, 0, 0, 0, 1, 1, 1, 0, 1, ...</td>\n      <td>50</td>\n      <td>0.1</td>\n      <td>16384</td>\n    </tr>\n  </tbody>\n</table>\n</div>",
       "datasetInfos": [],
       "metadata": {},
       "removedWidgets": [],
       "textData": null,
       "type": "htmlSandbox"
      }
     },
     "output_type": "display_data"
    }
   ],
   "source": [
    "# optimal solutions\n",
    "optimal_queen8 = df_run_stats_ga[df_run_stats_ga['Fitness']==df_run_stats_ga['Fitness'].max()].drop_duplicates(subset=['State'])\n",
    "optimal_queen8"
   ]
  },
  {
   "cell_type": "code",
   "execution_count": 0,
   "metadata": {
    "application/vnd.databricks.v1+cell": {
     "inputWidgets": {},
     "nuid": "faf21019-c287-45f2-af77-dfffe05fa469",
     "showTitle": false,
     "title": ""
    }
   },
   "outputs": [
    {
     "data": {
      "text/html": [
       "<style scoped>\n",
       "  .ansiout {\n",
       "    display: block;\n",
       "    unicode-bidi: embed;\n",
       "    white-space: pre-wrap;\n",
       "    word-wrap: break-word;\n",
       "    word-break: break-all;\n",
       "    font-family: \"Source Code Pro\", \"Menlo\", monospace;;\n",
       "    font-size: 13px;\n",
       "    color: #555;\n",
       "    margin-left: 4px;\n",
       "    line-height: 19px;\n",
       "  }\n",
       "</style>\n",
       "<div class=\"ansiout\">Out[16]: </div>"
      ]
     },
     "metadata": {
      "application/vnd.databricks.v1+output": {
       "addedWidgets": {},
       "arguments": {},
       "data": "<div class=\"ansiout\">Out[16]: </div>",
       "datasetInfos": [],
       "metadata": {},
       "removedWidgets": [],
       "type": "html"
      }
     },
     "output_type": "display_data"
    },
    {
     "data": {
      "text/html": [
       "<div>\n",
       "<style scoped>\n",
       "    .dataframe tbody tr th:only-of-type {\n",
       "        vertical-align: middle;\n",
       "    }\n",
       "\n",
       "    .dataframe tbody tr th {\n",
       "        vertical-align: top;\n",
       "    }\n",
       "\n",
       "    .dataframe thead th {\n",
       "        text-align: right;\n",
       "    }\n",
       "</style>\n",
       "<table border=\"1\" class=\"dataframe\">\n",
       "  <thead>\n",
       "    <tr style=\"text-align: right;\">\n",
       "      <th></th>\n",
       "      <th>Iteration</th>\n",
       "      <th>Time</th>\n",
       "      <th>Fitness</th>\n",
       "      <th>FEvals</th>\n",
       "      <th>Population Size</th>\n",
       "      <th>Mutation Rate</th>\n",
       "      <th>max_iters</th>\n",
       "    </tr>\n",
       "  </thead>\n",
       "  <tbody>\n",
       "    <tr>\n",
       "      <th>187</th>\n",
       "      <td>187</td>\n",
       "      <td>0.904126</td>\n",
       "      <td>7512.0</td>\n",
       "      <td>9609.0</td>\n",
       "      <td>50</td>\n",
       "      <td>0.1</td>\n",
       "      <td>16384</td>\n",
       "    </tr>\n",
       "    <tr>\n",
       "      <th>2509</th>\n",
       "      <td>51</td>\n",
       "      <td>0.260627</td>\n",
       "      <td>7512.0</td>\n",
       "      <td>5270.0</td>\n",
       "      <td>100</td>\n",
       "      <td>0.2</td>\n",
       "      <td>16384</td>\n",
       "    </tr>\n",
       "    <tr>\n",
       "      <th>3729</th>\n",
       "      <td>719</td>\n",
       "      <td>0.162891</td>\n",
       "      <td>7512.0</td>\n",
       "      <td>72736.0</td>\n",
       "      <td>100</td>\n",
       "      <td>0.5</td>\n",
       "      <td>16384</td>\n",
       "    </tr>\n",
       "    <tr>\n",
       "      <th>4268</th>\n",
       "      <td>38</td>\n",
       "      <td>0.195156</td>\n",
       "      <td>7512.0</td>\n",
       "      <td>19555.0</td>\n",
       "      <td>500</td>\n",
       "      <td>0.1</td>\n",
       "      <td>16384</td>\n",
       "    </tr>\n",
       "    <tr>\n",
       "      <th>4798</th>\n",
       "      <td>29</td>\n",
       "      <td>0.149198</td>\n",
       "      <td>7512.0</td>\n",
       "      <td>15045.0</td>\n",
       "      <td>500</td>\n",
       "      <td>0.2</td>\n",
       "      <td>16384</td>\n",
       "    </tr>\n",
       "    <tr>\n",
       "      <th>5449</th>\n",
       "      <td>150</td>\n",
       "      <td>0.729620</td>\n",
       "      <td>7512.0</td>\n",
       "      <td>75670.0</td>\n",
       "      <td>500</td>\n",
       "      <td>0.5</td>\n",
       "      <td>16384</td>\n",
       "    </tr>\n",
       "    <tr>\n",
       "      <th>5982</th>\n",
       "      <td>32</td>\n",
       "      <td>0.162739</td>\n",
       "      <td>7512.0</td>\n",
       "      <td>33050.0</td>\n",
       "      <td>1000</td>\n",
       "      <td>0.1</td>\n",
       "      <td>16384</td>\n",
       "    </tr>\n",
       "    <tr>\n",
       "      <th>6518</th>\n",
       "      <td>35</td>\n",
       "      <td>0.181695</td>\n",
       "      <td>7512.0</td>\n",
       "      <td>36055.0</td>\n",
       "      <td>1000</td>\n",
       "      <td>0.2</td>\n",
       "      <td>16384</td>\n",
       "    </tr>\n",
       "    <tr>\n",
       "      <th>7058</th>\n",
       "      <td>39</td>\n",
       "      <td>0.199752</td>\n",
       "      <td>7512.0</td>\n",
       "      <td>40057.0</td>\n",
       "      <td>1000</td>\n",
       "      <td>0.5</td>\n",
       "      <td>16384</td>\n",
       "    </tr>\n",
       "  </tbody>\n",
       "</table>\n",
       "</div>"
      ]
     },
     "metadata": {
      "application/vnd.databricks.v1+output": {
       "addedWidgets": {},
       "arguments": {},
       "data": "<div>\n<style scoped>\n    .dataframe tbody tr th:only-of-type {\n        vertical-align: middle;\n    }\n\n    .dataframe tbody tr th {\n        vertical-align: top;\n    }\n\n    .dataframe thead th {\n        text-align: right;\n    }\n</style>\n<table border=\"1\" class=\"dataframe\">\n  <thead>\n    <tr style=\"text-align: right;\">\n      <th></th>\n      <th>Iteration</th>\n      <th>Time</th>\n      <th>Fitness</th>\n      <th>FEvals</th>\n      <th>Population Size</th>\n      <th>Mutation Rate</th>\n      <th>max_iters</th>\n    </tr>\n  </thead>\n  <tbody>\n    <tr>\n      <th>187</th>\n      <td>187</td>\n      <td>0.904126</td>\n      <td>7512.0</td>\n      <td>9609.0</td>\n      <td>50</td>\n      <td>0.1</td>\n      <td>16384</td>\n    </tr>\n    <tr>\n      <th>2509</th>\n      <td>51</td>\n      <td>0.260627</td>\n      <td>7512.0</td>\n      <td>5270.0</td>\n      <td>100</td>\n      <td>0.2</td>\n      <td>16384</td>\n    </tr>\n    <tr>\n      <th>3729</th>\n      <td>719</td>\n      <td>0.162891</td>\n      <td>7512.0</td>\n      <td>72736.0</td>\n      <td>100</td>\n      <td>0.5</td>\n      <td>16384</td>\n    </tr>\n    <tr>\n      <th>4268</th>\n      <td>38</td>\n      <td>0.195156</td>\n      <td>7512.0</td>\n      <td>19555.0</td>\n      <td>500</td>\n      <td>0.1</td>\n      <td>16384</td>\n    </tr>\n    <tr>\n      <th>4798</th>\n      <td>29</td>\n      <td>0.149198</td>\n      <td>7512.0</td>\n      <td>15045.0</td>\n      <td>500</td>\n      <td>0.2</td>\n      <td>16384</td>\n    </tr>\n    <tr>\n      <th>5449</th>\n      <td>150</td>\n      <td>0.729620</td>\n      <td>7512.0</td>\n      <td>75670.0</td>\n      <td>500</td>\n      <td>0.5</td>\n      <td>16384</td>\n    </tr>\n    <tr>\n      <th>5982</th>\n      <td>32</td>\n      <td>0.162739</td>\n      <td>7512.0</td>\n      <td>33050.0</td>\n      <td>1000</td>\n      <td>0.1</td>\n      <td>16384</td>\n    </tr>\n    <tr>\n      <th>6518</th>\n      <td>35</td>\n      <td>0.181695</td>\n      <td>7512.0</td>\n      <td>36055.0</td>\n      <td>1000</td>\n      <td>0.2</td>\n      <td>16384</td>\n    </tr>\n    <tr>\n      <th>7058</th>\n      <td>39</td>\n      <td>0.199752</td>\n      <td>7512.0</td>\n      <td>40057.0</td>\n      <td>1000</td>\n      <td>0.5</td>\n      <td>16384</td>\n    </tr>\n  </tbody>\n</table>\n</div>",
       "datasetInfos": [],
       "metadata": {},
       "removedWidgets": [],
       "textData": null,
       "type": "htmlSandbox"
      }
     },
     "output_type": "display_data"
    }
   ],
   "source": [
    "# Best runs\n",
    "best_fitness = df_run_curves_ga['Fitness'].max()\n",
    "best_runs = df_run_curves_ga[df_run_curves_ga['Fitness'] == best_fitness].drop_duplicates(subset=['Population Size', 'Mutation Rate'])\n",
    "best_runs"
   ]
  },
  {
   "cell_type": "code",
   "execution_count": 0,
   "metadata": {
    "application/vnd.databricks.v1+cell": {
     "inputWidgets": {},
     "nuid": "0675e569-d232-44b7-bd18-f65ba3ad3f92",
     "showTitle": false,
     "title": ""
    }
   },
   "outputs": [
    {
     "data": {
      "text/html": [
       "<style scoped>\n",
       "  .ansiout {\n",
       "    display: block;\n",
       "    unicode-bidi: embed;\n",
       "    white-space: pre-wrap;\n",
       "    word-wrap: break-word;\n",
       "    word-break: break-all;\n",
       "    font-family: \"Source Code Pro\", \"Menlo\", monospace;;\n",
       "    font-size: 13px;\n",
       "    color: #555;\n",
       "    margin-left: 4px;\n",
       "    line-height: 19px;\n",
       "  }\n",
       "</style>\n",
       "<div class=\"ansiout\">(552, 4)\n",
       "Out[17]: </div>"
      ]
     },
     "metadata": {
      "application/vnd.databricks.v1+output": {
       "addedWidgets": {},
       "arguments": {},
       "data": "<div class=\"ansiout\">(552, 4)\nOut[17]: </div>",
       "datasetInfos": [],
       "metadata": {},
       "removedWidgets": [],
       "type": "html"
      }
     },
     "output_type": "display_data"
    },
    {
     "data": {
      "text/html": [
       "<div>\n",
       "<style scoped>\n",
       "    .dataframe tbody tr th:only-of-type {\n",
       "        vertical-align: middle;\n",
       "    }\n",
       "\n",
       "    .dataframe tbody tr th {\n",
       "        vertical-align: top;\n",
       "    }\n",
       "\n",
       "    .dataframe thead th {\n",
       "        text-align: right;\n",
       "    }\n",
       "</style>\n",
       "<table border=\"1\" class=\"dataframe\">\n",
       "  <thead>\n",
       "    <tr style=\"text-align: right;\">\n",
       "      <th></th>\n",
       "      <th>Iteration</th>\n",
       "      <th>Time</th>\n",
       "      <th>Fitness</th>\n",
       "      <th>FEvals</th>\n",
       "    </tr>\n",
       "  </thead>\n",
       "  <tbody>\n",
       "    <tr>\n",
       "      <th>2458</th>\n",
       "      <td>0</td>\n",
       "      <td>0.002048</td>\n",
       "      <td>0.0</td>\n",
       "      <td>100.0</td>\n",
       "    </tr>\n",
       "    <tr>\n",
       "      <th>2459</th>\n",
       "      <td>1</td>\n",
       "      <td>0.009181</td>\n",
       "      <td>5931.0</td>\n",
       "      <td>202.0</td>\n",
       "    </tr>\n",
       "    <tr>\n",
       "      <th>2460</th>\n",
       "      <td>2</td>\n",
       "      <td>0.016032</td>\n",
       "      <td>6054.0</td>\n",
       "      <td>304.0</td>\n",
       "    </tr>\n",
       "    <tr>\n",
       "      <th>2461</th>\n",
       "      <td>3</td>\n",
       "      <td>0.022837</td>\n",
       "      <td>6054.0</td>\n",
       "      <td>405.0</td>\n",
       "    </tr>\n",
       "    <tr>\n",
       "      <th>2462</th>\n",
       "      <td>4</td>\n",
       "      <td>0.027398</td>\n",
       "      <td>6054.0</td>\n",
       "      <td>506.0</td>\n",
       "    </tr>\n",
       "  </tbody>\n",
       "</table>\n",
       "</div>"
      ]
     },
     "metadata": {
      "application/vnd.databricks.v1+output": {
       "addedWidgets": {},
       "arguments": {},
       "data": "<div>\n<style scoped>\n    .dataframe tbody tr th:only-of-type {\n        vertical-align: middle;\n    }\n\n    .dataframe tbody tr th {\n        vertical-align: top;\n    }\n\n    .dataframe thead th {\n        text-align: right;\n    }\n</style>\n<table border=\"1\" class=\"dataframe\">\n  <thead>\n    <tr style=\"text-align: right;\">\n      <th></th>\n      <th>Iteration</th>\n      <th>Time</th>\n      <th>Fitness</th>\n      <th>FEvals</th>\n    </tr>\n  </thead>\n  <tbody>\n    <tr>\n      <th>2458</th>\n      <td>0</td>\n      <td>0.002048</td>\n      <td>0.0</td>\n      <td>100.0</td>\n    </tr>\n    <tr>\n      <th>2459</th>\n      <td>1</td>\n      <td>0.009181</td>\n      <td>5931.0</td>\n      <td>202.0</td>\n    </tr>\n    <tr>\n      <th>2460</th>\n      <td>2</td>\n      <td>0.016032</td>\n      <td>6054.0</td>\n      <td>304.0</td>\n    </tr>\n    <tr>\n      <th>2461</th>\n      <td>3</td>\n      <td>0.022837</td>\n      <td>6054.0</td>\n      <td>405.0</td>\n    </tr>\n    <tr>\n      <th>2462</th>\n      <td>4</td>\n      <td>0.027398</td>\n      <td>6054.0</td>\n      <td>506.0</td>\n    </tr>\n  </tbody>\n</table>\n</div>",
       "datasetInfos": [],
       "metadata": {},
       "removedWidgets": [],
       "textData": null,
       "type": "htmlSandbox"
      }
     },
     "output_type": "display_data"
    }
   ],
   "source": [
    "# df_run_curves_ga['Population Size'] = df_run_curves_ga['Population Size'].apply(lambda x: float(str(x)))\n",
    "# df_run_curves_ga['Mutation Rate'] = df_run_curves_ga['Mutation Rate'].apply(lambda x: float(str(x)))\n",
    "\n",
    "gac = df_run_curves_ga[(df_run_curves_ga['Population Size'] == 100) & ((df_run_curves_ga['Mutation Rate'] == 0.2))]\n",
    "gac = gac[['Iteration', 'Time', 'Fitness', 'FEvals']]\n",
    "\n",
    "print(gac.shape)\n",
    "gac.head()"
   ]
  },
  {
   "cell_type": "code",
   "execution_count": 0,
   "metadata": {
    "application/vnd.databricks.v1+cell": {
     "inputWidgets": {},
     "nuid": "a7e7562f-020c-4156-9013-16b6b1c6a10f",
     "showTitle": true,
     "title": "MIMIC"
    }
   },
   "outputs": [
    {
     "data": {
      "text/html": [
       "<style scoped>\n",
       "  .ansiout {\n",
       "    display: block;\n",
       "    unicode-bidi: embed;\n",
       "    white-space: pre-wrap;\n",
       "    word-wrap: break-word;\n",
       "    word-break: break-all;\n",
       "    font-family: \"Source Code Pro\", \"Menlo\", monospace;;\n",
       "    font-size: 13px;\n",
       "    color: #555;\n",
       "    margin-left: 4px;\n",
       "    line-height: 19px;\n",
       "  }\n",
       "</style>\n",
       "<div class=\"ansiout\"></div>"
      ]
     },
     "metadata": {
      "application/vnd.databricks.v1+output": {
       "addedWidgets": {},
       "arguments": {},
       "data": "<div class=\"ansiout\"></div>",
       "datasetInfos": [],
       "metadata": {},
       "removedWidgets": [],
       "type": "html"
      }
     },
     "output_type": "display_data"
    }
   ],
   "source": [
    "mimic = MIMICRunner(problem = problem,\n",
    "                    experiment_name = 'queens-8-mimic',\n",
    "                    output_directory = None,\n",
    "                    seed = 42,\n",
    "                    iteration_list = 2 ** np.arange(15),\n",
    "                    population_sizes = [500],\n",
    "                    keep_percent_list = [0.5],\n",
    "                    max_attempts=500,\n",
    "                    generate_curves=True,\n",
    "                    use_fast_mimic=False)\n",
    "\n",
    "# run the optimization algorithm\n",
    "df_run_stats_mimic, df_run_curves_mimic = mimic.run()"
   ]
  },
  {
   "cell_type": "code",
   "execution_count": 0,
   "metadata": {
    "application/vnd.databricks.v1+cell": {
     "inputWidgets": {},
     "nuid": "272596bc-fbfb-42fd-9ad2-ac184b9bc287",
     "showTitle": false,
     "title": ""
    }
   },
   "outputs": [
    {
     "data": {
      "text/html": [
       "<style scoped>\n",
       "  .ansiout {\n",
       "    display: block;\n",
       "    unicode-bidi: embed;\n",
       "    white-space: pre-wrap;\n",
       "    word-wrap: break-word;\n",
       "    word-break: break-all;\n",
       "    font-family: \"Source Code Pro\", \"Menlo\", monospace;;\n",
       "    font-size: 13px;\n",
       "    color: #555;\n",
       "    margin-left: 4px;\n",
       "    line-height: 19px;\n",
       "  }\n",
       "</style>\n",
       "<div class=\"ansiout\">Out[20]: </div>"
      ]
     },
     "metadata": {
      "application/vnd.databricks.v1+output": {
       "addedWidgets": {},
       "arguments": {},
       "data": "<div class=\"ansiout\">Out[20]: </div>",
       "datasetInfos": [],
       "metadata": {},
       "removedWidgets": [],
       "type": "html"
      }
     },
     "output_type": "display_data"
    },
    {
     "data": {
      "text/html": [
       "<div>\n",
       "<style scoped>\n",
       "    .dataframe tbody tr th:only-of-type {\n",
       "        vertical-align: middle;\n",
       "    }\n",
       "\n",
       "    .dataframe tbody tr th {\n",
       "        vertical-align: top;\n",
       "    }\n",
       "\n",
       "    .dataframe thead th {\n",
       "        text-align: right;\n",
       "    }\n",
       "</style>\n",
       "<table border=\"1\" class=\"dataframe\">\n",
       "  <thead>\n",
       "    <tr style=\"text-align: right;\">\n",
       "      <th></th>\n",
       "      <th>Iteration</th>\n",
       "      <th>Time</th>\n",
       "      <th>Fitness</th>\n",
       "      <th>FEvals</th>\n",
       "      <th>use_fast_mimic</th>\n",
       "      <th>Population Size</th>\n",
       "      <th>Keep Percent</th>\n",
       "      <th>max_iters</th>\n",
       "    </tr>\n",
       "  </thead>\n",
       "  <tbody>\n",
       "    <tr>\n",
       "      <th>33</th>\n",
       "      <td>33</td>\n",
       "      <td>44.175914</td>\n",
       "      <td>6200.0</td>\n",
       "      <td>17036.0</td>\n",
       "      <td>False</td>\n",
       "      <td>500</td>\n",
       "      <td>0.5</td>\n",
       "      <td>16384</td>\n",
       "    </tr>\n",
       "    <tr>\n",
       "      <th>34</th>\n",
       "      <td>34</td>\n",
       "      <td>45.483385</td>\n",
       "      <td>6200.0</td>\n",
       "      <td>17537.0</td>\n",
       "      <td>False</td>\n",
       "      <td>500</td>\n",
       "      <td>0.5</td>\n",
       "      <td>16384</td>\n",
       "    </tr>\n",
       "    <tr>\n",
       "      <th>35</th>\n",
       "      <td>35</td>\n",
       "      <td>46.789425</td>\n",
       "      <td>6200.0</td>\n",
       "      <td>18038.0</td>\n",
       "      <td>False</td>\n",
       "      <td>500</td>\n",
       "      <td>0.5</td>\n",
       "      <td>16384</td>\n",
       "    </tr>\n",
       "    <tr>\n",
       "      <th>36</th>\n",
       "      <td>36</td>\n",
       "      <td>48.092720</td>\n",
       "      <td>6200.0</td>\n",
       "      <td>18539.0</td>\n",
       "      <td>False</td>\n",
       "      <td>500</td>\n",
       "      <td>0.5</td>\n",
       "      <td>16384</td>\n",
       "    </tr>\n",
       "    <tr>\n",
       "      <th>37</th>\n",
       "      <td>37</td>\n",
       "      <td>49.393238</td>\n",
       "      <td>6200.0</td>\n",
       "      <td>19040.0</td>\n",
       "      <td>False</td>\n",
       "      <td>500</td>\n",
       "      <td>0.5</td>\n",
       "      <td>16384</td>\n",
       "    </tr>\n",
       "    <tr>\n",
       "      <th>...</th>\n",
       "      <td>...</td>\n",
       "      <td>...</td>\n",
       "      <td>...</td>\n",
       "      <td>...</td>\n",
       "      <td>...</td>\n",
       "      <td>...</td>\n",
       "      <td>...</td>\n",
       "      <td>...</td>\n",
       "    </tr>\n",
       "    <tr>\n",
       "      <th>529</th>\n",
       "      <td>529</td>\n",
       "      <td>687.101345</td>\n",
       "      <td>6200.0</td>\n",
       "      <td>265532.0</td>\n",
       "      <td>False</td>\n",
       "      <td>500</td>\n",
       "      <td>0.5</td>\n",
       "      <td>16384</td>\n",
       "    </tr>\n",
       "    <tr>\n",
       "      <th>530</th>\n",
       "      <td>530</td>\n",
       "      <td>688.362999</td>\n",
       "      <td>6200.0</td>\n",
       "      <td>266033.0</td>\n",
       "      <td>False</td>\n",
       "      <td>500</td>\n",
       "      <td>0.5</td>\n",
       "      <td>16384</td>\n",
       "    </tr>\n",
       "    <tr>\n",
       "      <th>531</th>\n",
       "      <td>531</td>\n",
       "      <td>689.620353</td>\n",
       "      <td>6200.0</td>\n",
       "      <td>266534.0</td>\n",
       "      <td>False</td>\n",
       "      <td>500</td>\n",
       "      <td>0.5</td>\n",
       "      <td>16384</td>\n",
       "    </tr>\n",
       "    <tr>\n",
       "      <th>532</th>\n",
       "      <td>532</td>\n",
       "      <td>690.892304</td>\n",
       "      <td>6200.0</td>\n",
       "      <td>267035.0</td>\n",
       "      <td>False</td>\n",
       "      <td>500</td>\n",
       "      <td>0.5</td>\n",
       "      <td>16384</td>\n",
       "    </tr>\n",
       "    <tr>\n",
       "      <th>533</th>\n",
       "      <td>533</td>\n",
       "      <td>692.152116</td>\n",
       "      <td>6200.0</td>\n",
       "      <td>267536.0</td>\n",
       "      <td>False</td>\n",
       "      <td>500</td>\n",
       "      <td>0.5</td>\n",
       "      <td>16384</td>\n",
       "    </tr>\n",
       "  </tbody>\n",
       "</table>\n",
       "<p>501 rows × 8 columns</p>\n",
       "</div>"
      ]
     },
     "metadata": {
      "application/vnd.databricks.v1+output": {
       "addedWidgets": {},
       "arguments": {},
       "data": "<div>\n<style scoped>\n    .dataframe tbody tr th:only-of-type {\n        vertical-align: middle;\n    }\n\n    .dataframe tbody tr th {\n        vertical-align: top;\n    }\n\n    .dataframe thead th {\n        text-align: right;\n    }\n</style>\n<table border=\"1\" class=\"dataframe\">\n  <thead>\n    <tr style=\"text-align: right;\">\n      <th></th>\n      <th>Iteration</th>\n      <th>Time</th>\n      <th>Fitness</th>\n      <th>FEvals</th>\n      <th>use_fast_mimic</th>\n      <th>Population Size</th>\n      <th>Keep Percent</th>\n      <th>max_iters</th>\n    </tr>\n  </thead>\n  <tbody>\n    <tr>\n      <th>33</th>\n      <td>33</td>\n      <td>44.175914</td>\n      <td>6200.0</td>\n      <td>17036.0</td>\n      <td>False</td>\n      <td>500</td>\n      <td>0.5</td>\n      <td>16384</td>\n    </tr>\n    <tr>\n      <th>34</th>\n      <td>34</td>\n      <td>45.483385</td>\n      <td>6200.0</td>\n      <td>17537.0</td>\n      <td>False</td>\n      <td>500</td>\n      <td>0.5</td>\n      <td>16384</td>\n    </tr>\n    <tr>\n      <th>35</th>\n      <td>35</td>\n      <td>46.789425</td>\n      <td>6200.0</td>\n      <td>18038.0</td>\n      <td>False</td>\n      <td>500</td>\n      <td>0.5</td>\n      <td>16384</td>\n    </tr>\n    <tr>\n      <th>36</th>\n      <td>36</td>\n      <td>48.092720</td>\n      <td>6200.0</td>\n      <td>18539.0</td>\n      <td>False</td>\n      <td>500</td>\n      <td>0.5</td>\n      <td>16384</td>\n    </tr>\n    <tr>\n      <th>37</th>\n      <td>37</td>\n      <td>49.393238</td>\n      <td>6200.0</td>\n      <td>19040.0</td>\n      <td>False</td>\n      <td>500</td>\n      <td>0.5</td>\n      <td>16384</td>\n    </tr>\n    <tr>\n      <th>...</th>\n      <td>...</td>\n      <td>...</td>\n      <td>...</td>\n      <td>...</td>\n      <td>...</td>\n      <td>...</td>\n      <td>...</td>\n      <td>...</td>\n    </tr>\n    <tr>\n      <th>529</th>\n      <td>529</td>\n      <td>687.101345</td>\n      <td>6200.0</td>\n      <td>265532.0</td>\n      <td>False</td>\n      <td>500</td>\n      <td>0.5</td>\n      <td>16384</td>\n    </tr>\n    <tr>\n      <th>530</th>\n      <td>530</td>\n      <td>688.362999</td>\n      <td>6200.0</td>\n      <td>266033.0</td>\n      <td>False</td>\n      <td>500</td>\n      <td>0.5</td>\n      <td>16384</td>\n    </tr>\n    <tr>\n      <th>531</th>\n      <td>531</td>\n      <td>689.620353</td>\n      <td>6200.0</td>\n      <td>266534.0</td>\n      <td>False</td>\n      <td>500</td>\n      <td>0.5</td>\n      <td>16384</td>\n    </tr>\n    <tr>\n      <th>532</th>\n      <td>532</td>\n      <td>690.892304</td>\n      <td>6200.0</td>\n      <td>267035.0</td>\n      <td>False</td>\n      <td>500</td>\n      <td>0.5</td>\n      <td>16384</td>\n    </tr>\n    <tr>\n      <th>533</th>\n      <td>533</td>\n      <td>692.152116</td>\n      <td>6200.0</td>\n      <td>267536.0</td>\n      <td>False</td>\n      <td>500</td>\n      <td>0.5</td>\n      <td>16384</td>\n    </tr>\n  </tbody>\n</table>\n<p>501 rows × 8 columns</p>\n</div>",
       "datasetInfos": [],
       "metadata": {},
       "removedWidgets": [],
       "textData": null,
       "type": "htmlSandbox"
      }
     },
     "output_type": "display_data"
    }
   ],
   "source": [
    "# Best runs\n",
    "best_fitness = df_run_curves_mimic['Fitness'].max()\n",
    "best_runs = df_run_curves_mimic[df_run_curves_mimic['Fitness'] == best_fitness]\n",
    "best_runs"
   ]
  },
  {
   "cell_type": "code",
   "execution_count": 0,
   "metadata": {
    "application/vnd.databricks.v1+cell": {
     "inputWidgets": {},
     "nuid": "87f3ac08-37a4-4679-a1d0-551cab6f4e92",
     "showTitle": false,
     "title": ""
    }
   },
   "outputs": [
    {
     "data": {
      "text/html": [
       "<style scoped>\n",
       "  .ansiout {\n",
       "    display: block;\n",
       "    unicode-bidi: embed;\n",
       "    white-space: pre-wrap;\n",
       "    word-wrap: break-word;\n",
       "    word-break: break-all;\n",
       "    font-family: \"Source Code Pro\", \"Menlo\", monospace;;\n",
       "    font-size: 13px;\n",
       "    color: #555;\n",
       "    margin-left: 4px;\n",
       "    line-height: 19px;\n",
       "  }\n",
       "</style>\n",
       "<div class=\"ansiout\">(534, 4)\n",
       "Out[21]: </div>"
      ]
     },
     "metadata": {
      "application/vnd.databricks.v1+output": {
       "addedWidgets": {},
       "arguments": {},
       "data": "<div class=\"ansiout\">(534, 4)\nOut[21]: </div>",
       "datasetInfos": [],
       "metadata": {},
       "removedWidgets": [],
       "type": "html"
      }
     },
     "output_type": "display_data"
    },
    {
     "data": {
      "text/html": [
       "<div>\n",
       "<style scoped>\n",
       "    .dataframe tbody tr th:only-of-type {\n",
       "        vertical-align: middle;\n",
       "    }\n",
       "\n",
       "    .dataframe tbody tr th {\n",
       "        vertical-align: top;\n",
       "    }\n",
       "\n",
       "    .dataframe thead th {\n",
       "        text-align: right;\n",
       "    }\n",
       "</style>\n",
       "<table border=\"1\" class=\"dataframe\">\n",
       "  <thead>\n",
       "    <tr style=\"text-align: right;\">\n",
       "      <th></th>\n",
       "      <th>Iteration</th>\n",
       "      <th>Time</th>\n",
       "      <th>Fitness</th>\n",
       "      <th>FEvals</th>\n",
       "    </tr>\n",
       "  </thead>\n",
       "  <tbody>\n",
       "    <tr>\n",
       "      <th>0</th>\n",
       "      <td>0</td>\n",
       "      <td>0.020781</td>\n",
       "      <td>0.0</td>\n",
       "      <td>500.0</td>\n",
       "    </tr>\n",
       "    <tr>\n",
       "      <th>1</th>\n",
       "      <td>1</td>\n",
       "      <td>1.236067</td>\n",
       "      <td>5778.0</td>\n",
       "      <td>1002.0</td>\n",
       "    </tr>\n",
       "    <tr>\n",
       "      <th>2</th>\n",
       "      <td>2</td>\n",
       "      <td>2.526524</td>\n",
       "      <td>5778.0</td>\n",
       "      <td>1503.0</td>\n",
       "    </tr>\n",
       "    <tr>\n",
       "      <th>3</th>\n",
       "      <td>3</td>\n",
       "      <td>3.821580</td>\n",
       "      <td>5778.0</td>\n",
       "      <td>2004.0</td>\n",
       "    </tr>\n",
       "    <tr>\n",
       "      <th>4</th>\n",
       "      <td>4</td>\n",
       "      <td>5.126549</td>\n",
       "      <td>6199.0</td>\n",
       "      <td>2506.0</td>\n",
       "    </tr>\n",
       "  </tbody>\n",
       "</table>\n",
       "</div>"
      ]
     },
     "metadata": {
      "application/vnd.databricks.v1+output": {
       "addedWidgets": {},
       "arguments": {},
       "data": "<div>\n<style scoped>\n    .dataframe tbody tr th:only-of-type {\n        vertical-align: middle;\n    }\n\n    .dataframe tbody tr th {\n        vertical-align: top;\n    }\n\n    .dataframe thead th {\n        text-align: right;\n    }\n</style>\n<table border=\"1\" class=\"dataframe\">\n  <thead>\n    <tr style=\"text-align: right;\">\n      <th></th>\n      <th>Iteration</th>\n      <th>Time</th>\n      <th>Fitness</th>\n      <th>FEvals</th>\n    </tr>\n  </thead>\n  <tbody>\n    <tr>\n      <th>0</th>\n      <td>0</td>\n      <td>0.020781</td>\n      <td>0.0</td>\n      <td>500.0</td>\n    </tr>\n    <tr>\n      <th>1</th>\n      <td>1</td>\n      <td>1.236067</td>\n      <td>5778.0</td>\n      <td>1002.0</td>\n    </tr>\n    <tr>\n      <th>2</th>\n      <td>2</td>\n      <td>2.526524</td>\n      <td>5778.0</td>\n      <td>1503.0</td>\n    </tr>\n    <tr>\n      <th>3</th>\n      <td>3</td>\n      <td>3.821580</td>\n      <td>5778.0</td>\n      <td>2004.0</td>\n    </tr>\n    <tr>\n      <th>4</th>\n      <td>4</td>\n      <td>5.126549</td>\n      <td>6199.0</td>\n      <td>2506.0</td>\n    </tr>\n  </tbody>\n</table>\n</div>",
       "datasetInfos": [],
       "metadata": {},
       "removedWidgets": [],
       "textData": null,
       "type": "htmlSandbox"
      }
     },
     "output_type": "display_data"
    }
   ],
   "source": [
    "mmc = df_run_curves_mimic[(df_run_curves_mimic['Population Size'] == 500) & ((df_run_curves_mimic['Keep Percent'] == 0.5))]\n",
    "mmc = mmc[['Iteration', 'Time', 'Fitness', 'FEvals']]\n",
    "\n",
    "print(mmc.shape)\n",
    "mmc.head()"
   ]
  },
  {
   "cell_type": "code",
   "execution_count": 0,
   "metadata": {
    "application/vnd.databricks.v1+cell": {
     "inputWidgets": {},
     "nuid": "e563cbfe-9133-4565-b31e-3a13751cc4ff",
     "showTitle": true,
     "title": "combine data for all algorithms"
    }
   },
   "outputs": [
    {
     "data": {
      "text/html": [
       "<style scoped>\n",
       "  .ansiout {\n",
       "    display: block;\n",
       "    unicode-bidi: embed;\n",
       "    white-space: pre-wrap;\n",
       "    word-wrap: break-word;\n",
       "    word-break: break-all;\n",
       "    font-family: \"Source Code Pro\", \"Menlo\", monospace;;\n",
       "    font-size: 13px;\n",
       "    color: #555;\n",
       "    margin-left: 4px;\n",
       "    line-height: 19px;\n",
       "  }\n",
       "</style>\n",
       "<div class=\"ansiout\">(2264, 13)\n",
       "Out[22]: </div>"
      ]
     },
     "metadata": {
      "application/vnd.databricks.v1+output": {
       "addedWidgets": {},
       "arguments": {},
       "data": "<div class=\"ansiout\">(2264, 13)\nOut[22]: </div>",
       "datasetInfos": [],
       "metadata": {},
       "removedWidgets": [],
       "type": "html"
      }
     },
     "output_type": "display_data"
    },
    {
     "data": {
      "text/html": [
       "<div>\n",
       "<style scoped>\n",
       "    .dataframe tbody tr th:only-of-type {\n",
       "        vertical-align: middle;\n",
       "    }\n",
       "\n",
       "    .dataframe tbody tr th {\n",
       "        vertical-align: top;\n",
       "    }\n",
       "\n",
       "    .dataframe thead th {\n",
       "        text-align: right;\n",
       "    }\n",
       "</style>\n",
       "<table border=\"1\" class=\"dataframe\">\n",
       "  <thead>\n",
       "    <tr style=\"text-align: right;\">\n",
       "      <th></th>\n",
       "      <th>Iteration</th>\n",
       "      <th>TimeSA</th>\n",
       "      <th>FitnessSA</th>\n",
       "      <th>FEvalsSA</th>\n",
       "      <th>TimeRHC</th>\n",
       "      <th>FitnessRHC</th>\n",
       "      <th>FEvalsRHC</th>\n",
       "      <th>TimeGA</th>\n",
       "      <th>FitnessGA</th>\n",
       "      <th>FEvalsGA</th>\n",
       "      <th>TimeMIMIC</th>\n",
       "      <th>FitnessMIMIC</th>\n",
       "      <th>FEvalsMIMIC</th>\n",
       "    </tr>\n",
       "  </thead>\n",
       "  <tbody>\n",
       "    <tr>\n",
       "      <th>0</th>\n",
       "      <td>0</td>\n",
       "      <td>0.000178</td>\n",
       "      <td>0.0</td>\n",
       "      <td>0.0</td>\n",
       "      <td>NaN</td>\n",
       "      <td>NaN</td>\n",
       "      <td>NaN</td>\n",
       "      <td>0.002048</td>\n",
       "      <td>0.0</td>\n",
       "      <td>100.0</td>\n",
       "      <td>0.020781</td>\n",
       "      <td>0.0</td>\n",
       "      <td>500.0</td>\n",
       "    </tr>\n",
       "    <tr>\n",
       "      <th>1</th>\n",
       "      <td>1</td>\n",
       "      <td>0.002997</td>\n",
       "      <td>0.0</td>\n",
       "      <td>2.0</td>\n",
       "      <td>0.004541</td>\n",
       "      <td>2810.0</td>\n",
       "      <td>5099.0</td>\n",
       "      <td>0.009181</td>\n",
       "      <td>5931.0</td>\n",
       "      <td>202.0</td>\n",
       "      <td>1.236067</td>\n",
       "      <td>5778.0</td>\n",
       "      <td>1002.0</td>\n",
       "    </tr>\n",
       "    <tr>\n",
       "      <th>2</th>\n",
       "      <td>2</td>\n",
       "      <td>0.005761</td>\n",
       "      <td>0.0</td>\n",
       "      <td>4.0</td>\n",
       "      <td>0.007004</td>\n",
       "      <td>3084.0</td>\n",
       "      <td>5101.0</td>\n",
       "      <td>0.016032</td>\n",
       "      <td>6054.0</td>\n",
       "      <td>304.0</td>\n",
       "      <td>2.526524</td>\n",
       "      <td>5778.0</td>\n",
       "      <td>1503.0</td>\n",
       "    </tr>\n",
       "    <tr>\n",
       "      <th>3</th>\n",
       "      <td>3</td>\n",
       "      <td>0.008379</td>\n",
       "      <td>0.0</td>\n",
       "      <td>6.0</td>\n",
       "      <td>0.009476</td>\n",
       "      <td>3167.0</td>\n",
       "      <td>5103.0</td>\n",
       "      <td>0.022837</td>\n",
       "      <td>6054.0</td>\n",
       "      <td>405.0</td>\n",
       "      <td>3.821580</td>\n",
       "      <td>5778.0</td>\n",
       "      <td>2004.0</td>\n",
       "    </tr>\n",
       "    <tr>\n",
       "      <th>4</th>\n",
       "      <td>4</td>\n",
       "      <td>0.008487</td>\n",
       "      <td>0.0</td>\n",
       "      <td>8.0</td>\n",
       "      <td>0.009548</td>\n",
       "      <td>3292.0</td>\n",
       "      <td>5105.0</td>\n",
       "      <td>0.027398</td>\n",
       "      <td>6054.0</td>\n",
       "      <td>506.0</td>\n",
       "      <td>5.126549</td>\n",
       "      <td>6199.0</td>\n",
       "      <td>2506.0</td>\n",
       "    </tr>\n",
       "  </tbody>\n",
       "</table>\n",
       "</div>"
      ]
     },
     "metadata": {
      "application/vnd.databricks.v1+output": {
       "addedWidgets": {},
       "arguments": {},
       "data": "<div>\n<style scoped>\n    .dataframe tbody tr th:only-of-type {\n        vertical-align: middle;\n    }\n\n    .dataframe tbody tr th {\n        vertical-align: top;\n    }\n\n    .dataframe thead th {\n        text-align: right;\n    }\n</style>\n<table border=\"1\" class=\"dataframe\">\n  <thead>\n    <tr style=\"text-align: right;\">\n      <th></th>\n      <th>Iteration</th>\n      <th>TimeSA</th>\n      <th>FitnessSA</th>\n      <th>FEvalsSA</th>\n      <th>TimeRHC</th>\n      <th>FitnessRHC</th>\n      <th>FEvalsRHC</th>\n      <th>TimeGA</th>\n      <th>FitnessGA</th>\n      <th>FEvalsGA</th>\n      <th>TimeMIMIC</th>\n      <th>FitnessMIMIC</th>\n      <th>FEvalsMIMIC</th>\n    </tr>\n  </thead>\n  <tbody>\n    <tr>\n      <th>0</th>\n      <td>0</td>\n      <td>0.000178</td>\n      <td>0.0</td>\n      <td>0.0</td>\n      <td>NaN</td>\n      <td>NaN</td>\n      <td>NaN</td>\n      <td>0.002048</td>\n      <td>0.0</td>\n      <td>100.0</td>\n      <td>0.020781</td>\n      <td>0.0</td>\n      <td>500.0</td>\n    </tr>\n    <tr>\n      <th>1</th>\n      <td>1</td>\n      <td>0.002997</td>\n      <td>0.0</td>\n      <td>2.0</td>\n      <td>0.004541</td>\n      <td>2810.0</td>\n      <td>5099.0</td>\n      <td>0.009181</td>\n      <td>5931.0</td>\n      <td>202.0</td>\n      <td>1.236067</td>\n      <td>5778.0</td>\n      <td>1002.0</td>\n    </tr>\n    <tr>\n      <th>2</th>\n      <td>2</td>\n      <td>0.005761</td>\n      <td>0.0</td>\n      <td>4.0</td>\n      <td>0.007004</td>\n      <td>3084.0</td>\n      <td>5101.0</td>\n      <td>0.016032</td>\n      <td>6054.0</td>\n      <td>304.0</td>\n      <td>2.526524</td>\n      <td>5778.0</td>\n      <td>1503.0</td>\n    </tr>\n    <tr>\n      <th>3</th>\n      <td>3</td>\n      <td>0.008379</td>\n      <td>0.0</td>\n      <td>6.0</td>\n      <td>0.009476</td>\n      <td>3167.0</td>\n      <td>5103.0</td>\n      <td>0.022837</td>\n      <td>6054.0</td>\n      <td>405.0</td>\n      <td>3.821580</td>\n      <td>5778.0</td>\n      <td>2004.0</td>\n    </tr>\n    <tr>\n      <th>4</th>\n      <td>4</td>\n      <td>0.008487</td>\n      <td>0.0</td>\n      <td>8.0</td>\n      <td>0.009548</td>\n      <td>3292.0</td>\n      <td>5105.0</td>\n      <td>0.027398</td>\n      <td>6054.0</td>\n      <td>506.0</td>\n      <td>5.126549</td>\n      <td>6199.0</td>\n      <td>2506.0</td>\n    </tr>\n  </tbody>\n</table>\n</div>",
       "datasetInfos": [],
       "metadata": {},
       "removedWidgets": [],
       "textData": null,
       "type": "htmlSandbox"
      }
     },
     "output_type": "display_data"
    }
   ],
   "source": [
    "# combine dataframes\n",
    "comb_df = sac.merge(rhc, how='left', on='Iteration')\n",
    "comb_df = comb_df.merge(gac, how='left', on='Iteration')\n",
    "comb_df = comb_df.merge(mmc, how='left', on='Iteration')\n",
    "comb_df.columns = ['Iteration', 'TimeSA', 'FitnessSA', 'FEvalsSA', 'TimeRHC', 'FitnessRHC', 'FEvalsRHC', 'TimeGA', 'FitnessGA', 'FEvalsGA', 'TimeMIMIC', 'FitnessMIMIC', 'FEvalsMIMIC']\n",
    "\n",
    "print(comb_df.shape)\n",
    "comb_df.head()"
   ]
  },
  {
   "cell_type": "code",
   "execution_count": 0,
   "metadata": {
    "application/vnd.databricks.v1+cell": {
     "inputWidgets": {},
     "nuid": "b91a530d-9e7e-416c-a138-302ac85018f8",
     "showTitle": false,
     "title": ""
    }
   },
   "outputs": [
    {
     "data": {
      "text/html": [
       "<style scoped>\n",
       "  .ansiout {\n",
       "    display: block;\n",
       "    unicode-bidi: embed;\n",
       "    white-space: pre-wrap;\n",
       "    word-wrap: break-word;\n",
       "    word-break: break-all;\n",
       "    font-family: \"Source Code Pro\", \"Menlo\", monospace;;\n",
       "    font-size: 13px;\n",
       "    color: #555;\n",
       "    margin-left: 4px;\n",
       "    line-height: 19px;\n",
       "  }\n",
       "</style>\n",
       "<div class=\"ansiout\">Out[23]: </div>"
      ]
     },
     "metadata": {
      "application/vnd.databricks.v1+output": {
       "addedWidgets": {},
       "arguments": {},
       "data": "<div class=\"ansiout\">Out[23]: </div>",
       "datasetInfos": [],
       "metadata": {},
       "removedWidgets": [],
       "type": "html"
      }
     },
     "output_type": "display_data"
    },
    {
     "data": {
      "text/html": [
       "<div>\n",
       "<style scoped>\n",
       "    .dataframe tbody tr th:only-of-type {\n",
       "        vertical-align: middle;\n",
       "    }\n",
       "\n",
       "    .dataframe tbody tr th {\n",
       "        vertical-align: top;\n",
       "    }\n",
       "\n",
       "    .dataframe thead th {\n",
       "        text-align: right;\n",
       "    }\n",
       "</style>\n",
       "<table border=\"1\" class=\"dataframe\">\n",
       "  <thead>\n",
       "    <tr style=\"text-align: right;\">\n",
       "      <th></th>\n",
       "      <th>Iteration</th>\n",
       "      <th>FitnessSA</th>\n",
       "      <th>FitnessRHC</th>\n",
       "      <th>FitnessGA</th>\n",
       "      <th>FitnessMIMIC</th>\n",
       "    </tr>\n",
       "  </thead>\n",
       "  <tbody>\n",
       "    <tr>\n",
       "      <th>0</th>\n",
       "      <td>0</td>\n",
       "      <td>0.0</td>\n",
       "      <td>0.0</td>\n",
       "      <td>0.0</td>\n",
       "      <td>0.0</td>\n",
       "    </tr>\n",
       "    <tr>\n",
       "      <th>1</th>\n",
       "      <td>1</td>\n",
       "      <td>0.0</td>\n",
       "      <td>2810.0</td>\n",
       "      <td>5931.0</td>\n",
       "      <td>5778.0</td>\n",
       "    </tr>\n",
       "    <tr>\n",
       "      <th>2</th>\n",
       "      <td>2</td>\n",
       "      <td>0.0</td>\n",
       "      <td>3084.0</td>\n",
       "      <td>6054.0</td>\n",
       "      <td>5778.0</td>\n",
       "    </tr>\n",
       "    <tr>\n",
       "      <th>3</th>\n",
       "      <td>3</td>\n",
       "      <td>0.0</td>\n",
       "      <td>3167.0</td>\n",
       "      <td>6054.0</td>\n",
       "      <td>5778.0</td>\n",
       "    </tr>\n",
       "    <tr>\n",
       "      <th>4</th>\n",
       "      <td>4</td>\n",
       "      <td>0.0</td>\n",
       "      <td>3292.0</td>\n",
       "      <td>6054.0</td>\n",
       "      <td>6199.0</td>\n",
       "    </tr>\n",
       "  </tbody>\n",
       "</table>\n",
       "</div>"
      ]
     },
     "metadata": {
      "application/vnd.databricks.v1+output": {
       "addedWidgets": {},
       "arguments": {},
       "data": "<div>\n<style scoped>\n    .dataframe tbody tr th:only-of-type {\n        vertical-align: middle;\n    }\n\n    .dataframe tbody tr th {\n        vertical-align: top;\n    }\n\n    .dataframe thead th {\n        text-align: right;\n    }\n</style>\n<table border=\"1\" class=\"dataframe\">\n  <thead>\n    <tr style=\"text-align: right;\">\n      <th></th>\n      <th>Iteration</th>\n      <th>FitnessSA</th>\n      <th>FitnessRHC</th>\n      <th>FitnessGA</th>\n      <th>FitnessMIMIC</th>\n    </tr>\n  </thead>\n  <tbody>\n    <tr>\n      <th>0</th>\n      <td>0</td>\n      <td>0.0</td>\n      <td>0.0</td>\n      <td>0.0</td>\n      <td>0.0</td>\n    </tr>\n    <tr>\n      <th>1</th>\n      <td>1</td>\n      <td>0.0</td>\n      <td>2810.0</td>\n      <td>5931.0</td>\n      <td>5778.0</td>\n    </tr>\n    <tr>\n      <th>2</th>\n      <td>2</td>\n      <td>0.0</td>\n      <td>3084.0</td>\n      <td>6054.0</td>\n      <td>5778.0</td>\n    </tr>\n    <tr>\n      <th>3</th>\n      <td>3</td>\n      <td>0.0</td>\n      <td>3167.0</td>\n      <td>6054.0</td>\n      <td>5778.0</td>\n    </tr>\n    <tr>\n      <th>4</th>\n      <td>4</td>\n      <td>0.0</td>\n      <td>3292.0</td>\n      <td>6054.0</td>\n      <td>6199.0</td>\n    </tr>\n  </tbody>\n</table>\n</div>",
       "datasetInfos": [],
       "metadata": {},
       "removedWidgets": [],
       "textData": null,
       "type": "htmlSandbox"
      }
     },
     "output_type": "display_data"
    }
   ],
   "source": [
    "fitness_df = comb_df[['Iteration', 'FitnessSA', 'FitnessRHC', 'FitnessGA', 'FitnessMIMIC']]\n",
    "fitness_df.loc[0, ['FitnessSA', 'FitnessRHC', 'FitnessGA', 'FitnessMIMIC']] = 0\n",
    "fitness_df['FitnessRHC'] = fitness_df['FitnessRHC'].fillna(fitness_df['FitnessRHC'].max())\n",
    "fitness_df['FitnessSA'] = fitness_df['FitnessSA'].fillna(fitness_df['FitnessSA'].max())\n",
    "fitness_df['FitnessGA'] = fitness_df['FitnessGA'].fillna(fitness_df['FitnessGA'].max())\n",
    "fitness_df['FitnessMIMIC'] = fitness_df['FitnessMIMIC'].fillna(fitness_df['FitnessMIMIC'].max())\n",
    "\n",
    "fitness_df.head()"
   ]
  },
  {
   "cell_type": "code",
   "execution_count": 0,
   "metadata": {
    "application/vnd.databricks.v1+cell": {
     "inputWidgets": {},
     "nuid": "e8fbbdd4-1e3d-446e-be51-8e1faa10825b",
     "showTitle": false,
     "title": ""
    }
   },
   "outputs": [
    {
     "data": {
      "image/png": "[encoded data removed]"
     },
     "metadata": {
      "application/vnd.databricks.v1+output": {
       "addedWidgets": {},
       "arguments": {},
       "data": "data:image/png;base64,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",
       "datasetInfos": [],
       "metadata": {
        "imageDimensions": {
         "height": 352,
         "width": 424
        }
       },
       "removedWidgets": [],
       "type": "image"
      },
      "image/png": {
       "height": 352,
       "width": 424
      }
     },
     "output_type": "display_data"
    }
   ],
   "source": [
    "fig = plt.figure(figsize=(6, 5))\n",
    "plt.style.use('ggplot')\n",
    "\n",
    "# Train curve\n",
    "plt.title(\"Knapsack: Iterations to Convergence\", size = 16 )\n",
    "plt.xlabel(r\"Iterations\", size = 16)\n",
    "plt.ylabel(\"Algorithm Fitness Score\", size = 16)\n",
    "plt.xlim(-50, 1600)\n",
    "\n",
    "plt.xticks(size = 12)\n",
    "plt.yticks(size = 12)\n",
    "plt.plot(fitness_df['Iteration'], fitness_df['FitnessRHC'], label=\"RHC\", lw=3)\n",
    "plt.plot(fitness_df['Iteration'], fitness_df['FitnessSA'], label=\"SA\", lw=3)\n",
    "plt.plot(fitness_df['Iteration'], fitness_df['FitnessGA'], label=\"GA\", lw=3)\n",
    "plt.plot(fitness_df['Iteration'], fitness_df['FitnessMIMIC'], label=\"MIMIC\", lw=3)\n",
    "\n",
    "plt.legend(loc='best', fontsize=12)\n",
    "plt.tight_layout()"
   ]
  },
  {
   "cell_type": "code",
   "execution_count": 0,
   "metadata": {
    "application/vnd.databricks.v1+cell": {
     "inputWidgets": {},
     "nuid": "f08b1b8d-5c45-4479-b4fb-c1851ba9f88d",
     "showTitle": false,
     "title": ""
    }
   },
   "outputs": [
    {
     "data": {
      "text/html": [
       "<style scoped>\n",
       "  .ansiout {\n",
       "    display: block;\n",
       "    unicode-bidi: embed;\n",
       "    white-space: pre-wrap;\n",
       "    word-wrap: break-word;\n",
       "    word-break: break-all;\n",
       "    font-family: \"Source Code Pro\", \"Menlo\", monospace;;\n",
       "    font-size: 13px;\n",
       "    color: #555;\n",
       "    margin-left: 4px;\n",
       "    line-height: 19px;\n",
       "  }\n",
       "</style>\n",
       "<div class=\"ansiout\">   Algorithm  Time2Converge\n",
       "0    TimeRHC       0.680636\n",
       "1     TimeSA       0.757758\n",
       "2     TimeGA       2.636741\n",
       "3  TimeMIMIC     692.152116\n",
       "Out[36]: </div>"
      ]
     },
     "metadata": {
      "application/vnd.databricks.v1+output": {
       "addedWidgets": {},
       "arguments": {},
       "data": "<div class=\"ansiout\">   Algorithm  Time2Converge\n0    TimeRHC       0.680636\n1     TimeSA       0.757758\n2     TimeGA       2.636741\n3  TimeMIMIC     692.152116\nOut[36]: </div>",
       "datasetInfos": [],
       "metadata": {},
       "removedWidgets": [],
       "type": "html"
      }
     },
     "output_type": "display_data"
    },
    {
     "data": {
      "image/png": "[encoded data removed]"
     },
     "metadata": {
      "application/vnd.databricks.v1+output": {
       "addedWidgets": {},
       "arguments": {},
       "data": "data:image/png;base64,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",
       "datasetInfos": [],
       "metadata": {
        "imageDimensions": {
         "height": 340,
         "width": 394
        }
       },
       "removedWidgets": [],
       "type": "image"
      },
      "image/png": {
       "height": 340,
       "width": 394
      }
     },
     "output_type": "display_data"
    },
    {
     "data": {
      "text/html": [
       "<style scoped>\n",
       "  .ansiout {\n",
       "    display: block;\n",
       "    unicode-bidi: embed;\n",
       "    white-space: pre-wrap;\n",
       "    word-wrap: break-word;\n",
       "    word-break: break-all;\n",
       "    font-family: \"Source Code Pro\", \"Menlo\", monospace;;\n",
       "    font-size: 13px;\n",
       "    color: #555;\n",
       "    margin-left: 4px;\n",
       "    line-height: 19px;\n",
       "  }\n",
       "</style>\n",
       "<div class=\"ansiout\">&lt;AxesSubplot:title={&#39;center&#39;:&#39;Knapsack: Time to Convergence&#39;}, xlabel=&#39;Algorithm&#39;, ylabel=&#39;Time2Converge&#39;&gt;</div>"
      ]
     },
     "metadata": {
      "application/vnd.databricks.v1+output": {
       "addedWidgets": {},
       "arguments": {},
       "data": "<div class=\"ansiout\">&lt;AxesSubplot:title={&#39;center&#39;:&#39;Knapsack: Time to Convergence&#39;}, xlabel=&#39;Algorithm&#39;, ylabel=&#39;Time2Converge&#39;&gt;</div>",
       "datasetInfos": [],
       "metadata": {},
       "removedWidgets": [],
       "type": "html"
      }
     },
     "output_type": "display_data"
    }
   ],
   "source": [
    "time_df = comb_df[['TimeSA', 'TimeRHC', 'TimeGA', 'TimeMIMIC']]\n",
    "tmax = pd.DataFrame(time_df.max().sort_values()).reset_index()\n",
    "tmax.columns = ['Algorithm', 'Time2Converge']\n",
    "print(tmax)\n",
    "\n",
    "fig = plt.figure(figsize=(6, 5))\n",
    "plt.title(\"Knapsack: Time to Convergence\", size = 16 )\n",
    "plt.xlabel(r\"Algorithm\", size = 16)\n",
    "plt.ylabel(\"Time to Converge\", size = 16)\n",
    "sns.barplot(tmax['Algorithm'], tmax['Time2Converge'])"
   ]
  },
  {
   "cell_type": "markdown",
   "metadata": {
    "application/vnd.databricks.v1+cell": {
     "inputWidgets": {},
     "nuid": "6de59bb5-6697-4151-b853-aaa8256d3903",
     "showTitle": false,
     "title": ""
    }
   },
   "source": [
    "# Traveling Salesman Problem (TSP)"
   ]
  },
  {
   "cell_type": "code",
   "execution_count": 0,
   "metadata": {
    "application/vnd.databricks.v1+cell": {
     "inputWidgets": {},
     "nuid": "dfd2c1e1-8388-4c66-902e-bed27e1d11dc",
     "showTitle": true,
     "title": "problem formulation"
    }
   },
   "outputs": [
    {
     "data": {
      "text/html": [
       "<style scoped>\n",
       "  .ansiout {\n",
       "    display: block;\n",
       "    unicode-bidi: embed;\n",
       "    white-space: pre-wrap;\n",
       "    word-wrap: break-word;\n",
       "    word-break: break-all;\n",
       "    font-family: \"Source Code Pro\", \"Menlo\", monospace;;\n",
       "    font-size: 13px;\n",
       "    color: #555;\n",
       "    margin-left: 4px;\n",
       "    line-height: 19px;\n",
       "  }\n",
       "</style>\n",
       "<div class=\"ansiout\"></div>"
      ]
     },
     "metadata": {
      "application/vnd.databricks.v1+output": {
       "addedWidgets": {},
       "arguments": {},
       "data": "<div class=\"ansiout\"></div>",
       "datasetInfos": [],
       "metadata": {},
       "removedWidgets": [],
       "type": "html"
      }
     },
     "output_type": "display_data"
    }
   ],
   "source": [
    "# Generate a new TSP problem using a fixed seed.\n",
    "problem = TSPGenerator().generate(seed=42, number_of_cities=10)"
   ]
  },
  {
   "cell_type": "code",
   "execution_count": 0,
   "metadata": {
    "application/vnd.databricks.v1+cell": {
     "inputWidgets": {},
     "nuid": "33285138-3918-48b3-8d19-a9204e626073",
     "showTitle": false,
     "title": ""
    }
   },
   "outputs": [
    {
     "data": {
      "image/png": "[encoded data removed]"
     },
     "metadata": {
      "application/vnd.databricks.v1+output": {
       "addedWidgets": {},
       "arguments": {},
       "data": "data:image/png;base64,iVBORw0KGgoAAAANSUhEUgAAAagAAAEYCAYAAAAJeGK1AAAAOXRFWHRTb2Z0d2FyZQBNYXRwbG90bGliIHZlcnNpb24zLjQuMiwgaHR0cHM6Ly9tYXRwbG90bGliLm9yZy8rg+JYAAAACXBIWXMAAAsTAAALEwEAmpwYAAAb+klEQVR4nO3de2xc14Hf8e+9c2dISiStByVb1DO2LFmRLcmWFW3ijZXsap3Nw9tW3jYu2myAAMkfKZL9q+j+U6DoX/xj26DoIkCbLopsi2YfgJE4D8Sb2ayV9SuJJVsPW6L1fpGSSFESXzOcx739Y/SiREu0+LpDfj+AYc6ZM+I5wMz8eO553CBJkgRJklImnOkGSJI0FgNKkpRKBpQkKZUMKElSKhlQkqRUMqAkSakUfdQXdHV1TUU7JlVbWxu9vb0z3YxJZZ/qg32qD/YpXdrb28csD+61Dyqfz5PP5wHo6OigVCpNfusmWRRFVCqVmW7GpLJP9cE+1Qf7lC65XG7M8nsG1O0cQc0M+1Qf7FN9sE/p8mEjKOegJEmp9JHnoCRJ9aO/AAfPZakmIdUEBgsJSRKzY32F1qaZbt3dGVCSNAuVKrDvbA4IOd0HF64CASxbELC6LeSt4xkuDca8sLVMLqVJkNJmSZLuV6kCnRcbePtEwPmro5/rG4T3zsKKRQGPr8zw/dfhq8+kM6RS2CRJ0kQcupDj1UMBfYOwuCWk4ysLAIiThKFiwvtnyvyfV4d49ySsX5bhpT3w4vbyjLZ5LC6SkKRZZLAIlwZq4XSrUz0V/vIXQxzprrB9XQM7Hm/k/FWIMtDTH9BfmJn23o0BJUmzyMm+HG+fCO4oHywkvH+2zMmLtb1STblanXdOwqPLQnZ3pu+CWvpaJEm6byOVgKGRO8s3rsryna8tBODyYMwvDxQB6BuClibo7ErfeMWAkiZZfwEOn8+SjUKSBKoJDAxXeXpN+pf1qv7F8Z2jJ4Dj5yv88DfDrG/P8sWnm/jM4438+Le163pJAtV4Ols5PgaUNElKFXhl7xDVuJH3uuBkT628MQtPro44cjFD95WY5zamc8WUZodMJgHGuMRXjDl0tsLR7gpffLqJJ1ZlbwRUGEAmfQMoA0qaDKUKHDiXY9+ZhFO3nTZTLMObRyEMAp57IsNP9sGXNhtSmiJxzLIFGbqvjC5+YH7ItrU5Hl1We+NdGqgC8PASOH0JlrSkbwiVwsyU6s/e0zn2nw1vhNNnHm/ge99cxPe+uYgHF9Q+ZnECr+yH1Usy/Oid7Ay2VrPZ2qVlnlx9Z/nqJRHfeK6Z7etyHDxd4u/eqI2eHlsO5/pqJ0ukjX/DSRPUX4BMJrxxSQ9g29occZwQhgFPP5Ljp3tqE9IJ8NZRePTBkP4Czklp0rU2QaUa88TKkANn4NJAzNe/2zdm3a0fgxMXYfnCJJXvRUdQ0gQdPJfl2IWbjx+YF7D2oYi3j5W4PBizbe3oWwlc7IcH5gepXNar2WHbmhJLmmOefQwaxnibNWXhsx+vXZoeKFTZtTV9m3TBEZQ0YZlMOGre6em1OcIw4O1jJQYLCb+3qZFlC0O6L9+8xl+uQM+Afx9qauQi+OQjJf7+YJbPfjwEAgaKEATQ3AgjZfigO6a1MUntMUdgQEmT4tYluk8/kqNcTTh/uUouCvg9YNvaBl7+7c2t+gnpXNar2SMXwZe2lOkvwK86I64WQipx7X23tDXmxU+kf9uDASVNULEMC+fD+auwsDnk4YciwiDgP//rBTfqPL02NyqgojCdy3o1+7Q2wZe2pG8BxHgYUNIEDRerPLEy4vzV2ugpDAJ+tqfAiWtHyvzuhgY2r8mxfHGGc5eqNGahVE3nsl4pTQwoaYKeebTC+90ZmrIBT6/NEScJv9hXZLCYABCFAZvX5Nj2SI5zlwpse7h2/f/L2+rzr1ppuhhQ0gS1NsG5yzHPbcrwX37UT+m23Hn7WIm3ry3zffQhqMTQ0pDOZb1SmngVXJoEz28u8/7ZKp/fDBvaa6ulbtXcCJ/ZAIub4Uxvepf1SmniCEqaBLkI/tW2Mj85mCWkwh9uCqnUTpIhDKFQgkPnYhbNT/eyXilNpu1jMlAMOXM5y8BIAAlkM5AJYx5uK9HSOF2tkKZOLoJv7JzH8TO97O6M6BkIqca11XpLW2P+7SfTv6xXSpMpD6hSJeBYb449J+Ho+YDklucWzg8ZeriRhJhtq0v+ValZobUJnq/TZb1SmkzpHFS5Cocv5Pi73wQcuS2cAC4PwSsH4MLVkNeP5e6YXJYkzV1TOmbpvNDAy3sDqjEsbgnp+MoCAMqVhIFizJGuCj/8dYF9p2P+4PGQn+zLOnksSQKmcAQ1UISegdoo6laneir8391DHD5bYfu6Bv7DrlZamgJ+cxwWNddOeJYkacoC6kRvjr0n77yr49WhmDc6S/zvXw7xq/eKLJgf8tnHG7k6DA1ZT3iWJNVMWUBVk+Ceo6GDp2uX89YszdReE3vCsySpZsrSILl9RcRYrg2wbq3qCc+SJJjCgLo6nLBy0d3rbFxZu+31qYu1iaoo4wnPkqSaKZvwGRqJ2bgy5Mxtdxp+YH7Ip9bnWNee5ZOP5bgyFPOPB4usaYNTvZ7wLEmqCZLk7hfj8vk8+XwegI6ODkql0rj+4StDMb/cP8x75+D8lduWmVcTBgoxH1xbZn55MOaPnoJXDwf8+z9qYsH8iQ2joiiiUpldm6rsU32wT/XBPqVLLpcbs/yeAXW7rq6ucdf9wa+zPPJghj0najdzG0smhM9vhreOwJKWKi9un/g+qLa2Nnp7e+9dsY7Yp/pgn+qDfUqX9vb2McundMbnha1l9p+q8uhD8LlN0L7w5nNNOXhmXa38tU5ozHrCsyTppinddJSL4E+eKfPSHui+ErBmacjG5bXnRiqw7zTEccyKhQm7tnrCsyTppimPhFwEL24v01+A3Z0RH3TfPOF53YMxz67zhGdJ0p2mbcziCc+SpI/CXUeSpFQyoCRJqWRASZJSyYCSJKWSASVJSiUDSpKUSgaUJCmVDChJUioZUJKkVDKgJEmpZEBJklLJgJIkpZIBJUlKJQNKkpRKBpQkKZUMKElSKhlQkqRUMqAkSalkQEmSUsmAkiSlkgElSUolA0qSlEoGlCQplQwoSVIqGVCSpFQyoCRJqWRASZJSyYCSJKVSkCRJcrcK+XyefD4PQEdHB6VSaVoaNhFRFFGpVGa6GZPKPtUH+1Qf7FO65HK5McvvGVC36+rqmpQGTaW2tjZ6e3tnuhmTyj7VB/tUH+xTurS3t49Z7iU+SVIqGVCSpFQyoCRJqWRASZJSyYCSJKWSASVJSiUDSpKUSgaUJCmVDChJUioZUJKkVDKgJEmpZEBJklLJgJIkpZIBJUlKJQNKkpRKBpQkKZUMKElSKhlQkqRUMqAkSalkQEmSUsmAkiSlkgElSUolA0qSlEoGlCQplQwoSVIqGVCSpFQyoCRJqWRASZJSyYCSJKWSASVJSiUDSpKUSgaUJCmVDChJUioFSZIkd6uQz+fJ5/MAdHR0UCqVpqVhExFFEZVKZaabMansU32wT/XBPqVLLpcbs/yeAXW7rq6uSWnQVGpra6O3t3emmzGp7FN9sE/1wT6lS3t7+5jlXuKTJKWSASVJSiUDSpKUSgaUJCmVDChJUioZUJKkVIpmugHSbDM4EnD6co6hYkACRGFCGMQ80lampWmmWyfVDwNKmiSlCvzTe0McOZ9j3+mASvX6MwFLWjIUyhniJGbb6hI5P3nSPXmJT5oEpQoc6Wng5T0Je07cGk41PQPw8/3QfSXkjWM5SvW54V+aVgaUNAkOnc/xs30Bw7ecBLa4JeR731zEt77QfKPswBkgCPn5gez0N1KqMwaUNEH9BSiUQgaL46v/66OwqCWkvzC17ZLqnQElTVDnhSz7z4y//nAJMpmA3Z1OREl3Y0BJE5QQ0jvw0V5TqULPgB8/6W78hEgTVI0hDD7aa4Jrr5P04QwoaYL6CwkrFn+010QZyPjpk+7Kj4g0QaVyzKMPjb/+oma4PARLWhxCSXdjQEkTtGN9hcFCQvvC8dX/5Fo4cj5mx3o3Q0l34zIiaYJam+Bif8zmVRniGM5frZVfGoj5+nf7RtX97Mfh4FlY2pLQ6rFH0l05gpImwQtbyxw4XeXRh+C5J2Bp683nMiFsWQ1fehI+6IZqtcqureWZa6xUJxxBSZMgF8FXnynzk4M5Dp4p88hDIZtX1Z5LgEPn4NiFmBULE3ZtLXsWnzQOfkykSZKL4Bs7mzh+ZojdnREfdIdU49oIqn1BzIufqHhZT/oIDChpkrU2wfNbXAAhTZRzUJKkVDKgJEmpZEBJklLJgJIkpZIBJUlKJQNKkpRKBpQkKZUMKElSKhlQkqRUMqAkSakUJEmS3K1CPp8nn88D0NHRQalUmpaGTUQURVQqs+uoGftUH+xTfbBP6ZLL5cYsv2dA3a6rq2tSGjSV2tra6O3tnelmTCr7VB/sU32wT+nS3t4+ZrmX+CRJqWRASZJSyYCSJKWSASVJSiUDSpKUSgaUJCmVDChJUioZUJKkVIpmugGSpldCwKWhiNN9IaVKAEBTNqFYitmwrExr0ww3ULrGgJLmkKvFLG8eC3n7eEC5euszAQ8vydDUEHL8YswXniiT89tBM8xLfNIccbWY5Qdvhbx55PZwqjneAy/vDVjdluGvf52lVJ/HumkWMaCkOSAmYHdnSPeVYFT59765iP/05dYbj8tVeOUArFma4aU92elupjSKASXNAb2DEe+eCu5dESiUIBNC95WA/sIUN0y6CwNKmgNO94VU4/HXP9QF7YtCdnc6EaWZY0BJc0D/8Eerf3UYWhqhZ8CvCM0c333SHJDNfLT6UaY2H/VRRl3SZDOgpDmguXF880/XPbwUzvbV5qKkmeLbT5oDwiBmcfP46z/YChf7YUmLQyjNHANKmgMeXlzi0+vh1nHUvIbao+FSMqru5lVw9AK0NMbsWO9mKM0cA0qaA1qa4PyVKn+4GcIAHlse8e8+XxtSHe2+GUKPr4CmHHR2w4qFicceaUYZUNIc8fsbypzqqfK5TbDziYj2hRneODzCP+wvsGklfHELxAm8dRRWLKyya2t5ppusOc5NDtIckYvgXzxV5qU98M6JYdYsLTKvATathBM9sP9M7bLehmUJu7Z6Fp9mnm9BaQ7JRfDi9jL9BdjdGXHscm0DbyaEbR+LeXZdxct6Sg0DSpqDWpvg+S0ugFC6OQclSUolA0qSlEoGlCQplQwoSVIqGVCSpFQyoCRJqWRASZJSyYCSJKVSkCRJcrcK+XyefD4PQEdHB6VSaVoaNhFRFFGpzK5NiGnvU5IknL9c4khXhUuDCSNlmN8Ai5oD1i/Psrg1SxCMvidR2vt0P+xTfbBP6ZLL5cYsv2dA3a6rq2tSGjSV2tra6O3tnelmTKo096lcCTjSk+PVQ3Chf3QIBcCjDyU8tQYeaRsZdb5bmvt0v+xTfbBP6dLe3j5muUcdaULKVXj/Qo4f7QmoxrC4JaTjKwtG1RkeifmP/+8Kzz3RwPqlIx5CKmlc/KrQhBw6n+Nn79bC6Vaneiq88k4RgEqc0F+Ad08F9A3k2LE+/ZeJJc08A0r3rb8AQyMhxTFuGzRYSDh0tvbE9fA6egE+vjygv4AnZku6JwNK9+3Q+SyHPmRKcuOqLN/52kIAOs+V+fMfDQAwWAx47UjEFzbV52SupOljQOm+jZRDhopjP3f8fIUf/mYYgKGRm+twhkZgoOjuBkn3ZkDpvpWrCdkoGPO5wWLMobN3jpJyEYx4J3FJ4+CfsrpvPQOw9sGP9prWJqjE964nSQaU7tv8XExzIwRjD6LusLgZegdgSYsJJeneDCjdtx3rKxztjvnUozfLLg3EfP27ffz3nw2OqhsG8Mw6OHohZsd6F0hIujcDSvettQkymYQrQ7Xw+bCBVDYDX9gCbxyBpS2JS8wljYuLJDQhL2wt8/3X4Wohwx9uhoEiHOmGkQo0N8KGayeY/OowtDZW2bXVFRKSxseA0oTkIvjqM2Ve2gOvHQ4Iw5A1SyAbQWEEdh+GhihmxcKEXVvLHnMkadz8utCE5SJ4cXuZ/gLs7ozoGQipxpAJYfPKmGfXVbysJ+kjM6A0aVqb4PktLoCQNDlcJCFJSiUDSpKUSgaUJCmVDChJUioZUJKkVDKgJEmplOpl5leLGc70RQyXApIEGrIJ5UrM+gfL7quRpFkulQFVLId0Xszy5hHovnLrCW8BqxZnyEYZui9X+f0NnkwgSbNV6i7xFcshb53I8tJvg9vCqeb0Jfjh2/DA/Awvv5ul5L5QSZqVUhdQR3qy/OP7tWBa3BLyvW8u4ltfaL7x/HNbGvmf31zEQCnHmiUZXtqTnammSpKmUKoCaqAYsvfEOCsncKYPKtWA/sKUNkuSNANSFVBnLmc53nPnZb1MGNDcWPvv1jmnA2dgzdKQ3Z1OREnSbJOqb/ah0ti3vNu4Kst3vrbwjvLqtTuH9wykKmclSZMgVQFFMnbx8fMVfvibYQC2PpJjx8bGUc9fDypJ0tS5XIg405fh8hDECbQ0BszLxaxaWKa58UO+wCcgVQEVZRKiTEClOrp8sBhz6Gxtud7KtptNbm6s3bk14wBKkqZMoRxy8FyOVw/DYHH0c7ko5BMP51gwL2HzitKkbv1JVUD1D1fZvCpizzgXSjy1BvaehMcecgglSVOhWA5563iWVw/Vbk76Lz/VxNZHcjwwL2SwmHDyYoUf/NMwS1tiCuUcv/OxyQupVI09nlxVYeWihIZxdK4hC01ZCIjZsd7NUJI0FY70ZHn1UG19wLe/2MJzW5ro6Y/569eG+Yf9RVqbQhY1hxzuhoCQH787eVt/UjWCam2CEz0xn9+c4ef74dJAzNe/2zeqzt+/W+StziK/93H46buwdmnisUeSNAUGRgI+6K79/NjyiPXLs3T1VfmvLw+QXJty+vk7RaJM7ee9J+GJFSH9BSblezlIkuSuM1v5fJ58Pg9AR0cHpVJp4r/1LkbKCf/jF8OsaUsYKdc6fH2f06L58OQaCALYfQiWLw759uebaMiOXv0XRRGVyuwaVdmn+mCf6oN9Gp/X3x/ir99MiBP43JZG/vhT88jvK/I3rw8TZaDx2ndvqZLcONXnc0/AcCXixWca7/Ivj5bL5cYsv+cIaufOnezcufPG497e3nH/0vv1x0/BS3uyXBoMeGJlyLxrbe8vwGudkIti1i5N2LW1yMDVYQZue31bW9u0tHM62af6YJ/qg30an6FiA3FSC6HrI5nr/9+xsYEXf3c+AC//tsCPf1sbScQJnL5Yord3cNy/p729fczyVF3iuy4XwYvby/QXYHdnxNlLIdW4tlpv08qYZ9dVvKwnSVPs1strp3tqQ6QNK2qxsfd4mfkNBZ7fdueX8WRt/UllQF3X2gTPb5ldw3BJqheDRVi2ALqvwOFzFQ6fK/PY8ix/+qVm9hwr8cC80dMr2WtzUZO19SfVASVJmjmDhSqbVkZ0X6k9/oufDvDPts/j6UdyPLY8S38h5u2jJQ6cqq1NeHI1vHsKVi+enCGUASVJGtOn11XYcyrDykUBZ/pqByP87evD/O3rw3fUbW6EtlY41DV5W39StQ9KkpQerU1w/mrMhuWwZsmH11s4H3ZuhF8cgBULJ2/rjyMoSdKHemFrme+/DksfyLBxOZzqhbN9kCTQ1gLrlsHQCPz4HVj2QJVdW8uT9rsNKEnSh8pF8NVnyry0B351KGBBc8jahyAM4MoQvLIf5jfErHswYdfW8uw9i0+SlD63b/3puXpz68/WNVO39ceAkiSNy3Rv/XGRhCQplQwoSVIqGVCSpFQyoCRJqeQiCWkGDI4EnLyUpVwJiKmdeTZYqPJpD0KWbjCgpGlUqgR8cDHHucuw92RA8dqexuUL4fEVEXtPZ+i+EvPCJO8nkeqRHwFpmoxUAg52NfCTd2r3zLnVucu1/5YtCNiyOsP3X69tjjSkNJf59pemydGeHD9+p3ZEzOKWkI6vLBj1/PBIzJ/+5RUAPrYkw0t7apsjpbnKgJKmQX8xwxtHauF0q1M9FV55pwhA5dqwqvsKbFkNB88E9BdwTkpzlgElTYMzlyPO9gV3lA8WEg6drY2Sbr0L6aFzsGJxyO7OyJt2as4yoKRpMFC8M5wANq7K8p2vLQSg81yZP//RAACnL8FnPg7HzrsTRHOXASXNoOPnK/zwN7Wbvw2N3Lz+lyS106Krk3NjUqkuGVDSNMhlxi4fLMYcOnvnJbyF82GgUDstWpqrDChpGmQzMS2NIQPF0eUPzA/ZtjZ34/He4yWqcW2RxJtHYONyh1CauwwoaRqsWVxi+9oG8gdHz0WtXhLxjeeabzz+9v+6TBwnZCOIMjE71rtAQnOXASVNg5ZGyAQJT6wMOHAGLg3EfP27fXfUy2bgC1vgFwdg9eLEJeaa07zCLU2Tp1eXWDw/5g8er80x3SoIYEN7LZx++R4sml9l11Y36WpucwQlTZNcBM+sLfGTfVk2rQxpygU3VullMtDZBb98L2bFwoRdnsUnGVDSdMpFsGtrmf4C7O6M6BkIqca11XpLW2N2PeVp5tJ1BpQ0A1qb8IQI6R6cg5IkpZIBJUlKJQNKkpRKQZLcfgOA0fL5PPl8HoCOjg5KpdK0NGwioiiiUpld1/ftU32wT/XBPqVLLpcbs/yeAXW7rq6uSWnQVGpra6O3t3emmzGp7FN9sE/1wT6lS3t7+5jlXuKTJKWSy8w1p/UXYP/ZLHESkgBDxYRqXDsDz/1I0swyoDQnlSrw7pkcYRjSdQW6rwIJPPhAwMNLQ357MsPF/pgXPNFBmjF+9DTnlCpw6HwD+84EnL3tvNa+ITjUBcsWBDy1JsNfvQF/8ilDSpoJfuw057zXnePNIwEX+muPGyL459vnsfWRHM2NAX2DMb/YV+TXx0bYtCrDS3vgxe0e3CpNNwNKc8pAEQaKN8MJ4FtfbGH98izvnSmz52iJxa0ha5ZG7H5vhGoMfUMB/QWck5KmmQGlOeVEb449J27eNPCx5RHrl2fp6qvw3348wPU9F9dr7D0BT64J2d0ZeXaeNM1cZq45pRwHXBm++Xj1ktrfaO+fqXDrhsDrPw8UoTELPQN+VKTp5qdOc0p827b08exSTxJu3LdJ0vQxoDSnRLe940/31C7bbVgREdxSfuvPYVi7X5Ok6eUclOaUSiVmdVuGU9dOhDl8rsLhc2UeW57l219qZs+xMouaQxbMD/irV4dZsQjOX4ElLQ6hpOnm34WaU9Y/VObxFaPL/uKnA+T3F1m+KOLfPDuP7etynOqpAvD4CjjZUztZQtL0cgSlOaW1CYqlmKfWhOw9WSsbqcDfvDbM37w2PKruppVw7jK0L0hcYi7NAEdQmnN+5+ESzY0xn9lQW6F3u4YInn0MogxcHqyya6ubdKWZ4AhKc04ugk+vLfHKwSw7HgsJgoDBkdpzzQ1QrkJnV0xLY8JXn/GYI2mm+NHTnJSL4PktZfoLsLszor8QUk2gWoUlrTFf/oSnmUszzYDSnNbahCdESCnlHJQkKZUMKElSKhlQkqRUCpIkGc9xZJIkTatZOYL6sz/7s5luwqSzT/XBPtUH+1QfZmVASZLqnwElSUqlWRlQO3funOkmTDr7VB/sU32wT/XBRRKSpFSalSMoSVL9M6AkSalkQEmSUsmAkiSlkgElSUql/w9btqagiEd4qQAAAABJRU5ErkJggg==",
       "datasetInfos": [],
       "metadata": {
        "imageDimensions": {
         "height": 280,
         "width": 424
        }
       },
       "removedWidgets": [],
       "type": "image"
      },
      "image/png": {
       "height": 280,
       "width": 424
      }
     },
     "output_type": "display_data"
    }
   ],
   "source": [
    "import string\n",
    "\n",
    "fig, ax = plt.subplots(1)         # Prepare 2 plots\n",
    "ax.set_yticklabels([])\n",
    "ax.set_xticklabels([])\n",
    "for i, (x,y) in enumerate(problem.coords):\n",
    "    ax.scatter(x,y, s=200, c='cornflowerblue')             # plot A\n",
    "node_labels = {k:str(v) for k, v in enumerate(string.ascii_uppercase) if k < len(problem.source_graph.nodes)}\n",
    "for i in node_labels.keys():\n",
    "    x,y = problem.coords[i]\n",
    "    plt.text(x, y, node_labels[i], ha=\"center\", va=\"center\", c='white', fontweight='bold',\n",
    "             bbox = dict(boxstyle=f\"circle,pad=0.15\", fc='cornflowerblue'))\n",
    "\n",
    "plt.tight_layout()\n",
    "plt.show()"
   ]
  },
  {
   "cell_type": "code",
   "execution_count": 0,
   "metadata": {
    "application/vnd.databricks.v1+cell": {
     "inputWidgets": {},
     "nuid": "f2c24259-a68a-4c0e-a4c9-cb11457b5827",
     "showTitle": true,
     "title": "RHC"
    }
   },
   "outputs": [
    {
     "data": {
      "text/html": [
       "<style scoped>\n",
       "  .ansiout {\n",
       "    display: block;\n",
       "    unicode-bidi: embed;\n",
       "    white-space: pre-wrap;\n",
       "    word-wrap: break-word;\n",
       "    word-break: break-all;\n",
       "    font-family: \"Source Code Pro\", \"Menlo\", monospace;;\n",
       "    font-size: 13px;\n",
       "    color: #555;\n",
       "    margin-left: 4px;\n",
       "    line-height: 19px;\n",
       "  }\n",
       "</style>\n",
       "<div class=\"ansiout\"></div>"
      ]
     },
     "metadata": {
      "application/vnd.databricks.v1+output": {
       "addedWidgets": {},
       "arguments": {},
       "data": "<div class=\"ansiout\"></div>",
       "datasetInfos": [],
       "metadata": {},
       "removedWidgets": [],
       "type": "html"
      }
     },
     "output_type": "display_data"
    }
   ],
   "source": [
    "rhc = RHCRunner(problem = problem,\n",
    "                experiment_name = None,\n",
    "                output_directory=None,\n",
    "                seed = 42,\n",
    "                iteration_list = 2**np.arange(15),\n",
    "                restart_list = [20],\n",
    "                max_attempts=1000,\n",
    "                generate_curves=True\n",
    "               )\n",
    "\n",
    "# the two data frames will contain the results\n",
    "df_run_stats_rhc, df_run_curves_rhc = rhc.run()"
   ]
  },
  {
   "cell_type": "code",
   "execution_count": 0,
   "metadata": {
    "application/vnd.databricks.v1+cell": {
     "inputWidgets": {},
     "nuid": "6f29a8aa-9486-48f9-8094-910916434d9d",
     "showTitle": false,
     "title": ""
    }
   },
   "outputs": [
    {
     "data": {
      "text/html": [
       "<style scoped>\n",
       "  .ansiout {\n",
       "    display: block;\n",
       "    unicode-bidi: embed;\n",
       "    white-space: pre-wrap;\n",
       "    word-wrap: break-word;\n",
       "    word-break: break-all;\n",
       "    font-family: \"Source Code Pro\", \"Menlo\", monospace;;\n",
       "    font-size: 13px;\n",
       "    color: #555;\n",
       "    margin-left: 4px;\n",
       "    line-height: 19px;\n",
       "  }\n",
       "</style>\n",
       "<div class=\"ansiout\">Out[41]: </div>"
      ]
     },
     "metadata": {
      "application/vnd.databricks.v1+output": {
       "addedWidgets": {},
       "arguments": {},
       "data": "<div class=\"ansiout\">Out[41]: </div>",
       "datasetInfos": [],
       "metadata": {},
       "removedWidgets": [],
       "type": "html"
      }
     },
     "output_type": "display_data"
    },
    {
     "data": {
      "text/html": [
       "<div>\n",
       "<style scoped>\n",
       "    .dataframe tbody tr th:only-of-type {\n",
       "        vertical-align: middle;\n",
       "    }\n",
       "\n",
       "    .dataframe tbody tr th {\n",
       "        vertical-align: top;\n",
       "    }\n",
       "\n",
       "    .dataframe thead th {\n",
       "        text-align: right;\n",
       "    }\n",
       "</style>\n",
       "<table border=\"1\" class=\"dataframe\">\n",
       "  <thead>\n",
       "    <tr style=\"text-align: right;\">\n",
       "      <th></th>\n",
       "      <th>Iteration</th>\n",
       "      <th>Fitness</th>\n",
       "      <th>FEvals</th>\n",
       "      <th>Time</th>\n",
       "      <th>State</th>\n",
       "      <th>Restarts</th>\n",
       "      <th>max_iters</th>\n",
       "      <th>current_restart</th>\n",
       "    </tr>\n",
       "  </thead>\n",
       "  <tbody>\n",
       "    <tr>\n",
       "      <th>8</th>\n",
       "      <td>128</td>\n",
       "      <td>664.96179</td>\n",
       "      <td>139</td>\n",
       "      <td>0.049686</td>\n",
       "      <td>[1, 0, 3, 7, 5, 2, 4, 8, 9, 6]</td>\n",
       "      <td>20</td>\n",
       "      <td>16384</td>\n",
       "      <td>0</td>\n",
       "    </tr>\n",
       "    <tr>\n",
       "      <th>40</th>\n",
       "      <td>128</td>\n",
       "      <td>664.96179</td>\n",
       "      <td>2308</td>\n",
       "      <td>3.046315</td>\n",
       "      <td>[2, 5, 7, 3, 0, 1, 6, 9, 8, 4]</td>\n",
       "      <td>20</td>\n",
       "      <td>16384</td>\n",
       "      <td>2</td>\n",
       "    </tr>\n",
       "    <tr>\n",
       "      <th>152</th>\n",
       "      <td>128</td>\n",
       "      <td>664.96179</td>\n",
       "      <td>10042</td>\n",
       "      <td>53.481643</td>\n",
       "      <td>[8, 9, 6, 1, 0, 3, 7, 5, 2, 4]</td>\n",
       "      <td>20</td>\n",
       "      <td>16384</td>\n",
       "      <td>9</td>\n",
       "    </tr>\n",
       "    <tr>\n",
       "      <th>169</th>\n",
       "      <td>256</td>\n",
       "      <td>664.96179</td>\n",
       "      <td>11280</td>\n",
       "      <td>66.949958</td>\n",
       "      <td>[7, 3, 0, 1, 6, 9, 8, 4, 2, 5]</td>\n",
       "      <td>20</td>\n",
       "      <td>16384</td>\n",
       "      <td>10</td>\n",
       "    </tr>\n",
       "    <tr>\n",
       "      <th>199</th>\n",
       "      <td>64</td>\n",
       "      <td>664.96179</td>\n",
       "      <td>13377</td>\n",
       "      <td>93.236849</td>\n",
       "      <td>[2, 4, 8, 9, 6, 1, 0, 3, 7, 5]</td>\n",
       "      <td>20</td>\n",
       "      <td>16384</td>\n",
       "      <td>12</td>\n",
       "    </tr>\n",
       "    <tr>\n",
       "      <th>328</th>\n",
       "      <td>128</td>\n",
       "      <td>664.96179</td>\n",
       "      <td>22243</td>\n",
       "      <td>256.084155</td>\n",
       "      <td>[9, 6, 1, 0, 3, 7, 5, 2, 4, 8]</td>\n",
       "      <td>20</td>\n",
       "      <td>16384</td>\n",
       "      <td>20</td>\n",
       "    </tr>\n",
       "  </tbody>\n",
       "</table>\n",
       "</div>"
      ]
     },
     "metadata": {
      "application/vnd.databricks.v1+output": {
       "addedWidgets": {},
       "arguments": {},
       "data": "<div>\n<style scoped>\n    .dataframe tbody tr th:only-of-type {\n        vertical-align: middle;\n    }\n\n    .dataframe tbody tr th {\n        vertical-align: top;\n    }\n\n    .dataframe thead th {\n        text-align: right;\n    }\n</style>\n<table border=\"1\" class=\"dataframe\">\n  <thead>\n    <tr style=\"text-align: right;\">\n      <th></th>\n      <th>Iteration</th>\n      <th>Fitness</th>\n      <th>FEvals</th>\n      <th>Time</th>\n      <th>State</th>\n      <th>Restarts</th>\n      <th>max_iters</th>\n      <th>current_restart</th>\n    </tr>\n  </thead>\n  <tbody>\n    <tr>\n      <th>8</th>\n      <td>128</td>\n      <td>664.96179</td>\n      <td>139</td>\n      <td>0.049686</td>\n      <td>[1, 0, 3, 7, 5, 2, 4, 8, 9, 6]</td>\n      <td>20</td>\n      <td>16384</td>\n      <td>0</td>\n    </tr>\n    <tr>\n      <th>40</th>\n      <td>128</td>\n      <td>664.96179</td>\n      <td>2308</td>\n      <td>3.046315</td>\n      <td>[2, 5, 7, 3, 0, 1, 6, 9, 8, 4]</td>\n      <td>20</td>\n      <td>16384</td>\n      <td>2</td>\n    </tr>\n    <tr>\n      <th>152</th>\n      <td>128</td>\n      <td>664.96179</td>\n      <td>10042</td>\n      <td>53.481643</td>\n      <td>[8, 9, 6, 1, 0, 3, 7, 5, 2, 4]</td>\n      <td>20</td>\n      <td>16384</td>\n      <td>9</td>\n    </tr>\n    <tr>\n      <th>169</th>\n      <td>256</td>\n      <td>664.96179</td>\n      <td>11280</td>\n      <td>66.949958</td>\n      <td>[7, 3, 0, 1, 6, 9, 8, 4, 2, 5]</td>\n      <td>20</td>\n      <td>16384</td>\n      <td>10</td>\n    </tr>\n    <tr>\n      <th>199</th>\n      <td>64</td>\n      <td>664.96179</td>\n      <td>13377</td>\n      <td>93.236849</td>\n      <td>[2, 4, 8, 9, 6, 1, 0, 3, 7, 5]</td>\n      <td>20</td>\n      <td>16384</td>\n      <td>12</td>\n    </tr>\n    <tr>\n      <th>328</th>\n      <td>128</td>\n      <td>664.96179</td>\n      <td>22243</td>\n      <td>256.084155</td>\n      <td>[9, 6, 1, 0, 3, 7, 5, 2, 4, 8]</td>\n      <td>20</td>\n      <td>16384</td>\n      <td>20</td>\n    </tr>\n  </tbody>\n</table>\n</div>",
       "datasetInfos": [],
       "metadata": {},
       "removedWidgets": [],
       "textData": null,
       "type": "htmlSandbox"
      }
     },
     "output_type": "display_data"
    }
   ],
   "source": [
    "optimal_queen8 = df_run_stats_rhc[df_run_stats_rhc['Fitness']==df_run_stats_rhc['Fitness'].min()].drop_duplicates(subset=['State'])\n",
    "optimal_queen8"
   ]
  },
  {
   "cell_type": "code",
   "execution_count": 0,
   "metadata": {
    "application/vnd.databricks.v1+cell": {
     "inputWidgets": {},
     "nuid": "4558deba-c125-401d-a818-35d127f8833b",
     "showTitle": false,
     "title": ""
    }
   },
   "outputs": [
    {
     "data": {
      "text/html": [
       "<style scoped>\n",
       "  .ansiout {\n",
       "    display: block;\n",
       "    unicode-bidi: embed;\n",
       "    white-space: pre-wrap;\n",
       "    word-wrap: break-word;\n",
       "    word-break: break-all;\n",
       "    font-family: \"Source Code Pro\", \"Menlo\", monospace;;\n",
       "    font-size: 13px;\n",
       "    color: #555;\n",
       "    margin-left: 4px;\n",
       "    line-height: 19px;\n",
       "  }\n",
       "</style>\n",
       "<div class=\"ansiout\">Out[40]: </div>"
      ]
     },
     "metadata": {
      "application/vnd.databricks.v1+output": {
       "addedWidgets": {},
       "arguments": {},
       "data": "<div class=\"ansiout\">Out[40]: </div>",
       "datasetInfos": [],
       "metadata": {},
       "removedWidgets": [],
       "type": "html"
      }
     },
     "output_type": "display_data"
    },
    {
     "data": {
      "text/html": [
       "<div>\n",
       "<style scoped>\n",
       "    .dataframe tbody tr th:only-of-type {\n",
       "        vertical-align: middle;\n",
       "    }\n",
       "\n",
       "    .dataframe tbody tr th {\n",
       "        vertical-align: top;\n",
       "    }\n",
       "\n",
       "    .dataframe thead th {\n",
       "        text-align: right;\n",
       "    }\n",
       "</style>\n",
       "<table border=\"1\" class=\"dataframe\">\n",
       "  <thead>\n",
       "    <tr style=\"text-align: right;\">\n",
       "      <th></th>\n",
       "      <th>Iteration</th>\n",
       "      <th>Time</th>\n",
       "      <th>Fitness</th>\n",
       "      <th>FEvals</th>\n",
       "      <th>Restarts</th>\n",
       "      <th>max_iters</th>\n",
       "      <th>current_restart</th>\n",
       "    </tr>\n",
       "  </thead>\n",
       "  <tbody>\n",
       "    <tr>\n",
       "      <th>116</th>\n",
       "      <td>116</td>\n",
       "      <td>0.047045</td>\n",
       "      <td>664.96179</td>\n",
       "      <td>127.0</td>\n",
       "      <td>20</td>\n",
       "      <td>16384</td>\n",
       "      <td>0</td>\n",
       "    </tr>\n",
       "    <tr>\n",
       "      <th>117</th>\n",
       "      <td>117</td>\n",
       "      <td>0.047259</td>\n",
       "      <td>664.96179</td>\n",
       "      <td>128.0</td>\n",
       "      <td>20</td>\n",
       "      <td>16384</td>\n",
       "      <td>0</td>\n",
       "    </tr>\n",
       "    <tr>\n",
       "      <th>118</th>\n",
       "      <td>118</td>\n",
       "      <td>0.047472</td>\n",
       "      <td>664.96179</td>\n",
       "      <td>129.0</td>\n",
       "      <td>20</td>\n",
       "      <td>16384</td>\n",
       "      <td>0</td>\n",
       "    </tr>\n",
       "    <tr>\n",
       "      <th>119</th>\n",
       "      <td>119</td>\n",
       "      <td>0.047687</td>\n",
       "      <td>664.96179</td>\n",
       "      <td>130.0</td>\n",
       "      <td>20</td>\n",
       "      <td>16384</td>\n",
       "      <td>0</td>\n",
       "    </tr>\n",
       "    <tr>\n",
       "      <th>120</th>\n",
       "      <td>120</td>\n",
       "      <td>0.047902</td>\n",
       "      <td>664.96179</td>\n",
       "      <td>131.0</td>\n",
       "      <td>20</td>\n",
       "      <td>16384</td>\n",
       "      <td>0</td>\n",
       "    </tr>\n",
       "  </tbody>\n",
       "</table>\n",
       "</div>"
      ]
     },
     "metadata": {
      "application/vnd.databricks.v1+output": {
       "addedWidgets": {},
       "arguments": {},
       "data": "<div>\n<style scoped>\n    .dataframe tbody tr th:only-of-type {\n        vertical-align: middle;\n    }\n\n    .dataframe tbody tr th {\n        vertical-align: top;\n    }\n\n    .dataframe thead th {\n        text-align: right;\n    }\n</style>\n<table border=\"1\" class=\"dataframe\">\n  <thead>\n    <tr style=\"text-align: right;\">\n      <th></th>\n      <th>Iteration</th>\n      <th>Time</th>\n      <th>Fitness</th>\n      <th>FEvals</th>\n      <th>Restarts</th>\n      <th>max_iters</th>\n      <th>current_restart</th>\n    </tr>\n  </thead>\n  <tbody>\n    <tr>\n      <th>116</th>\n      <td>116</td>\n      <td>0.047045</td>\n      <td>664.96179</td>\n      <td>127.0</td>\n      <td>20</td>\n      <td>16384</td>\n      <td>0</td>\n    </tr>\n    <tr>\n      <th>117</th>\n      <td>117</td>\n      <td>0.047259</td>\n      <td>664.96179</td>\n      <td>128.0</td>\n      <td>20</td>\n      <td>16384</td>\n      <td>0</td>\n    </tr>\n    <tr>\n      <th>118</th>\n      <td>118</td>\n      <td>0.047472</td>\n      <td>664.96179</td>\n      <td>129.0</td>\n      <td>20</td>\n      <td>16384</td>\n      <td>0</td>\n    </tr>\n    <tr>\n      <th>119</th>\n      <td>119</td>\n      <td>0.047687</td>\n      <td>664.96179</td>\n      <td>130.0</td>\n      <td>20</td>\n      <td>16384</td>\n      <td>0</td>\n    </tr>\n    <tr>\n      <th>120</th>\n      <td>120</td>\n      <td>0.047902</td>\n      <td>664.96179</td>\n      <td>131.0</td>\n      <td>20</td>\n      <td>16384</td>\n      <td>0</td>\n    </tr>\n  </tbody>\n</table>\n</div>",
       "datasetInfos": [],
       "metadata": {},
       "removedWidgets": [],
       "textData": null,
       "type": "htmlSandbox"
      }
     },
     "output_type": "display_data"
    }
   ],
   "source": [
    "# Best runs\n",
    "best_fitness = df_run_curves_rhc['Fitness'].min()\n",
    "best_runs = df_run_curves_rhc[df_run_curves_rhc['Fitness'] == best_fitness]\n",
    "best_runs.head()"
   ]
  },
  {
   "cell_type": "code",
   "execution_count": 0,
   "metadata": {
    "application/vnd.databricks.v1+cell": {
     "inputWidgets": {},
     "nuid": "855b3fcf-2ba1-476c-ade0-ae7727315f7e",
     "showTitle": false,
     "title": ""
    }
   },
   "outputs": [
    {
     "data": {
      "text/html": [
       "<style scoped>\n",
       "  .ansiout {\n",
       "    display: block;\n",
       "    unicode-bidi: embed;\n",
       "    white-space: pre-wrap;\n",
       "    word-wrap: break-word;\n",
       "    word-break: break-all;\n",
       "    font-family: \"Source Code Pro\", \"Menlo\", monospace;;\n",
       "    font-size: 13px;\n",
       "    color: #555;\n",
       "    margin-left: 4px;\n",
       "    line-height: 19px;\n",
       "  }\n",
       "</style>\n",
       "<div class=\"ansiout\">(1038, 4)\n",
       "Out[42]: </div>"
      ]
     },
     "metadata": {
      "application/vnd.databricks.v1+output": {
       "addedWidgets": {},
       "arguments": {},
       "data": "<div class=\"ansiout\">(1038, 4)\nOut[42]: </div>",
       "datasetInfos": [],
       "metadata": {},
       "removedWidgets": [],
       "type": "html"
      }
     },
     "output_type": "display_data"
    },
    {
     "data": {
      "text/html": [
       "<div>\n",
       "<style scoped>\n",
       "    .dataframe tbody tr th:only-of-type {\n",
       "        vertical-align: middle;\n",
       "    }\n",
       "\n",
       "    .dataframe tbody tr th {\n",
       "        vertical-align: top;\n",
       "    }\n",
       "\n",
       "    .dataframe thead th {\n",
       "        text-align: right;\n",
       "    }\n",
       "</style>\n",
       "<table border=\"1\" class=\"dataframe\">\n",
       "  <thead>\n",
       "    <tr style=\"text-align: right;\">\n",
       "      <th></th>\n",
       "      <th>Iteration</th>\n",
       "      <th>Time</th>\n",
       "      <th>Fitness</th>\n",
       "      <th>FEvals</th>\n",
       "    </tr>\n",
       "  </thead>\n",
       "  <tbody>\n",
       "    <tr>\n",
       "      <th>13202</th>\n",
       "      <td>1</td>\n",
       "      <td>0.005178</td>\n",
       "      <td>1052.559300</td>\n",
       "      <td>13308.0</td>\n",
       "    </tr>\n",
       "    <tr>\n",
       "      <th>13203</th>\n",
       "      <td>2</td>\n",
       "      <td>0.009032</td>\n",
       "      <td>1015.045517</td>\n",
       "      <td>13310.0</td>\n",
       "    </tr>\n",
       "    <tr>\n",
       "      <th>13204</th>\n",
       "      <td>3</td>\n",
       "      <td>0.011652</td>\n",
       "      <td>1015.045517</td>\n",
       "      <td>13311.0</td>\n",
       "    </tr>\n",
       "    <tr>\n",
       "      <th>13205</th>\n",
       "      <td>4</td>\n",
       "      <td>0.011761</td>\n",
       "      <td>1015.045517</td>\n",
       "      <td>13312.0</td>\n",
       "    </tr>\n",
       "    <tr>\n",
       "      <th>13206</th>\n",
       "      <td>5</td>\n",
       "      <td>0.014213</td>\n",
       "      <td>927.588074</td>\n",
       "      <td>13314.0</td>\n",
       "    </tr>\n",
       "  </tbody>\n",
       "</table>\n",
       "</div>"
      ]
     },
     "metadata": {
      "application/vnd.databricks.v1+output": {
       "addedWidgets": {},
       "arguments": {},
       "data": "<div>\n<style scoped>\n    .dataframe tbody tr th:only-of-type {\n        vertical-align: middle;\n    }\n\n    .dataframe tbody tr th {\n        vertical-align: top;\n    }\n\n    .dataframe thead th {\n        text-align: right;\n    }\n</style>\n<table border=\"1\" class=\"dataframe\">\n  <thead>\n    <tr style=\"text-align: right;\">\n      <th></th>\n      <th>Iteration</th>\n      <th>Time</th>\n      <th>Fitness</th>\n      <th>FEvals</th>\n    </tr>\n  </thead>\n  <tbody>\n    <tr>\n      <th>13202</th>\n      <td>1</td>\n      <td>0.005178</td>\n      <td>1052.559300</td>\n      <td>13308.0</td>\n    </tr>\n    <tr>\n      <th>13203</th>\n      <td>2</td>\n      <td>0.009032</td>\n      <td>1015.045517</td>\n      <td>13310.0</td>\n    </tr>\n    <tr>\n      <th>13204</th>\n      <td>3</td>\n      <td>0.011652</td>\n      <td>1015.045517</td>\n      <td>13311.0</td>\n    </tr>\n    <tr>\n      <th>13205</th>\n      <td>4</td>\n      <td>0.011761</td>\n      <td>1015.045517</td>\n      <td>13312.0</td>\n    </tr>\n    <tr>\n      <th>13206</th>\n      <td>5</td>\n      <td>0.014213</td>\n      <td>927.588074</td>\n      <td>13314.0</td>\n    </tr>\n  </tbody>\n</table>\n</div>",
       "datasetInfos": [],
       "metadata": {},
       "removedWidgets": [],
       "textData": null,
       "type": "htmlSandbox"
      }
     },
     "output_type": "display_data"
    }
   ],
   "source": [
    "rhc = df_run_curves_rhc[(df_run_curves_rhc['current_restart'] == 12)]\n",
    "rhc = rhc[['Iteration', 'Time', 'Fitness', 'FEvals']]\n",
    "\n",
    "print(rhc.shape)\n",
    "rhc.head()"
   ]
  },
  {
   "cell_type": "code",
   "execution_count": 0,
   "metadata": {
    "application/vnd.databricks.v1+cell": {
     "inputWidgets": {},
     "nuid": "33107633-5a96-40ec-b0c3-11aa7f91f0df",
     "showTitle": true,
     "title": "SA"
    }
   },
   "outputs": [
    {
     "data": {
      "text/html": [
       "<style scoped>\n",
       "  .ansiout {\n",
       "    display: block;\n",
       "    unicode-bidi: embed;\n",
       "    white-space: pre-wrap;\n",
       "    word-wrap: break-word;\n",
       "    word-break: break-all;\n",
       "    font-family: \"Source Code Pro\", \"Menlo\", monospace;;\n",
       "    font-size: 13px;\n",
       "    color: #555;\n",
       "    margin-left: 4px;\n",
       "    line-height: 19px;\n",
       "  }\n",
       "</style>\n",
       "<div class=\"ansiout\"></div>"
      ]
     },
     "metadata": {
      "application/vnd.databricks.v1+output": {
       "addedWidgets": {},
       "arguments": {},
       "data": "<div class=\"ansiout\"></div>",
       "datasetInfos": [],
       "metadata": {},
       "removedWidgets": [],
       "type": "html"
      }
     },
     "output_type": "display_data"
    }
   ],
   "source": [
    "# create a runner class and solve the problem\n",
    "sa = SARunner(problem=problem,\n",
    "              experiment_name=None,\n",
    "              output_directory=None, \n",
    "              seed=42,\n",
    "              iteration_list=2 ** np.arange(15),\n",
    "              max_attempts=1000,\n",
    "              temperature_list=[0.10, 1.0,  10, 100, 500, 1000, 5000, 10000, 100000],\n",
    "              decay_list=[mlrose_hiive.ExpDecay])\n",
    "\n",
    "# the two data frames will contain the results\n",
    "df_run_stats_sa, df_run_curves_sa = sa.run()"
   ]
  },
  {
   "cell_type": "code",
   "execution_count": 0,
   "metadata": {
    "application/vnd.databricks.v1+cell": {
     "inputWidgets": {},
     "nuid": "cf7f5c28-5a09-49d2-8269-4b50d33cd8f7",
     "showTitle": false,
     "title": ""
    }
   },
   "outputs": [
    {
     "data": {
      "text/html": [
       "<style scoped>\n",
       "  .ansiout {\n",
       "    display: block;\n",
       "    unicode-bidi: embed;\n",
       "    white-space: pre-wrap;\n",
       "    word-wrap: break-word;\n",
       "    word-break: break-all;\n",
       "    font-family: \"Source Code Pro\", \"Menlo\", monospace;;\n",
       "    font-size: 13px;\n",
       "    color: #555;\n",
       "    margin-left: 4px;\n",
       "    line-height: 19px;\n",
       "  }\n",
       "</style>\n",
       "<div class=\"ansiout\">Out[44]: </div>"
      ]
     },
     "metadata": {
      "application/vnd.databricks.v1+output": {
       "addedWidgets": {},
       "arguments": {},
       "data": "<div class=\"ansiout\">Out[44]: </div>",
       "datasetInfos": [],
       "metadata": {},
       "removedWidgets": [],
       "type": "html"
      }
     },
     "output_type": "display_data"
    },
    {
     "data": {
      "text/html": [
       "<div>\n",
       "<style scoped>\n",
       "    .dataframe tbody tr th:only-of-type {\n",
       "        vertical-align: middle;\n",
       "    }\n",
       "\n",
       "    .dataframe tbody tr th {\n",
       "        vertical-align: top;\n",
       "    }\n",
       "\n",
       "    .dataframe thead th {\n",
       "        text-align: right;\n",
       "    }\n",
       "</style>\n",
       "<table border=\"1\" class=\"dataframe\">\n",
       "  <thead>\n",
       "    <tr style=\"text-align: right;\">\n",
       "      <th></th>\n",
       "      <th>Iteration</th>\n",
       "      <th>Fitness</th>\n",
       "      <th>FEvals</th>\n",
       "      <th>Time</th>\n",
       "      <th>State</th>\n",
       "    </tr>\n",
       "  </thead>\n",
       "  <tbody>\n",
       "    <tr>\n",
       "      <th>8</th>\n",
       "      <td>128</td>\n",
       "      <td>664.96179</td>\n",
       "      <td>135</td>\n",
       "      <td>0.045975</td>\n",
       "      <td>[9, 6, 1, 0, 3, 7, 5, 2, 4, 8]</td>\n",
       "    </tr>\n",
       "    <tr>\n",
       "      <th>75</th>\n",
       "      <td>1024</td>\n",
       "      <td>664.96179</td>\n",
       "      <td>1468</td>\n",
       "      <td>0.853188</td>\n",
       "      <td>[8, 4, 2, 5, 7, 3, 0, 1, 6, 9]</td>\n",
       "    </tr>\n",
       "    <tr>\n",
       "      <th>141</th>\n",
       "      <td>4096</td>\n",
       "      <td>664.96179</td>\n",
       "      <td>4793</td>\n",
       "      <td>6.300918</td>\n",
       "      <td>[4, 8, 9, 6, 1, 0, 3, 7, 5, 2]</td>\n",
       "    </tr>\n",
       "  </tbody>\n",
       "</table>\n",
       "</div>"
      ]
     },
     "metadata": {
      "application/vnd.databricks.v1+output": {
       "addedWidgets": {},
       "arguments": {},
       "data": "<div>\n<style scoped>\n    .dataframe tbody tr th:only-of-type {\n        vertical-align: middle;\n    }\n\n    .dataframe tbody tr th {\n        vertical-align: top;\n    }\n\n    .dataframe thead th {\n        text-align: right;\n    }\n</style>\n<table border=\"1\" class=\"dataframe\">\n  <thead>\n    <tr style=\"text-align: right;\">\n      <th></th>\n      <th>Iteration</th>\n      <th>Fitness</th>\n      <th>FEvals</th>\n      <th>Time</th>\n      <th>State</th>\n    </tr>\n  </thead>\n  <tbody>\n    <tr>\n      <th>8</th>\n      <td>128</td>\n      <td>664.96179</td>\n      <td>135</td>\n      <td>0.045975</td>\n      <td>[9, 6, 1, 0, 3, 7, 5, 2, 4, 8]</td>\n    </tr>\n    <tr>\n      <th>75</th>\n      <td>1024</td>\n      <td>664.96179</td>\n      <td>1468</td>\n      <td>0.853188</td>\n      <td>[8, 4, 2, 5, 7, 3, 0, 1, 6, 9]</td>\n    </tr>\n    <tr>\n      <th>141</th>\n      <td>4096</td>\n      <td>664.96179</td>\n      <td>4793</td>\n      <td>6.300918</td>\n      <td>[4, 8, 9, 6, 1, 0, 3, 7, 5, 2]</td>\n    </tr>\n  </tbody>\n</table>\n</div>",
       "datasetInfos": [],
       "metadata": {},
       "removedWidgets": [],
       "textData": null,
       "type": "htmlSandbox"
      }
     },
     "output_type": "display_data"
    }
   ],
   "source": [
    "optimal_queen8 = df_run_stats_sa[df_run_stats_sa['Fitness']==df_run_stats_sa['Fitness'].min()][['Iteration', 'Fitness', 'FEvals', 'Time', 'State']].drop_duplicates(subset=['State'])\n",
    "optimal_queen8"
   ]
  },
  {
   "cell_type": "code",
   "execution_count": 0,
   "metadata": {
    "application/vnd.databricks.v1+cell": {
     "inputWidgets": {},
     "nuid": "3913318a-7293-4c31-9639-330d5081aad7",
     "showTitle": false,
     "title": ""
    }
   },
   "outputs": [
    {
     "data": {
      "text/html": [
       "<style scoped>\n",
       "  .ansiout {\n",
       "    display: block;\n",
       "    unicode-bidi: embed;\n",
       "    white-space: pre-wrap;\n",
       "    word-wrap: break-word;\n",
       "    word-break: break-all;\n",
       "    font-family: \"Source Code Pro\", \"Menlo\", monospace;;\n",
       "    font-size: 13px;\n",
       "    color: #555;\n",
       "    margin-left: 4px;\n",
       "    line-height: 19px;\n",
       "  }\n",
       "</style>\n",
       "<div class=\"ansiout\">Out[45]: </div>"
      ]
     },
     "metadata": {
      "application/vnd.databricks.v1+output": {
       "addedWidgets": {},
       "arguments": {},
       "data": "<div class=\"ansiout\">Out[45]: </div>",
       "datasetInfos": [],
       "metadata": {},
       "removedWidgets": [],
       "type": "html"
      }
     },
     "output_type": "display_data"
    },
    {
     "data": {
      "text/html": [
       "<div>\n",
       "<style scoped>\n",
       "    .dataframe tbody tr th:only-of-type {\n",
       "        vertical-align: middle;\n",
       "    }\n",
       "\n",
       "    .dataframe tbody tr th {\n",
       "        vertical-align: top;\n",
       "    }\n",
       "\n",
       "    .dataframe thead th {\n",
       "        text-align: right;\n",
       "    }\n",
       "</style>\n",
       "<table border=\"1\" class=\"dataframe\">\n",
       "  <thead>\n",
       "    <tr style=\"text-align: right;\">\n",
       "      <th></th>\n",
       "      <th>Iteration</th>\n",
       "      <th>Time</th>\n",
       "      <th>Fitness</th>\n",
       "      <th>FEvals</th>\n",
       "      <th>Temperature</th>\n",
       "      <th>max_iters</th>\n",
       "    </tr>\n",
       "  </thead>\n",
       "  <tbody>\n",
       "    <tr>\n",
       "      <th>107</th>\n",
       "      <td>107</td>\n",
       "      <td>0.041535</td>\n",
       "      <td>664.96179</td>\n",
       "      <td>114.0</td>\n",
       "      <td>0.1</td>\n",
       "      <td>16384</td>\n",
       "    </tr>\n",
       "    <tr>\n",
       "      <th>1215</th>\n",
       "      <td>107</td>\n",
       "      <td>0.041535</td>\n",
       "      <td>664.96179</td>\n",
       "      <td>114.0</td>\n",
       "      <td>1.0</td>\n",
       "      <td>16384</td>\n",
       "    </tr>\n",
       "    <tr>\n",
       "      <th>2323</th>\n",
       "      <td>107</td>\n",
       "      <td>0.041535</td>\n",
       "      <td>664.96179</td>\n",
       "      <td>114.0</td>\n",
       "      <td>10.0</td>\n",
       "      <td>16384</td>\n",
       "    </tr>\n",
       "    <tr>\n",
       "      <th>3967</th>\n",
       "      <td>354</td>\n",
       "      <td>0.134628</td>\n",
       "      <td>664.96179</td>\n",
       "      <td>491.0</td>\n",
       "      <td>100.0</td>\n",
       "      <td>16384</td>\n",
       "    </tr>\n",
       "    <tr>\n",
       "      <th>6202</th>\n",
       "      <td>978</td>\n",
       "      <td>0.660936</td>\n",
       "      <td>664.96179</td>\n",
       "      <td>1422.0</td>\n",
       "      <td>500.0</td>\n",
       "      <td>16384</td>\n",
       "    </tr>\n",
       "    <tr>\n",
       "      <th>7911</th>\n",
       "      <td>708</td>\n",
       "      <td>0.391184</td>\n",
       "      <td>664.96179</td>\n",
       "      <td>1223.0</td>\n",
       "      <td>1000.0</td>\n",
       "      <td>16384</td>\n",
       "    </tr>\n",
       "    <tr>\n",
       "      <th>10566</th>\n",
       "      <td>1161</td>\n",
       "      <td>0.036241</td>\n",
       "      <td>664.96179</td>\n",
       "      <td>2042.0</td>\n",
       "      <td>5000.0</td>\n",
       "      <td>16384</td>\n",
       "    </tr>\n",
       "    <tr>\n",
       "      <th>16256</th>\n",
       "      <td>1848</td>\n",
       "      <td>0.430954</td>\n",
       "      <td>664.96179</td>\n",
       "      <td>3339.0</td>\n",
       "      <td>100000.0</td>\n",
       "      <td>16384</td>\n",
       "    </tr>\n",
       "  </tbody>\n",
       "</table>\n",
       "</div>"
      ]
     },
     "metadata": {
      "application/vnd.databricks.v1+output": {
       "addedWidgets": {},
       "arguments": {},
       "data": "<div>\n<style scoped>\n    .dataframe tbody tr th:only-of-type {\n        vertical-align: middle;\n    }\n\n    .dataframe tbody tr th {\n        vertical-align: top;\n    }\n\n    .dataframe thead th {\n        text-align: right;\n    }\n</style>\n<table border=\"1\" class=\"dataframe\">\n  <thead>\n    <tr style=\"text-align: right;\">\n      <th></th>\n      <th>Iteration</th>\n      <th>Time</th>\n      <th>Fitness</th>\n      <th>FEvals</th>\n      <th>Temperature</th>\n      <th>max_iters</th>\n    </tr>\n  </thead>\n  <tbody>\n    <tr>\n      <th>107</th>\n      <td>107</td>\n      <td>0.041535</td>\n      <td>664.96179</td>\n      <td>114.0</td>\n      <td>0.1</td>\n      <td>16384</td>\n    </tr>\n    <tr>\n      <th>1215</th>\n      <td>107</td>\n      <td>0.041535</td>\n      <td>664.96179</td>\n      <td>114.0</td>\n      <td>1.0</td>\n      <td>16384</td>\n    </tr>\n    <tr>\n      <th>2323</th>\n      <td>107</td>\n      <td>0.041535</td>\n      <td>664.96179</td>\n      <td>114.0</td>\n      <td>10.0</td>\n      <td>16384</td>\n    </tr>\n    <tr>\n      <th>3967</th>\n      <td>354</td>\n      <td>0.134628</td>\n      <td>664.96179</td>\n      <td>491.0</td>\n      <td>100.0</td>\n      <td>16384</td>\n    </tr>\n    <tr>\n      <th>6202</th>\n      <td>978</td>\n      <td>0.660936</td>\n      <td>664.96179</td>\n      <td>1422.0</td>\n      <td>500.0</td>\n      <td>16384</td>\n    </tr>\n    <tr>\n      <th>7911</th>\n      <td>708</td>\n      <td>0.391184</td>\n      <td>664.96179</td>\n      <td>1223.0</td>\n      <td>1000.0</td>\n      <td>16384</td>\n    </tr>\n    <tr>\n      <th>10566</th>\n      <td>1161</td>\n      <td>0.036241</td>\n      <td>664.96179</td>\n      <td>2042.0</td>\n      <td>5000.0</td>\n      <td>16384</td>\n    </tr>\n    <tr>\n      <th>16256</th>\n      <td>1848</td>\n      <td>0.430954</td>\n      <td>664.96179</td>\n      <td>3339.0</td>\n      <td>100000.0</td>\n      <td>16384</td>\n    </tr>\n  </tbody>\n</table>\n</div>",
       "datasetInfos": [],
       "metadata": {},
       "removedWidgets": [],
       "textData": null,
       "type": "htmlSandbox"
      }
     },
     "output_type": "display_data"
    }
   ],
   "source": [
    "df_run_curves_sa['Temperature'] = df_run_curves_sa['Temperature'].apply(lambda x: float(str(x)))\n",
    "\n",
    "best_fitness = df_run_curves_sa['Fitness'].min()\n",
    "best_runs = df_run_curves_sa[df_run_curves_sa['Fitness'] == best_fitness].drop_duplicates(subset='Temperature')\n",
    "best_runs"
   ]
  },
  {
   "cell_type": "code",
   "execution_count": 0,
   "metadata": {
    "application/vnd.databricks.v1+cell": {
     "inputWidgets": {},
     "nuid": "dc4fccc2-673a-49ed-bdfe-25b88c50e45b",
     "showTitle": false,
     "title": ""
    }
   },
   "outputs": [
    {
     "data": {
      "text/html": [
       "<style scoped>\n",
       "  .ansiout {\n",
       "    display: block;\n",
       "    unicode-bidi: embed;\n",
       "    white-space: pre-wrap;\n",
       "    word-wrap: break-word;\n",
       "    word-break: break-all;\n",
       "    font-family: \"Source Code Pro\", \"Menlo\", monospace;;\n",
       "    font-size: 13px;\n",
       "    color: #555;\n",
       "    margin-left: 4px;\n",
       "    line-height: 19px;\n",
       "  }\n",
       "</style>\n",
       "<div class=\"ansiout\">(1108, 4)\n",
       "Out[46]: </div>"
      ]
     },
     "metadata": {
      "application/vnd.databricks.v1+output": {
       "addedWidgets": {},
       "arguments": {},
       "data": "<div class=\"ansiout\">(1108, 4)\nOut[46]: </div>",
       "datasetInfos": [],
       "metadata": {},
       "removedWidgets": [],
       "type": "html"
      }
     },
     "output_type": "display_data"
    },
    {
     "data": {
      "text/html": [
       "<div>\n",
       "<style scoped>\n",
       "    .dataframe tbody tr th:only-of-type {\n",
       "        vertical-align: middle;\n",
       "    }\n",
       "\n",
       "    .dataframe tbody tr th {\n",
       "        vertical-align: top;\n",
       "    }\n",
       "\n",
       "    .dataframe thead th {\n",
       "        text-align: right;\n",
       "    }\n",
       "</style>\n",
       "<table border=\"1\" class=\"dataframe\">\n",
       "  <thead>\n",
       "    <tr style=\"text-align: right;\">\n",
       "      <th></th>\n",
       "      <th>Iteration</th>\n",
       "      <th>Time</th>\n",
       "      <th>Fitness</th>\n",
       "      <th>FEvals</th>\n",
       "    </tr>\n",
       "  </thead>\n",
       "  <tbody>\n",
       "    <tr>\n",
       "      <th>0</th>\n",
       "      <td>0</td>\n",
       "      <td>0.000402</td>\n",
       "      <td>1115.307815</td>\n",
       "      <td>0.0</td>\n",
       "    </tr>\n",
       "    <tr>\n",
       "      <th>1</th>\n",
       "      <td>1</td>\n",
       "      <td>0.005333</td>\n",
       "      <td>1031.079851</td>\n",
       "      <td>2.0</td>\n",
       "    </tr>\n",
       "    <tr>\n",
       "      <th>2</th>\n",
       "      <td>2</td>\n",
       "      <td>0.008232</td>\n",
       "      <td>1031.079851</td>\n",
       "      <td>3.0</td>\n",
       "    </tr>\n",
       "    <tr>\n",
       "      <th>3</th>\n",
       "      <td>3</td>\n",
       "      <td>0.010913</td>\n",
       "      <td>971.736948</td>\n",
       "      <td>5.0</td>\n",
       "    </tr>\n",
       "    <tr>\n",
       "      <th>4</th>\n",
       "      <td>4</td>\n",
       "      <td>0.011050</td>\n",
       "      <td>971.736948</td>\n",
       "      <td>6.0</td>\n",
       "    </tr>\n",
       "  </tbody>\n",
       "</table>\n",
       "</div>"
      ]
     },
     "metadata": {
      "application/vnd.databricks.v1+output": {
       "addedWidgets": {},
       "arguments": {},
       "data": "<div>\n<style scoped>\n    .dataframe tbody tr th:only-of-type {\n        vertical-align: middle;\n    }\n\n    .dataframe tbody tr th {\n        vertical-align: top;\n    }\n\n    .dataframe thead th {\n        text-align: right;\n    }\n</style>\n<table border=\"1\" class=\"dataframe\">\n  <thead>\n    <tr style=\"text-align: right;\">\n      <th></th>\n      <th>Iteration</th>\n      <th>Time</th>\n      <th>Fitness</th>\n      <th>FEvals</th>\n    </tr>\n  </thead>\n  <tbody>\n    <tr>\n      <th>0</th>\n      <td>0</td>\n      <td>0.000402</td>\n      <td>1115.307815</td>\n      <td>0.0</td>\n    </tr>\n    <tr>\n      <th>1</th>\n      <td>1</td>\n      <td>0.005333</td>\n      <td>1031.079851</td>\n      <td>2.0</td>\n    </tr>\n    <tr>\n      <th>2</th>\n      <td>2</td>\n      <td>0.008232</td>\n      <td>1031.079851</td>\n      <td>3.0</td>\n    </tr>\n    <tr>\n      <th>3</th>\n      <td>3</td>\n      <td>0.010913</td>\n      <td>971.736948</td>\n      <td>5.0</td>\n    </tr>\n    <tr>\n      <th>4</th>\n      <td>4</td>\n      <td>0.011050</td>\n      <td>971.736948</td>\n      <td>6.0</td>\n    </tr>\n  </tbody>\n</table>\n</div>",
       "datasetInfos": [],
       "metadata": {},
       "removedWidgets": [],
       "textData": null,
       "type": "htmlSandbox"
      }
     },
     "output_type": "display_data"
    }
   ],
   "source": [
    "sac = df_run_curves_sa[(df_run_curves_sa['Temperature'] == 0.1)]\n",
    "sac = sac[['Iteration', 'Time', 'Fitness', 'FEvals']]\n",
    "\n",
    "print(sac.shape)\n",
    "sac.head()"
   ]
  },
  {
   "cell_type": "code",
   "execution_count": 0,
   "metadata": {
    "application/vnd.databricks.v1+cell": {
     "inputWidgets": {},
     "nuid": "436921fc-e297-4e39-b2cb-70c144b9e142",
     "showTitle": true,
     "title": "GA"
    }
   },
   "outputs": [
    {
     "data": {
      "text/html": [
       "<style scoped>\n",
       "  .ansiout {\n",
       "    display: block;\n",
       "    unicode-bidi: embed;\n",
       "    white-space: pre-wrap;\n",
       "    word-wrap: break-word;\n",
       "    word-break: break-all;\n",
       "    font-family: \"Source Code Pro\", \"Menlo\", monospace;;\n",
       "    font-size: 13px;\n",
       "    color: #555;\n",
       "    margin-left: 4px;\n",
       "    line-height: 19px;\n",
       "  }\n",
       "</style>\n",
       "<div class=\"ansiout\"></div>"
      ]
     },
     "metadata": {
      "application/vnd.databricks.v1+output": {
       "addedWidgets": {},
       "arguments": {},
       "data": "<div class=\"ansiout\"></div>",
       "datasetInfos": [],
       "metadata": {},
       "removedWidgets": [],
       "type": "html"
      }
     },
     "output_type": "display_data"
    }
   ],
   "source": [
    "# create a runner class and solve the problem\n",
    "#***************** Arithmetic Decay ************\n",
    "ga = GARunner(problem=problem,\n",
    "              experiment_name='queens-8-ga',\n",
    "              output_directory=None, \n",
    "              seed=42,\n",
    "              iteration_list=2 ** np.arange(15),\n",
    "              population_sizes=[50, 100, 500, 1000],\n",
    "              mutation_rates=[0.1, 0.2, 0.5])\n",
    "\n",
    "# run the optimization algorithm\n",
    "df_run_stats_ga, df_run_curves_ga = ga.run()"
   ]
  },
  {
   "cell_type": "code",
   "execution_count": 0,
   "metadata": {
    "application/vnd.databricks.v1+cell": {
     "inputWidgets": {},
     "nuid": "2c5b59c4-fc37-4841-a41e-4515f9211f12",
     "showTitle": false,
     "title": ""
    }
   },
   "outputs": [
    {
     "data": {
      "text/html": [
       "<style scoped>\n",
       "  .ansiout {\n",
       "    display: block;\n",
       "    unicode-bidi: embed;\n",
       "    white-space: pre-wrap;\n",
       "    word-wrap: break-word;\n",
       "    word-break: break-all;\n",
       "    font-family: \"Source Code Pro\", \"Menlo\", monospace;;\n",
       "    font-size: 13px;\n",
       "    color: #555;\n",
       "    margin-left: 4px;\n",
       "    line-height: 19px;\n",
       "  }\n",
       "</style>\n",
       "<div class=\"ansiout\">Out[48]: </div>"
      ]
     },
     "metadata": {
      "application/vnd.databricks.v1+output": {
       "addedWidgets": {},
       "arguments": {},
       "data": "<div class=\"ansiout\">Out[48]: </div>",
       "datasetInfos": [],
       "metadata": {},
       "removedWidgets": [],
       "type": "html"
      }
     },
     "output_type": "display_data"
    },
    {
     "data": {
      "text/html": [
       "<div>\n",
       "<style scoped>\n",
       "    .dataframe tbody tr th:only-of-type {\n",
       "        vertical-align: middle;\n",
       "    }\n",
       "\n",
       "    .dataframe tbody tr th {\n",
       "        vertical-align: top;\n",
       "    }\n",
       "\n",
       "    .dataframe thead th {\n",
       "        text-align: right;\n",
       "    }\n",
       "</style>\n",
       "<table border=\"1\" class=\"dataframe\">\n",
       "  <thead>\n",
       "    <tr style=\"text-align: right;\">\n",
       "      <th></th>\n",
       "      <th>Iteration</th>\n",
       "      <th>Fitness</th>\n",
       "      <th>FEvals</th>\n",
       "      <th>Time</th>\n",
       "      <th>State</th>\n",
       "      <th>Population Size</th>\n",
       "      <th>Mutation Rate</th>\n",
       "      <th>max_iters</th>\n",
       "    </tr>\n",
       "  </thead>\n",
       "  <tbody>\n",
       "    <tr>\n",
       "      <th>6</th>\n",
       "      <td>32</td>\n",
       "      <td>664.96179</td>\n",
       "      <td>1689</td>\n",
       "      <td>0.231174</td>\n",
       "      <td>[1, 0, 3, 7, 5, 2, 4, 8, 9, 6]</td>\n",
       "      <td>50</td>\n",
       "      <td>0.1</td>\n",
       "      <td>16384</td>\n",
       "    </tr>\n",
       "    <tr>\n",
       "      <th>22</th>\n",
       "      <td>32</td>\n",
       "      <td>664.96179</td>\n",
       "      <td>1688</td>\n",
       "      <td>0.242176</td>\n",
       "      <td>[4, 2, 5, 7, 3, 0, 1, 6, 9, 8]</td>\n",
       "      <td>50</td>\n",
       "      <td>0.2</td>\n",
       "      <td>16384</td>\n",
       "    </tr>\n",
       "    <tr>\n",
       "      <th>38</th>\n",
       "      <td>32</td>\n",
       "      <td>664.96179</td>\n",
       "      <td>1687</td>\n",
       "      <td>0.250389</td>\n",
       "      <td>[9, 6, 1, 0, 3, 7, 5, 2, 4, 8]</td>\n",
       "      <td>50</td>\n",
       "      <td>0.5</td>\n",
       "      <td>16384</td>\n",
       "    </tr>\n",
       "    <tr>\n",
       "      <th>54</th>\n",
       "      <td>32</td>\n",
       "      <td>664.96179</td>\n",
       "      <td>3340</td>\n",
       "      <td>0.474392</td>\n",
       "      <td>[8, 4, 2, 5, 7, 3, 0, 1, 6, 9]</td>\n",
       "      <td>100</td>\n",
       "      <td>0.1</td>\n",
       "      <td>16384</td>\n",
       "    </tr>\n",
       "    <tr>\n",
       "      <th>70</th>\n",
       "      <td>32</td>\n",
       "      <td>664.96179</td>\n",
       "      <td>3339</td>\n",
       "      <td>0.479614</td>\n",
       "      <td>[0, 3, 7, 5, 2, 4, 8, 9, 6, 1]</td>\n",
       "      <td>100</td>\n",
       "      <td>0.2</td>\n",
       "      <td>16384</td>\n",
       "    </tr>\n",
       "    <tr>\n",
       "      <th>86</th>\n",
       "      <td>32</td>\n",
       "      <td>664.96179</td>\n",
       "      <td>3341</td>\n",
       "      <td>0.496252</td>\n",
       "      <td>[7, 5, 2, 4, 8, 9, 6, 1, 0, 3]</td>\n",
       "      <td>100</td>\n",
       "      <td>0.5</td>\n",
       "      <td>16384</td>\n",
       "    </tr>\n",
       "    <tr>\n",
       "      <th>101</th>\n",
       "      <td>16</td>\n",
       "      <td>664.96179</td>\n",
       "      <td>8522</td>\n",
       "      <td>1.235297</td>\n",
       "      <td>[8, 9, 6, 1, 0, 3, 7, 5, 2, 4]</td>\n",
       "      <td>500</td>\n",
       "      <td>0.1</td>\n",
       "      <td>16384</td>\n",
       "    </tr>\n",
       "    <tr>\n",
       "      <th>116</th>\n",
       "      <td>8</td>\n",
       "      <td>664.96179</td>\n",
       "      <td>4512</td>\n",
       "      <td>0.635560</td>\n",
       "      <td>[3, 7, 5, 2, 4, 8, 9, 6, 1, 0]</td>\n",
       "      <td>500</td>\n",
       "      <td>0.2</td>\n",
       "      <td>16384</td>\n",
       "    </tr>\n",
       "  </tbody>\n",
       "</table>\n",
       "</div>"
      ]
     },
     "metadata": {
      "application/vnd.databricks.v1+output": {
       "addedWidgets": {},
       "arguments": {},
       "data": "<div>\n<style scoped>\n    .dataframe tbody tr th:only-of-type {\n        vertical-align: middle;\n    }\n\n    .dataframe tbody tr th {\n        vertical-align: top;\n    }\n\n    .dataframe thead th {\n        text-align: right;\n    }\n</style>\n<table border=\"1\" class=\"dataframe\">\n  <thead>\n    <tr style=\"text-align: right;\">\n      <th></th>\n      <th>Iteration</th>\n      <th>Fitness</th>\n      <th>FEvals</th>\n      <th>Time</th>\n      <th>State</th>\n      <th>Population Size</th>\n      <th>Mutation Rate</th>\n      <th>max_iters</th>\n    </tr>\n  </thead>\n  <tbody>\n    <tr>\n      <th>6</th>\n      <td>32</td>\n      <td>664.96179</td>\n      <td>1689</td>\n      <td>0.231174</td>\n      <td>[1, 0, 3, 7, 5, 2, 4, 8, 9, 6]</td>\n      <td>50</td>\n      <td>0.1</td>\n      <td>16384</td>\n    </tr>\n    <tr>\n      <th>22</th>\n      <td>32</td>\n      <td>664.96179</td>\n      <td>1688</td>\n      <td>0.242176</td>\n      <td>[4, 2, 5, 7, 3, 0, 1, 6, 9, 8]</td>\n      <td>50</td>\n      <td>0.2</td>\n      <td>16384</td>\n    </tr>\n    <tr>\n      <th>38</th>\n      <td>32</td>\n      <td>664.96179</td>\n      <td>1687</td>\n      <td>0.250389</td>\n      <td>[9, 6, 1, 0, 3, 7, 5, 2, 4, 8]</td>\n      <td>50</td>\n      <td>0.5</td>\n      <td>16384</td>\n    </tr>\n    <tr>\n      <th>54</th>\n      <td>32</td>\n      <td>664.96179</td>\n      <td>3340</td>\n      <td>0.474392</td>\n      <td>[8, 4, 2, 5, 7, 3, 0, 1, 6, 9]</td>\n      <td>100</td>\n      <td>0.1</td>\n      <td>16384</td>\n    </tr>\n    <tr>\n      <th>70</th>\n      <td>32</td>\n      <td>664.96179</td>\n      <td>3339</td>\n      <td>0.479614</td>\n      <td>[0, 3, 7, 5, 2, 4, 8, 9, 6, 1]</td>\n      <td>100</td>\n      <td>0.2</td>\n      <td>16384</td>\n    </tr>\n    <tr>\n      <th>86</th>\n      <td>32</td>\n      <td>664.96179</td>\n      <td>3341</td>\n      <td>0.496252</td>\n      <td>[7, 5, 2, 4, 8, 9, 6, 1, 0, 3]</td>\n      <td>100</td>\n      <td>0.5</td>\n      <td>16384</td>\n    </tr>\n    <tr>\n      <th>101</th>\n      <td>16</td>\n      <td>664.96179</td>\n      <td>8522</td>\n      <td>1.235297</td>\n      <td>[8, 9, 6, 1, 0, 3, 7, 5, 2, 4]</td>\n      <td>500</td>\n      <td>0.1</td>\n      <td>16384</td>\n    </tr>\n    <tr>\n      <th>116</th>\n      <td>8</td>\n      <td>664.96179</td>\n      <td>4512</td>\n      <td>0.635560</td>\n      <td>[3, 7, 5, 2, 4, 8, 9, 6, 1, 0]</td>\n      <td>500</td>\n      <td>0.2</td>\n      <td>16384</td>\n    </tr>\n  </tbody>\n</table>\n</div>",
       "datasetInfos": [],
       "metadata": {},
       "removedWidgets": [],
       "textData": null,
       "type": "htmlSandbox"
      }
     },
     "output_type": "display_data"
    }
   ],
   "source": [
    "# optimal solutions\n",
    "optimal_queen8 = df_run_stats_ga[df_run_stats_ga['Fitness']==df_run_stats_ga['Fitness'].min()].drop_duplicates(subset=['State'])\n",
    "optimal_queen8"
   ]
  },
  {
   "cell_type": "code",
   "execution_count": 0,
   "metadata": {
    "application/vnd.databricks.v1+cell": {
     "inputWidgets": {},
     "nuid": "5b38a928-ebfc-4abc-b10f-4364d9509892",
     "showTitle": false,
     "title": ""
    }
   },
   "outputs": [
    {
     "data": {
      "text/html": [
       "<style scoped>\n",
       "  .ansiout {\n",
       "    display: block;\n",
       "    unicode-bidi: embed;\n",
       "    white-space: pre-wrap;\n",
       "    word-wrap: break-word;\n",
       "    word-break: break-all;\n",
       "    font-family: \"Source Code Pro\", \"Menlo\", monospace;;\n",
       "    font-size: 13px;\n",
       "    color: #555;\n",
       "    margin-left: 4px;\n",
       "    line-height: 19px;\n",
       "  }\n",
       "</style>\n",
       "<div class=\"ansiout\">Out[49]: </div>"
      ]
     },
     "metadata": {
      "application/vnd.databricks.v1+output": {
       "addedWidgets": {},
       "arguments": {},
       "data": "<div class=\"ansiout\">Out[49]: </div>",
       "datasetInfos": [],
       "metadata": {},
       "removedWidgets": [],
       "type": "html"
      }
     },
     "output_type": "display_data"
    },
    {
     "data": {
      "text/html": [
       "<div>\n",
       "<style scoped>\n",
       "    .dataframe tbody tr th:only-of-type {\n",
       "        vertical-align: middle;\n",
       "    }\n",
       "\n",
       "    .dataframe tbody tr th {\n",
       "        vertical-align: top;\n",
       "    }\n",
       "\n",
       "    .dataframe thead th {\n",
       "        text-align: right;\n",
       "    }\n",
       "</style>\n",
       "<table border=\"1\" class=\"dataframe\">\n",
       "  <thead>\n",
       "    <tr style=\"text-align: right;\">\n",
       "      <th></th>\n",
       "      <th>Iteration</th>\n",
       "      <th>Time</th>\n",
       "      <th>Fitness</th>\n",
       "      <th>FEvals</th>\n",
       "      <th>Population Size</th>\n",
       "      <th>Mutation Rate</th>\n",
       "      <th>max_iters</th>\n",
       "    </tr>\n",
       "  </thead>\n",
       "  <tbody>\n",
       "    <tr>\n",
       "      <th>21</th>\n",
       "      <td>21</td>\n",
       "      <td>0.158413</td>\n",
       "      <td>664.96179</td>\n",
       "      <td>1128.0</td>\n",
       "      <td>50</td>\n",
       "      <td>0.1</td>\n",
       "      <td>16384</td>\n",
       "    </tr>\n",
       "    <tr>\n",
       "      <th>552</th>\n",
       "      <td>30</td>\n",
       "      <td>0.218389</td>\n",
       "      <td>664.96179</td>\n",
       "      <td>1586.0</td>\n",
       "      <td>50</td>\n",
       "      <td>0.2</td>\n",
       "      <td>16384</td>\n",
       "    </tr>\n",
       "    <tr>\n",
       "      <th>1075</th>\n",
       "      <td>22</td>\n",
       "      <td>0.165157</td>\n",
       "      <td>664.96179</td>\n",
       "      <td>1177.0</td>\n",
       "      <td>50</td>\n",
       "      <td>0.5</td>\n",
       "      <td>16384</td>\n",
       "    </tr>\n",
       "    <tr>\n",
       "      <th>1600</th>\n",
       "      <td>24</td>\n",
       "      <td>0.178700</td>\n",
       "      <td>664.96179</td>\n",
       "      <td>2532.0</td>\n",
       "      <td>100</td>\n",
       "      <td>0.1</td>\n",
       "      <td>16384</td>\n",
       "    </tr>\n",
       "    <tr>\n",
       "      <th>2129</th>\n",
       "      <td>28</td>\n",
       "      <td>0.205310</td>\n",
       "      <td>664.96179</td>\n",
       "      <td>2935.0</td>\n",
       "      <td>100</td>\n",
       "      <td>0.2</td>\n",
       "      <td>16384</td>\n",
       "    </tr>\n",
       "    <tr>\n",
       "      <th>2652</th>\n",
       "      <td>22</td>\n",
       "      <td>0.165157</td>\n",
       "      <td>664.96179</td>\n",
       "      <td>2331.0</td>\n",
       "      <td>100</td>\n",
       "      <td>0.5</td>\n",
       "      <td>16384</td>\n",
       "    </tr>\n",
       "    <tr>\n",
       "      <th>3166</th>\n",
       "      <td>13</td>\n",
       "      <td>0.103762</td>\n",
       "      <td>664.96179</td>\n",
       "      <td>7019.0</td>\n",
       "      <td>500</td>\n",
       "      <td>0.1</td>\n",
       "      <td>16384</td>\n",
       "    </tr>\n",
       "    <tr>\n",
       "      <th>3672</th>\n",
       "      <td>5</td>\n",
       "      <td>0.048637</td>\n",
       "      <td>664.96179</td>\n",
       "      <td>3009.0</td>\n",
       "      <td>500</td>\n",
       "      <td>0.2</td>\n",
       "      <td>16384</td>\n",
       "    </tr>\n",
       "    <tr>\n",
       "      <th>4176</th>\n",
       "      <td>3</td>\n",
       "      <td>0.032868</td>\n",
       "      <td>664.96179</td>\n",
       "      <td>2006.0</td>\n",
       "      <td>500</td>\n",
       "      <td>0.5</td>\n",
       "      <td>16384</td>\n",
       "    </tr>\n",
       "    <tr>\n",
       "      <th>4681</th>\n",
       "      <td>4</td>\n",
       "      <td>0.039632</td>\n",
       "      <td>664.96179</td>\n",
       "      <td>5008.0</td>\n",
       "      <td>1000</td>\n",
       "      <td>0.1</td>\n",
       "      <td>16384</td>\n",
       "    </tr>\n",
       "    <tr>\n",
       "      <th>5189</th>\n",
       "      <td>7</td>\n",
       "      <td>0.061801</td>\n",
       "      <td>664.96179</td>\n",
       "      <td>8012.0</td>\n",
       "      <td>1000</td>\n",
       "      <td>0.2</td>\n",
       "      <td>16384</td>\n",
       "    </tr>\n",
       "    <tr>\n",
       "      <th>5702</th>\n",
       "      <td>12</td>\n",
       "      <td>0.097270</td>\n",
       "      <td>664.96179</td>\n",
       "      <td>13016.0</td>\n",
       "      <td>1000</td>\n",
       "      <td>0.5</td>\n",
       "      <td>16384</td>\n",
       "    </tr>\n",
       "  </tbody>\n",
       "</table>\n",
       "</div>"
      ]
     },
     "metadata": {
      "application/vnd.databricks.v1+output": {
       "addedWidgets": {},
       "arguments": {},
       "data": "<div>\n<style scoped>\n    .dataframe tbody tr th:only-of-type {\n        vertical-align: middle;\n    }\n\n    .dataframe tbody tr th {\n        vertical-align: top;\n    }\n\n    .dataframe thead th {\n        text-align: right;\n    }\n</style>\n<table border=\"1\" class=\"dataframe\">\n  <thead>\n    <tr style=\"text-align: right;\">\n      <th></th>\n      <th>Iteration</th>\n      <th>Time</th>\n      <th>Fitness</th>\n      <th>FEvals</th>\n      <th>Population Size</th>\n      <th>Mutation Rate</th>\n      <th>max_iters</th>\n    </tr>\n  </thead>\n  <tbody>\n    <tr>\n      <th>21</th>\n      <td>21</td>\n      <td>0.158413</td>\n      <td>664.96179</td>\n      <td>1128.0</td>\n      <td>50</td>\n      <td>0.1</td>\n      <td>16384</td>\n    </tr>\n    <tr>\n      <th>552</th>\n      <td>30</td>\n      <td>0.218389</td>\n      <td>664.96179</td>\n      <td>1586.0</td>\n      <td>50</td>\n      <td>0.2</td>\n      <td>16384</td>\n    </tr>\n    <tr>\n      <th>1075</th>\n      <td>22</td>\n      <td>0.165157</td>\n      <td>664.96179</td>\n      <td>1177.0</td>\n      <td>50</td>\n      <td>0.5</td>\n      <td>16384</td>\n    </tr>\n    <tr>\n      <th>1600</th>\n      <td>24</td>\n      <td>0.178700</td>\n      <td>664.96179</td>\n      <td>2532.0</td>\n      <td>100</td>\n      <td>0.1</td>\n      <td>16384</td>\n    </tr>\n    <tr>\n      <th>2129</th>\n      <td>28</td>\n      <td>0.205310</td>\n      <td>664.96179</td>\n      <td>2935.0</td>\n      <td>100</td>\n      <td>0.2</td>\n      <td>16384</td>\n    </tr>\n    <tr>\n      <th>2652</th>\n      <td>22</td>\n      <td>0.165157</td>\n      <td>664.96179</td>\n      <td>2331.0</td>\n      <td>100</td>\n      <td>0.5</td>\n      <td>16384</td>\n    </tr>\n    <tr>\n      <th>3166</th>\n      <td>13</td>\n      <td>0.103762</td>\n      <td>664.96179</td>\n      <td>7019.0</td>\n      <td>500</td>\n      <td>0.1</td>\n      <td>16384</td>\n    </tr>\n    <tr>\n      <th>3672</th>\n      <td>5</td>\n      <td>0.048637</td>\n      <td>664.96179</td>\n      <td>3009.0</td>\n      <td>500</td>\n      <td>0.2</td>\n      <td>16384</td>\n    </tr>\n    <tr>\n      <th>4176</th>\n      <td>3</td>\n      <td>0.032868</td>\n      <td>664.96179</td>\n      <td>2006.0</td>\n      <td>500</td>\n      <td>0.5</td>\n      <td>16384</td>\n    </tr>\n    <tr>\n      <th>4681</th>\n      <td>4</td>\n      <td>0.039632</td>\n      <td>664.96179</td>\n      <td>5008.0</td>\n      <td>1000</td>\n      <td>0.1</td>\n      <td>16384</td>\n    </tr>\n    <tr>\n      <th>5189</th>\n      <td>7</td>\n      <td>0.061801</td>\n      <td>664.96179</td>\n      <td>8012.0</td>\n      <td>1000</td>\n      <td>0.2</td>\n      <td>16384</td>\n    </tr>\n    <tr>\n      <th>5702</th>\n      <td>12</td>\n      <td>0.097270</td>\n      <td>664.96179</td>\n      <td>13016.0</td>\n      <td>1000</td>\n      <td>0.5</td>\n      <td>16384</td>\n    </tr>\n  </tbody>\n</table>\n</div>",
       "datasetInfos": [],
       "metadata": {},
       "removedWidgets": [],
       "textData": null,
       "type": "htmlSandbox"
      }
     },
     "output_type": "display_data"
    }
   ],
   "source": [
    "# Best runs\n",
    "best_fitness = df_run_curves_ga['Fitness'].min()\n",
    "best_runs = df_run_curves_ga[df_run_curves_ga['Fitness'] == best_fitness].drop_duplicates(subset=['Population Size', 'Mutation Rate'])\n",
    "best_runs"
   ]
  },
  {
   "cell_type": "code",
   "execution_count": 0,
   "metadata": {
    "application/vnd.databricks.v1+cell": {
     "inputWidgets": {},
     "nuid": "641eb674-a877-4840-bb3f-8df227701f7d",
     "showTitle": false,
     "title": ""
    }
   },
   "outputs": [
    {
     "data": {
      "text/html": [
       "<style scoped>\n",
       "  .ansiout {\n",
       "    display: block;\n",
       "    unicode-bidi: embed;\n",
       "    white-space: pre-wrap;\n",
       "    word-wrap: break-word;\n",
       "    word-break: break-all;\n",
       "    font-family: \"Source Code Pro\", \"Menlo\", monospace;;\n",
       "    font-size: 13px;\n",
       "    color: #555;\n",
       "    margin-left: 4px;\n",
       "    line-height: 19px;\n",
       "  }\n",
       "</style>\n",
       "<div class=\"ansiout\">(522, 4)\n",
       "Out[50]: </div>"
      ]
     },
     "metadata": {
      "application/vnd.databricks.v1+output": {
       "addedWidgets": {},
       "arguments": {},
       "data": "<div class=\"ansiout\">(522, 4)\nOut[50]: </div>",
       "datasetInfos": [],
       "metadata": {},
       "removedWidgets": [],
       "type": "html"
      }
     },
     "output_type": "display_data"
    },
    {
     "data": {
      "text/html": [
       "<div>\n",
       "<style scoped>\n",
       "    .dataframe tbody tr th:only-of-type {\n",
       "        vertical-align: middle;\n",
       "    }\n",
       "\n",
       "    .dataframe tbody tr th {\n",
       "        vertical-align: top;\n",
       "    }\n",
       "\n",
       "    .dataframe thead th {\n",
       "        text-align: right;\n",
       "    }\n",
       "</style>\n",
       "<table border=\"1\" class=\"dataframe\">\n",
       "  <thead>\n",
       "    <tr style=\"text-align: right;\">\n",
       "      <th></th>\n",
       "      <th>Iteration</th>\n",
       "      <th>Time</th>\n",
       "      <th>Fitness</th>\n",
       "      <th>FEvals</th>\n",
       "    </tr>\n",
       "  </thead>\n",
       "  <tbody>\n",
       "    <tr>\n",
       "      <th>0</th>\n",
       "      <td>0</td>\n",
       "      <td>0.002846</td>\n",
       "      <td>1115.307815</td>\n",
       "      <td>50.0</td>\n",
       "    </tr>\n",
       "    <tr>\n",
       "      <th>1</th>\n",
       "      <td>1</td>\n",
       "      <td>0.014896</td>\n",
       "      <td>780.556964</td>\n",
       "      <td>102.0</td>\n",
       "    </tr>\n",
       "    <tr>\n",
       "      <th>2</th>\n",
       "      <td>2</td>\n",
       "      <td>0.023935</td>\n",
       "      <td>780.556964</td>\n",
       "      <td>153.0</td>\n",
       "    </tr>\n",
       "    <tr>\n",
       "      <th>3</th>\n",
       "      <td>3</td>\n",
       "      <td>0.032868</td>\n",
       "      <td>767.483957</td>\n",
       "      <td>205.0</td>\n",
       "    </tr>\n",
       "    <tr>\n",
       "      <th>4</th>\n",
       "      <td>4</td>\n",
       "      <td>0.039632</td>\n",
       "      <td>755.113867</td>\n",
       "      <td>257.0</td>\n",
       "    </tr>\n",
       "  </tbody>\n",
       "</table>\n",
       "</div>"
      ]
     },
     "metadata": {
      "application/vnd.databricks.v1+output": {
       "addedWidgets": {},
       "arguments": {},
       "data": "<div>\n<style scoped>\n    .dataframe tbody tr th:only-of-type {\n        vertical-align: middle;\n    }\n\n    .dataframe tbody tr th {\n        vertical-align: top;\n    }\n\n    .dataframe thead th {\n        text-align: right;\n    }\n</style>\n<table border=\"1\" class=\"dataframe\">\n  <thead>\n    <tr style=\"text-align: right;\">\n      <th></th>\n      <th>Iteration</th>\n      <th>Time</th>\n      <th>Fitness</th>\n      <th>FEvals</th>\n    </tr>\n  </thead>\n  <tbody>\n    <tr>\n      <th>0</th>\n      <td>0</td>\n      <td>0.002846</td>\n      <td>1115.307815</td>\n      <td>50.0</td>\n    </tr>\n    <tr>\n      <th>1</th>\n      <td>1</td>\n      <td>0.014896</td>\n      <td>780.556964</td>\n      <td>102.0</td>\n    </tr>\n    <tr>\n      <th>2</th>\n      <td>2</td>\n      <td>0.023935</td>\n      <td>780.556964</td>\n      <td>153.0</td>\n    </tr>\n    <tr>\n      <th>3</th>\n      <td>3</td>\n      <td>0.032868</td>\n      <td>767.483957</td>\n      <td>205.0</td>\n    </tr>\n    <tr>\n      <th>4</th>\n      <td>4</td>\n      <td>0.039632</td>\n      <td>755.113867</td>\n      <td>257.0</td>\n    </tr>\n  </tbody>\n</table>\n</div>",
       "datasetInfos": [],
       "metadata": {},
       "removedWidgets": [],
       "textData": null,
       "type": "htmlSandbox"
      }
     },
     "output_type": "display_data"
    }
   ],
   "source": [
    "gac = df_run_curves_ga[(df_run_curves_ga['Population Size'] == 50) & ((df_run_curves_ga['Mutation Rate'] == 0.1))]\n",
    "gac = gac[['Iteration', 'Time', 'Fitness', 'FEvals']]\n",
    "\n",
    "print(gac.shape)\n",
    "gac.head()"
   ]
  },
  {
   "cell_type": "code",
   "execution_count": 0,
   "metadata": {
    "application/vnd.databricks.v1+cell": {
     "inputWidgets": {},
     "nuid": "4b459f6f-c6dc-4935-bc87-d8ad8ee61362",
     "showTitle": true,
     "title": "MIMIC"
    }
   },
   "outputs": [
    {
     "data": {
      "text/html": [
       "<style scoped>\n",
       "  .ansiout {\n",
       "    display: block;\n",
       "    unicode-bidi: embed;\n",
       "    white-space: pre-wrap;\n",
       "    word-wrap: break-word;\n",
       "    word-break: break-all;\n",
       "    font-family: \"Source Code Pro\", \"Menlo\", monospace;;\n",
       "    font-size: 13px;\n",
       "    color: #555;\n",
       "    margin-left: 4px;\n",
       "    line-height: 19px;\n",
       "  }\n",
       "</style>\n",
       "<div class=\"ansiout\"></div>"
      ]
     },
     "metadata": {
      "application/vnd.databricks.v1+output": {
       "addedWidgets": {},
       "arguments": {},
       "data": "<div class=\"ansiout\"></div>",
       "datasetInfos": [],
       "metadata": {},
       "removedWidgets": [],
       "type": "html"
      }
     },
     "output_type": "display_data"
    }
   ],
   "source": [
    "mimic = MIMICRunner(problem = problem,\n",
    "                    experiment_name = 'queens-8-mimic',\n",
    "                    output_directory = None,\n",
    "                    seed = 42,\n",
    "                    iteration_list = 2 ** np.arange(15),\n",
    "                    population_sizes = [1000],\n",
    "                    keep_percent_list = [0.5],\n",
    "                    max_attempts=500,\n",
    "                    generate_curves=True,\n",
    "                    use_fast_mimic=False)\n",
    "\n",
    "# run the optimization algorithm\n",
    "df_run_stats_mimic, df_run_curves_mimic = mimic.run()"
   ]
  },
  {
   "cell_type": "code",
   "execution_count": 0,
   "metadata": {
    "application/vnd.databricks.v1+cell": {
     "inputWidgets": {},
     "nuid": "5ad99f79-2e0b-4eb6-9d0e-10af1feb03d8",
     "showTitle": false,
     "title": ""
    }
   },
   "outputs": [
    {
     "data": {
      "text/html": [
       "<style scoped>\n",
       "  .ansiout {\n",
       "    display: block;\n",
       "    unicode-bidi: embed;\n",
       "    white-space: pre-wrap;\n",
       "    word-wrap: break-word;\n",
       "    word-break: break-all;\n",
       "    font-family: \"Source Code Pro\", \"Menlo\", monospace;;\n",
       "    font-size: 13px;\n",
       "    color: #555;\n",
       "    margin-left: 4px;\n",
       "    line-height: 19px;\n",
       "  }\n",
       "</style>\n",
       "<div class=\"ansiout\">Out[61]: </div>"
      ]
     },
     "metadata": {
      "application/vnd.databricks.v1+output": {
       "addedWidgets": {},
       "arguments": {},
       "data": "<div class=\"ansiout\">Out[61]: </div>",
       "datasetInfos": [],
       "metadata": {},
       "removedWidgets": [],
       "type": "html"
      }
     },
     "output_type": "display_data"
    },
    {
     "data": {
      "text/html": [
       "<div>\n",
       "<style scoped>\n",
       "    .dataframe tbody tr th:only-of-type {\n",
       "        vertical-align: middle;\n",
       "    }\n",
       "\n",
       "    .dataframe tbody tr th {\n",
       "        vertical-align: top;\n",
       "    }\n",
       "\n",
       "    .dataframe thead th {\n",
       "        text-align: right;\n",
       "    }\n",
       "</style>\n",
       "<table border=\"1\" class=\"dataframe\">\n",
       "  <thead>\n",
       "    <tr style=\"text-align: right;\">\n",
       "      <th></th>\n",
       "      <th>Iteration</th>\n",
       "      <th>Fitness</th>\n",
       "      <th>FEvals</th>\n",
       "      <th>Time</th>\n",
       "      <th>State</th>\n",
       "      <th>use_fast_mimic</th>\n",
       "      <th>Population Size</th>\n",
       "      <th>Keep Percent</th>\n",
       "      <th>max_iters</th>\n",
       "    </tr>\n",
       "  </thead>\n",
       "  <tbody>\n",
       "    <tr>\n",
       "      <th>4</th>\n",
       "      <td>8</td>\n",
       "      <td>664.96179</td>\n",
       "      <td>9013</td>\n",
       "      <td>5.353437</td>\n",
       "      <td>[0, 3, 7, 5, 2, 4, 8, 9, 6, 1]</td>\n",
       "      <td>False</td>\n",
       "      <td>1000</td>\n",
       "      <td>0.5</td>\n",
       "      <td>16384</td>\n",
       "    </tr>\n",
       "  </tbody>\n",
       "</table>\n",
       "</div>"
      ]
     },
     "metadata": {
      "application/vnd.databricks.v1+output": {
       "addedWidgets": {},
       "arguments": {},
       "data": "<div>\n<style scoped>\n    .dataframe tbody tr th:only-of-type {\n        vertical-align: middle;\n    }\n\n    .dataframe tbody tr th {\n        vertical-align: top;\n    }\n\n    .dataframe thead th {\n        text-align: right;\n    }\n</style>\n<table border=\"1\" class=\"dataframe\">\n  <thead>\n    <tr style=\"text-align: right;\">\n      <th></th>\n      <th>Iteration</th>\n      <th>Fitness</th>\n      <th>FEvals</th>\n      <th>Time</th>\n      <th>State</th>\n      <th>use_fast_mimic</th>\n      <th>Population Size</th>\n      <th>Keep Percent</th>\n      <th>max_iters</th>\n    </tr>\n  </thead>\n  <tbody>\n    <tr>\n      <th>4</th>\n      <td>8</td>\n      <td>664.96179</td>\n      <td>9013</td>\n      <td>5.353437</td>\n      <td>[0, 3, 7, 5, 2, 4, 8, 9, 6, 1]</td>\n      <td>False</td>\n      <td>1000</td>\n      <td>0.5</td>\n      <td>16384</td>\n    </tr>\n  </tbody>\n</table>\n</div>",
       "datasetInfos": [],
       "metadata": {},
       "removedWidgets": [],
       "textData": null,
       "type": "htmlSandbox"
      }
     },
     "output_type": "display_data"
    }
   ],
   "source": [
    "# optimal solutions\n",
    "optimal_queen8 = df_run_stats_mimic[df_run_stats_mimic['Fitness']==df_run_stats_mimic['Fitness'].min()].drop_duplicates(subset=['State'])\n",
    "optimal_queen8"
   ]
  },
  {
   "cell_type": "code",
   "execution_count": 0,
   "metadata": {
    "application/vnd.databricks.v1+cell": {
     "inputWidgets": {},
     "nuid": "cee81de7-28df-439e-bdf8-db1dc131398c",
     "showTitle": false,
     "title": ""
    }
   },
   "outputs": [
    {
     "data": {
      "text/html": [
       "<style scoped>\n",
       "  .ansiout {\n",
       "    display: block;\n",
       "    unicode-bidi: embed;\n",
       "    white-space: pre-wrap;\n",
       "    word-wrap: break-word;\n",
       "    word-break: break-all;\n",
       "    font-family: \"Source Code Pro\", \"Menlo\", monospace;;\n",
       "    font-size: 13px;\n",
       "    color: #555;\n",
       "    margin-left: 4px;\n",
       "    line-height: 19px;\n",
       "  }\n",
       "</style>\n",
       "<div class=\"ansiout\">Out[62]: </div>"
      ]
     },
     "metadata": {
      "application/vnd.databricks.v1+output": {
       "addedWidgets": {},
       "arguments": {},
       "data": "<div class=\"ansiout\">Out[62]: </div>",
       "datasetInfos": [],
       "metadata": {},
       "removedWidgets": [],
       "type": "html"
      }
     },
     "output_type": "display_data"
    },
    {
     "data": {
      "text/html": [
       "<div>\n",
       "<style scoped>\n",
       "    .dataframe tbody tr th:only-of-type {\n",
       "        vertical-align: middle;\n",
       "    }\n",
       "\n",
       "    .dataframe tbody tr th {\n",
       "        vertical-align: top;\n",
       "    }\n",
       "\n",
       "    .dataframe thead th {\n",
       "        text-align: right;\n",
       "    }\n",
       "</style>\n",
       "<table border=\"1\" class=\"dataframe\">\n",
       "  <thead>\n",
       "    <tr style=\"text-align: right;\">\n",
       "      <th></th>\n",
       "      <th>Iteration</th>\n",
       "      <th>Time</th>\n",
       "      <th>Fitness</th>\n",
       "      <th>FEvals</th>\n",
       "      <th>use_fast_mimic</th>\n",
       "      <th>Population Size</th>\n",
       "      <th>Keep Percent</th>\n",
       "      <th>max_iters</th>\n",
       "    </tr>\n",
       "  </thead>\n",
       "  <tbody>\n",
       "    <tr>\n",
       "      <th>6</th>\n",
       "      <td>6</td>\n",
       "      <td>4.017835</td>\n",
       "      <td>664.96179</td>\n",
       "      <td>7011.0</td>\n",
       "      <td>False</td>\n",
       "      <td>1000</td>\n",
       "      <td>0.5</td>\n",
       "      <td>16384</td>\n",
       "    </tr>\n",
       "    <tr>\n",
       "      <th>7</th>\n",
       "      <td>7</td>\n",
       "      <td>4.689162</td>\n",
       "      <td>664.96179</td>\n",
       "      <td>8012.0</td>\n",
       "      <td>False</td>\n",
       "      <td>1000</td>\n",
       "      <td>0.5</td>\n",
       "      <td>16384</td>\n",
       "    </tr>\n",
       "    <tr>\n",
       "      <th>8</th>\n",
       "      <td>8</td>\n",
       "      <td>5.353437</td>\n",
       "      <td>664.96179</td>\n",
       "      <td>9013.0</td>\n",
       "      <td>False</td>\n",
       "      <td>1000</td>\n",
       "      <td>0.5</td>\n",
       "      <td>16384</td>\n",
       "    </tr>\n",
       "    <tr>\n",
       "      <th>9</th>\n",
       "      <td>9</td>\n",
       "      <td>6.007502</td>\n",
       "      <td>664.96179</td>\n",
       "      <td>10014.0</td>\n",
       "      <td>False</td>\n",
       "      <td>1000</td>\n",
       "      <td>0.5</td>\n",
       "      <td>16384</td>\n",
       "    </tr>\n",
       "    <tr>\n",
       "      <th>10</th>\n",
       "      <td>10</td>\n",
       "      <td>6.640681</td>\n",
       "      <td>664.96179</td>\n",
       "      <td>11015.0</td>\n",
       "      <td>False</td>\n",
       "      <td>1000</td>\n",
       "      <td>0.5</td>\n",
       "      <td>16384</td>\n",
       "    </tr>\n",
       "    <tr>\n",
       "      <th>...</th>\n",
       "      <td>...</td>\n",
       "      <td>...</td>\n",
       "      <td>...</td>\n",
       "      <td>...</td>\n",
       "      <td>...</td>\n",
       "      <td>...</td>\n",
       "      <td>...</td>\n",
       "      <td>...</td>\n",
       "    </tr>\n",
       "    <tr>\n",
       "      <th>502</th>\n",
       "      <td>502</td>\n",
       "      <td>319.470283</td>\n",
       "      <td>664.96179</td>\n",
       "      <td>503507.0</td>\n",
       "      <td>False</td>\n",
       "      <td>1000</td>\n",
       "      <td>0.5</td>\n",
       "      <td>16384</td>\n",
       "    </tr>\n",
       "    <tr>\n",
       "      <th>503</th>\n",
       "      <td>503</td>\n",
       "      <td>320.084161</td>\n",
       "      <td>664.96179</td>\n",
       "      <td>504508.0</td>\n",
       "      <td>False</td>\n",
       "      <td>1000</td>\n",
       "      <td>0.5</td>\n",
       "      <td>16384</td>\n",
       "    </tr>\n",
       "    <tr>\n",
       "      <th>504</th>\n",
       "      <td>504</td>\n",
       "      <td>320.709678</td>\n",
       "      <td>664.96179</td>\n",
       "      <td>505509.0</td>\n",
       "      <td>False</td>\n",
       "      <td>1000</td>\n",
       "      <td>0.5</td>\n",
       "      <td>16384</td>\n",
       "    </tr>\n",
       "    <tr>\n",
       "      <th>505</th>\n",
       "      <td>505</td>\n",
       "      <td>321.349923</td>\n",
       "      <td>664.96179</td>\n",
       "      <td>506510.0</td>\n",
       "      <td>False</td>\n",
       "      <td>1000</td>\n",
       "      <td>0.5</td>\n",
       "      <td>16384</td>\n",
       "    </tr>\n",
       "    <tr>\n",
       "      <th>506</th>\n",
       "      <td>506</td>\n",
       "      <td>321.975142</td>\n",
       "      <td>664.96179</td>\n",
       "      <td>507511.0</td>\n",
       "      <td>False</td>\n",
       "      <td>1000</td>\n",
       "      <td>0.5</td>\n",
       "      <td>16384</td>\n",
       "    </tr>\n",
       "  </tbody>\n",
       "</table>\n",
       "<p>501 rows × 8 columns</p>\n",
       "</div>"
      ]
     },
     "metadata": {
      "application/vnd.databricks.v1+output": {
       "addedWidgets": {},
       "arguments": {},
       "data": "<div>\n<style scoped>\n    .dataframe tbody tr th:only-of-type {\n        vertical-align: middle;\n    }\n\n    .dataframe tbody tr th {\n        vertical-align: top;\n    }\n\n    .dataframe thead th {\n        text-align: right;\n    }\n</style>\n<table border=\"1\" class=\"dataframe\">\n  <thead>\n    <tr style=\"text-align: right;\">\n      <th></th>\n      <th>Iteration</th>\n      <th>Time</th>\n      <th>Fitness</th>\n      <th>FEvals</th>\n      <th>use_fast_mimic</th>\n      <th>Population Size</th>\n      <th>Keep Percent</th>\n      <th>max_iters</th>\n    </tr>\n  </thead>\n  <tbody>\n    <tr>\n      <th>6</th>\n      <td>6</td>\n      <td>4.017835</td>\n      <td>664.96179</td>\n      <td>7011.0</td>\n      <td>False</td>\n      <td>1000</td>\n      <td>0.5</td>\n      <td>16384</td>\n    </tr>\n    <tr>\n      <th>7</th>\n      <td>7</td>\n      <td>4.689162</td>\n      <td>664.96179</td>\n      <td>8012.0</td>\n      <td>False</td>\n      <td>1000</td>\n      <td>0.5</td>\n      <td>16384</td>\n    </tr>\n    <tr>\n      <th>8</th>\n      <td>8</td>\n      <td>5.353437</td>\n      <td>664.96179</td>\n      <td>9013.0</td>\n      <td>False</td>\n      <td>1000</td>\n      <td>0.5</td>\n      <td>16384</td>\n    </tr>\n    <tr>\n      <th>9</th>\n      <td>9</td>\n      <td>6.007502</td>\n      <td>664.96179</td>\n      <td>10014.0</td>\n      <td>False</td>\n      <td>1000</td>\n      <td>0.5</td>\n      <td>16384</td>\n    </tr>\n    <tr>\n      <th>10</th>\n      <td>10</td>\n      <td>6.640681</td>\n      <td>664.96179</td>\n      <td>11015.0</td>\n      <td>False</td>\n      <td>1000</td>\n      <td>0.5</td>\n      <td>16384</td>\n    </tr>\n    <tr>\n      <th>...</th>\n      <td>...</td>\n      <td>...</td>\n      <td>...</td>\n      <td>...</td>\n      <td>...</td>\n      <td>...</td>\n      <td>...</td>\n      <td>...</td>\n    </tr>\n    <tr>\n      <th>502</th>\n      <td>502</td>\n      <td>319.470283</td>\n      <td>664.96179</td>\n      <td>503507.0</td>\n      <td>False</td>\n      <td>1000</td>\n      <td>0.5</td>\n      <td>16384</td>\n    </tr>\n    <tr>\n      <th>503</th>\n      <td>503</td>\n      <td>320.084161</td>\n      <td>664.96179</td>\n      <td>504508.0</td>\n      <td>False</td>\n      <td>1000</td>\n      <td>0.5</td>\n      <td>16384</td>\n    </tr>\n    <tr>\n      <th>504</th>\n      <td>504</td>\n      <td>320.709678</td>\n      <td>664.96179</td>\n      <td>505509.0</td>\n      <td>False</td>\n      <td>1000</td>\n      <td>0.5</td>\n      <td>16384</td>\n    </tr>\n    <tr>\n      <th>505</th>\n      <td>505</td>\n      <td>321.349923</td>\n      <td>664.96179</td>\n      <td>506510.0</td>\n      <td>False</td>\n      <td>1000</td>\n      <td>0.5</td>\n      <td>16384</td>\n    </tr>\n    <tr>\n      <th>506</th>\n      <td>506</td>\n      <td>321.975142</td>\n      <td>664.96179</td>\n      <td>507511.0</td>\n      <td>False</td>\n      <td>1000</td>\n      <td>0.5</td>\n      <td>16384</td>\n    </tr>\n  </tbody>\n</table>\n<p>501 rows × 8 columns</p>\n</div>",
       "datasetInfos": [],
       "metadata": {},
       "removedWidgets": [],
       "textData": null,
       "type": "htmlSandbox"
      }
     },
     "output_type": "display_data"
    }
   ],
   "source": [
    "# Best runs\n",
    "best_fitness = df_run_curves_mimic['Fitness'].min()\n",
    "best_runs = df_run_curves_mimic[df_run_curves_mimic['Fitness'] == best_fitness]\n",
    "best_runs"
   ]
  },
  {
   "cell_type": "code",
   "execution_count": 0,
   "metadata": {
    "application/vnd.databricks.v1+cell": {
     "inputWidgets": {},
     "nuid": "18a38b25-cea5-4d2a-843c-15b44aaeaad2",
     "showTitle": false,
     "title": ""
    }
   },
   "outputs": [
    {
     "data": {
      "text/html": [
       "<style scoped>\n",
       "  .ansiout {\n",
       "    display: block;\n",
       "    unicode-bidi: embed;\n",
       "    white-space: pre-wrap;\n",
       "    word-wrap: break-word;\n",
       "    word-break: break-all;\n",
       "    font-family: \"Source Code Pro\", \"Menlo\", monospace;;\n",
       "    font-size: 13px;\n",
       "    color: #555;\n",
       "    margin-left: 4px;\n",
       "    line-height: 19px;\n",
       "  }\n",
       "</style>\n",
       "<div class=\"ansiout\">(507, 4)\n",
       "Out[63]: </div>"
      ]
     },
     "metadata": {
      "application/vnd.databricks.v1+output": {
       "addedWidgets": {},
       "arguments": {},
       "data": "<div class=\"ansiout\">(507, 4)\nOut[63]: </div>",
       "datasetInfos": [],
       "metadata": {},
       "removedWidgets": [],
       "type": "html"
      }
     },
     "output_type": "display_data"
    },
    {
     "data": {
      "text/html": [
       "<div>\n",
       "<style scoped>\n",
       "    .dataframe tbody tr th:only-of-type {\n",
       "        vertical-align: middle;\n",
       "    }\n",
       "\n",
       "    .dataframe tbody tr th {\n",
       "        vertical-align: top;\n",
       "    }\n",
       "\n",
       "    .dataframe thead th {\n",
       "        text-align: right;\n",
       "    }\n",
       "</style>\n",
       "<table border=\"1\" class=\"dataframe\">\n",
       "  <thead>\n",
       "    <tr style=\"text-align: right;\">\n",
       "      <th></th>\n",
       "      <th>Iteration</th>\n",
       "      <th>Time</th>\n",
       "      <th>Fitness</th>\n",
       "      <th>FEvals</th>\n",
       "    </tr>\n",
       "  </thead>\n",
       "  <tbody>\n",
       "    <tr>\n",
       "      <th>0</th>\n",
       "      <td>0</td>\n",
       "      <td>0.051719</td>\n",
       "      <td>1115.307815</td>\n",
       "      <td>1000.0</td>\n",
       "    </tr>\n",
       "    <tr>\n",
       "      <th>1</th>\n",
       "      <td>1</td>\n",
       "      <td>0.673660</td>\n",
       "      <td>735.356089</td>\n",
       "      <td>2002.0</td>\n",
       "    </tr>\n",
       "    <tr>\n",
       "      <th>2</th>\n",
       "      <td>2</td>\n",
       "      <td>1.337531</td>\n",
       "      <td>713.352541</td>\n",
       "      <td>3004.0</td>\n",
       "    </tr>\n",
       "    <tr>\n",
       "      <th>3</th>\n",
       "      <td>3</td>\n",
       "      <td>1.993525</td>\n",
       "      <td>699.502897</td>\n",
       "      <td>4006.0</td>\n",
       "    </tr>\n",
       "    <tr>\n",
       "      <th>4</th>\n",
       "      <td>4</td>\n",
       "      <td>2.647541</td>\n",
       "      <td>667.847366</td>\n",
       "      <td>5008.0</td>\n",
       "    </tr>\n",
       "  </tbody>\n",
       "</table>\n",
       "</div>"
      ]
     },
     "metadata": {
      "application/vnd.databricks.v1+output": {
       "addedWidgets": {},
       "arguments": {},
       "data": "<div>\n<style scoped>\n    .dataframe tbody tr th:only-of-type {\n        vertical-align: middle;\n    }\n\n    .dataframe tbody tr th {\n        vertical-align: top;\n    }\n\n    .dataframe thead th {\n        text-align: right;\n    }\n</style>\n<table border=\"1\" class=\"dataframe\">\n  <thead>\n    <tr style=\"text-align: right;\">\n      <th></th>\n      <th>Iteration</th>\n      <th>Time</th>\n      <th>Fitness</th>\n      <th>FEvals</th>\n    </tr>\n  </thead>\n  <tbody>\n    <tr>\n      <th>0</th>\n      <td>0</td>\n      <td>0.051719</td>\n      <td>1115.307815</td>\n      <td>1000.0</td>\n    </tr>\n    <tr>\n      <th>1</th>\n      <td>1</td>\n      <td>0.673660</td>\n      <td>735.356089</td>\n      <td>2002.0</td>\n    </tr>\n    <tr>\n      <th>2</th>\n      <td>2</td>\n      <td>1.337531</td>\n      <td>713.352541</td>\n      <td>3004.0</td>\n    </tr>\n    <tr>\n      <th>3</th>\n      <td>3</td>\n      <td>1.993525</td>\n      <td>699.502897</td>\n      <td>4006.0</td>\n    </tr>\n    <tr>\n      <th>4</th>\n      <td>4</td>\n      <td>2.647541</td>\n      <td>667.847366</td>\n      <td>5008.0</td>\n    </tr>\n  </tbody>\n</table>\n</div>",
       "datasetInfos": [],
       "metadata": {},
       "removedWidgets": [],
       "textData": null,
       "type": "htmlSandbox"
      }
     },
     "output_type": "display_data"
    }
   ],
   "source": [
    "mmc = df_run_curves_mimic[(df_run_curves_mimic['Population Size'] == 1000) & ((df_run_curves_mimic['Keep Percent'] == 0.5))]\n",
    "mmc = mmc[['Iteration', 'Time', 'Fitness', 'FEvals']]\n",
    "\n",
    "print(mmc.shape)\n",
    "mmc.head()"
   ]
  },
  {
   "cell_type": "code",
   "execution_count": 0,
   "metadata": {
    "application/vnd.databricks.v1+cell": {
     "inputWidgets": {},
     "nuid": "78ad090c-06c5-4283-8b61-4d3af16b0864",
     "showTitle": true,
     "title": "combine data"
    }
   },
   "outputs": [
    {
     "data": {
      "text/html": [
       "<style scoped>\n",
       "  .ansiout {\n",
       "    display: block;\n",
       "    unicode-bidi: embed;\n",
       "    white-space: pre-wrap;\n",
       "    word-wrap: break-word;\n",
       "    word-break: break-all;\n",
       "    font-family: \"Source Code Pro\", \"Menlo\", monospace;;\n",
       "    font-size: 13px;\n",
       "    color: #555;\n",
       "    margin-left: 4px;\n",
       "    line-height: 19px;\n",
       "  }\n",
       "</style>\n",
       "<div class=\"ansiout\">(1108, 13)\n",
       "Out[64]: </div>"
      ]
     },
     "metadata": {
      "application/vnd.databricks.v1+output": {
       "addedWidgets": {},
       "arguments": {},
       "data": "<div class=\"ansiout\">(1108, 13)\nOut[64]: </div>",
       "datasetInfos": [],
       "metadata": {},
       "removedWidgets": [],
       "type": "html"
      }
     },
     "output_type": "display_data"
    },
    {
     "data": {
      "text/html": [
       "<div>\n",
       "<style scoped>\n",
       "    .dataframe tbody tr th:only-of-type {\n",
       "        vertical-align: middle;\n",
       "    }\n",
       "\n",
       "    .dataframe tbody tr th {\n",
       "        vertical-align: top;\n",
       "    }\n",
       "\n",
       "    .dataframe thead th {\n",
       "        text-align: right;\n",
       "    }\n",
       "</style>\n",
       "<table border=\"1\" class=\"dataframe\">\n",
       "  <thead>\n",
       "    <tr style=\"text-align: right;\">\n",
       "      <th></th>\n",
       "      <th>Iteration</th>\n",
       "      <th>TimeSA</th>\n",
       "      <th>FitnessSA</th>\n",
       "      <th>FEvalsSA</th>\n",
       "      <th>TimeRHC</th>\n",
       "      <th>FitnessRHC</th>\n",
       "      <th>FEvalsRHC</th>\n",
       "      <th>TimeGA</th>\n",
       "      <th>FitnessGA</th>\n",
       "      <th>FEvalsGA</th>\n",
       "      <th>TimeMIMIC</th>\n",
       "      <th>FitnessMIMIC</th>\n",
       "      <th>FEvalsMIMIC</th>\n",
       "    </tr>\n",
       "  </thead>\n",
       "  <tbody>\n",
       "    <tr>\n",
       "      <th>0</th>\n",
       "      <td>0</td>\n",
       "      <td>0.000402</td>\n",
       "      <td>1115.307815</td>\n",
       "      <td>0.0</td>\n",
       "      <td>NaN</td>\n",
       "      <td>NaN</td>\n",
       "      <td>NaN</td>\n",
       "      <td>0.002846</td>\n",
       "      <td>1115.307815</td>\n",
       "      <td>50.0</td>\n",
       "      <td>0.051719</td>\n",
       "      <td>1115.307815</td>\n",
       "      <td>1000.0</td>\n",
       "    </tr>\n",
       "    <tr>\n",
       "      <th>1</th>\n",
       "      <td>1</td>\n",
       "      <td>0.005333</td>\n",
       "      <td>1031.079851</td>\n",
       "      <td>2.0</td>\n",
       "      <td>0.005178</td>\n",
       "      <td>1052.559300</td>\n",
       "      <td>13308.0</td>\n",
       "      <td>0.014896</td>\n",
       "      <td>780.556964</td>\n",
       "      <td>102.0</td>\n",
       "      <td>0.673660</td>\n",
       "      <td>735.356089</td>\n",
       "      <td>2002.0</td>\n",
       "    </tr>\n",
       "    <tr>\n",
       "      <th>2</th>\n",
       "      <td>2</td>\n",
       "      <td>0.008232</td>\n",
       "      <td>1031.079851</td>\n",
       "      <td>3.0</td>\n",
       "      <td>0.009032</td>\n",
       "      <td>1015.045517</td>\n",
       "      <td>13310.0</td>\n",
       "      <td>0.023935</td>\n",
       "      <td>780.556964</td>\n",
       "      <td>153.0</td>\n",
       "      <td>1.337531</td>\n",
       "      <td>713.352541</td>\n",
       "      <td>3004.0</td>\n",
       "    </tr>\n",
       "    <tr>\n",
       "      <th>3</th>\n",
       "      <td>3</td>\n",
       "      <td>0.010913</td>\n",
       "      <td>971.736948</td>\n",
       "      <td>5.0</td>\n",
       "      <td>0.011652</td>\n",
       "      <td>1015.045517</td>\n",
       "      <td>13311.0</td>\n",
       "      <td>0.032868</td>\n",
       "      <td>767.483957</td>\n",
       "      <td>205.0</td>\n",
       "      <td>1.993525</td>\n",
       "      <td>699.502897</td>\n",
       "      <td>4006.0</td>\n",
       "    </tr>\n",
       "    <tr>\n",
       "      <th>4</th>\n",
       "      <td>4</td>\n",
       "      <td>0.011050</td>\n",
       "      <td>971.736948</td>\n",
       "      <td>6.0</td>\n",
       "      <td>0.011761</td>\n",
       "      <td>1015.045517</td>\n",
       "      <td>13312.0</td>\n",
       "      <td>0.039632</td>\n",
       "      <td>755.113867</td>\n",
       "      <td>257.0</td>\n",
       "      <td>2.647541</td>\n",
       "      <td>667.847366</td>\n",
       "      <td>5008.0</td>\n",
       "    </tr>\n",
       "  </tbody>\n",
       "</table>\n",
       "</div>"
      ]
     },
     "metadata": {
      "application/vnd.databricks.v1+output": {
       "addedWidgets": {},
       "arguments": {},
       "data": "<div>\n<style scoped>\n    .dataframe tbody tr th:only-of-type {\n        vertical-align: middle;\n    }\n\n    .dataframe tbody tr th {\n        vertical-align: top;\n    }\n\n    .dataframe thead th {\n        text-align: right;\n    }\n</style>\n<table border=\"1\" class=\"dataframe\">\n  <thead>\n    <tr style=\"text-align: right;\">\n      <th></th>\n      <th>Iteration</th>\n      <th>TimeSA</th>\n      <th>FitnessSA</th>\n      <th>FEvalsSA</th>\n      <th>TimeRHC</th>\n      <th>FitnessRHC</th>\n      <th>FEvalsRHC</th>\n      <th>TimeGA</th>\n      <th>FitnessGA</th>\n      <th>FEvalsGA</th>\n      <th>TimeMIMIC</th>\n      <th>FitnessMIMIC</th>\n      <th>FEvalsMIMIC</th>\n    </tr>\n  </thead>\n  <tbody>\n    <tr>\n      <th>0</th>\n      <td>0</td>\n      <td>0.000402</td>\n      <td>1115.307815</td>\n      <td>0.0</td>\n      <td>NaN</td>\n      <td>NaN</td>\n      <td>NaN</td>\n      <td>0.002846</td>\n      <td>1115.307815</td>\n      <td>50.0</td>\n      <td>0.051719</td>\n      <td>1115.307815</td>\n      <td>1000.0</td>\n    </tr>\n    <tr>\n      <th>1</th>\n      <td>1</td>\n      <td>0.005333</td>\n      <td>1031.079851</td>\n      <td>2.0</td>\n      <td>0.005178</td>\n      <td>1052.559300</td>\n      <td>13308.0</td>\n      <td>0.014896</td>\n      <td>780.556964</td>\n      <td>102.0</td>\n      <td>0.673660</td>\n      <td>735.356089</td>\n      <td>2002.0</td>\n    </tr>\n    <tr>\n      <th>2</th>\n      <td>2</td>\n      <td>0.008232</td>\n      <td>1031.079851</td>\n      <td>3.0</td>\n      <td>0.009032</td>\n      <td>1015.045517</td>\n      <td>13310.0</td>\n      <td>0.023935</td>\n      <td>780.556964</td>\n      <td>153.0</td>\n      <td>1.337531</td>\n      <td>713.352541</td>\n      <td>3004.0</td>\n    </tr>\n    <tr>\n      <th>3</th>\n      <td>3</td>\n      <td>0.010913</td>\n      <td>971.736948</td>\n      <td>5.0</td>\n      <td>0.011652</td>\n      <td>1015.045517</td>\n      <td>13311.0</td>\n      <td>0.032868</td>\n      <td>767.483957</td>\n      <td>205.0</td>\n      <td>1.993525</td>\n      <td>699.502897</td>\n      <td>4006.0</td>\n    </tr>\n    <tr>\n      <th>4</th>\n      <td>4</td>\n      <td>0.011050</td>\n      <td>971.736948</td>\n      <td>6.0</td>\n      <td>0.011761</td>\n      <td>1015.045517</td>\n      <td>13312.0</td>\n      <td>0.039632</td>\n      <td>755.113867</td>\n      <td>257.0</td>\n      <td>2.647541</td>\n      <td>667.847366</td>\n      <td>5008.0</td>\n    </tr>\n  </tbody>\n</table>\n</div>",
       "datasetInfos": [],
       "metadata": {},
       "removedWidgets": [],
       "textData": null,
       "type": "htmlSandbox"
      }
     },
     "output_type": "display_data"
    }
   ],
   "source": [
    "# combine dataframes\n",
    "comb_df = sac.merge(rhc, how='left', on='Iteration')\n",
    "comb_df = comb_df.merge(gac, how='left', on='Iteration')\n",
    "comb_df = comb_df.merge(mmc, how='left', on='Iteration')\n",
    "comb_df.columns = ['Iteration', 'TimeSA', 'FitnessSA', 'FEvalsSA', 'TimeRHC', 'FitnessRHC', 'FEvalsRHC', 'TimeGA', 'FitnessGA', 'FEvalsGA', 'TimeMIMIC', 'FitnessMIMIC', 'FEvalsMIMIC']\n",
    "\n",
    "print(comb_df.shape)\n",
    "comb_df.head()"
   ]
  },
  {
   "cell_type": "code",
   "execution_count": 0,
   "metadata": {
    "application/vnd.databricks.v1+cell": {
     "inputWidgets": {},
     "nuid": "0ae84863-8b49-4fef-ba48-ad66a780bf64",
     "showTitle": false,
     "title": ""
    }
   },
   "outputs": [
    {
     "data": {
      "text/html": [
       "<style scoped>\n",
       "  .ansiout {\n",
       "    display: block;\n",
       "    unicode-bidi: embed;\n",
       "    white-space: pre-wrap;\n",
       "    word-wrap: break-word;\n",
       "    word-break: break-all;\n",
       "    font-family: \"Source Code Pro\", \"Menlo\", monospace;;\n",
       "    font-size: 13px;\n",
       "    color: #555;\n",
       "    margin-left: 4px;\n",
       "    line-height: 19px;\n",
       "  }\n",
       "</style>\n",
       "<div class=\"ansiout\">(1108, 5)\n",
       "Out[65]: </div>"
      ]
     },
     "metadata": {
      "application/vnd.databricks.v1+output": {
       "addedWidgets": {},
       "arguments": {},
       "data": "<div class=\"ansiout\">(1108, 5)\nOut[65]: </div>",
       "datasetInfos": [],
       "metadata": {},
       "removedWidgets": [],
       "type": "html"
      }
     },
     "output_type": "display_data"
    },
    {
     "data": {
      "text/html": [
       "<div>\n",
       "<style scoped>\n",
       "    .dataframe tbody tr th:only-of-type {\n",
       "        vertical-align: middle;\n",
       "    }\n",
       "\n",
       "    .dataframe tbody tr th {\n",
       "        vertical-align: top;\n",
       "    }\n",
       "\n",
       "    .dataframe thead th {\n",
       "        text-align: right;\n",
       "    }\n",
       "</style>\n",
       "<table border=\"1\" class=\"dataframe\">\n",
       "  <thead>\n",
       "    <tr style=\"text-align: right;\">\n",
       "      <th></th>\n",
       "      <th>Iteration</th>\n",
       "      <th>FitnessSA</th>\n",
       "      <th>FitnessRHC</th>\n",
       "      <th>FitnessGA</th>\n",
       "      <th>FitnessMIMIC</th>\n",
       "    </tr>\n",
       "  </thead>\n",
       "  <tbody>\n",
       "    <tr>\n",
       "      <th>0</th>\n",
       "      <td>0</td>\n",
       "      <td>1115.307815</td>\n",
       "      <td>1115.307815</td>\n",
       "      <td>1115.307815</td>\n",
       "      <td>1115.307815</td>\n",
       "    </tr>\n",
       "    <tr>\n",
       "      <th>1</th>\n",
       "      <td>1</td>\n",
       "      <td>1031.079851</td>\n",
       "      <td>1052.559300</td>\n",
       "      <td>780.556964</td>\n",
       "      <td>735.356089</td>\n",
       "    </tr>\n",
       "    <tr>\n",
       "      <th>2</th>\n",
       "      <td>2</td>\n",
       "      <td>1031.079851</td>\n",
       "      <td>1015.045517</td>\n",
       "      <td>780.556964</td>\n",
       "      <td>713.352541</td>\n",
       "    </tr>\n",
       "    <tr>\n",
       "      <th>3</th>\n",
       "      <td>3</td>\n",
       "      <td>971.736948</td>\n",
       "      <td>1015.045517</td>\n",
       "      <td>767.483957</td>\n",
       "      <td>699.502897</td>\n",
       "    </tr>\n",
       "    <tr>\n",
       "      <th>4</th>\n",
       "      <td>4</td>\n",
       "      <td>971.736948</td>\n",
       "      <td>1015.045517</td>\n",
       "      <td>755.113867</td>\n",
       "      <td>667.847366</td>\n",
       "    </tr>\n",
       "  </tbody>\n",
       "</table>\n",
       "</div>"
      ]
     },
     "metadata": {
      "application/vnd.databricks.v1+output": {
       "addedWidgets": {},
       "arguments": {},
       "data": "<div>\n<style scoped>\n    .dataframe tbody tr th:only-of-type {\n        vertical-align: middle;\n    }\n\n    .dataframe tbody tr th {\n        vertical-align: top;\n    }\n\n    .dataframe thead th {\n        text-align: right;\n    }\n</style>\n<table border=\"1\" class=\"dataframe\">\n  <thead>\n    <tr style=\"text-align: right;\">\n      <th></th>\n      <th>Iteration</th>\n      <th>FitnessSA</th>\n      <th>FitnessRHC</th>\n      <th>FitnessGA</th>\n      <th>FitnessMIMIC</th>\n    </tr>\n  </thead>\n  <tbody>\n    <tr>\n      <th>0</th>\n      <td>0</td>\n      <td>1115.307815</td>\n      <td>1115.307815</td>\n      <td>1115.307815</td>\n      <td>1115.307815</td>\n    </tr>\n    <tr>\n      <th>1</th>\n      <td>1</td>\n      <td>1031.079851</td>\n      <td>1052.559300</td>\n      <td>780.556964</td>\n      <td>735.356089</td>\n    </tr>\n    <tr>\n      <th>2</th>\n      <td>2</td>\n      <td>1031.079851</td>\n      <td>1015.045517</td>\n      <td>780.556964</td>\n      <td>713.352541</td>\n    </tr>\n    <tr>\n      <th>3</th>\n      <td>3</td>\n      <td>971.736948</td>\n      <td>1015.045517</td>\n      <td>767.483957</td>\n      <td>699.502897</td>\n    </tr>\n    <tr>\n      <th>4</th>\n      <td>4</td>\n      <td>971.736948</td>\n      <td>1015.045517</td>\n      <td>755.113867</td>\n      <td>667.847366</td>\n    </tr>\n  </tbody>\n</table>\n</div>",
       "datasetInfos": [],
       "metadata": {},
       "removedWidgets": [],
       "textData": null,
       "type": "htmlSandbox"
      }
     },
     "output_type": "display_data"
    }
   ],
   "source": [
    "fitness_df = comb_df[['Iteration', 'FitnessSA', 'FitnessRHC', 'FitnessGA', 'FitnessMIMIC']]\n",
    "fitness_df.loc[0, ['FitnessSA', 'FitnessRHC', 'FitnessGA', 'FitnessMIMIC']] = 1115.307815\n",
    "fitness_df['FitnessRHC'] = fitness_df['FitnessRHC'].fillna(fitness_df['FitnessRHC'].min())\n",
    "fitness_df['FitnessSA'] = fitness_df['FitnessSA'].fillna(fitness_df['FitnessSA'].min())\n",
    "fitness_df['FitnessGA'] = fitness_df['FitnessGA'].fillna(fitness_df['FitnessGA'].min())\n",
    "fitness_df['FitnessMIMIC'] = fitness_df['FitnessMIMIC'].fillna(fitness_df['FitnessMIMIC'].min())\n",
    "\n",
    "print(fitness_df.shape)\n",
    "fitness_df.head()"
   ]
  },
  {
   "cell_type": "code",
   "execution_count": 0,
   "metadata": {
    "application/vnd.databricks.v1+cell": {
     "inputWidgets": {},
     "nuid": "5398e78e-08af-4712-9954-7c1c3a963ef9",
     "showTitle": false,
     "title": ""
    }
   },
   "outputs": [
    {
     "data": {
      "image/png": "[encoded data removed]"
     },
     "metadata": {
      "application/vnd.databricks.v1+output": {
       "addedWidgets": {},
       "arguments": {},
       "data": "data:image/png;base64,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",
       "datasetInfos": [],
       "metadata": {
        "imageDimensions": {
         "height": 352,
         "width": 424
        }
       },
       "removedWidgets": [],
       "type": "image"
      },
      "image/png": {
       "height": 352,
       "width": 424
      }
     },
     "output_type": "display_data"
    }
   ],
   "source": [
    "fig = plt.figure(figsize=(6, 5))\n",
    "plt.style.use('ggplot')\n",
    "\n",
    "# Train curve\n",
    "plt.title(\"Knapsack: Iterations to Convergence\", size = 16 )\n",
    "plt.xlabel(r\"Iterations\", size = 16)\n",
    "plt.ylabel(\"Algorithm Fitness Score\", size = 16)\n",
    "plt.xlim(-5, 200)\n",
    "\n",
    "plt.xticks(size = 12)\n",
    "plt.yticks(size = 12)\n",
    "plt.plot(fitness_df['Iteration'], fitness_df['FitnessRHC'], label=\"RHC\", lw=3)\n",
    "plt.plot(fitness_df['Iteration'], fitness_df['FitnessSA'], label=\"SA\", lw=3)\n",
    "plt.plot(fitness_df['Iteration'], fitness_df['FitnessGA'], label=\"GA\", lw=3)\n",
    "plt.plot(fitness_df['Iteration'], fitness_df['FitnessMIMIC'], label=\"MIMIC\", lw=3)\n",
    "\n",
    "plt.legend(loc='best', fontsize=12)\n",
    "plt.tight_layout()"
   ]
  },
  {
   "cell_type": "code",
   "execution_count": 0,
   "metadata": {
    "application/vnd.databricks.v1+cell": {
     "inputWidgets": {},
     "nuid": "b1b5efa5-ae54-45ab-bcc5-2480eaf416a8",
     "showTitle": false,
     "title": ""
    }
   },
   "outputs": [
    {
     "data": {
      "text/html": [
       "<style scoped>\n",
       "  .ansiout {\n",
       "    display: block;\n",
       "    unicode-bidi: embed;\n",
       "    white-space: pre-wrap;\n",
       "    word-wrap: break-word;\n",
       "    word-break: break-all;\n",
       "    font-family: \"Source Code Pro\", \"Menlo\", monospace;;\n",
       "    font-size: 13px;\n",
       "    color: #555;\n",
       "    margin-left: 4px;\n",
       "    line-height: 19px;\n",
       "  }\n",
       "</style>\n",
       "<div class=\"ansiout\">   index  Algorithm  Time2Converge\n",
       "0      0     TimeSA           24.4\n",
       "1      1    TimeRHC          280.0\n",
       "2      3  TimeMIMIC          322.0\n",
       "3      2     TimeGA          368.0\n",
       "Out[5]: </div>"
      ]
     },
     "metadata": {
      "application/vnd.databricks.v1+output": {
       "addedWidgets": {},
       "arguments": {},
       "data": "<div class=\"ansiout\">   index  Algorithm  Time2Converge\n0      0     TimeSA           24.4\n1      1    TimeRHC          280.0\n2      3  TimeMIMIC          322.0\n3      2     TimeGA          368.0\nOut[5]: </div>",
       "datasetInfos": [],
       "metadata": {},
       "removedWidgets": [],
       "type": "html"
      }
     },
     "output_type": "display_data"
    },
    {
     "data": {
      "image/png": "[encoded data removed]"
     },
     "metadata": {
      "application/vnd.databricks.v1+output": {
       "addedWidgets": {},
       "arguments": {},
       "data": "data:image/png;base64,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",
       "datasetInfos": [],
       "metadata": {
        "imageDimensions": {
         "height": 340,
         "width": 394
        }
       },
       "removedWidgets": [],
       "type": "image"
      },
      "image/png": {
       "height": 340,
       "width": 394
      }
     },
     "output_type": "display_data"
    },
    {
     "data": {
      "text/html": [
       "<style scoped>\n",
       "  .ansiout {\n",
       "    display: block;\n",
       "    unicode-bidi: embed;\n",
       "    white-space: pre-wrap;\n",
       "    word-wrap: break-word;\n",
       "    word-break: break-all;\n",
       "    font-family: \"Source Code Pro\", \"Menlo\", monospace;;\n",
       "    font-size: 13px;\n",
       "    color: #555;\n",
       "    margin-left: 4px;\n",
       "    line-height: 19px;\n",
       "  }\n",
       "</style>\n",
       "<div class=\"ansiout\">&lt;AxesSubplot:title={&#39;center&#39;:&#39;TSP: Time to Convergence&#39;}, xlabel=&#39;Algorithm&#39;, ylabel=&#39;Time2Converge&#39;&gt;</div>"
      ]
     },
     "metadata": {
      "application/vnd.databricks.v1+output": {
       "addedWidgets": {},
       "arguments": {},
       "data": "<div class=\"ansiout\">&lt;AxesSubplot:title={&#39;center&#39;:&#39;TSP: Time to Convergence&#39;}, xlabel=&#39;Algorithm&#39;, ylabel=&#39;Time2Converge&#39;&gt;</div>",
       "datasetInfos": [],
       "metadata": {},
       "removedWidgets": [],
       "type": "html"
      }
     },
     "output_type": "display_data"
    }
   ],
   "source": [
    "time_df = pd.DataFrame()\n",
    "time_df['Algorithm'] = ['TimeSA', 'TimeRHC', 'TimeGA', 'TimeMIMIC']\n",
    "time_df['Time2Converge'] = [24.4, 280, 368, 322]\n",
    "tmax = time_df.sort_values('Time2Converge').reset_index()\n",
    "print(tmax)\n",
    "\n",
    "fig = plt.figure(figsize=(6, 5))\n",
    "plt.style.use('ggplot')\n",
    "\n",
    "plt.title(\"TSP: Time to Convergence\", size = 16 )\n",
    "plt.xlabel(r\"Algorithm\", size = 16)\n",
    "plt.ylabel(\"Time to Converge\", size = 16)\n",
    "sns.barplot(tmax['Algorithm'], tmax['Time2Converge'])"
   ]
  },
  {
   "cell_type": "markdown",
   "metadata": {
    "application/vnd.databricks.v1+cell": {
     "inputWidgets": {},
     "nuid": "06859f25-5ba3-49dc-a347-8d39c9b5de53",
     "showTitle": false,
     "title": ""
    }
   },
   "source": [
    "# ANN Weight Optimization"
   ]
  },
  {
   "cell_type": "code",
   "execution_count": 0,
   "metadata": {
    "application/vnd.databricks.v1+cell": {
     "inputWidgets": {},
     "nuid": "63d47854-fd9d-4842-a42c-cd5ec9f26573",
     "showTitle": false,
     "title": ""
    }
   },
   "outputs": [
    {
     "data": {
      "text/html": [
       "<style scoped>\n",
       "  .ansiout {\n",
       "    display: block;\n",
       "    unicode-bidi: embed;\n",
       "    white-space: pre-wrap;\n",
       "    word-wrap: break-word;\n",
       "    word-break: break-all;\n",
       "    font-family: \"Source Code Pro\", \"Menlo\", monospace;;\n",
       "    font-size: 13px;\n",
       "    color: #555;\n",
       "    margin-left: 4px;\n",
       "    line-height: 19px;\n",
       "  }\n",
       "</style>\n",
       "<div class=\"ansiout\"></div>"
      ]
     },
     "metadata": {
      "application/vnd.databricks.v1+output": {
       "addedWidgets": {},
       "arguments": {},
       "data": "<div class=\"ansiout\"></div>",
       "datasetInfos": [],
       "metadata": {},
       "removedWidgets": [],
       "type": "html"
      }
     },
     "output_type": "display_data"
    }
   ],
   "source": [
    "import time\n",
    "\n",
    "from sklearn.model_selection import train_test_split\n",
    "from sklearn import metrics\n",
    "from sklearn.metrics import f1_score, classification_report, accuracy_score\n",
    "from sklearn.metrics import plot_confusion_matrix, precision_score\n",
    "from sklearn.metrics import recall_score, roc_auc_score, confusion_matrix\n",
    "from sklearn.model_selection import learning_curve, train_test_split\n",
    "from sklearn.model_selection import validation_curve\n",
    "\n",
    "from sklearn.neural_network import MLPClassifier\n",
    "\n",
    "# ignore warnings\n",
    "import warnings\n",
    "warnings.filterwarnings('ignore')\n",
    "\n",
    "# Set pandas options\n",
    "pd.set_option('display.max_columns', None)\n",
    "pd.set_option('display.max_rows', None)\n",
    "pd.set_option('display.max_colwidth', 10000)\n",
    "# Suppress scientific notation for panda data frame\n",
    "pd.set_option('display.float_format', lambda x: '%.2f' % x)"
   ]
  },
  {
   "cell_type": "code",
   "execution_count": 0,
   "metadata": {
    "application/vnd.databricks.v1+cell": {
     "inputWidgets": {},
     "nuid": "836852a2-f1bc-4de0-8eba-aa1e9a1a0d25",
     "showTitle": true,
     "title": "Heart failure data"
    }
   },
   "outputs": [
    {
     "data": {
      "text/html": [
       "<style scoped>\n",
       "  .ansiout {\n",
       "    display: block;\n",
       "    unicode-bidi: embed;\n",
       "    white-space: pre-wrap;\n",
       "    word-wrap: break-word;\n",
       "    word-break: break-all;\n",
       "    font-family: \"Source Code Pro\", \"Menlo\", monospace;;\n",
       "    font-size: 13px;\n",
       "    color: #555;\n",
       "    margin-left: 4px;\n",
       "    line-height: 19px;\n",
       "  }\n",
       "</style>\n",
       "<div class=\"ansiout\">(918, 12)\n",
       "Out[4]: </div>"
      ]
     },
     "metadata": {
      "application/vnd.databricks.v1+output": {
       "addedWidgets": {},
       "arguments": {},
       "data": "<div class=\"ansiout\">(918, 12)\nOut[4]: </div>",
       "datasetInfos": [],
       "metadata": {},
       "removedWidgets": [],
       "type": "html"
      }
     },
     "output_type": "display_data"
    },
    {
     "data": {
      "text/html": [
       "<div>\n",
       "<style scoped>\n",
       "    .dataframe tbody tr th:only-of-type {\n",
       "        vertical-align: middle;\n",
       "    }\n",
       "\n",
       "    .dataframe tbody tr th {\n",
       "        vertical-align: top;\n",
       "    }\n",
       "\n",
       "    .dataframe thead th {\n",
       "        text-align: right;\n",
       "    }\n",
       "</style>\n",
       "<table border=\"1\" class=\"dataframe\">\n",
       "  <thead>\n",
       "    <tr style=\"text-align: right;\">\n",
       "      <th></th>\n",
       "      <th>Age</th>\n",
       "      <th>Sex</th>\n",
       "      <th>ChestPainType</th>\n",
       "      <th>RestingBP</th>\n",
       "      <th>Cholesterol</th>\n",
       "      <th>FastingBS</th>\n",
       "      <th>RestingECG</th>\n",
       "      <th>MaxHR</th>\n",
       "      <th>ExerciseAngina</th>\n",
       "      <th>Oldpeak</th>\n",
       "      <th>ST_Slope</th>\n",
       "      <th>HeartDisease</th>\n",
       "    </tr>\n",
       "  </thead>\n",
       "  <tbody>\n",
       "    <tr>\n",
       "      <th>0</th>\n",
       "      <td>40</td>\n",
       "      <td>M</td>\n",
       "      <td>ATA</td>\n",
       "      <td>140</td>\n",
       "      <td>289</td>\n",
       "      <td>0</td>\n",
       "      <td>Normal</td>\n",
       "      <td>172</td>\n",
       "      <td>N</td>\n",
       "      <td>0.00</td>\n",
       "      <td>Up</td>\n",
       "      <td>0</td>\n",
       "    </tr>\n",
       "    <tr>\n",
       "      <th>1</th>\n",
       "      <td>49</td>\n",
       "      <td>F</td>\n",
       "      <td>NAP</td>\n",
       "      <td>160</td>\n",
       "      <td>180</td>\n",
       "      <td>0</td>\n",
       "      <td>Normal</td>\n",
       "      <td>156</td>\n",
       "      <td>N</td>\n",
       "      <td>1.00</td>\n",
       "      <td>Flat</td>\n",
       "      <td>1</td>\n",
       "    </tr>\n",
       "    <tr>\n",
       "      <th>2</th>\n",
       "      <td>37</td>\n",
       "      <td>M</td>\n",
       "      <td>ATA</td>\n",
       "      <td>130</td>\n",
       "      <td>283</td>\n",
       "      <td>0</td>\n",
       "      <td>ST</td>\n",
       "      <td>98</td>\n",
       "      <td>N</td>\n",
       "      <td>0.00</td>\n",
       "      <td>Up</td>\n",
       "      <td>0</td>\n",
       "    </tr>\n",
       "    <tr>\n",
       "      <th>3</th>\n",
       "      <td>48</td>\n",
       "      <td>F</td>\n",
       "      <td>ASY</td>\n",
       "      <td>138</td>\n",
       "      <td>214</td>\n",
       "      <td>0</td>\n",
       "      <td>Normal</td>\n",
       "      <td>108</td>\n",
       "      <td>Y</td>\n",
       "      <td>1.50</td>\n",
       "      <td>Flat</td>\n",
       "      <td>1</td>\n",
       "    </tr>\n",
       "    <tr>\n",
       "      <th>4</th>\n",
       "      <td>54</td>\n",
       "      <td>M</td>\n",
       "      <td>NAP</td>\n",
       "      <td>150</td>\n",
       "      <td>195</td>\n",
       "      <td>0</td>\n",
       "      <td>Normal</td>\n",
       "      <td>122</td>\n",
       "      <td>N</td>\n",
       "      <td>0.00</td>\n",
       "      <td>Up</td>\n",
       "      <td>0</td>\n",
       "    </tr>\n",
       "  </tbody>\n",
       "</table>\n",
       "</div>"
      ]
     },
     "metadata": {
      "application/vnd.databricks.v1+output": {
       "addedWidgets": {},
       "arguments": {},
       "data": "<div>\n<style scoped>\n    .dataframe tbody tr th:only-of-type {\n        vertical-align: middle;\n    }\n\n    .dataframe tbody tr th {\n        vertical-align: top;\n    }\n\n    .dataframe thead th {\n        text-align: right;\n    }\n</style>\n<table border=\"1\" class=\"dataframe\">\n  <thead>\n    <tr style=\"text-align: right;\">\n      <th></th>\n      <th>Age</th>\n      <th>Sex</th>\n      <th>ChestPainType</th>\n      <th>RestingBP</th>\n      <th>Cholesterol</th>\n      <th>FastingBS</th>\n      <th>RestingECG</th>\n      <th>MaxHR</th>\n      <th>ExerciseAngina</th>\n      <th>Oldpeak</th>\n      <th>ST_Slope</th>\n      <th>HeartDisease</th>\n    </tr>\n  </thead>\n  <tbody>\n    <tr>\n      <th>0</th>\n      <td>40</td>\n      <td>M</td>\n      <td>ATA</td>\n      <td>140</td>\n      <td>289</td>\n      <td>0</td>\n      <td>Normal</td>\n      <td>172</td>\n      <td>N</td>\n      <td>0.00</td>\n      <td>Up</td>\n      <td>0</td>\n    </tr>\n    <tr>\n      <th>1</th>\n      <td>49</td>\n      <td>F</td>\n      <td>NAP</td>\n      <td>160</td>\n      <td>180</td>\n      <td>0</td>\n      <td>Normal</td>\n      <td>156</td>\n      <td>N</td>\n      <td>1.00</td>\n      <td>Flat</td>\n      <td>1</td>\n    </tr>\n    <tr>\n      <th>2</th>\n      <td>37</td>\n      <td>M</td>\n      <td>ATA</td>\n      <td>130</td>\n      <td>283</td>\n      <td>0</td>\n      <td>ST</td>\n      <td>98</td>\n      <td>N</td>\n      <td>0.00</td>\n      <td>Up</td>\n      <td>0</td>\n    </tr>\n    <tr>\n      <th>3</th>\n      <td>48</td>\n      <td>F</td>\n      <td>ASY</td>\n      <td>138</td>\n      <td>214</td>\n      <td>0</td>\n      <td>Normal</td>\n      <td>108</td>\n      <td>Y</td>\n      <td>1.50</td>\n      <td>Flat</td>\n      <td>1</td>\n    </tr>\n    <tr>\n      <th>4</th>\n      <td>54</td>\n      <td>M</td>\n      <td>NAP</td>\n      <td>150</td>\n      <td>195</td>\n      <td>0</td>\n      <td>Normal</td>\n      <td>122</td>\n      <td>N</td>\n      <td>0.00</td>\n      <td>Up</td>\n      <td>0</td>\n    </tr>\n  </tbody>\n</table>\n</div>",
       "datasetInfos": [],
       "metadata": {},
       "removedWidgets": [],
       "textData": null,
       "type": "htmlSandbox"
      }
     },
     "output_type": "display_data"
    }
   ],
   "source": [
    "# data source\n",
    "# https://www.kaggle.com/fedesoriano/heart-failure-prediction\n",
    "# UCI Machine Learning Repository: https://archive.ics.uci.edu/ml/machine-learning-databases/heart-disease/ \n",
    "'''\n",
    "Cardiovascular diseases (CVDs) are the number 1 cause of death globally, taking an estimated 17.9 million lives each year, which accounts for 31% of all deaths worldwide. Four out of 5CVD deaths are due to heart attacks and strokes, and one-third of these deaths occur prematurely in people under 70 years of age. Heart failure is a common event caused by CVDs and this dataset contains 11 features that can be used to predict a possible heart disease. People with cardiovascular disease or who are at high cardiovascular risk (due to the presence of one or more risk factors such as hypertension, diabetes, hyperlipidaemia or already established disease) need early detection and management wherein a machine learning model can be of great help.\n",
    "\n",
    "1. Age: age of the patient [years]\n",
    "2. Sex: sex of the patient [M: Male, F: Female]\n",
    "3. ChestPainType: chest pain type [TA: Typical Angina, ATA: Atypical Angina, NAP: Non-Anginal Pain, ASY: Asymptomatic]\n",
    "4. RestingBP: resting blood pressure [mm Hg]\n",
    "5. Cholesterol: serum cholesterol [mm/dl]\n",
    "6. FastingBS: fasting blood sugar [1: if FastingBS > 120 mg/dl, 0: otherwise]\n",
    "7. RestingECG: resting electrocardiogram results [Normal: Normal, ST: having ST-T wave abnormality (T wave inversions and/or ST elevation or \n",
    "   depression of > 0.05 mV), LVH: showing probable or definite left ventricular hypertrophy by Estes' criteria]\n",
    "8. MaxHR: maximum heart rate achieved [Numeric value between 60 and 202]\n",
    "9. ExerciseAngina: exercise-induced angina [Y: Yes, N: No]\n",
    "10. Oldpeak: oldpeak = ST [Numeric value measured in depression]\n",
    "11. ST_Slope: the slope of the peak exercise ST segment [Up: upsloping, Flat: flat, Down: downsloping]\n",
    "12. HeartDisease: output class [1: heart disease, 0: Normal]\n",
    "\n",
    "'''\n",
    "\n",
    "# load data and examine features\n",
    "hf_df = pd.read_csv('/dbfs/mnt/ml/eng/georgia_tech/machine_learning/HeartFailurePredictionDataset.csv')\n",
    "\n",
    "print(hf_df.shape)\n",
    "hf_df.head()"
   ]
  },
  {
   "cell_type": "code",
   "execution_count": 0,
   "metadata": {
    "application/vnd.databricks.v1+cell": {
     "inputWidgets": {},
     "nuid": "f8481c2e-933f-4939-a1d3-c53e8c27434f",
     "showTitle": false,
     "title": ""
    }
   },
   "outputs": [
    {
     "data": {
      "text/html": [
       "<style scoped>\n",
       "  .ansiout {\n",
       "    display: block;\n",
       "    unicode-bidi: embed;\n",
       "    white-space: pre-wrap;\n",
       "    word-wrap: break-word;\n",
       "    word-break: break-all;\n",
       "    font-family: \"Source Code Pro\", \"Menlo\", monospace;;\n",
       "    font-size: 13px;\n",
       "    color: #555;\n",
       "    margin-left: 4px;\n",
       "    line-height: 19px;\n",
       "  }\n",
       "</style>\n",
       "<div class=\"ansiout\">(918, 12)\n",
       "(918, 21)\n",
       "Out[5]: </div>"
      ]
     },
     "metadata": {
      "application/vnd.databricks.v1+output": {
       "addedWidgets": {},
       "arguments": {},
       "data": "<div class=\"ansiout\">(918, 12)\n(918, 21)\nOut[5]: </div>",
       "datasetInfos": [],
       "metadata": {},
       "removedWidgets": [],
       "type": "html"
      }
     },
     "output_type": "display_data"
    },
    {
     "data": {
      "text/html": [
       "<div>\n",
       "<style scoped>\n",
       "    .dataframe tbody tr th:only-of-type {\n",
       "        vertical-align: middle;\n",
       "    }\n",
       "\n",
       "    .dataframe tbody tr th {\n",
       "        vertical-align: top;\n",
       "    }\n",
       "\n",
       "    .dataframe thead th {\n",
       "        text-align: right;\n",
       "    }\n",
       "</style>\n",
       "<table border=\"1\" class=\"dataframe\">\n",
       "  <thead>\n",
       "    <tr style=\"text-align: right;\">\n",
       "      <th></th>\n",
       "      <th>Age</th>\n",
       "      <th>RestingBP</th>\n",
       "      <th>Cholesterol</th>\n",
       "      <th>FastingBS</th>\n",
       "      <th>MaxHR</th>\n",
       "      <th>Oldpeak</th>\n",
       "      <th>HeartDisease</th>\n",
       "      <th>Sex_F</th>\n",
       "      <th>Sex_M</th>\n",
       "      <th>ChestPainType_ASY</th>\n",
       "      <th>ChestPainType_ATA</th>\n",
       "      <th>ChestPainType_NAP</th>\n",
       "      <th>ChestPainType_TA</th>\n",
       "      <th>RestingECG_LVH</th>\n",
       "      <th>RestingECG_Normal</th>\n",
       "      <th>RestingECG_ST</th>\n",
       "      <th>ExerciseAngina_N</th>\n",
       "      <th>ExerciseAngina_Y</th>\n",
       "      <th>ST_Slope_Down</th>\n",
       "      <th>ST_Slope_Flat</th>\n",
       "      <th>ST_Slope_Up</th>\n",
       "    </tr>\n",
       "  </thead>\n",
       "  <tbody>\n",
       "    <tr>\n",
       "      <th>0</th>\n",
       "      <td>40</td>\n",
       "      <td>140</td>\n",
       "      <td>289</td>\n",
       "      <td>0</td>\n",
       "      <td>172</td>\n",
       "      <td>0.00</td>\n",
       "      <td>0</td>\n",
       "      <td>0</td>\n",
       "      <td>1</td>\n",
       "      <td>0</td>\n",
       "      <td>1</td>\n",
       "      <td>0</td>\n",
       "      <td>0</td>\n",
       "      <td>0</td>\n",
       "      <td>1</td>\n",
       "      <td>0</td>\n",
       "      <td>1</td>\n",
       "      <td>0</td>\n",
       "      <td>0</td>\n",
       "      <td>0</td>\n",
       "      <td>1</td>\n",
       "    </tr>\n",
       "    <tr>\n",
       "      <th>1</th>\n",
       "      <td>49</td>\n",
       "      <td>160</td>\n",
       "      <td>180</td>\n",
       "      <td>0</td>\n",
       "      <td>156</td>\n",
       "      <td>1.00</td>\n",
       "      <td>1</td>\n",
       "      <td>1</td>\n",
       "      <td>0</td>\n",
       "      <td>0</td>\n",
       "      <td>0</td>\n",
       "      <td>1</td>\n",
       "      <td>0</td>\n",
       "      <td>0</td>\n",
       "      <td>1</td>\n",
       "      <td>0</td>\n",
       "      <td>1</td>\n",
       "      <td>0</td>\n",
       "      <td>0</td>\n",
       "      <td>1</td>\n",
       "      <td>0</td>\n",
       "    </tr>\n",
       "    <tr>\n",
       "      <th>2</th>\n",
       "      <td>37</td>\n",
       "      <td>130</td>\n",
       "      <td>283</td>\n",
       "      <td>0</td>\n",
       "      <td>98</td>\n",
       "      <td>0.00</td>\n",
       "      <td>0</td>\n",
       "      <td>0</td>\n",
       "      <td>1</td>\n",
       "      <td>0</td>\n",
       "      <td>1</td>\n",
       "      <td>0</td>\n",
       "      <td>0</td>\n",
       "      <td>0</td>\n",
       "      <td>0</td>\n",
       "      <td>1</td>\n",
       "      <td>1</td>\n",
       "      <td>0</td>\n",
       "      <td>0</td>\n",
       "      <td>0</td>\n",
       "      <td>1</td>\n",
       "    </tr>\n",
       "    <tr>\n",
       "      <th>3</th>\n",
       "      <td>48</td>\n",
       "      <td>138</td>\n",
       "      <td>214</td>\n",
       "      <td>0</td>\n",
       "      <td>108</td>\n",
       "      <td>1.50</td>\n",
       "      <td>1</td>\n",
       "      <td>1</td>\n",
       "      <td>0</td>\n",
       "      <td>1</td>\n",
       "      <td>0</td>\n",
       "      <td>0</td>\n",
       "      <td>0</td>\n",
       "      <td>0</td>\n",
       "      <td>1</td>\n",
       "      <td>0</td>\n",
       "      <td>0</td>\n",
       "      <td>1</td>\n",
       "      <td>0</td>\n",
       "      <td>1</td>\n",
       "      <td>0</td>\n",
       "    </tr>\n",
       "    <tr>\n",
       "      <th>4</th>\n",
       "      <td>54</td>\n",
       "      <td>150</td>\n",
       "      <td>195</td>\n",
       "      <td>0</td>\n",
       "      <td>122</td>\n",
       "      <td>0.00</td>\n",
       "      <td>0</td>\n",
       "      <td>0</td>\n",
       "      <td>1</td>\n",
       "      <td>0</td>\n",
       "      <td>0</td>\n",
       "      <td>1</td>\n",
       "      <td>0</td>\n",
       "      <td>0</td>\n",
       "      <td>1</td>\n",
       "      <td>0</td>\n",
       "      <td>1</td>\n",
       "      <td>0</td>\n",
       "      <td>0</td>\n",
       "      <td>0</td>\n",
       "      <td>1</td>\n",
       "    </tr>\n",
       "  </tbody>\n",
       "</table>\n",
       "</div>"
      ]
     },
     "metadata": {
      "application/vnd.databricks.v1+output": {
       "addedWidgets": {},
       "arguments": {},
       "data": "<div>\n<style scoped>\n    .dataframe tbody tr th:only-of-type {\n        vertical-align: middle;\n    }\n\n    .dataframe tbody tr th {\n        vertical-align: top;\n    }\n\n    .dataframe thead th {\n        text-align: right;\n    }\n</style>\n<table border=\"1\" class=\"dataframe\">\n  <thead>\n    <tr style=\"text-align: right;\">\n      <th></th>\n      <th>Age</th>\n      <th>RestingBP</th>\n      <th>Cholesterol</th>\n      <th>FastingBS</th>\n      <th>MaxHR</th>\n      <th>Oldpeak</th>\n      <th>HeartDisease</th>\n      <th>Sex_F</th>\n      <th>Sex_M</th>\n      <th>ChestPainType_ASY</th>\n      <th>ChestPainType_ATA</th>\n      <th>ChestPainType_NAP</th>\n      <th>ChestPainType_TA</th>\n      <th>RestingECG_LVH</th>\n      <th>RestingECG_Normal</th>\n      <th>RestingECG_ST</th>\n      <th>ExerciseAngina_N</th>\n      <th>ExerciseAngina_Y</th>\n      <th>ST_Slope_Down</th>\n      <th>ST_Slope_Flat</th>\n      <th>ST_Slope_Up</th>\n    </tr>\n  </thead>\n  <tbody>\n    <tr>\n      <th>0</th>\n      <td>40</td>\n      <td>140</td>\n      <td>289</td>\n      <td>0</td>\n      <td>172</td>\n      <td>0.00</td>\n      <td>0</td>\n      <td>0</td>\n      <td>1</td>\n      <td>0</td>\n      <td>1</td>\n      <td>0</td>\n      <td>0</td>\n      <td>0</td>\n      <td>1</td>\n      <td>0</td>\n      <td>1</td>\n      <td>0</td>\n      <td>0</td>\n      <td>0</td>\n      <td>1</td>\n    </tr>\n    <tr>\n      <th>1</th>\n      <td>49</td>\n      <td>160</td>\n      <td>180</td>\n      <td>0</td>\n      <td>156</td>\n      <td>1.00</td>\n      <td>1</td>\n      <td>1</td>\n      <td>0</td>\n      <td>0</td>\n      <td>0</td>\n      <td>1</td>\n      <td>0</td>\n      <td>0</td>\n      <td>1</td>\n      <td>0</td>\n      <td>1</td>\n      <td>0</td>\n      <td>0</td>\n      <td>1</td>\n      <td>0</td>\n    </tr>\n    <tr>\n      <th>2</th>\n      <td>37</td>\n      <td>130</td>\n      <td>283</td>\n      <td>0</td>\n      <td>98</td>\n      <td>0.00</td>\n      <td>0</td>\n      <td>0</td>\n      <td>1</td>\n      <td>0</td>\n      <td>1</td>\n      <td>0</td>\n      <td>0</td>\n      <td>0</td>\n      <td>0</td>\n      <td>1</td>\n      <td>1</td>\n      <td>0</td>\n      <td>0</td>\n      <td>0</td>\n      <td>1</td>\n    </tr>\n    <tr>\n      <th>3</th>\n      <td>48</td>\n      <td>138</td>\n      <td>214</td>\n      <td>0</td>\n      <td>108</td>\n      <td>1.50</td>\n      <td>1</td>\n      <td>1</td>\n      <td>0</td>\n      <td>1</td>\n      <td>0</td>\n      <td>0</td>\n      <td>0</td>\n      <td>0</td>\n      <td>1</td>\n      <td>0</td>\n      <td>0</td>\n      <td>1</td>\n      <td>0</td>\n      <td>1</td>\n      <td>0</td>\n    </tr>\n    <tr>\n      <th>4</th>\n      <td>54</td>\n      <td>150</td>\n      <td>195</td>\n      <td>0</td>\n      <td>122</td>\n      <td>0.00</td>\n      <td>0</td>\n      <td>0</td>\n      <td>1</td>\n      <td>0</td>\n      <td>0</td>\n      <td>1</td>\n      <td>0</td>\n      <td>0</td>\n      <td>1</td>\n      <td>0</td>\n      <td>1</td>\n      <td>0</td>\n      <td>0</td>\n      <td>0</td>\n      <td>1</td>\n    </tr>\n  </tbody>\n</table>\n</div>",
       "datasetInfos": [],
       "metadata": {},
       "removedWidgets": [],
       "textData": null,
       "type": "htmlSandbox"
      }
     },
     "output_type": "display_data"
    }
   ],
   "source": [
    "# transorm categoric features -- OHE\n",
    "cat_feats = ['Sex', 'ChestPainType', 'RestingECG', 'ExerciseAngina', 'ST_Slope']\n",
    "hf_df_dummies = pd.get_dummies(hf_df, columns=cat_feats)\n",
    "\n",
    "print(hf_df.shape)\n",
    "print(hf_df_dummies.shape)\n",
    "hf_df_dummies.head()"
   ]
  },
  {
   "cell_type": "code",
   "execution_count": 0,
   "metadata": {
    "application/vnd.databricks.v1+cell": {
     "inputWidgets": {},
     "nuid": "5cd738dc-4766-474e-9562-4b2307bf2dd7",
     "showTitle": true,
     "title": "test-train split"
    }
   },
   "outputs": [
    {
     "data": {
      "text/html": [
       "<style scoped>\n",
       "  .ansiout {\n",
       "    display: block;\n",
       "    unicode-bidi: embed;\n",
       "    white-space: pre-wrap;\n",
       "    word-wrap: break-word;\n",
       "    word-break: break-all;\n",
       "    font-family: \"Source Code Pro\", \"Menlo\", monospace;;\n",
       "    font-size: 13px;\n",
       "    color: #555;\n",
       "    margin-left: 4px;\n",
       "    line-height: 19px;\n",
       "  }\n",
       "</style>\n",
       "<div class=\"ansiout\">(642, 20) (276, 20)\n",
       "</div>"
      ]
     },
     "metadata": {
      "application/vnd.databricks.v1+output": {
       "addedWidgets": {},
       "arguments": {},
       "data": "<div class=\"ansiout\">(642, 20) (276, 20)\n</div>",
       "datasetInfos": [],
       "metadata": {},
       "removedWidgets": [],
       "type": "html"
      }
     },
     "output_type": "display_data"
    }
   ],
   "source": [
    "# Heart failure data\n",
    "train_hf, test_hf = train_test_split(hf_df_dummies, test_size=0.3, random_state=42, shuffle=True, stratify=hf_df['HeartDisease'])\n",
    "X_train_hf = train_hf.drop(columns='HeartDisease').reset_index().drop(columns='index')\n",
    "y_train_hf = train_hf['HeartDisease'].reset_index().drop(columns='index')\n",
    "X_test_hf = test_hf.drop(columns='HeartDisease').reset_index().drop(columns='index')\n",
    "y_test_hf = test_hf['HeartDisease'].reset_index().drop(columns='index')\n",
    "\n",
    "print(X_train_hf.shape, X_test_hf.shape)\n",
    "\n",
    "from sklearn.preprocessing import MinMaxScaler\n",
    "\n",
    "scaler = MinMaxScaler()\n",
    "\n",
    "X_train_hf = scaler.fit_transform(X_train_hf)\n",
    "X_test_hf = scaler.transform(X_test_hf)\n"
   ]
  },
  {
   "cell_type": "code",
   "execution_count": 0,
   "metadata": {
    "application/vnd.databricks.v1+cell": {
     "inputWidgets": {},
     "nuid": "fa95b7e0-7335-4491-8cc9-2596491b359e",
     "showTitle": false,
     "title": ""
    }
   },
   "outputs": [
    {
     "data": {
      "text/html": [
       "<style scoped>\n",
       "  .ansiout {\n",
       "    display: block;\n",
       "    unicode-bidi: embed;\n",
       "    white-space: pre-wrap;\n",
       "    word-wrap: break-word;\n",
       "    word-break: break-all;\n",
       "    font-family: \"Source Code Pro\", \"Menlo\", monospace;;\n",
       "    font-size: 13px;\n",
       "    color: #555;\n",
       "    margin-left: 4px;\n",
       "    line-height: 19px;\n",
       "  }\n",
       "</style>\n",
       "<div class=\"ansiout\">Model Evaluation Metrics for the Test Dataset\n",
       "*****************************************************\n",
       "F1 Score:  0.90\n",
       "Accuracy:  0.88     AUC:       0.88\n",
       "Precision: 0.88     Recall:    0.92\n",
       "*****************************************************\n",
       "</div>"
      ]
     },
     "metadata": {
      "application/vnd.databricks.v1+output": {
       "addedWidgets": {},
       "arguments": {},
       "data": "<div class=\"ansiout\">Model Evaluation Metrics for the Test Dataset\n*****************************************************\nF1 Score:  0.90\nAccuracy:  0.88     AUC:       0.88\nPrecision: 0.88     Recall:    0.92\n*****************************************************\n</div>",
       "datasetInfos": [],
       "metadata": {},
       "removedWidgets": [],
       "type": "html"
      }
     },
     "output_type": "display_data"
    }
   ],
   "source": [
    "# heart failure Data\n",
    "mlp = MLPClassifier(solver='adam',\n",
    "                   hidden_layer_sizes = (200,),\n",
    "                   activation='relu',\n",
    "                   warm_start=True,\n",
    "                   random_state=42,\n",
    "                   early_stopping=True,\n",
    "                   validation_fraction=0.3,\n",
    "                   n_iter_no_change=50)\n",
    "\n",
    "# fit model\n",
    "mlp.fit(X_train_hf, y_train_hf)\n",
    "\n",
    "# heart failure Data\n",
    "pred_test = mlp.predict(X_test_hf)\n",
    "\n",
    "auc = roc_auc_score(y_test_hf, pred_test)\n",
    "f1 = f1_score(y_test_hf, pred_test)\n",
    "accuracy = accuracy_score(y_test_hf, pred_test)\n",
    "precision = precision_score(y_test_hf, pred_test)\n",
    "recall = recall_score(y_test_hf, pred_test)\n",
    "\n",
    "print(\"Model Evaluation Metrics for the Test Dataset\")\n",
    "print(\"*****************************************************\")\n",
    "print(\"F1 Score:  \"+\"{:.2f}\".format(f1))\n",
    "print(\"Accuracy:  \"+\"{:.2f}\".format(accuracy)+\"     AUC:       \"+\"{:.2f}\".format(auc))\n",
    "print(\"Precision: \"+\"{:.2f}\".format(precision)+\"     Recall:    \"+\"{:.2f}\".format(recall))\n",
    "print(\"*****************************************************\")\n"
   ]
  },
  {
   "cell_type": "code",
   "execution_count": 0,
   "metadata": {
    "application/vnd.databricks.v1+cell": {
     "inputWidgets": {},
     "nuid": "3505cb02-099f-4631-a028-e10936688cc0",
     "showTitle": true,
     "title": "RHC-ANN"
    }
   },
   "outputs": [
    {
     "data": {
      "text/html": [
       "<style scoped>\n",
       "  .ansiout {\n",
       "    display: block;\n",
       "    unicode-bidi: embed;\n",
       "    white-space: pre-wrap;\n",
       "    word-wrap: break-word;\n",
       "    word-break: break-all;\n",
       "    font-family: \"Source Code Pro\", \"Menlo\", monospace;;\n",
       "    font-size: 13px;\n",
       "    color: #555;\n",
       "    margin-left: 4px;\n",
       "    line-height: 19px;\n",
       "  }\n",
       "</style>\n",
       "<div class=\"ansiout\">Out[77]: NeuralNetwork(clip_max=5, curve=True, early_stopping=True, hidden_nodes=[200],\n",
       "              max_attempts=1000, max_iters=5000, random_state=42)</div>"
      ]
     },
     "metadata": {
      "application/vnd.databricks.v1+output": {
       "addedWidgets": {},
       "arguments": {},
       "data": "<div class=\"ansiout\">Out[77]: NeuralNetwork(clip_max=5, curve=True, early_stopping=True, hidden_nodes=[200],\n              max_attempts=1000, max_iters=5000, random_state=42)</div>",
       "datasetInfos": [],
       "metadata": {},
       "removedWidgets": [],
       "type": "html"
      }
     },
     "output_type": "display_data"
    }
   ],
   "source": [
    "# Define model\n",
    "nn_model_rhc = mlrose_hiive.NeuralNetwork(hidden_nodes=[200], activation='relu',\n",
    "                                          algorithm='random_hill_climb',\n",
    "                                          max_iters=5000,\n",
    "                                          bias=True,\n",
    "                                          is_classifier=True,\n",
    "                                          learning_rate=0.1,\n",
    "                                          early_stopping=True,\n",
    "                                          clip_max=5,\n",
    "                                          max_attempts=1000,\n",
    "                                          random_state=42,\n",
    "                                          curve=True)\n",
    "# train model\n",
    "nn_model_rhc.fit(X_train_hf, y_train_hf)"
   ]
  },
  {
   "cell_type": "code",
   "execution_count": 0,
   "metadata": {
    "application/vnd.databricks.v1+cell": {
     "inputWidgets": {},
     "nuid": "f715c2bc-3c18-46db-be2f-54cd28821842",
     "showTitle": false,
     "title": ""
    }
   },
   "outputs": [
    {
     "data": {
      "text/html": [
       "<style scoped>\n",
       "  .ansiout {\n",
       "    display: block;\n",
       "    unicode-bidi: embed;\n",
       "    white-space: pre-wrap;\n",
       "    word-wrap: break-word;\n",
       "    word-break: break-all;\n",
       "    font-family: \"Source Code Pro\", \"Menlo\", monospace;;\n",
       "    font-size: 13px;\n",
       "    color: #555;\n",
       "    margin-left: 4px;\n",
       "    line-height: 19px;\n",
       "  }\n",
       "</style>\n",
       "<div class=\"ansiout\">(5000, 2)\n",
       "Out[78]: </div>"
      ]
     },
     "metadata": {
      "application/vnd.databricks.v1+output": {
       "addedWidgets": {},
       "arguments": {},
       "data": "<div class=\"ansiout\">(5000, 2)\nOut[78]: </div>",
       "datasetInfos": [],
       "metadata": {},
       "removedWidgets": [],
       "type": "html"
      }
     },
     "output_type": "display_data"
    },
    {
     "data": {
      "text/html": [
       "<div>\n",
       "<style scoped>\n",
       "    .dataframe tbody tr th:only-of-type {\n",
       "        vertical-align: middle;\n",
       "    }\n",
       "\n",
       "    .dataframe tbody tr th {\n",
       "        vertical-align: top;\n",
       "    }\n",
       "\n",
       "    .dataframe thead th {\n",
       "        text-align: right;\n",
       "    }\n",
       "</style>\n",
       "<table border=\"1\" class=\"dataframe\">\n",
       "  <thead>\n",
       "    <tr style=\"text-align: right;\">\n",
       "      <th></th>\n",
       "      <th>0</th>\n",
       "      <th>1</th>\n",
       "    </tr>\n",
       "  </thead>\n",
       "  <tbody>\n",
       "    <tr>\n",
       "      <th>0</th>\n",
       "      <td>1.59</td>\n",
       "      <td>1.00</td>\n",
       "    </tr>\n",
       "    <tr>\n",
       "      <th>1</th>\n",
       "      <td>1.59</td>\n",
       "      <td>2.00</td>\n",
       "    </tr>\n",
       "    <tr>\n",
       "      <th>2</th>\n",
       "      <td>1.59</td>\n",
       "      <td>4.00</td>\n",
       "    </tr>\n",
       "    <tr>\n",
       "      <th>3</th>\n",
       "      <td>1.59</td>\n",
       "      <td>5.00</td>\n",
       "    </tr>\n",
       "    <tr>\n",
       "      <th>4</th>\n",
       "      <td>1.59</td>\n",
       "      <td>6.00</td>\n",
       "    </tr>\n",
       "  </tbody>\n",
       "</table>\n",
       "</div>"
      ]
     },
     "metadata": {
      "application/vnd.databricks.v1+output": {
       "addedWidgets": {},
       "arguments": {},
       "data": "<div>\n<style scoped>\n    .dataframe tbody tr th:only-of-type {\n        vertical-align: middle;\n    }\n\n    .dataframe tbody tr th {\n        vertical-align: top;\n    }\n\n    .dataframe thead th {\n        text-align: right;\n    }\n</style>\n<table border=\"1\" class=\"dataframe\">\n  <thead>\n    <tr style=\"text-align: right;\">\n      <th></th>\n      <th>0</th>\n      <th>1</th>\n    </tr>\n  </thead>\n  <tbody>\n    <tr>\n      <th>0</th>\n      <td>1.59</td>\n      <td>1.00</td>\n    </tr>\n    <tr>\n      <th>1</th>\n      <td>1.59</td>\n      <td>2.00</td>\n    </tr>\n    <tr>\n      <th>2</th>\n      <td>1.59</td>\n      <td>4.00</td>\n    </tr>\n    <tr>\n      <th>3</th>\n      <td>1.59</td>\n      <td>5.00</td>\n    </tr>\n    <tr>\n      <th>4</th>\n      <td>1.59</td>\n      <td>6.00</td>\n    </tr>\n  </tbody>\n</table>\n</div>",
       "datasetInfos": [],
       "metadata": {},
       "removedWidgets": [],
       "textData": null,
       "type": "htmlSandbox"
      }
     },
     "output_type": "display_data"
    }
   ],
   "source": [
    "fitness_rhc = pd.DataFrame(nn_model_rhc.fitness_curve)\n",
    "# fitness_rhc.columns = ['adjFitness', 'Fitness']\n",
    "\n",
    "print(fitness_rhc.shape)\n",
    "fitness_rhc.head()"
   ]
  },
  {
   "cell_type": "code",
   "execution_count": 0,
   "metadata": {
    "application/vnd.databricks.v1+cell": {
     "inputWidgets": {},
     "nuid": "1fd6a6d4-0cb9-4ab0-b5ed-24d7da8fc546",
     "showTitle": false,
     "title": ""
    }
   },
   "outputs": [
    {
     "data": {
      "text/html": [
       "<style scoped>\n",
       "  .ansiout {\n",
       "    display: block;\n",
       "    unicode-bidi: embed;\n",
       "    white-space: pre-wrap;\n",
       "    word-wrap: break-word;\n",
       "    word-break: break-all;\n",
       "    font-family: \"Source Code Pro\", \"Menlo\", monospace;;\n",
       "    font-size: 13px;\n",
       "    color: #555;\n",
       "    margin-left: 4px;\n",
       "    line-height: 19px;\n",
       "  }\n",
       "</style>\n",
       "<div class=\"ansiout\">Out[79]: </div>"
      ]
     },
     "metadata": {
      "application/vnd.databricks.v1+output": {
       "addedWidgets": {},
       "arguments": {},
       "data": "<div class=\"ansiout\">Out[79]: </div>",
       "datasetInfos": [],
       "metadata": {},
       "removedWidgets": [],
       "type": "html"
      }
     },
     "output_type": "display_data"
    },
    {
     "data": {
      "text/html": [
       "<div>\n",
       "<style scoped>\n",
       "    .dataframe tbody tr th:only-of-type {\n",
       "        vertical-align: middle;\n",
       "    }\n",
       "\n",
       "    .dataframe tbody tr th {\n",
       "        vertical-align: top;\n",
       "    }\n",
       "\n",
       "    .dataframe thead th {\n",
       "        text-align: right;\n",
       "    }\n",
       "</style>\n",
       "<table border=\"1\" class=\"dataframe\">\n",
       "  <thead>\n",
       "    <tr style=\"text-align: right;\">\n",
       "      <th></th>\n",
       "      <th>0</th>\n",
       "      <th>1</th>\n",
       "    </tr>\n",
       "  </thead>\n",
       "  <tbody>\n",
       "    <tr>\n",
       "      <th>count</th>\n",
       "      <td>5000.00</td>\n",
       "      <td>5000.00</td>\n",
       "    </tr>\n",
       "    <tr>\n",
       "      <th>mean</th>\n",
       "      <td>0.61</td>\n",
       "      <td>3648.60</td>\n",
       "    </tr>\n",
       "    <tr>\n",
       "      <th>std</th>\n",
       "      <td>0.30</td>\n",
       "      <td>2087.95</td>\n",
       "    </tr>\n",
       "    <tr>\n",
       "      <th>min</th>\n",
       "      <td>0.33</td>\n",
       "      <td>1.00</td>\n",
       "    </tr>\n",
       "    <tr>\n",
       "      <th>25%</th>\n",
       "      <td>0.38</td>\n",
       "      <td>1843.50</td>\n",
       "    </tr>\n",
       "    <tr>\n",
       "      <th>50%</th>\n",
       "      <td>0.47</td>\n",
       "      <td>3684.00</td>\n",
       "    </tr>\n",
       "    <tr>\n",
       "      <th>75%</th>\n",
       "      <td>0.74</td>\n",
       "      <td>5466.50</td>\n",
       "    </tr>\n",
       "    <tr>\n",
       "      <th>max</th>\n",
       "      <td>1.59</td>\n",
       "      <td>7197.00</td>\n",
       "    </tr>\n",
       "  </tbody>\n",
       "</table>\n",
       "</div>"
      ]
     },
     "metadata": {
      "application/vnd.databricks.v1+output": {
       "addedWidgets": {},
       "arguments": {},
       "data": "<div>\n<style scoped>\n    .dataframe tbody tr th:only-of-type {\n        vertical-align: middle;\n    }\n\n    .dataframe tbody tr th {\n        vertical-align: top;\n    }\n\n    .dataframe thead th {\n        text-align: right;\n    }\n</style>\n<table border=\"1\" class=\"dataframe\">\n  <thead>\n    <tr style=\"text-align: right;\">\n      <th></th>\n      <th>0</th>\n      <th>1</th>\n    </tr>\n  </thead>\n  <tbody>\n    <tr>\n      <th>count</th>\n      <td>5000.00</td>\n      <td>5000.00</td>\n    </tr>\n    <tr>\n      <th>mean</th>\n      <td>0.61</td>\n      <td>3648.60</td>\n    </tr>\n    <tr>\n      <th>std</th>\n      <td>0.30</td>\n      <td>2087.95</td>\n    </tr>\n    <tr>\n      <th>min</th>\n      <td>0.33</td>\n      <td>1.00</td>\n    </tr>\n    <tr>\n      <th>25%</th>\n      <td>0.38</td>\n      <td>1843.50</td>\n    </tr>\n    <tr>\n      <th>50%</th>\n      <td>0.47</td>\n      <td>3684.00</td>\n    </tr>\n    <tr>\n      <th>75%</th>\n      <td>0.74</td>\n      <td>5466.50</td>\n    </tr>\n    <tr>\n      <th>max</th>\n      <td>1.59</td>\n      <td>7197.00</td>\n    </tr>\n  </tbody>\n</table>\n</div>",
       "datasetInfos": [],
       "metadata": {},
       "removedWidgets": [],
       "textData": null,
       "type": "htmlSandbox"
      }
     },
     "output_type": "display_data"
    }
   ],
   "source": [
    "fitness_rhc.describe()"
   ]
  },
  {
   "cell_type": "code",
   "execution_count": 0,
   "metadata": {
    "application/vnd.databricks.v1+cell": {
     "inputWidgets": {},
     "nuid": "20594638-2ead-4bf8-af9b-058825e06e03",
     "showTitle": false,
     "title": ""
    }
   },
   "outputs": [
    {
     "data": {
      "text/html": [
       "<style scoped>\n",
       "  .ansiout {\n",
       "    display: block;\n",
       "    unicode-bidi: embed;\n",
       "    white-space: pre-wrap;\n",
       "    word-wrap: break-word;\n",
       "    word-break: break-all;\n",
       "    font-family: \"Source Code Pro\", \"Menlo\", monospace;;\n",
       "    font-size: 13px;\n",
       "    color: #555;\n",
       "    margin-left: 4px;\n",
       "    line-height: 19px;\n",
       "  }\n",
       "</style>\n",
       "<div class=\"ansiout\">Model Evaluation Metrics for the Test Dataset\n",
       "*****************************************************\n",
       "F1 Score:  0.85\n",
       "Accuracy:  0.84     AUC:       0.84\n",
       "Precision: 0.87     Recall:    0.84\n",
       "*****************************************************\n",
       "</div>"
      ]
     },
     "metadata": {
      "application/vnd.databricks.v1+output": {
       "addedWidgets": {},
       "arguments": {},
       "data": "<div class=\"ansiout\">Model Evaluation Metrics for the Test Dataset\n*****************************************************\nF1 Score:  0.85\nAccuracy:  0.84     AUC:       0.84\nPrecision: 0.87     Recall:    0.84\n*****************************************************\n</div>",
       "datasetInfos": [],
       "metadata": {},
       "removedWidgets": [],
       "type": "html"
      }
     },
     "output_type": "display_data"
    }
   ],
   "source": [
    "# heart failure Data\n",
    "pred_test = nn_model_rhc.predict(X_test_hf)\n",
    "\n",
    "auc = roc_auc_score(y_test_hf, pred_test)\n",
    "f1 = f1_score(y_test_hf, pred_test)\n",
    "accuracy = accuracy_score(y_test_hf, pred_test)\n",
    "precision = precision_score(y_test_hf, pred_test)\n",
    "recall = recall_score(y_test_hf, pred_test)\n",
    "\n",
    "print(\"Model Evaluation Metrics for the Test Dataset\")\n",
    "print(\"*****************************************************\")\n",
    "print(\"F1 Score:  \"+\"{:.2f}\".format(f1))\n",
    "print(\"Accuracy:  \"+\"{:.2f}\".format(accuracy)+\"     AUC:       \"+\"{:.2f}\".format(auc))\n",
    "print(\"Precision: \"+\"{:.2f}\".format(precision)+\"     Recall:    \"+\"{:.2f}\".format(recall))\n",
    "print(\"*****************************************************\")"
   ]
  },
  {
   "cell_type": "code",
   "execution_count": 0,
   "metadata": {
    "application/vnd.databricks.v1+cell": {
     "inputWidgets": {},
     "nuid": "e5c23860-d9f9-45ee-8c14-86ba28ccdbd2",
     "showTitle": true,
     "title": "SA-ANN"
    }
   },
   "outputs": [
    {
     "data": {
      "text/html": [
       "<style scoped>\n",
       "  .ansiout {\n",
       "    display: block;\n",
       "    unicode-bidi: embed;\n",
       "    white-space: pre-wrap;\n",
       "    word-wrap: break-word;\n",
       "    word-break: break-all;\n",
       "    font-family: \"Source Code Pro\", \"Menlo\", monospace;;\n",
       "    font-size: 13px;\n",
       "    color: #555;\n",
       "    margin-left: 4px;\n",
       "    line-height: 19px;\n",
       "  }\n",
       "</style>\n",
       "<div class=\"ansiout\">Out[74]: NeuralNetwork(algorithm=&#39;simulated_annealing&#39;, clip_max=5, curve=True,\n",
       "              early_stopping=True, hidden_nodes=[200], max_attempts=1000,\n",
       "              max_iters=5000, random_state=42)</div>"
      ]
     },
     "metadata": {
      "application/vnd.databricks.v1+output": {
       "addedWidgets": {},
       "arguments": {},
       "data": "<div class=\"ansiout\">Out[74]: NeuralNetwork(algorithm=&#39;simulated_annealing&#39;, clip_max=5, curve=True,\n              early_stopping=True, hidden_nodes=[200], max_attempts=1000,\n              max_iters=5000, random_state=42)</div>",
       "datasetInfos": [],
       "metadata": {},
       "removedWidgets": [],
       "type": "html"
      }
     },
     "output_type": "display_data"
    }
   ],
   "source": [
    "nn_model_sa = mlrose_hiive.NeuralNetwork(hidden_nodes=[200],\n",
    "                                         activation='relu',\n",
    "                                         algorithm='simulated_annealing',\n",
    "                                         max_iters=5000,\n",
    "                                         bias=True,\n",
    "                                         is_classifier=True,\n",
    "                                         learning_rate=0.1,\n",
    "                                         early_stopping=True,\n",
    "                                         clip_max=5,\n",
    "                                         max_attempts=1000,\n",
    "                                         random_state=42,\n",
    "                                         curve=True)\n",
    "\n",
    "# train model\n",
    "nn_model_sa.fit(X_train_hf, y_train_hf)"
   ]
  },
  {
   "cell_type": "code",
   "execution_count": 0,
   "metadata": {
    "application/vnd.databricks.v1+cell": {
     "inputWidgets": {},
     "nuid": "62802e5d-b8fe-44ef-ba3b-845a844d0b3f",
     "showTitle": false,
     "title": ""
    }
   },
   "outputs": [
    {
     "data": {
      "text/html": [
       "<style scoped>\n",
       "  .ansiout {\n",
       "    display: block;\n",
       "    unicode-bidi: embed;\n",
       "    white-space: pre-wrap;\n",
       "    word-wrap: break-word;\n",
       "    word-break: break-all;\n",
       "    font-family: \"Source Code Pro\", \"Menlo\", monospace;;\n",
       "    font-size: 13px;\n",
       "    color: #555;\n",
       "    margin-left: 4px;\n",
       "    line-height: 19px;\n",
       "  }\n",
       "</style>\n",
       "<div class=\"ansiout\">Model Evaluation Metrics for the Test Dataset\n",
       "*****************************************************\n",
       "F1 Score:  0.85\n",
       "Accuracy:  0.84     AUC:       0.84\n",
       "Precision: 0.88     Recall:    0.83\n",
       "*****************************************************\n",
       "</div>"
      ]
     },
     "metadata": {
      "application/vnd.databricks.v1+output": {
       "addedWidgets": {},
       "arguments": {},
       "data": "<div class=\"ansiout\">Model Evaluation Metrics for the Test Dataset\n*****************************************************\nF1 Score:  0.85\nAccuracy:  0.84     AUC:       0.84\nPrecision: 0.88     Recall:    0.83\n*****************************************************\n</div>",
       "datasetInfos": [],
       "metadata": {},
       "removedWidgets": [],
       "type": "html"
      }
     },
     "output_type": "display_data"
    }
   ],
   "source": [
    "# heart failure Data\n",
    "pred_test = nn_model_sa.predict(X_test_hf)\n",
    "\n",
    "auc = roc_auc_score(y_test_hf, pred_test)\n",
    "f1 = f1_score(y_test_hf, pred_test)\n",
    "accuracy = accuracy_score(y_test_hf, pred_test)\n",
    "precision = precision_score(y_test_hf, pred_test)\n",
    "recall = recall_score(y_test_hf, pred_test)\n",
    "\n",
    "print(\"Model Evaluation Metrics for the Test Dataset\")\n",
    "print(\"*****************************************************\")\n",
    "print(\"F1 Score:  \"+\"{:.2f}\".format(f1))\n",
    "print(\"Accuracy:  \"+\"{:.2f}\".format(accuracy)+\"     AUC:       \"+\"{:.2f}\".format(auc))\n",
    "print(\"Precision: \"+\"{:.2f}\".format(precision)+\"     Recall:    \"+\"{:.2f}\".format(recall))\n",
    "print(\"*****************************************************\")"
   ]
  },
  {
   "cell_type": "code",
   "execution_count": 0,
   "metadata": {
    "application/vnd.databricks.v1+cell": {
     "inputWidgets": {},
     "nuid": "4ac0760a-2176-4fa7-809a-42195648c740",
     "showTitle": false,
     "title": ""
    }
   },
   "outputs": [
    {
     "data": {
      "text/html": [
       "<style scoped>\n",
       "  .ansiout {\n",
       "    display: block;\n",
       "    unicode-bidi: embed;\n",
       "    white-space: pre-wrap;\n",
       "    word-wrap: break-word;\n",
       "    word-break: break-all;\n",
       "    font-family: \"Source Code Pro\", \"Menlo\", monospace;;\n",
       "    font-size: 13px;\n",
       "    color: #555;\n",
       "    margin-left: 4px;\n",
       "    line-height: 19px;\n",
       "  }\n",
       "</style>\n",
       "<div class=\"ansiout\">(5000, 2)\n",
       "Out[76]: </div>"
      ]
     },
     "metadata": {
      "application/vnd.databricks.v1+output": {
       "addedWidgets": {},
       "arguments": {},
       "data": "<div class=\"ansiout\">(5000, 2)\nOut[76]: </div>",
       "datasetInfos": [],
       "metadata": {},
       "removedWidgets": [],
       "type": "html"
      }
     },
     "output_type": "display_data"
    },
    {
     "data": {
      "text/html": [
       "<div>\n",
       "<style scoped>\n",
       "    .dataframe tbody tr th:only-of-type {\n",
       "        vertical-align: middle;\n",
       "    }\n",
       "\n",
       "    .dataframe tbody tr th {\n",
       "        vertical-align: top;\n",
       "    }\n",
       "\n",
       "    .dataframe thead th {\n",
       "        text-align: right;\n",
       "    }\n",
       "</style>\n",
       "<table border=\"1\" class=\"dataframe\">\n",
       "  <thead>\n",
       "    <tr style=\"text-align: right;\">\n",
       "      <th></th>\n",
       "      <th>0</th>\n",
       "      <th>1</th>\n",
       "    </tr>\n",
       "  </thead>\n",
       "  <tbody>\n",
       "    <tr>\n",
       "      <th>0</th>\n",
       "      <td>1.59</td>\n",
       "      <td>3.00</td>\n",
       "    </tr>\n",
       "    <tr>\n",
       "      <th>1</th>\n",
       "      <td>1.59</td>\n",
       "      <td>5.00</td>\n",
       "    </tr>\n",
       "    <tr>\n",
       "      <th>2</th>\n",
       "      <td>1.59</td>\n",
       "      <td>7.00</td>\n",
       "    </tr>\n",
       "    <tr>\n",
       "      <th>3</th>\n",
       "      <td>1.59</td>\n",
       "      <td>9.00</td>\n",
       "    </tr>\n",
       "    <tr>\n",
       "      <th>4</th>\n",
       "      <td>1.60</td>\n",
       "      <td>11.00</td>\n",
       "    </tr>\n",
       "  </tbody>\n",
       "</table>\n",
       "</div>"
      ]
     },
     "metadata": {
      "application/vnd.databricks.v1+output": {
       "addedWidgets": {},
       "arguments": {},
       "data": "<div>\n<style scoped>\n    .dataframe tbody tr th:only-of-type {\n        vertical-align: middle;\n    }\n\n    .dataframe tbody tr th {\n        vertical-align: top;\n    }\n\n    .dataframe thead th {\n        text-align: right;\n    }\n</style>\n<table border=\"1\" class=\"dataframe\">\n  <thead>\n    <tr style=\"text-align: right;\">\n      <th></th>\n      <th>0</th>\n      <th>1</th>\n    </tr>\n  </thead>\n  <tbody>\n    <tr>\n      <th>0</th>\n      <td>1.59</td>\n      <td>3.00</td>\n    </tr>\n    <tr>\n      <th>1</th>\n      <td>1.59</td>\n      <td>5.00</td>\n    </tr>\n    <tr>\n      <th>2</th>\n      <td>1.59</td>\n      <td>7.00</td>\n    </tr>\n    <tr>\n      <th>3</th>\n      <td>1.59</td>\n      <td>9.00</td>\n    </tr>\n    <tr>\n      <th>4</th>\n      <td>1.60</td>\n      <td>11.00</td>\n    </tr>\n  </tbody>\n</table>\n</div>",
       "datasetInfos": [],
       "metadata": {},
       "removedWidgets": [],
       "textData": null,
       "type": "htmlSandbox"
      }
     },
     "output_type": "display_data"
    }
   ],
   "source": [
    "fitness_sa = pd.DataFrame(nn_model_sa.fitness_curve)\n",
    "# fitness_sa.columns = ['adjFitness', 'Fitness']\n",
    "\n",
    "print(fitness_sa.shape)\n",
    "fitness_sa.head()"
   ]
  },
  {
   "cell_type": "code",
   "execution_count": 0,
   "metadata": {
    "application/vnd.databricks.v1+cell": {
     "inputWidgets": {},
     "nuid": "8cb8bfd2-2e2a-48b7-b84b-94c15b19a3dc",
     "showTitle": true,
     "title": "GA-ANN"
    }
   },
   "outputs": [
    {
     "data": {
      "text/html": [
       "<style scoped>\n",
       "  .ansiout {\n",
       "    display: block;\n",
       "    unicode-bidi: embed;\n",
       "    white-space: pre-wrap;\n",
       "    word-wrap: break-word;\n",
       "    word-break: break-all;\n",
       "    font-family: \"Source Code Pro\", \"Menlo\", monospace;;\n",
       "    font-size: 13px;\n",
       "    color: #555;\n",
       "    margin-left: 4px;\n",
       "    line-height: 19px;\n",
       "  }\n",
       "</style>\n",
       "<div class=\"ansiout\">Out[85]: NeuralNetwork(algorithm=&#39;genetic_alg&#39;, clip_max=5, curve=True,\n",
       "              early_stopping=True, hidden_nodes=[200], max_attempts=1000,\n",
       "              max_iters=5000, random_state=42)</div>"
      ]
     },
     "metadata": {
      "application/vnd.databricks.v1+output": {
       "addedWidgets": {},
       "arguments": {},
       "data": "<div class=\"ansiout\">Out[85]: NeuralNetwork(algorithm=&#39;genetic_alg&#39;, clip_max=5, curve=True,\n              early_stopping=True, hidden_nodes=[200], max_attempts=1000,\n              max_iters=5000, random_state=42)</div>",
       "datasetInfos": [],
       "metadata": {},
       "removedWidgets": [],
       "type": "html"
      }
     },
     "output_type": "display_data"
    }
   ],
   "source": [
    "nn_model_ga = mlrose_hiive.NeuralNetwork(hidden_nodes=[200],\n",
    "                                         activation='relu',\n",
    "                                         algorithm='genetic_alg',\n",
    "                                         max_iters=5000,\n",
    "                                         bias=True,\n",
    "                                         is_classifier=True,\n",
    "                                         learning_rate=0.1,\n",
    "                                         early_stopping=True,\n",
    "                                         clip_max=5,\n",
    "                                         max_attempts=1000,\n",
    "                                         random_state=42,\n",
    "                                         curve=True)\n",
    "\n",
    "# train model\n",
    "nn_model_ga.fit(X_train_hf, y_train_hf)"
   ]
  },
  {
   "cell_type": "code",
   "execution_count": 0,
   "metadata": {
    "application/vnd.databricks.v1+cell": {
     "inputWidgets": {},
     "nuid": "6244d046-770a-4cae-a187-564ca5fed052",
     "showTitle": false,
     "title": ""
    }
   },
   "outputs": [
    {
     "data": {
      "text/html": [
       "<style scoped>\n",
       "  .ansiout {\n",
       "    display: block;\n",
       "    unicode-bidi: embed;\n",
       "    white-space: pre-wrap;\n",
       "    word-wrap: break-word;\n",
       "    word-break: break-all;\n",
       "    font-family: \"Source Code Pro\", \"Menlo\", monospace;;\n",
       "    font-size: 13px;\n",
       "    color: #555;\n",
       "    margin-left: 4px;\n",
       "    line-height: 19px;\n",
       "  }\n",
       "</style>\n",
       "<div class=\"ansiout\">Model Evaluation Metrics for the Test Dataset\n",
       "*****************************************************\n",
       "F1 Score:  0.87\n",
       "Accuracy:  0.85     AUC:       0.85\n",
       "Precision: 0.84     Recall:    0.90\n",
       "*****************************************************\n",
       "</div>"
      ]
     },
     "metadata": {
      "application/vnd.databricks.v1+output": {
       "addedWidgets": {},
       "arguments": {},
       "data": "<div class=\"ansiout\">Model Evaluation Metrics for the Test Dataset\n*****************************************************\nF1 Score:  0.87\nAccuracy:  0.85     AUC:       0.85\nPrecision: 0.84     Recall:    0.90\n*****************************************************\n</div>",
       "datasetInfos": [],
       "metadata": {},
       "removedWidgets": [],
       "type": "html"
      }
     },
     "output_type": "display_data"
    }
   ],
   "source": [
    "# heart failure Data\n",
    "pred_test = nn_model_ga.predict(X_test_hf)\n",
    "\n",
    "auc = roc_auc_score(y_test_hf, pred_test)\n",
    "f1 = f1_score(y_test_hf, pred_test)\n",
    "accuracy = accuracy_score(y_test_hf, pred_test)\n",
    "precision = precision_score(y_test_hf, pred_test)\n",
    "recall = recall_score(y_test_hf, pred_test)\n",
    "\n",
    "print(\"Model Evaluation Metrics for the Test Dataset\")\n",
    "print(\"*****************************************************\")\n",
    "print(\"F1 Score:  \"+\"{:.2f}\".format(f1))\n",
    "print(\"Accuracy:  \"+\"{:.2f}\".format(accuracy)+\"     AUC:       \"+\"{:.2f}\".format(auc))\n",
    "print(\"Precision: \"+\"{:.2f}\".format(precision)+\"     Recall:    \"+\"{:.2f}\".format(recall))\n",
    "print(\"*****************************************************\")"
   ]
  },
  {
   "cell_type": "code",
   "execution_count": 0,
   "metadata": {
    "application/vnd.databricks.v1+cell": {
     "inputWidgets": {},
     "nuid": "a7d47d22-af20-45b9-a24d-04e50ab4c32f",
     "showTitle": false,
     "title": ""
    }
   },
   "outputs": [
    {
     "data": {
      "text/html": [
       "<style scoped>\n",
       "  .ansiout {\n",
       "    display: block;\n",
       "    unicode-bidi: embed;\n",
       "    white-space: pre-wrap;\n",
       "    word-wrap: break-word;\n",
       "    word-break: break-all;\n",
       "    font-family: \"Source Code Pro\", \"Menlo\", monospace;;\n",
       "    font-size: 13px;\n",
       "    color: #555;\n",
       "    margin-left: 4px;\n",
       "    line-height: 19px;\n",
       "  }\n",
       "</style>\n",
       "<div class=\"ansiout\">(2182, 2)\n",
       "Out[87]: </div>"
      ]
     },
     "metadata": {
      "application/vnd.databricks.v1+output": {
       "addedWidgets": {},
       "arguments": {},
       "data": "<div class=\"ansiout\">(2182, 2)\nOut[87]: </div>",
       "datasetInfos": [],
       "metadata": {},
       "removedWidgets": [],
       "type": "html"
      }
     },
     "output_type": "display_data"
    },
    {
     "data": {
      "text/html": [
       "<div>\n",
       "<style scoped>\n",
       "    .dataframe tbody tr th:only-of-type {\n",
       "        vertical-align: middle;\n",
       "    }\n",
       "\n",
       "    .dataframe tbody tr th {\n",
       "        vertical-align: top;\n",
       "    }\n",
       "\n",
       "    .dataframe thead th {\n",
       "        text-align: right;\n",
       "    }\n",
       "</style>\n",
       "<table border=\"1\" class=\"dataframe\">\n",
       "  <thead>\n",
       "    <tr style=\"text-align: right;\">\n",
       "      <th></th>\n",
       "      <th>0</th>\n",
       "      <th>1</th>\n",
       "    </tr>\n",
       "  </thead>\n",
       "  <tbody>\n",
       "    <tr>\n",
       "      <th>0</th>\n",
       "      <td>5.73</td>\n",
       "      <td>403.00</td>\n",
       "    </tr>\n",
       "    <tr>\n",
       "      <th>1</th>\n",
       "      <td>5.73</td>\n",
       "      <td>604.00</td>\n",
       "    </tr>\n",
       "    <tr>\n",
       "      <th>2</th>\n",
       "      <td>5.73</td>\n",
       "      <td>805.00</td>\n",
       "    </tr>\n",
       "    <tr>\n",
       "      <th>3</th>\n",
       "      <td>5.73</td>\n",
       "      <td>1006.00</td>\n",
       "    </tr>\n",
       "    <tr>\n",
       "      <th>4</th>\n",
       "      <td>5.02</td>\n",
       "      <td>1208.00</td>\n",
       "    </tr>\n",
       "  </tbody>\n",
       "</table>\n",
       "</div>"
      ]
     },
     "metadata": {
      "application/vnd.databricks.v1+output": {
       "addedWidgets": {},
       "arguments": {},
       "data": "<div>\n<style scoped>\n    .dataframe tbody tr th:only-of-type {\n        vertical-align: middle;\n    }\n\n    .dataframe tbody tr th {\n        vertical-align: top;\n    }\n\n    .dataframe thead th {\n        text-align: right;\n    }\n</style>\n<table border=\"1\" class=\"dataframe\">\n  <thead>\n    <tr style=\"text-align: right;\">\n      <th></th>\n      <th>0</th>\n      <th>1</th>\n    </tr>\n  </thead>\n  <tbody>\n    <tr>\n      <th>0</th>\n      <td>5.73</td>\n      <td>403.00</td>\n    </tr>\n    <tr>\n      <th>1</th>\n      <td>5.73</td>\n      <td>604.00</td>\n    </tr>\n    <tr>\n      <th>2</th>\n      <td>5.73</td>\n      <td>805.00</td>\n    </tr>\n    <tr>\n      <th>3</th>\n      <td>5.73</td>\n      <td>1006.00</td>\n    </tr>\n    <tr>\n      <th>4</th>\n      <td>5.02</td>\n      <td>1208.00</td>\n    </tr>\n  </tbody>\n</table>\n</div>",
       "datasetInfos": [],
       "metadata": {},
       "removedWidgets": [],
       "textData": null,
       "type": "htmlSandbox"
      }
     },
     "output_type": "display_data"
    }
   ],
   "source": [
    "fitness_ga = pd.DataFrame(nn_model_ga.fitness_curve)\n",
    "# fitness_ga.columns = ['adjFitness', 'Fitness']\n",
    "\n",
    "print(fitness_ga.shape)\n",
    "fitness_ga.head()"
   ]
  },
  {
   "cell_type": "code",
   "execution_count": 0,
   "metadata": {
    "application/vnd.databricks.v1+cell": {
     "inputWidgets": {},
     "nuid": "d7a81cbe-748b-404c-9c20-03066ebf24c4",
     "showTitle": true,
     "title": "Gradient-Descent-ANN"
    }
   },
   "outputs": [
    {
     "data": {
      "text/html": [
       "<style scoped>\n",
       "  .ansiout {\n",
       "    display: block;\n",
       "    unicode-bidi: embed;\n",
       "    white-space: pre-wrap;\n",
       "    word-wrap: break-word;\n",
       "    word-break: break-all;\n",
       "    font-family: \"Source Code Pro\", \"Menlo\", monospace;;\n",
       "    font-size: 13px;\n",
       "    color: #555;\n",
       "    margin-left: 4px;\n",
       "    line-height: 19px;\n",
       "  }\n",
       "</style>\n",
       "<div class=\"ansiout\">Out[81]: NeuralNetwork(algorithm=&#39;gradient_descent&#39;, clip_max=5, curve=True,\n",
       "              early_stopping=True, hidden_nodes=[200], learning_rate=0.001,\n",
       "              max_attempts=1000, max_iters=5000, random_state=42)</div>"
      ]
     },
     "metadata": {
      "application/vnd.databricks.v1+output": {
       "addedWidgets": {},
       "arguments": {},
       "data": "<div class=\"ansiout\">Out[81]: NeuralNetwork(algorithm=&#39;gradient_descent&#39;, clip_max=5, curve=True,\n              early_stopping=True, hidden_nodes=[200], learning_rate=0.001,\n              max_attempts=1000, max_iters=5000, random_state=42)</div>",
       "datasetInfos": [],
       "metadata": {},
       "removedWidgets": [],
       "type": "html"
      }
     },
     "output_type": "display_data"
    }
   ],
   "source": [
    "nn_model_gd = mlrose_hiive.NeuralNetwork   (hidden_nodes=[200],  activation='relu', max_iters=5000,\n",
    "                                           bias=True, is_classifier=True, learning_rate=0.001,\n",
    "                                           early_stopping=True, clip_max=5, max_attempts=1000,\n",
    "                                           random_state=42,curve=True)\n",
    "\n",
    "# train model\n",
    "nn_model_gd.fit(X_train_hf, y_train_hf)"
   ]
  },
  {
   "cell_type": "code",
   "execution_count": 0,
   "metadata": {
    "application/vnd.databricks.v1+cell": {
     "inputWidgets": {},
     "nuid": "db3adb90-4b93-4bbc-b945-06a91e88cb25",
     "showTitle": false,
     "title": ""
    }
   },
   "outputs": [
    {
     "data": {
      "text/html": [
       "<style scoped>\n",
       "  .ansiout {\n",
       "    display: block;\n",
       "    unicode-bidi: embed;\n",
       "    white-space: pre-wrap;\n",
       "    word-wrap: break-word;\n",
       "    word-break: break-all;\n",
       "    font-family: \"Source Code Pro\", \"Menlo\", monospace;;\n",
       "    font-size: 13px;\n",
       "    color: #555;\n",
       "    margin-left: 4px;\n",
       "    line-height: 19px;\n",
       "  }\n",
       "</style>\n",
       "<div class=\"ansiout\">Model Evaluation Metrics for the Test Dataset\n",
       "*****************************************************\n",
       "F1 Score:  0.85\n",
       "Accuracy:  0.84     AUC:       0.84\n",
       "Precision: 0.87     Recall:    0.84\n",
       "*****************************************************\n",
       "</div>"
      ]
     },
     "metadata": {
      "application/vnd.databricks.v1+output": {
       "addedWidgets": {},
       "arguments": {},
       "data": "<div class=\"ansiout\">Model Evaluation Metrics for the Test Dataset\n*****************************************************\nF1 Score:  0.85\nAccuracy:  0.84     AUC:       0.84\nPrecision: 0.87     Recall:    0.84\n*****************************************************\n</div>",
       "datasetInfos": [],
       "metadata": {},
       "removedWidgets": [],
       "type": "html"
      }
     },
     "output_type": "display_data"
    }
   ],
   "source": [
    "# heart failure Data\n",
    "pred_test = nn_model_gd.predict(X_test_hf)\n",
    "\n",
    "auc = roc_auc_score(y_test_hf, pred_test)\n",
    "f1 = f1_score(y_test_hf, pred_test)\n",
    "accuracy = accuracy_score(y_test_hf, pred_test)\n",
    "precision = precision_score(y_test_hf, pred_test)\n",
    "recall = recall_score(y_test_hf, pred_test)\n",
    "\n",
    "print(\"Model Evaluation Metrics for the Test Dataset\")\n",
    "print(\"*****************************************************\")\n",
    "print(\"F1 Score:  \"+\"{:.2f}\".format(f1))\n",
    "print(\"Accuracy:  \"+\"{:.2f}\".format(accuracy)+\"     AUC:       \"+\"{:.2f}\".format(auc))\n",
    "print(\"Precision: \"+\"{:.2f}\".format(precision)+\"     Recall:    \"+\"{:.2f}\".format(recall))\n",
    "print(\"*****************************************************\")"
   ]
  },
  {
   "cell_type": "code",
   "execution_count": 0,
   "metadata": {
    "application/vnd.databricks.v1+cell": {
     "inputWidgets": {},
     "nuid": "117e01bc-967b-4647-9af6-821f07136d70",
     "showTitle": false,
     "title": ""
    }
   },
   "outputs": [
    {
     "data": {
      "text/html": [
       "<style scoped>\n",
       "  .ansiout {\n",
       "    display: block;\n",
       "    unicode-bidi: embed;\n",
       "    white-space: pre-wrap;\n",
       "    word-wrap: break-word;\n",
       "    word-break: break-all;\n",
       "    font-family: \"Source Code Pro\", \"Menlo\", monospace;;\n",
       "    font-size: 13px;\n",
       "    color: #555;\n",
       "    margin-left: 4px;\n",
       "    line-height: 19px;\n",
       "  }\n",
       "</style>\n",
       "<div class=\"ansiout\">(5000, 1)\n",
       "Out[83]: </div>"
      ]
     },
     "metadata": {
      "application/vnd.databricks.v1+output": {
       "addedWidgets": {},
       "arguments": {},
       "data": "<div class=\"ansiout\">(5000, 1)\nOut[83]: </div>",
       "datasetInfos": [],
       "metadata": {},
       "removedWidgets": [],
       "type": "html"
      }
     },
     "output_type": "display_data"
    },
    {
     "data": {
      "text/html": [
       "<div>\n",
       "<style scoped>\n",
       "    .dataframe tbody tr th:only-of-type {\n",
       "        vertical-align: middle;\n",
       "    }\n",
       "\n",
       "    .dataframe tbody tr th {\n",
       "        vertical-align: top;\n",
       "    }\n",
       "\n",
       "    .dataframe thead th {\n",
       "        text-align: right;\n",
       "    }\n",
       "</style>\n",
       "<table border=\"1\" class=\"dataframe\">\n",
       "  <thead>\n",
       "    <tr style=\"text-align: right;\">\n",
       "      <th></th>\n",
       "      <th>0</th>\n",
       "    </tr>\n",
       "  </thead>\n",
       "  <tbody>\n",
       "    <tr>\n",
       "      <th>0</th>\n",
       "      <td>-1.59</td>\n",
       "    </tr>\n",
       "    <tr>\n",
       "      <th>1</th>\n",
       "      <td>-6.56</td>\n",
       "    </tr>\n",
       "    <tr>\n",
       "      <th>2</th>\n",
       "      <td>-14.86</td>\n",
       "    </tr>\n",
       "    <tr>\n",
       "      <th>3</th>\n",
       "      <td>-4.55</td>\n",
       "    </tr>\n",
       "    <tr>\n",
       "      <th>4</th>\n",
       "      <td>-1.80</td>\n",
       "    </tr>\n",
       "  </tbody>\n",
       "</table>\n",
       "</div>"
      ]
     },
     "metadata": {
      "application/vnd.databricks.v1+output": {
       "addedWidgets": {},
       "arguments": {},
       "data": "<div>\n<style scoped>\n    .dataframe tbody tr th:only-of-type {\n        vertical-align: middle;\n    }\n\n    .dataframe tbody tr th {\n        vertical-align: top;\n    }\n\n    .dataframe thead th {\n        text-align: right;\n    }\n</style>\n<table border=\"1\" class=\"dataframe\">\n  <thead>\n    <tr style=\"text-align: right;\">\n      <th></th>\n      <th>0</th>\n    </tr>\n  </thead>\n  <tbody>\n    <tr>\n      <th>0</th>\n      <td>-1.59</td>\n    </tr>\n    <tr>\n      <th>1</th>\n      <td>-6.56</td>\n    </tr>\n    <tr>\n      <th>2</th>\n      <td>-14.86</td>\n    </tr>\n    <tr>\n      <th>3</th>\n      <td>-4.55</td>\n    </tr>\n    <tr>\n      <th>4</th>\n      <td>-1.80</td>\n    </tr>\n  </tbody>\n</table>\n</div>",
       "datasetInfos": [],
       "metadata": {},
       "removedWidgets": [],
       "textData": null,
       "type": "htmlSandbox"
      }
     },
     "output_type": "display_data"
    }
   ],
   "source": [
    "fitness_gd = pd.DataFrame(nn_model_gd.fitness_curve)\n",
    "# fitness_gd.columns = ['adjFitness', 'Fitness']\n",
    "\n",
    "print(fitness_gd.shape)\n",
    "fitness_gd.head()"
   ]
  },
  {
   "cell_type": "code",
   "execution_count": 0,
   "metadata": {
    "application/vnd.databricks.v1+cell": {
     "inputWidgets": {},
     "nuid": "948a1e13-3c00-41f9-8322-d8154c1b6f1c",
     "showTitle": true,
     "title": "ANN fitness"
    }
   },
   "outputs": [
    {
     "data": {
      "text/html": [
       "<style scoped>\n",
       "  .ansiout {\n",
       "    display: block;\n",
       "    unicode-bidi: embed;\n",
       "    white-space: pre-wrap;\n",
       "    word-wrap: break-word;\n",
       "    word-break: break-all;\n",
       "    font-family: \"Source Code Pro\", \"Menlo\", monospace;;\n",
       "    font-size: 13px;\n",
       "    color: #555;\n",
       "    margin-left: 4px;\n",
       "    line-height: 19px;\n",
       "  }\n",
       "</style>\n",
       "<div class=\"ansiout\">(5000, 7)\n",
       "Out[88]: </div>"
      ]
     },
     "metadata": {
      "application/vnd.databricks.v1+output": {
       "addedWidgets": {},
       "arguments": {},
       "data": "<div class=\"ansiout\">(5000, 7)\nOut[88]: </div>",
       "datasetInfos": [],
       "metadata": {},
       "removedWidgets": [],
       "type": "html"
      }
     },
     "output_type": "display_data"
    },
    {
     "data": {
      "text/html": [
       "<div>\n",
       "<style scoped>\n",
       "    .dataframe tbody tr th:only-of-type {\n",
       "        vertical-align: middle;\n",
       "    }\n",
       "\n",
       "    .dataframe tbody tr th {\n",
       "        vertical-align: top;\n",
       "    }\n",
       "\n",
       "    .dataframe thead th {\n",
       "        text-align: right;\n",
       "    }\n",
       "</style>\n",
       "<table border=\"1\" class=\"dataframe\">\n",
       "  <thead>\n",
       "    <tr style=\"text-align: right;\">\n",
       "      <th></th>\n",
       "      <th>0</th>\n",
       "      <th>1</th>\n",
       "      <th>0</th>\n",
       "      <th>1</th>\n",
       "      <th>0</th>\n",
       "      <th>1</th>\n",
       "      <th>0</th>\n",
       "    </tr>\n",
       "  </thead>\n",
       "  <tbody>\n",
       "    <tr>\n",
       "      <th>0</th>\n",
       "      <td>1.59</td>\n",
       "      <td>1.00</td>\n",
       "      <td>1.59</td>\n",
       "      <td>3.00</td>\n",
       "      <td>5.73</td>\n",
       "      <td>403.00</td>\n",
       "      <td>-1.59</td>\n",
       "    </tr>\n",
       "    <tr>\n",
       "      <th>1</th>\n",
       "      <td>1.59</td>\n",
       "      <td>2.00</td>\n",
       "      <td>1.59</td>\n",
       "      <td>5.00</td>\n",
       "      <td>5.73</td>\n",
       "      <td>604.00</td>\n",
       "      <td>-6.56</td>\n",
       "    </tr>\n",
       "    <tr>\n",
       "      <th>2</th>\n",
       "      <td>1.59</td>\n",
       "      <td>4.00</td>\n",
       "      <td>1.59</td>\n",
       "      <td>7.00</td>\n",
       "      <td>5.73</td>\n",
       "      <td>805.00</td>\n",
       "      <td>-14.86</td>\n",
       "    </tr>\n",
       "    <tr>\n",
       "      <th>3</th>\n",
       "      <td>1.59</td>\n",
       "      <td>5.00</td>\n",
       "      <td>1.59</td>\n",
       "      <td>9.00</td>\n",
       "      <td>5.73</td>\n",
       "      <td>1006.00</td>\n",
       "      <td>-4.55</td>\n",
       "    </tr>\n",
       "    <tr>\n",
       "      <th>4</th>\n",
       "      <td>1.59</td>\n",
       "      <td>6.00</td>\n",
       "      <td>1.60</td>\n",
       "      <td>11.00</td>\n",
       "      <td>5.02</td>\n",
       "      <td>1208.00</td>\n",
       "      <td>-1.80</td>\n",
       "    </tr>\n",
       "  </tbody>\n",
       "</table>\n",
       "</div>"
      ]
     },
     "metadata": {
      "application/vnd.databricks.v1+output": {
       "addedWidgets": {},
       "arguments": {},
       "data": "<div>\n<style scoped>\n    .dataframe tbody tr th:only-of-type {\n        vertical-align: middle;\n    }\n\n    .dataframe tbody tr th {\n        vertical-align: top;\n    }\n\n    .dataframe thead th {\n        text-align: right;\n    }\n</style>\n<table border=\"1\" class=\"dataframe\">\n  <thead>\n    <tr style=\"text-align: right;\">\n      <th></th>\n      <th>0</th>\n      <th>1</th>\n      <th>0</th>\n      <th>1</th>\n      <th>0</th>\n      <th>1</th>\n      <th>0</th>\n    </tr>\n  </thead>\n  <tbody>\n    <tr>\n      <th>0</th>\n      <td>1.59</td>\n      <td>1.00</td>\n      <td>1.59</td>\n      <td>3.00</td>\n      <td>5.73</td>\n      <td>403.00</td>\n      <td>-1.59</td>\n    </tr>\n    <tr>\n      <th>1</th>\n      <td>1.59</td>\n      <td>2.00</td>\n      <td>1.59</td>\n      <td>5.00</td>\n      <td>5.73</td>\n      <td>604.00</td>\n      <td>-6.56</td>\n    </tr>\n    <tr>\n      <th>2</th>\n      <td>1.59</td>\n      <td>4.00</td>\n      <td>1.59</td>\n      <td>7.00</td>\n      <td>5.73</td>\n      <td>805.00</td>\n      <td>-14.86</td>\n    </tr>\n    <tr>\n      <th>3</th>\n      <td>1.59</td>\n      <td>5.00</td>\n      <td>1.59</td>\n      <td>9.00</td>\n      <td>5.73</td>\n      <td>1006.00</td>\n      <td>-4.55</td>\n    </tr>\n    <tr>\n      <th>4</th>\n      <td>1.59</td>\n      <td>6.00</td>\n      <td>1.60</td>\n      <td>11.00</td>\n      <td>5.02</td>\n      <td>1208.00</td>\n      <td>-1.80</td>\n    </tr>\n  </tbody>\n</table>\n</div>",
       "datasetInfos": [],
       "metadata": {},
       "removedWidgets": [],
       "textData": null,
       "type": "htmlSandbox"
      }
     },
     "output_type": "display_data"
    }
   ],
   "source": [
    "# combine dataframes\n",
    "comb_ann = pd.concat([fitness_rhc, fitness_sa], axis=1)\n",
    "comb_ann = pd.concat([comb_ann, fitness_ga], axis=1) \n",
    "comb_ann = pd.concat([comb_ann, fitness_gd], axis=1)\n",
    "\n",
    "# save data\n",
    "comb_ann.to_csv('/dbfs/mnt/ml/eng/georgia_tech/machine_learning/HeartFailure-ANN-RO-Algorithms-Curves.csv')\n",
    "\n",
    "print(comb_ann.shape)\n",
    "comb_ann.head()"
   ]
  },
  {
   "cell_type": "code",
   "execution_count": 0,
   "metadata": {
    "application/vnd.databricks.v1+cell": {
     "inputWidgets": {},
     "nuid": "fa802e88-458b-40c6-883b-ac269d26634a",
     "showTitle": true,
     "title": "ANN weights"
    }
   },
   "outputs": [
    {
     "data": {
      "text/html": [
       "<style scoped>\n",
       "  .ansiout {\n",
       "    display: block;\n",
       "    unicode-bidi: embed;\n",
       "    white-space: pre-wrap;\n",
       "    word-wrap: break-word;\n",
       "    word-break: break-all;\n",
       "    font-family: \"Source Code Pro\", \"Menlo\", monospace;;\n",
       "    font-size: 13px;\n",
       "    color: #555;\n",
       "    margin-left: 4px;\n",
       "    line-height: 19px;\n",
       "  }\n",
       "</style>\n",
       "<div class=\"ansiout\">(4400, 4)\n",
       "Out[89]: </div>"
      ]
     },
     "metadata": {
      "application/vnd.databricks.v1+output": {
       "addedWidgets": {},
       "arguments": {},
       "data": "<div class=\"ansiout\">(4400, 4)\nOut[89]: </div>",
       "datasetInfos": [],
       "metadata": {},
       "removedWidgets": [],
       "type": "html"
      }
     },
     "output_type": "display_data"
    },
    {
     "data": {
      "text/html": [
       "<div>\n",
       "<style scoped>\n",
       "    .dataframe tbody tr th:only-of-type {\n",
       "        vertical-align: middle;\n",
       "    }\n",
       "\n",
       "    .dataframe tbody tr th {\n",
       "        vertical-align: top;\n",
       "    }\n",
       "\n",
       "    .dataframe thead th {\n",
       "        text-align: right;\n",
       "    }\n",
       "</style>\n",
       "<table border=\"1\" class=\"dataframe\">\n",
       "  <thead>\n",
       "    <tr style=\"text-align: right;\">\n",
       "      <th></th>\n",
       "      <th>0</th>\n",
       "      <th>0</th>\n",
       "      <th>0</th>\n",
       "      <th>0</th>\n",
       "    </tr>\n",
       "  </thead>\n",
       "  <tbody>\n",
       "    <tr>\n",
       "      <th>0</th>\n",
       "      <td>-0.25</td>\n",
       "      <td>-0.35</td>\n",
       "      <td>-1.29</td>\n",
       "      <td>-0.06</td>\n",
       "    </tr>\n",
       "    <tr>\n",
       "      <th>1</th>\n",
       "      <td>0.90</td>\n",
       "      <td>0.90</td>\n",
       "      <td>-4.43</td>\n",
       "      <td>0.24</td>\n",
       "    </tr>\n",
       "    <tr>\n",
       "      <th>2</th>\n",
       "      <td>0.46</td>\n",
       "      <td>0.36</td>\n",
       "      <td>-0.24</td>\n",
       "      <td>0.15</td>\n",
       "    </tr>\n",
       "    <tr>\n",
       "      <th>3</th>\n",
       "      <td>0.20</td>\n",
       "      <td>0.30</td>\n",
       "      <td>-2.09</td>\n",
       "      <td>0.18</td>\n",
       "    </tr>\n",
       "    <tr>\n",
       "      <th>4</th>\n",
       "      <td>-0.49</td>\n",
       "      <td>-0.49</td>\n",
       "      <td>1.31</td>\n",
       "      <td>-0.68</td>\n",
       "    </tr>\n",
       "  </tbody>\n",
       "</table>\n",
       "</div>"
      ]
     },
     "metadata": {
      "application/vnd.databricks.v1+output": {
       "addedWidgets": {},
       "arguments": {},
       "data": "<div>\n<style scoped>\n    .dataframe tbody tr th:only-of-type {\n        vertical-align: middle;\n    }\n\n    .dataframe tbody tr th {\n        vertical-align: top;\n    }\n\n    .dataframe thead th {\n        text-align: right;\n    }\n</style>\n<table border=\"1\" class=\"dataframe\">\n  <thead>\n    <tr style=\"text-align: right;\">\n      <th></th>\n      <th>0</th>\n      <th>0</th>\n      <th>0</th>\n      <th>0</th>\n    </tr>\n  </thead>\n  <tbody>\n    <tr>\n      <th>0</th>\n      <td>-0.25</td>\n      <td>-0.35</td>\n      <td>-1.29</td>\n      <td>-0.06</td>\n    </tr>\n    <tr>\n      <th>1</th>\n      <td>0.90</td>\n      <td>0.90</td>\n      <td>-4.43</td>\n      <td>0.24</td>\n    </tr>\n    <tr>\n      <th>2</th>\n      <td>0.46</td>\n      <td>0.36</td>\n      <td>-0.24</td>\n      <td>0.15</td>\n    </tr>\n    <tr>\n      <th>3</th>\n      <td>0.20</td>\n      <td>0.30</td>\n      <td>-2.09</td>\n      <td>0.18</td>\n    </tr>\n    <tr>\n      <th>4</th>\n      <td>-0.49</td>\n      <td>-0.49</td>\n      <td>1.31</td>\n      <td>-0.68</td>\n    </tr>\n  </tbody>\n</table>\n</div>",
       "datasetInfos": [],
       "metadata": {},
       "removedWidgets": [],
       "textData": null,
       "type": "htmlSandbox"
      }
     },
     "output_type": "display_data"
    }
   ],
   "source": [
    "wt_rhc = pd.DataFrame(nn_model_rhc.fitted_weights)\n",
    "wt_sa = pd.DataFrame(nn_model_sa.fitted_weights)\n",
    "wt_ga = pd.DataFrame(nn_model_ga.fitted_weights)\n",
    "wt_gd = pd.DataFrame(nn_model_gd.fitted_weights)\n",
    "\n",
    "# combine dataframes\n",
    "wt_ann = pd.concat([wt_rhc, wt_sa], axis=1)\n",
    "wt_ann = pd.concat([wt_ann, wt_ga], axis=1) \n",
    "wt_ann = pd.concat([wt_ann, wt_gd], axis=1)\n",
    "\n",
    "# save data\n",
    "wt_ann.to_csv('/dbfs/mnt/ml/eng/georgia_tech/machine_learning/HeartFailure-ANN-Weights.csv')\n",
    "\n",
    "print(wt_ann.shape)\n",
    "wt_ann.head()"
   ]
  },
  {
   "cell_type": "code",
   "execution_count": 0,
   "metadata": {
    "application/vnd.databricks.v1+cell": {
     "inputWidgets": {},
     "nuid": "ef3e8422-7aba-4107-b64c-a0a0ea4bfc2b",
     "showTitle": false,
     "title": ""
    }
   },
   "outputs": [
    {
     "data": {
      "text/html": [
       "<style scoped>\n",
       "  .ansiout {\n",
       "    display: block;\n",
       "    unicode-bidi: embed;\n",
       "    white-space: pre-wrap;\n",
       "    word-wrap: break-word;\n",
       "    word-break: break-all;\n",
       "    font-family: \"Source Code Pro\", \"Menlo\", monospace;;\n",
       "    font-size: 13px;\n",
       "    color: #555;\n",
       "    margin-left: 4px;\n",
       "    line-height: 19px;\n",
       "  }\n",
       "</style>\n",
       "<div class=\"ansiout\">(5000, 4)\n",
       "Out[12]: </div>"
      ]
     },
     "metadata": {
      "application/vnd.databricks.v1+output": {
       "addedWidgets": {},
       "arguments": {},
       "data": "<div class=\"ansiout\">(5000, 4)\nOut[12]: </div>",
       "datasetInfos": [],
       "metadata": {},
       "removedWidgets": [],
       "type": "html"
      }
     },
     "output_type": "display_data"
    },
    {
     "data": {
      "text/html": [
       "<div>\n",
       "<style scoped>\n",
       "    .dataframe tbody tr th:only-of-type {\n",
       "        vertical-align: middle;\n",
       "    }\n",
       "\n",
       "    .dataframe tbody tr th {\n",
       "        vertical-align: top;\n",
       "    }\n",
       "\n",
       "    .dataframe thead th {\n",
       "        text-align: right;\n",
       "    }\n",
       "</style>\n",
       "<table border=\"1\" class=\"dataframe\">\n",
       "  <thead>\n",
       "    <tr style=\"text-align: right;\">\n",
       "      <th></th>\n",
       "      <th>RHC</th>\n",
       "      <th>SA</th>\n",
       "      <th>GA</th>\n",
       "      <th>GD</th>\n",
       "    </tr>\n",
       "  </thead>\n",
       "  <tbody>\n",
       "    <tr>\n",
       "      <th>0</th>\n",
       "      <td>1.594676</td>\n",
       "      <td>1.594676</td>\n",
       "      <td>5.726552</td>\n",
       "      <td>-1.594676</td>\n",
       "    </tr>\n",
       "    <tr>\n",
       "      <th>1</th>\n",
       "      <td>1.594676</td>\n",
       "      <td>1.593363</td>\n",
       "      <td>5.726552</td>\n",
       "      <td>-6.557518</td>\n",
       "    </tr>\n",
       "    <tr>\n",
       "      <th>2</th>\n",
       "      <td>1.593363</td>\n",
       "      <td>1.593607</td>\n",
       "      <td>5.726552</td>\n",
       "      <td>-14.856717</td>\n",
       "    </tr>\n",
       "    <tr>\n",
       "      <th>3</th>\n",
       "      <td>1.593363</td>\n",
       "      <td>1.591643</td>\n",
       "      <td>5.726552</td>\n",
       "      <td>-4.554361</td>\n",
       "    </tr>\n",
       "    <tr>\n",
       "      <th>4</th>\n",
       "      <td>1.593363</td>\n",
       "      <td>1.597390</td>\n",
       "      <td>5.019923</td>\n",
       "      <td>-1.799126</td>\n",
       "    </tr>\n",
       "  </tbody>\n",
       "</table>\n",
       "</div>"
      ]
     },
     "metadata": {
      "application/vnd.databricks.v1+output": {
       "addedWidgets": {},
       "arguments": {},
       "data": "<div>\n<style scoped>\n    .dataframe tbody tr th:only-of-type {\n        vertical-align: middle;\n    }\n\n    .dataframe tbody tr th {\n        vertical-align: top;\n    }\n\n    .dataframe thead th {\n        text-align: right;\n    }\n</style>\n<table border=\"1\" class=\"dataframe\">\n  <thead>\n    <tr style=\"text-align: right;\">\n      <th></th>\n      <th>RHC</th>\n      <th>SA</th>\n      <th>GA</th>\n      <th>GD</th>\n    </tr>\n  </thead>\n  <tbody>\n    <tr>\n      <th>0</th>\n      <td>1.594676</td>\n      <td>1.594676</td>\n      <td>5.726552</td>\n      <td>-1.594676</td>\n    </tr>\n    <tr>\n      <th>1</th>\n      <td>1.594676</td>\n      <td>1.593363</td>\n      <td>5.726552</td>\n      <td>-6.557518</td>\n    </tr>\n    <tr>\n      <th>2</th>\n      <td>1.593363</td>\n      <td>1.593607</td>\n      <td>5.726552</td>\n      <td>-14.856717</td>\n    </tr>\n    <tr>\n      <th>3</th>\n      <td>1.593363</td>\n      <td>1.591643</td>\n      <td>5.726552</td>\n      <td>-4.554361</td>\n    </tr>\n    <tr>\n      <th>4</th>\n      <td>1.593363</td>\n      <td>1.597390</td>\n      <td>5.019923</td>\n      <td>-1.799126</td>\n    </tr>\n  </tbody>\n</table>\n</div>",
       "datasetInfos": [],
       "metadata": {},
       "removedWidgets": [],
       "textData": null,
       "type": "htmlSandbox"
      }
     },
     "output_type": "display_data"
    }
   ],
   "source": [
    "comb_ann = pd.read_csv('/dbfs/mnt/ml/eng/georgia_tech/machine_learning/HeartFailure-ANN-RO-Algorithms-Curves.csv')\n",
    "comb_ann = comb_ann.drop(columns=['Unnamed: 0'])\n",
    "comb_ann = comb_ann[['0', '0.1', '0.2', '0.3']]\n",
    "comb_ann.columns = ['RHC', 'SA', 'GA', 'GD']\n",
    "comb_ann['GA'] = comb_ann['GA'].fillna(comb_ann['GA'].min())\n",
    "\n",
    "print(comb_ann.shape)\n",
    "comb_ann.head()"
   ]
  },
  {
   "cell_type": "code",
   "execution_count": 0,
   "metadata": {
    "application/vnd.databricks.v1+cell": {
     "inputWidgets": {},
     "nuid": "7204b941-7c84-45a8-8282-5e4e0c0cd5c9",
     "showTitle": false,
     "title": ""
    }
   },
   "outputs": [
    {
     "data": {
      "image/png": "[encoded data removed]"
     },
     "metadata": {
      "application/vnd.databricks.v1+output": {
       "addedWidgets": {},
       "arguments": {},
       "data": "data:image/png;base64,iVBORw0KGgoAAAANSUhEUgAAAagAAAFgCAYAAADuCe0ZAAAAOXRFWHRTb2Z0d2FyZQBNYXRwbG90bGliIHZlcnNpb24zLjQuMiwgaHR0cHM6Ly9tYXRwbG90bGliLm9yZy8rg+JYAAAACXBIWXMAAAsTAAALEwEAmpwYAABUsklEQVR4nO3dd3iUVfrw8e8zfdJIB0Ji6IHQOyxiQLCCYAXFgi+2VeysbV0EK7iuXX+ClV3FlWIXXQEVUZqIonRQIPQQEtIz/bx/DBkyTBImIX3uz3XlgjlPu+cwzJ1znvOcoymlFEIIIUQjo2voAIQQQoiKSIISQgjRKEmCEkII0ShJghJCCNEoSYISQgjRKEmCEkII0ShJghIAzJgxA03T6v26y5cvR9M0li9fXu/XDmVz585F0zT27NnjK5sxYwbffvttg8W0Z88eZsyYwa5duwK2tW3bluuvv77+gxINShKUECFo9OjRrF69mtatW/vKHn300QZPUI8++miFCerjjz9m2rRpDRCVaEiGhg5AiFDidrtRSmEwNOx/vYSEBBISEur8Ona7HbPZfNrn6dOnTy1EI5oaaUGJShUUFHD77beTlJSE2WwmLS2N559/npMnH/nll18YNmwYVquVlJQUnnrqKaZPn17jLkOlFM8//zxpaWmYTCZat27N7bffTkFBgd9+L774Il27dsVqtRITE0P//v35+OOPfdu//vpr/vKXv9CiRQsiIiJIS0vjscceq/S669atQ9M0Pvvss4Btt912GwkJCTidTl/Z66+/Tq9evbBYLMTHx3PDDTeQm5vrd5ymaTz88MPMmjWLdu3aYTKZ2LhxI0VFRdxxxx2cccYZmM1mEhMTGTVqFNu2bQO8rQlN05g7d67f+SrqEq3u+4TALr6yf6snn3wSTdPQNI0ZM2b49v/+++8ZOXIkkZGRhIeHc95557Fp0ya/cw4fPpwzzzyTzz//nD59+mA2m/m///s/AF555RWGDBlCbGws0dHRDB48mMWLF/u9rxEjRgBwzjnn+GIoe58VdfH99NNPjBo1ioiICMLDwxk5ciQ//fST3z7XX389ycnJ/PrrrwwbNoywsDA6derE7Nmz/fY7fPgwkyZN8n3WW7duzZgxYzhy5EiV9SjqlrSgRIU8Hg+jR4/ml19+4bHHHqNHjx4sXryYe++9l+zsbJ566ikAjh49ysiRI0lKSuLf//43JpOJ559/3u/eRnU9/PDDzJw5kylTpnDRRRexZcsWpk2bxm+//cb333+PTqdj3rx5TJ06lUceeYRhw4ZRWlrK77//7ksQu3btYuzYsVx++eU88sgjmEwmdu7cWWH3UZkBAwaQlpbGe++9x9ixY33lDoeD+fPnM3HiRIxGIwAPPvggzz77LHfeeSfPPPMMBw4c4B//+AebNm1i1apV6PV63/Fz586lffv2/Otf/yI8PJykpCTuuecePvvsM5566ik6depETk4OK1euJC8vr1p1VZP3WZHVq1czZMgQrr/+em655RYAkpOTAVi8eDHjxo1j9OjRvPfeewA8/fTTDBs2jN9//52UlBTfeXbs2MGdd97JtGnTaN++PbGxsYA34d544420bdsWl8vF559/zpgxY/jqq684//zz6du3L6+++ipTpkzhpZdeYsCAAQCkp6dXGO/vv/9ORkYG6enpvmQ7a9YsMjIyWLNmDb169fLtW1BQwMSJE7n77rt55JFHeOedd7j11ltJS0vzJcVrr72WzMxMnnnmGVJSUsjKyuKbb76hpKSkWvUoapkSQik1ffp0Vf7j8PnnnytAvfPOO3773XDDDcpkMqns7GyllFIPPfSQMplMat++fb59SkpKVGJiogrm4/Xdd98pQH333XdKKaVycnKUyWRSkyZN8tvv3XffVYD69NNPlVJKTZkyRfXp06fS8y5cuFABKj8//5QxlPfEE08oi8Wi8vLyfGUff/yxAtTatWuVUkrt3r1b6XQ69eijj/od++OPPypAffzxx74yQLVu3VqVlJT47dutWzd1zz33VBrH7t27K6z/k+urpu/znXfeUYDavXu3X6wPP/xwwL4dOnRQZ599tl9Zfn6+iouLU3fddZevLCMjQ2mapn799dcqr+12u5XT6VTnnHOOGjt2bMB7W7p0acAxqampfp+Jyy67TLVo0UIdO3bML6aYmBh1ySWX+MomTZqkAPXtt9/6ymw2m4qNjVU33XSTryw8PFy9+OKLVcYt6p908YkKrVixAp1Ox8SJE/3Kr7nmGhwOB6tXrwZgzZo1DB482PfbNoDVamX06NF+x7ndblwul+/H4/FUeN01a9bgcDi45ppr/MqvvPJKDAYD33//PeBt7WzYsIE77riDZcuWBfym27t3b4xGI1deeSWLFi0KuqvmmmuuwW63s3DhQl/Zu+++S1paGgMHDgRg6dKleDwerr76ar/3NGjQICIjI1mxYoXfOc8//3ysVqtf2YABA5g7dy5PPfUUP//8M263O6j4TlbT9xmsnTt38ueffwa817CwMIYMGRLwXtu2bUvv3r0DzrN+/XrGjBlDy5YtMRgMGI1Gli5dyvbt22sU14oVKxgzZgzR0dG+sqioKMaOHev7jJQJCwvztZQAzGYznTt3Zu/evb6yAQMG8Mwzz/Diiy+ycePGgG5s0TAkQYkK5ebmEhsbi8lk8itv1aqVbzvAoUOHSExMDDi+ZcuWfq9HjhyJ0Wj0/VR2j6TsvOVHlwEYDAbi4uJ826+77jpee+011q5dy3nnnUdsbCyXXnqpr2uxY8eOfP3113g8Hq699lpatWrF4MGDA768TpaamspZZ53Fu+++C0BeXh6LFy/m2muv9e1TlgQ6duzo956MRiOFhYXk5OT4nfPk9wLw8ssvc8stt/D2228zYMAAEhMTueeee6rdpVTT9xmssvd6ww03BLzXL774Iqj3um/fPkaOHElubi4vv/wyq1atYt26dZx//vnYbLYaxZWbm1vhtVq1asWxY8f8ymJiYgL2M5vNfteeP38+Y8eO5Z///Cc9e/akTZs2PPbYY5X+IiXqh9yDEhWKjY0lNzcXh8Phl6QOHz7s2w7eL6SKfmvPysryez1nzhwKCwt9r5OSkiq9btl1unXr5it3uVzk5OT4tmuaxi233MItt9zCsWPHWLJkCVOnTmXChAmsXbsWgBEjRjBixAjsdjsrV67kkUceYfTo0ezZs4f4+PhK3/u1117LTTfdRGZmJl9//XVAiy4uLg6AJUuWVPjlV7a9TEWDRSIiIpg5cyYzZ84kMzOTRYsW8eCDD2IymXj66aexWCyA9/5XeScnhNN5n8Eoey8zZ85k1KhRAdtP/gWmovf6v//9j/z8fBYsWODX0j6d+zuxsbG+z2J5hw8frvDf5FQSExN59dVXefXVV9m+fTv//ve/mT59OgkJCdx66601jlOcHmlBiQplZGTg8Xj8uroA5s2bh8lkYsiQIQAMHjyY1atXs3//ft8+paWlfiO0ANLS0ujfv7/vp7IENXjwYEwmEx988IFf+fz583G5XAwfPjzgmJiYGCZMmMD48eMDRpaB97fls88+m/vvv5/i4mJ2795d5Xu/4oorMJvNzJs3j3fffZdhw4aRmprq237OOeeg0+nYu3ev33sq+2nXrl2V5z9ZamoqU6dOpUePHr74W7ZsidlsDng/J9fr6bzPk5lMJkpLS/3K0tLSaNu2LZs3b67wvfbs2fOU5y1LRGUDTMA7mGLlypUB8QMBMVQkIyODL7/80u+XnsLCQj7//PMKPyPVkZaWxlNPPUVMTEyFnydRf6QFJSp0wQUXcOaZZ/LXv/6V7OxsunXrxpdffsmbb77JQw895PvN/N577+W1117jvPPOY/r06ZjNZp577jnMZnONhpnHxsYydepUZs6cSXh4OBdeeCFbt27lH//4B2eeeabv3tbNN99MZGQkQ4YMITExkR07dvDuu+9y7rnnAjB79mxWrFjBhRdeSEpKCkePHmXmzJkkJSXRvXv3KmOIiopi3LhxvPrqqxw6dIg33njDb3uHDh144IEHuP3229m+fTsZGRlYLBb27dvH0qVLufHGG/3ueVRkyJAhjB07lh49ehAREcH333/Pb7/9xqRJkwBvS2TChAm89dZbdO7cmbS0NBYvXhww48bpvM+Tpaens3jxYs4//3xiYmJISkoiKSmJV199lXHjxuFwOBg/fjzx8fFkZWWxatUqzjjjDO69994qzztq1CgMBgPXXXcdU6dO5dChQ0yfPp0zzjjDrwutc+fOGAwG3n77bWJjY32PNkRGRgacc9q0aXzxxReMHDmSBx54AE3TePrppykpKeGRRx6p1vvOz89n1KhRXH311XTp0gWj0cinn37KsWPHfJ8n0UAaepSGaBxOHsWnlHdU1JQpU1SrVq2U0WhUnTp1Us8995zyeDx++61fv14NHTpUmc1mlZSUpB577DF15513qujo6FNe9+RRaUop5fF41HPPPac6d+6sjEajatWqlbrtttv8RqrNnTtXZWRkqISEBGUymVTbtm3V3Xff7dtn1apVauzYsSo5OVmZTCbVqlUrdfnll6tt27YFVR9ffPGFAgJG9JX3n//8Rw0aNEiFhYWp8PBw1aVLFzVlyhS/EY1UMjLu/vvvV71791ZRUVEqLCxMde/ePWAU2bFjx9Q111yj4uLiVExMjLrlllt8cZXVV03fZ0Wj+H788UfVt29fZTabFaCmT5/u27Zq1So1evRoFR0drcxms0pNTVUTJkxQq1at8u2TkZGhhg4dWuH15s+fr9LS0pTZbFbp6enqv//9r5o0aZJKTU3122/27NmqXbt2Sq/X+73Pk0fxKaXUmjVr1MiRI1V4eLgKCwtTZ599tm+kZZlJkyapNm3aBMSTkZGhMjIylFLeUX0333yzSk9PV+Hh4SoyMlL1799fzZs3r8o6FHVPU0qGq4ja5Xa76du3L/Hx8XzzzTcNHY4QoomSLj5x2qZNm0bHjh1JTU0lJyeHN998k99//50vv/yyoUMTQjRhkqDEadM0jccee4yDBw+iaRo9e/bkk08+4YILLmjo0IQQTZh08QkhhGiUZJi5EEKIRkkSlBBCiEapydyDOnjw4GkdHx8fz9GjR2spmqZP6iOQ1EkgqRN/Uh+BaqNOKntwX1pQQgghGiVJUEIIIRolSVBCCCEaJUlQQgghGqUmM0hCCCGaGpvNhtvtrtHEyU1FVlYWdru90u1lj9paLBb0en21zi0JSggh6oDT6QQgPDy8gSOpWwaD4ZSJRylFcXExVqu1WklKuviEEKIOOBwO3xpXoU7TNMLDw6u9grIkKCGEqCPNuWuvumpSF5KghBCiDkhyClTdOmn296AK8tyUFHsw6BwNHYoQQohqaPYJat9uB7t22FlHMX0GhZHc1tTQIQkhhAhCs+/iO5bj8v0965CzASMRQojGYdCgQXTo0IFOnTrRu3dv7r77boqLiwG4++67efrpp/3237dvH23atMHlOvF9+uuvv3LttdfSqVMnunXrxujRo5k/f36txtnsE5TBWK7PU1a+EkIIAN555x127tzJkiVL2LRpEy+//HLQx/7888+MHz+ewYMHs2bNGjZt2sTMmTP59ttvazXGZp+gUtqd6NKT/CSEEP4SExMZPnw4mzdvDvqYJ554giuuuIIpU6YQFxfnW0l7zpw5tRpbs78H5TdmRDKUEKKBuG8aW2/X0r/xWdD7Hjx4kO+++46hQ4cGtX9paSnr16/nvvvuq2l4QWv2CQoZ6SmEEAFuuOEGNE2juLiYoUOHMnXqVN+2OXPmMHfuXN9rj8fj+3teXh4ej4eWLVvWeYzNvouvPCUtKCGEAOCtt95ix44dLFq0iD///JPc3FzftltuuYWtW7f6fpYtW+bbFh0djU6nIysrq85jbPYtKHlWTgjRGFSn260+DRkyhCuuuILHH3+ct99++5T7W61W+vXrx5dffhl0t2BNhVYLSm5CCSFEgJtuuokVK1YEPVDi4YcfZsGCBbz22mu+ltfmzZu59dZbazWukEpQkp+EECJQXFwcl19+OS+88EJQ+w8YMIAFCxawcuVKBg4cSLdu3XjggQc4++yzazWuEOjikz4+IYQob+3atQFls2bNqnT/lJQUDhw44FfWp08f3nvvPQwGg98DvLUptFpQQgghmoyQSlAyik8IIZqOZp+gpIdPCCGapmafoIQQQjRNIZWgpItPCCGajuafoKSLTwghmqRmn6AkPwkhRNPU7BNUedLFJ4QQTUfzT1DShBJCiCap2ScoyU9CCBHop59+YuzYsXTp0oVu3boxbtw4NmzY4NteXFxMp06duOaaaxosxmY/1ZEf6eITQggKCwuZNGkSM2fO5KKLLsLhcPDTTz9hMp1YgXzx4sWYTCZWrFjBkSNHSExMrPc4m30LqnwTSvKTEELArl27ALj44ovR6/VYrVYyMjJIT0/37bNw4UKuvfZaunbtykcffdQgcTb7FpR08QkhGoNx87bV27U+vbpLldvbt2+PTqfjrrvuYty4cfTt25fo6Gjf9v3797N69WqefPJJoqOjWbRoEX/961/rOOpAzb8FVZ4M4xNCCCIjI/nkk0/QNI377ruPnj17cv3115OdnQ3AokWL6Nq1K507d2bcuHFs376dTZs21XuczT9BSRefEEIE6NSpEy+88ALr16/n22+/JSsri+nTpwPeBHXppZcC0Lp1awYPHsyCBQvqPcZm38UnnXxCiMbgVN1uDaljx46MHz+e9957j3Xr1rF7925eeeUV5syZA0BRURHbt2/nkUcewWCov7TR7FtQfulJmlBCCMEff/zB7NmzOXjwIAAHDhzgk08+oW/fvixcuJCzzjqL7777jiVLlrBkyRK+/fZbbDYb3377bb3G2fxbUOW7+CRBCSEE4eHh/Prrr7zxxhvk5+fTokULRo4cybRp0xg0aBAvvPBCwLDyyy67jIULF3LuuefWW5zNPkFJB58QQvhr3bq1r/vuZFu2bKmwfObMmXUZUoWafRefZCghhGiamn+CKke6+IQQoumo9y6+GTNmsHPnTnQ6b26MjY3lxRdfrLPrSQNKCCGapga5BzV58mRGjhxZPxcrl6Hyct14PAqdTtKWEEI0ds2+i087KRcdOeRqmECEEEJUS4O0oN5//33ef/99kpKSuPLKK+nWrVudXatFtN7vta3EU2fXEkIIUXs0pep36MDOnTtJTk7GYDCwcuVK3n77bf75z3/SqlUrv/2WLVvGsmXLAJg1axYOh6PG11y1/AjbNxcAMGhYPOk9o2t8rubCYDDgcklrsjypk0BSJ/6qUx9ZWVmYzeY6jqhpsdvttGzZMqC8/DIf5dV7gjrZk08+Sd++fbnggguq3K/sieea2PRLCbt3ehNctz5W2neWD018fDxHjx5t6DAaFamTQFIn/qpTHyUlJYSFhdVxRA2vOkm7sjpJSkqqcP8GvwelaRr1miNlrLkQQjQJ9ZqgiouL2bBhAw6HA7fbzQ8//MDWrVvp3bt3nV5XKzdSQtKTEEJ4ffrpp4wZM4aOHTvSs2dPxowZw9y5c/0aDc8++yxt2rThl19+qff46nWQhNvtZv78+Rw4cACdTkebNm247777Km3e1ZryI/kkQwkhBLNnz+a1117jySefZPjw4YSHh7N582Zmz57NVVddhdlsRinFokWLfIsW9u3bt15jrNcEFRUV1SDzOWkyYawQQvgUFBTwr3/9ixdffJHRo0f7yrt3784rr7zie7127VqOHDnCM888w7Rp05gxY0alAxrqQrOfLPZkkp+EEA3h8/l59XatiyZEV7l9/fr1OBwOzjvvvCr3W7hwIaNGjeKiiy5i2rRpLF261C+h1bUGHyRRHzTp4hNCCJ/c3FxiY2P9Fh8cO3YsXbt2pUOHDqxZs4bS0lK++OILLrnkEoxGI6NHj2bRokX1GmdIJKjyJD8JIUJdTEwMubm5fsPDP/vsM7Zu3Up0dDQej4evvvoKg8HA2WefDcCll17Kd999R05OTr3FGRJdfNKCEkI0tFN1u9Wnfv36YTKZ+Prrryvtslu4cCHFxcUMHDgQAKUUTqeTjz/+mBtvvLFe4gy5BCWDJIQQoa5Fixbce++9/P3vf0cpxfDhwwkLC2PLli2UlpZy+PBhfvzxR9577z26du3qO+7NN99k0aJFkqBqlzShhBCivNtuu41WrVrx2muvcddddxEWFkZqaip///vfyczMpFu3bmRkZPgdM3nyZObMmcO2bdvo0qVLnccYEglKWlBCCBHo0ksv5dJLL61w2z333BNQ1qpVKzIzM+s6LJ/QGCQhCUoIIZqckEhQsjyhEEI0PaGRoMplqIN7nQ0XiBBCiKCFXIIqKfZQUiyLFgohRGMXEgkqvqXR7/W230txOuRmlBCi7jTwUnuNUnXrJCQSVIsYPXEJJxYpPLDXyfrVxQ0YkRCiudPpdLIa8XFKKWw2G3q9vlrHhcQwc4C2HSPIybb7XucckQ+OEKLuWCwWbDYbdrvdb0265sZsNmO32yvdXtZqMplMGI3GSverSMgkqPQeLbDbS9j0SykAHg9s/b3Ud3/KbNGRnGrEaAqJRqUQoo5pmobVam3oMOpcfHw8R48erZNzh0yCMhh1tOtkZtvvpZS1uv/Y6p/183Pd9B4U1gDRCSGEOFnINRdi4ivPyTlHXdhtMsJPCCEag5BpQZXpOziMA3udvlF8Lpfiz23ellRJkYclnxaQ0s5E74HSkhJCiIYUcgnKZPZ29ZVxuxS7d9rxuE/ss2+3A7vNQ9uOZlomVe+mnhBCiNoRcgnqZHqDRvc+Vv7cbqe48ET33pFDLo4ccmEJ07BadVisOtJ6WIiMqt4wSSGEEDUT8gkKILWDmdQOZrb8Vurr7itjK1HYStyAGzTo/5fwhglSCCFCjCSocrr2sJDYysCuHXayDgY+J1VSJAMohBCivkiCKkfTacS3NBLf0khpicf388vqEgAK8t18s7gADdB00KNfGPGJUoVCCFEXQm6YebCsYTpi4w3EJZxIQMrjbUUVF3koKvCwZUNpA0YohBDNmySoU7BYdSSlVDySr6jQXWG5EEKI0yf9U0Ho95dw0ks8eDwKtwu+/7oQkNV5hRCiLkmCCpI1zNvY9HhOZCUlYyaEEKLOSBdfNZWflFgpWfNFCCHqiiSoatI0DU5KUkIIIWqfJKga0JVPUNLNJ4QQdUISVA1o5Wrtt59L2LHZhtMhmUoIIWqTDJKoAZ2m4cbbt3cg0wk4cbsUXXs1/8XJhBCivkiCqoH4lgYO7Xf6lWVnuYg54KzkiNqjaRCXaMBgaL5LSAshBNQgQdlsNgoLC4mJicFgCM381mdwGG0OOcnLdftW5c0/5mbdj8X1cv3wCB3DL4hEp5MkJYRovoLOMOvXr2fBggXs2bMHTdN46qmnaN++PbNnz6Z79+6ceeaZdRlno6LXa7RONhEb7+HP7fZ6HyhRXOTh4F4nYRH+txDNFo3wCFkORAjRPASVoH766SeeffZZevTowdVXX828efN82xITE/n+++9DKkGVMVt09B0cxsG9Tr8HeOtK7lG3byXgX9eWVLhPei8LHbpY6jwWIYSoa0ElqEWLFjFixAj++te/4na7/RJUSkoKX3/9dZ0F2NglpZhISjHVy7U2rC1h3x5Hlfvsz3RKghJCNAtBJagDBw5wzTXXAMcfVC0nPDycoqKi2o9MBOjczYzHoygp9u9T9Hi898AACvLc/LKmmPadzUTHhuY9QiFE8xDUN5jVaqWgoKDCbdnZ2URFRVX7wocOHeJvf/sbgwYN4s4776z28aEoLEJP3yGBK/ra7R6WfHLi3+dAppPCfA8Z50XWZ3hCCFGrgnpQt2fPnnzyyScUF58YpaZpGk6nk//973/07t272hd+66236NChQ7WPE4FMJo3YeP/BEcVFshSIEKJpCypBXXnlleTl5XH33Xcze/ZsAD755BPuv/9+cnNzueKKK6p10ZUrVxIWFkb37t2rH7EIoGkaQ0ZEMOisE60rj+QnIUQTp6kgp+POyclhwYIF/Pbbb+Tn5xMZGUnv3r0ZP3488fHxQV+wpKSEhx56iEceeYRvvvmGw4cPV9jFt2zZMpYtWwbArFmzcDiqHhxwKgaDAZfLdVrnaOyUUvz7tT99E9i2amOlsielNE2r3kzsGqS0Dadbr+jTDbPRCoXPSHVJnfiT+ghUG3ViMlU80OyU96BcLhdLliyhe/fu3HrrracVBMD8+fMZMWIEcXFxVe43atQoRo0a5Xt99OjR07pufHz8aZ+jKdDroeyzcvhA7S5Jf2h/KWarrdkOvgiVz0h1SJ34k/oIVBt1kpSUVGH5Kb9pDAYD8+bN4+GHHz6tAAD27NnDxo0b+ec//3na5xIVS0oxsXf36bU2q/LD0iIiWzTPOYb1+hLcbvntuDypE39SH4GMxlKGjqybeUiD+lU4OTmZI0eOkJ6efloX27x5M9nZ2b6WmM1mw+Px8MADD/D000+f1rmFV88BVlI7mnA6q+6+axHVgvyC/KDOuemXUooKTgxtL8xvrjO3111ib7qkTvxJfZxMp7MDDZigxo8fz9y5c2nfvj1nnHFGjS82atQohg4d6nv92WefkZ2dzU033VTjcwp/mqYF1QUXHx+G6WjFs1GcrPdAjdXLi5BfHIUQ9SmoBPXpp59is9m4//77SUhIICYmJuCB3UcfffSU5zGbzZjNZt9ri8WC0Wis0XNUov7ExBk4d2yLgAeEm5vomGjyjuU1dBiNitSJP6mPQDEx0bhVYZ2cO6gEpdPpSE5OrvWLjx8/vtbPKeqGwagRFd28J6KNjTPjUc37PVaX1Ik/qY9AMXFmjh5twAQ1Y8aMOrm4EEIIUZnmORxLCCFEkxf0Ay3Hjh3j888/Z+vWrRQVFREREUG3bt0YM2YM0dHRdRiiEEKIUBRUC+rgwYPcf//9fPXVV1gsFjp06IDFYuHLL7/kvvvu49ChQ3UdpxBCiBATVAtq3rx5WK1WnnzySRITE33l2dnZPPHEE8ybN4+//e1vdRakEEKI0BNUC2rz5s1MmDDBLzkBJCQkcMUVV7B58+Y6CU4IIUToCipBuVwurNaKnxS2Wq0yeaIQQohaF1SCatu2LV999RUej/+DmkoplixZQtu2besiNiGEECEsqHtQl19+ObNmzeKee+7hL3/5CzExMeTl5bF69WoOHz7Mgw8+WNdxCiGECDFBJajevXvz4IMP8sEHH/DRRx/5ytu3b88DDzxAr1696ixAIYQQoSno56B69+5N7969sdvtFBcXEx4e7jevnhBCCFGbgkpQLpcLl8uFxWIJmPDVZrNhMBgwGJrnInZCCCEaRlCDJGbPns2cOXMq3Pb666/z+uuv12pQQgghRNDPQQ0YMKDCbf3792fTpk21GpQQQggRVIIqKCiodM2mqKgo8vODW5lVCCGECFZQCSoqKoq9e/dWuG3v3r1ERETUalBCCCFEUAmqX79+fPjhh2RmZvqV7927l48//ph+/frVSXBCCCFCV1BD78aPH8/vv//Ogw8+SIcOHYiNjeXYsWP88ccfJCYmcuWVV9Z1nEIIIUJM0F18M2fO5OKLL0YpRWZmJkopLrnkEmbOnFnp/SkhhBCipoJ+eCk8PJwJEyYwYcKEuoxHCCGEAKqRoMrbv38/+/fvJzo6mi5dutR2TEIIIUTlCerHH3/k119/5Y477vArnzNnDt9++63vdVpaGn//+9+xWCx1F6UQQoiQU+k9qBUrVqBpml/Z6tWr+fbbb+nevTv33XcfEydO5M8//+STTz6p6ziFEEKEmEpbUPv27eOqq67yK/vxxx+xWCxMnTqVsLAw+vfvT3FxMevWrZORfEIIIWpVpS2ogoIC4uPj/co2b95Meno6YWFhvrL09HSOHDlSdxEKIYQISZUmqIiICIqKinyv9+7dS2lpKZ06dfLbz2Qy1V10QgghQlalCSo1NZUVK1b4Xq9atQrwrgtV3sGDB4mJiamb6IQQQoSsSu9BXXzxxTz66KM89NBDREVF8dtvv9G1a1fat2/vt9/PP/8cUCaEEEKcrkpbUOnp6UydOhWTycTRo0fJyMjg3nvv9dsnLy+PnJwcBg0aVOeBCiGECC1VPqg7cOBABg4cWOn26OhonnnmmVoPSgghhAhqLj4hhBCivkmCEkII0ShJghJCCNEoSYISQgjRKEmCEkII0SjVOEEVFRWxa9cunE5nbcYjhBBCAEGuB/Xhhx9it9uZOHEiAFu2bOHpp5/GZrMRGxvLI488QuvWres0UCGEEKElqBbUDz/8QGJiou/1vHnzSE1N5b777iM6Opr58+cHfcGXXnqJm2++mUmTJnHXXXfxzTffVD9qIYQQzV5QLajc3FxfC6mgoIA//viDRx55hG7duuFyuXjnnXeCvuAll1zCrbfeitFo5MCBA8yYMYN27drJdElCCCH8BNWC0ul0uFwuwNu9ZzKZSEtLAyAqKspv1vNTSUlJwWg0AqBpGpqmcfjw4erGLYQQopkLqgWVkpLCDz/8QFpaGt999x3p6ekYDN5Dc3JyaNGiRbUu+uabb7J8+XIcDgft2rWjb9++1Y9cCCFEs6YppdSpdtqwYQPPPPMMLpcLg8HAww8/THp6OuC9p2S327nvvvuqdWGPx8OOHTvYvHkz48aN8yW8MsuWLWPZsmUAzJo1C4fDUa3zn8xgMPhagULqoyJSJ4GkTvxJfQSqjTqpbF3BoBIUwJEjR9i1axdt27alVatWvvKlS5eSmppK586daxTY66+/TnJyMhdeeGGV+x08eLBG5y8THx/P0aNHT+sczYnURyCpk0BSJ/6kPgLVRp0kJSVVWB5UFx9AYmKi30i+Muecc07No8LbksrKyjqtcwghhGh+ghoksW7dOr777jvf6+zsbB5++GGuu+46nn32WWw2W1AXy8/PZ+XKldhsNjweDxs2bGDlypX06NGjZtELIYRotoJqQX300UcMHjzY9/rf//43ubm5jBo1ihUrVrBgwQKuu+66U55H0zSWLFnCG2+8gVKK+Ph4Jk2aRP/+/Wv+DoQQQjRLQSWow4cPk5qaCoDD4eDXX3/l9ttvZ8iQIbRp04ZPPvkkqAQVFRXFo48+enoRCyGECAlBdfE5nU7fKIvt27fj8Xjo1asX4L25lZubW3cRCiGECElBJaiEhAS2bdsGeO9HtW/fnrCwMMB7X6ns70IIIURtCaqL75xzzuHdd9/lp59+Ys+ePdx4442+bTt27CA5ObnOAhRCCBGagkpQF154IZGRkezcuZMLLriAjIwM3zabzcaIESPqLEAhhBChKejnoIYNG8awYcMCym+++eZaDUgIIYSAaiQogPXr17NlyxaKioqIiIigW7duMo+eEEKIOhFUgiotLWXWrFls27YNnU5HZGQkhYWFfPHFF3Tt2pUHH3wQi8VS17EKIYQIIUElqP/+97/s3r2b22+/naFDh6LT6fB4PKxcuZI333yT999/n8mTJ9d1rEIIIUJIUMPM165dy5VXXsmwYcPQ6byH6HQ6hg0bxoQJE1i7dm2dBimEECL0BJWgCgsLKx1KnpycXK0FC4UQQohgBJWgEhMTWb9+fYXbfvnllwpnORdCCCFOR1D3oEaNGsW7776LzWZj2LBhREdHk5eXx6pVq/jmm2+YNGlSXccphBAixASVoMaMGUNBQQGLFy9m+fLlJw42GLj44otPudigEEIIUV1BPwc1ceJExo4dy86dO33PQXXq1ImIiIi6jE8IIUSIqtaDuhEREfTp06euYhFCCCF8Kk1QW7ZsqdaJ0tPTTzsYIYQQokylCaq6CwvOnz//tIMRQgghylSaoKZPn16fcQghhBB+Kk1Q0mUnhBCiIQX1oG55SikWLVpEXl5eHYQjhBBCeNUoQS1cuJDc3Ny6iEcIIYQAapCghBBCiPogCUoIIUSjVKMElZ6ejtVqre1YhBBCCJ9qzSQB3nWgZAi6EEKIuiZdfEIIIRqloFpQEyZMqHSbpmmEhYXRrl07xo4dS69evWotOCGEEKErqBbUZZddRnx8PFFRUQwfPpxx48aRkZFBVFQUcXFxnHXWWRQUFPDUU09VurChEEIIUR1BtaCMRiOJiYk89NBDmEwmX7nD4eCpp54iKiqKp59+mlmzZvHxxx/Tr1+/OgtYCCFEaAiqBbV06VJGjx7tl5wATCYTo0ePZunSpeh0Os4++2wyMzPrJFAhhBChJagEVVBQgMvlqnCby+WisLAQgKioqNqLTAghREgLKkG1b9+ehQsXcuzYMb/y3NxcFi1aRIcOHQDIzs4mJiam9qMUQggRcoK6B3X99dfz+OOPc/vtt9O5c2eioqIoKChgx44dmEwm7rjjDgAOHz7MmWeeWacBCyGECA1BJaj27dvz0ksv8fnnn/PHH3+wd+9eYmJiGDNmDGPGjCEyMhKoeji6EEIIUR1BzyQRGRnJxIkT6zIWIYQQwqdaUx0VFRWxY8cOioqKiIiIoHPnzkRERNRVbEIIIUJY0Anqgw8+4PPPP/cbzWcwGLjooou48sor6yQ4IYQQoSuoBLV48WI+/vhjRowYwVlnnUV0dDR5eXmsWLGCjz/+mKioKC688MK6jlUIIUQICSpBLV26lAsuuIDrr7/eV5aUlER6ejoWi4UlS5YElaCcTidvvvkmGzdupKioiJYtWzJx4kT69OlT4zcghBCieQrqOajs7Gz69u1b4ba+ffuSnZ0d1MXcbjdxcXHMmDGDuXPncuWVV/L8889z5MiR4CMWQggREoJKUBEREezbt6/Cbfv37w96oITFYmH8+PEkJiai0+no168fiYmJ7Nq1K/iIhRBChISguvgGDhzI/PnziYyMZOjQoej1etxuN6tXr2b+/PlkZGTU6OJ5eXkcOnSIlJSUgG3Lli1j2bJlAMyaNYv4+PgaXaOMwWA47XM0J1IfgaROAkmd+JP6CFSXdaIppdSpdiotLWXmzJls374dnU5HREQERUVFeDweunTpwkMPPYTFYqnWhV0uFzNnzqRly5bcfPPNp9z/4MGD1Tr/yeLj4zl69OhpnaM5kfoIJHUSSOrEn9RHoNqok6SkpArLg2pBWa1WHn30UX755Re2bt3qew4qPT2dPn36oGlatYLxeDy88sorGAwGJk+eXK1jhRBChIagn4PSNI1+/fqd9lpPSilmz55Nfn4+Dz30EAZDtZ4VFkIIESKCGiRRm9544w0OHDjAAw88ELC+lBBCCFGm0uZLdSZ+1TSNDz744JT7ZWdns2zZMoxGIzfddJOv/Oabb2bYsGFBX08IIUTzV2mCuuyyy6p9b+lUEhISWLBgQa2eUwghRPNUaYIaP358fcYhhBBC+Kn3e1BCCCFEMCRBCSGEaJRCboy30+1h5ooDrD9Y7CvrFGfh6XNT0esqvufm9iiKHG6izPpavy8nhBCiYiGXoFbsKfBLTgA7c2xc+t/tAESadMwZ14Fwkx6A51Ye5Ps9BQB0jrMwq4pEJoQQovaEXILaftRW5fZCh4eJC3dWuG3H8UT29iUdiAsz+sqVUjz5/QHWHShifPc4xnWNJeJ4ghNCCFEzIZWg8mwuvv4j77TPM/njP31/b2HWk293+14v2JTDgk05nJUaxfB2UfRrE9xM70IIIfyFTILyKMUj31S8ZMjpKJ+cyluRWcCKTG/X4C0DWnJh55hav7YQQjRnITOK75sdR8nMs/uVTR2axKDkCC7oFM0DwyqeTRdg7qUdubpXzaeTn7Mui3c3BLeooxBCCK+QaUHtyC7ye9090cpZbaM4q20UAAV2Nya9hsOtyGgbxb1D/RPW+R2j+SPHxtr9/ucp768DWrIjx8a3u/IDti3anMO6A0U8e34qRn3I/F4ghBA1FtR6UI1BTdeD8hzcx+TleRxTRr/y96/o5BupV2b70VK2ZZcyol0UUZaqc3eB3c1fP/uTYoeH7olWnhh1ht8Q9OxiJw98nUlOqSvg2LmXdiTG2rC/G8i6NoGkTgJJnfiT+gjU4OtBNWWfr9vNMZXoV3bXkNYByQkgLd5KWrw1qPNGmfX835j2HC1x0SHWHPB8VEK4kbcv7ciPmQU886N/cr3+oz8Y0CaCiT3jSQg3EmmWEX9CCHGyZp2gnG7F4oLwgDttvVrUTqMx2mog+hQtoTNTo+iaYPUb+Qew7kAR6w54uwuHpETw4FnJtRKTEEI0F836ZohRr/HPzv4DI7rl/Un0g9fhfvUpVGlJvcQRF2bkzYs7VLp99b4iLp63jcXbj9VLPEII0RQ06wQFED3oL/zn0g5Y3A6iHYXM2PC6d8OGNXhe/2e9xZEQbuTTq7uQ0qLiRRoV8PrPWXy/O3CAhRBChKJm3cVXpoXVyNJbBnD0lVkoynXvbdmAUqpe59d7ZUx7wDu/38asEqZ/6/9s1nOrDrE338G1vRPqLSYhhGiMmn0LqowuPBLdDfege/bfJwo9HrCXNkg8ep1G79bhvHNpRy7q4v8Q76LNOYybt40SZ8UPAQshRCgIiRZUeVpUDLSIhfxcADx3XIn2/+5C6zMEzRpW7/HEWg3c2K8l4UYdH2zM8dt21YKdGHSQGG7inA4tGNc1ViaqFUKEjJBpQZWndenh91q98yKeO6/Es/yrBooIruqZwP0VzGbh8sDBQgf/3pDNpf/dzq2f7eKrHTKYQgjR/IVmgrrq5grL1bzX8Kz8pp6jOWHoGVG8e1lH3+uK2koHCx3MXpfF1Qt3sPlI/YxCFEKIhhByXXwAWngkutc/hU2/4Fn4Nhw6MVBBzX0R1aUHWlxiFWeoO1EWA59e3cUbi1J8v6eARZtzKLC7ybeduCdV5PDw96V7SWlhYlLvRAYky6zpQojmJSRbUACapqH16If+sVfRLhzvt019+O9KjqpfmqYxvF0LXhnTnv9c1om7h7QO2GdfvoMnvt/PxqziCs4ghBBNV8gmqPJ0l1wDEZG+12rdD7j/9TBq43qUu/GMpBvRvgWfXt2Fp89NJTnK/3kqmS1dCNHcSII6TjflH/4F2zfieelRPFOuwPP5Bw0TVCW6JFh5ZUw7vyVAdubYcHmaxLy/QggRFElQx2kdu6K75f7ADW4X6rP3UVt/q/+gqqBpGuO7n0hQHgXTv93Hos05HKtgBnUhhGhqJEGVo/U/E93/fYh2zW1oQ0b4bfM8Nw2V+WclRzac8lMnbcoq4d0N2Vz/0R88uCSTdfuLsLs8DRidEELUnCSok2hGI7qM89FNvgft4mv8tnmeuAf3vdeiMv9ooOgCXdw1tsLyrdmlPPH9fsbP38HDSzM5XOio58iEEOL0SIKqgnbhFdCxq39hYT6eJ+7F89WiepsNvSqjOkTz6kXtGN89rtJ9Nh0p5ZbPdrGuitWAhRCisWn2K+qWOZ1VHz3zZqOWfxm4QaeDqGh0192O1qP/acVXW/bm2Zn3ezZ78xwcrKDVdE6HFkwZ1IqEhARZGfQkslpqIKkTf1IfgepyRV1JUEFSLidq0VzUN59XuF0771K0yybV68zop+LyKCZ//IffA75lEiNM3Dm4JT1ahjdAZI2TfPkEkjrxJ/URSBIUDZ+gyqj9e1DLPkP9shpKT3o4tkUsuuvvROve97SvU1vcHsVvh4t59Lv9FW5PDDcwJCWSSX0SQ34iWvnyCSR14k/qI5AkKBpPgirPs+xT1Py3Asq1/meiXXsbWljjmX7ocKGDx5fvZ39B5YMlurcMY1yXGPq0DseoD73bk/LlE0jqxJ/URyBJUDTOBAWgjuXg+fdLsPnXwI0duqCl90Hr1getQ5dav3ZN5NtcLPkjj/d+q7ou2kabuXVgK9LiLY2q27IuyZdPIKkTf1IfgSRB0XgTVBnPN5+jPnij0u3a4OHobri3zq5fXdaoaP6z6o9TJirwtqz+flYbwk36eois4ciXTyCpE39SH4EkQdH4ExSAcrtRXy1Erfkesg4E7pDQCq17P7S0HtBzAJrRWKfxVKV8fRwpcvLF9lw+3Vb1OlMXd43lqp7xWAzNs/tPvnwCSZ34k/oIJAmKppGgylMFx1A/r0T99/VK99Em3Ij2l5FoYfU/kq6y+iiwu3nz5yy+31NQ6bH/Oj+VSJOehHBjsxpYIV8+gaRO/El9BJIERdNLUGXUvt143p8Df2ypeAe9Ae2KyehGjqnXuIKpj3ybi+dWHWLDocqX8pg6NInkKBMxVgPRFn2Tvl8lXz6BpE78SX0EalYJ6n//+x/Lly9n7969DB06lClTpgR1XFNNUGVUXi5qxdeon1ZU3P0XE4/WvS9anyGQ1h3NZK7TeKpTH9nFTm785NTzECaGG+mSYGVUhxb0atX0nq9q6M9IYyR14k/qI1CzSlBr165F0zR+++03HA5HyCSo8lRJMWrVN6j5b1a8g8kE7bug9RmM1msQxMbXesukuvXhdCs2HSlh3m/Z7MyxnXL/nq3CuLhLLP3aNJ6h9qfSmD4jjYXUiT+pj0B1maDqfcn3QYMGAbBr1y5ycnLq+/KNghYWjjZqLKpbXzzvz4Zd28FhP7GDwwHbfkdt+917Dys6Dt3EW6DXQDRdwwxQMOo1+rQOp0/rcFwexbI/89iVa+dwkYO8UjcHCx04y61H9fvhEn4/XEKMRc/l3ePoFGelc1zoDFkXQpy+BrsH9cEHH5CTk1NpC2rZsmUsW7YMgFmzZuFwnN5s3AaDAZerca6TpNwunNs3YV/zPfZf1uA+kFnpvpG3PoChzRkY2ndGZ615N1pt14fD5eHjjYd4acXuKvf75rYhWIyNc7h6Y/6MNBSpE39SH4Fqo05MJlOF5Y02QZ2sOXXxnYo6vB+1YS3qt3WVD64ASG6L1q4zpHZEa9sRUtoH3cKqq/rYlFXCj5kFfLUzr8r9BiZHMGVQK6It9d6Ir1RT+ozUF6kTf1IfgZpVF584Na1VMtr5yXD+ZagtG7yjACsaWLF/D2r/HvhhCb7fMjp3R/f/7kKLb1mPEZ/QvWUY3VuG8deBrdh+tJQfMgv4vILnq37aX8RP+/+gV6swHj07Rbr+hBABJEE1clp6b/RPvIbasgG1fhXqz61QRRcgOzbheegmaNkGrd9f0M69BC28YQYqpMVbSYu3cmX3eF5YfZB1BwKHq/92uISL39+OWa+REG7ksm5xnJkaiSkE5wIUQvir9wTldrtxu914PB48Hg8OhwO9Xo9e3zjvSzQWWnpvtPTeACiPGwry4fB+1O6dqD074ZdV/gdkHUB9uRD15ULo3g+tZ3+0s85Ha4B6jjDr+cfwFJxuDztzbMz9NZvtR0v99rG7FfsLHLy4+hAvrT5E2xgz6QlW2sVY0DSwGHT0ahVOpFk+J0KEinq/B7VgwQIWLVrkV3b55Zczfvz4Ko8LpXtQNeVZvAC14n+QW8n7NBjRzr8UrUtP4nr0IcfubLCutUK7mweXZJJV5PQb/XcqrSKMtIwwMqBNBJFmPWnxViJNeiJqIXGFwmekuqRO/El9BGpWz0HVlCSo4Kk/t+H5Yj7s3Az2Kp5ZCo9E69EP7fq7GqRlVSa72MnqfYVsyy5l1zEbhwqd1T6HQacRazUQYdIxtkss3VuGkRBevbkOQ+kzEiypE39SH4EkQSEJqiaUUnAgE8+81+CPrVXv3KELWkJrtFFj4Yz2DTpoYX+BnZ/2F5Fvc5Nb4qLA7mJPnp28ClYGrkq7GDP9kiLQ6yA+zEjHWAsJ4UaMeg2jTguYRzAUPyOnInXiT+ojkCQoJEGdLnX4AGrHJtTGn+HgPjhSdX1qAzOgRz+09F5oUTH1FGXVSp0elv2ZR3axk01HSvkz99QzWlRGp3nXvEqLtzI4JZLercND/jNSEakTf1IfgSRBIQmqtsWajGQ/8w/Y+hu4q37ITrv2NnRnnV9PkVWfy6Mocrj5fncBm4+UsHZ/UbXPYdBB/5QYlNvJhB7xdIi11EGkTY/8v/En9RFIEhSSoGpbWX0otxtys1FLP0Xt3AL7K5kJokUshEd4f6Ki0VLaow0egRaXUL+BB+lQoYN1B4qwOT04PYrtR0vZmFWCTgOdpuFwn/pjnxhuYNqIFM5oUbcT9zZm8v/Gn9RHIElQSIKqbZXVhyrMR/32E+p/H1X8cPDJzFaIiISwcEhojRbfEm3AmdAqGc1irYPIa0deqYvV+wr5aEsOR4qrbkFGmHSktDAzsE0EaQlWYq0GjHqNcKMet1KUOj0YdRotyi03opRC4U2GTZn8v/En9RFIEhSSoGpbMPWhNqzF8+G/4fD+ml2kWx+0M9qj9RqE1qFLzc5RD7KKHBwqdPJrtpONB/JO696W1aDDoNcotHsHdJj0Gi0jjCRFmlBAm0gTyS1MtI+xkBptbvQLPsr/G39SH4EkQSEJqrZVpz6U3Q7FBVBSBEcOoTZvQB3eD5l/VD2M/WTtOqMNHIaWlAoduqKZG1fXWVmdZObZmb/xKGv3F+Ly1O01DTqNrglWuieGEWnW0zHOQkoLE2GNZEJd+X/jT+ojkMzFJxqUZjaDOQFiEyC5HVrfvwDHh7EXF0JpCRzYg+f7r8Hj9k7FlB84/x67d6B27zgxb2B0LCQmoaW0g6Qz0FLae/9s4MSVGm3m/mFtAO/IwTX7CtmXb+dgoYOsIiclTg92t6LY4UavadjdHqrxrLEfl0exMauEjVklfuXhJh1hBh3tYi30ahVGYriR1pEmkiJN2FweihxuTHodJr2G2aDD0MhbYkLUhCQoUWOapkFElPcnoRX63oN929SBTO+9rK8WgdsNzgqWS8nLhbxc1I5N3mPAu1hj6zPQOnRB69oTWsRBciqaseLp+Oua1ahjRPsWp9zP7vJQ6HCj4U1qURYD9uPNr335dvYcs2Nze7A5PRwpdrL5SCkF9sqf6yp2eCh2eMguKeKnIEYl6jRvd6LVoCM2zEC7GAsmvUbnOCt9ksJpYdbLhLyiyZEuvhBVn/WhlILsQ6hfVsO+Pajd2yH7cPVO0qEL2hkdIDwSIqPQ2qRCQmvviEJD7fyeVd914lHw2+Fi1u4vIjPPjsPtodDuTWB1IbWFmaQoI9EWAy0seqItBlweRWyYgdYRJhIjjFgNOr/7YvL/xp/URyDp4hNNmqZp3q688y/zlSmnA44e8S4Xkn0ItXMz7NkJRYUVn+TPbag/t504/sTJoUUs2vALIL4lWlg4RMVAbDxYrKA3NNgqxFXRNA29Bn2TIuib5D/bvNPtIc/mXaV4X76dnTk28mxu/sy1+QZfRJn1aBo43QqbK7guxsx8O5n59lPu5215WQg36UlscYxwnYvkKDNxYQbaRJmOX1taY6LuSYISDUIzmqB1Mlrr5OMlVwCgjmahdu/wLnm/a0flz2WVUQryclCfvOd9efJ2gxF69EN3xWSIS0DTNY7BB1Ux6nUkhOtICDfSq5X/qsluj8KtlN9yJEop3Aocbg/HSt2s2VfIoUIHu4/Z+aMGIxIdbsWmI8dnm6+ge9Fi0IixGjDpdJgNGgpvojxS7KR/UgQGPRh1OtpEmTgzNZJoi6HRj1YUjZN08YWoplIfSinIOeK9T1VUCCVFqEP74ehh2LureifTG7xJqkMXiG8FYeHegRmduqLp9E2mTqrL6Vbk213klLg4UuQk3+4ir9RNns1Fns1Ngd1Fod1DdnH1ZpYPlkEHUWYDFoNGtMVAfLiRxHAjyVEmIkx6YqwGIs06wo16dDow63WNNqE118/I6ZAuPhGyNE3zdt1VsEKwUgr+2IratwuOHPIOuCgtgaNZUJQPJSctkOh2eYfJHzl04hwAmg6SU8k7oz2e+JZo3fpCm1Q0U+MaBl9TRr1GfJiR+DAjafFVPzxd4nSzK9dOidONzaXAaGVX1jH2FzjILXWyP9+BPYhZOMpzeSC31Psw9MFCJ2SXVrm/XoMIkx6LUUe0RU/nOCtnRJuxGnQY9Rp6TSPKosdq1GHUaSSGGxttQhOnR1pQISoU6kO53agP3kD9sRVyjkBp4Iq+VYqO9SbHVsnewRlJZ6C1ToGYOIiIqrXBGY1ZRZ+TApuLArsbp0dhc3rQ6TR25dowG3ToNDhW6mJjVgnHSl1kFTspdtTtw2RGnUZsmIEwo45Ik574cAMtzAYsRh0epXB7vMP5dccXvtRp0DLCRKsII8VOD26PwqT3tu5SWpiqvL8WCv9vqkse1EUSVG0LxfpQRw7CwX2onGwozIOsg6htv0NRQc1OaLFCZAsIi0BLaOUdmBEW4e1GjG8JES0gqgVaWMSpz9VIne7nRClFkcODzeWh2OGmwF42+MNBbqmLEqeHY6Uuih1uih0eHG4P1Wyg1bqWEUaMOg2jXiPSrCfabMBq1GE16oiNCkc5beg1jTCjjgiz3jt7iE6jTZSJcJM+5J5Jky4+IWqBlpjkHU1YrkwpBfm5cHAf4fYSin5d621xBTMM3lbq/QFU5h9+m/y+Y61h3sRlDYf4RO9MGr4kFgkms3dbVHSzGx2nad4v+Uiz3reAZM+TBn6czObyUOr0kG9zsflIKXvz7b5Jf10ehcOtOFbqwuVRFB9PcLUpq6iqYf65pzxef7ylZjLosBg0LAYdZr0Og847c0i4SY9Jr2HQaViOt/oizXoiTHoiTDriw4ze7svj65YZdBomvdbsPhvBkAQlQpqmaRAdB9FxhMXHU9Ln+CwZLhcczPQOyLCXwrFc75D4o1lw7Kj3/pYKsuuqtMT7A7B/N2rDWu81Tt7PYvX+lE3Aa7aA2YJmtoLF4p1RPrG1t0VmsXj3NZm93Y1NuJV2MotBh8WgI8ZqoG3MqZc9KXa4OVbqwu5W5Ja4OHa8C9Lu8qDTQK/TMGgaDo/iSJGTIod3gIjTrYgw6dHrNH49VM3u3yq4FRQ7PRQ7a69r06AD0/HBI3oN9Jp3wU2rQcep8pameeeI1Ok0rAYNg05HlFmPxeCdhSTMqEPh7Sq1GnVEmPQUOdx4FGh4HwLXNM37JycekdCOl0cXaHSNqrW36v++6+a0QjRtmsEAZ3TwPhxcAeXxeO9pFRdCQR4q65C327CowPt819Es79yFx46CK8jf8Mu1yMgqd62Tr13RsdYwbyus3J+aNRzCwnytM1rEeBefbBHtfW0Nbxa/lYeb9ISbvI8PdIit+XnKkprLo3B6FA6XosDuIt/m9rXqdCYLR/OLOGZzkVfqwqDTKHZ6yC1xUehw4/KoGk97VRWXB1yeOp4Ysob0uoN8dFVanZxbEpQQNaDpdN6BE+GR3m7DjukV7qc8Hm+iKimG/GPeSXZzs48nscNgs4HD7u1mrM7Euycr30oru3ZF8ZR/oTd4E5r5eGssPPJ4i80CRhMYjRRERuJxeY53U5ZLfJawEy04k3dfDEbvcQZjk0x8UWY9mKt+Tu5U91uUUrg83qmvbG7vvTeHS1Hq8g7GKLvPVtZVmW9343QrCu1uio7fo8spcWJ3eZOk0618XZuNlb4O/6klQQlRhzSd7sR8hYmt0TpVlsjcUFrqTVK2Eu8zXw4b2O2ospZV9iFUXo43EZWV2Uq9yc1d+bx+lXK7vC2+kwaJlP8qrGhA+Cm/KjWdtwvSbD2RuPQGbyILCweDCa0sqRnNYDB4txtN3r8fT47oj5cbDN4WraHsmJP+NJjK/d0I+oab6ULTNIx6MOr1RFB7D4WXtey8D2p7RyW6PN5ZRE7Fo7zzQ7o8yvf4gN3lwe72YHN5Jz3W8D4CYHd5MOo1oszerk+lQOFtFSoFnuNTdClOTNcVZqm7xzEkQQnRCGg6/YkVi0/edopjfa20slZUaQmUFnufCSsthuIiKMxD5edBwTHvTPMFeafXYqs6oApbdH67VPeU1dlZ0/xbdGbL8Zae90cLj/RPggYjGI//Wfbjt82IdrzcEReHKi6p+BhDude1nCTNBh2N9am8uhwRLAlKiCbOr5VWvvwUxymH3dtas9u9XZAlRWC3oew2cDnB6STCbKLoWK53v9ISKDme+Gwl3hafw+6dqd7lPH6MI/h7bnVFKXA4vD8EDn6oSWdZ2TEVLCJTMU2rIHGdSHgVJTUtIOkZ/BNm+b8bTWjlW4++lmdZS9JwogWqN4Be36Aty5qSBCVEiNLKWhUnl5f7e1h8PCXV/O1YuVze1pm99HjScoHb6b3fZisBlxPldHqTm8vpTWjHEyKu44nF7fZ2Qbqc4HajfNuPJ0Fn2Z+OcuVOcNqhMQwmUOpEfMEeUt1LVHN/AHQ6748vaZV1rxq9LU2j6cTr492r6PRovn3L/tR5PztmK8WxcajBZ3v3qWWSoIQQtcp7v6ji7krfPnV4feV2n2jRORzeROlweBOirRRVUlSuxec68ffyybJcQlTlyo2ahrO05ERSdJ18/PFzBvsIQn3zeLw/1WzlVpUMizQN3ZCRpxdXJSRBCSGaFe14dxZmC1TwTPDpJMfYIO+3eJPkScmrLKm5XeUS3PEkWNbKdFaQJN0u/+OPtx5PtCrLWpQnt0CdJ1qibnfNBtIEQTNb62xJG0lQQghRy04kyeCGNtTHnSGl1PEWVLmk5XKdSJj2Uv+E6HJ5fzxub8Itn+jcbm93qq2UsLAw6mi4jSQoIYQIBZqm+QZLYDRV79gqtkXEx2Oro1F8jW+pUSGEEAJJUEIIIRopSVBCCCEaJUlQQgghGiVJUEIIIRolSVBCCCEaJUlQQgghGiVJUEIIIRolSVBCCCEaJUlQQgghGiVNKdV41xIWQggRskKmBfXggw82dAiNitRHIKmTQFIn/qQ+AtVlnYRMghJCCNG0SIISQgjRKIVMgho1alRDh9CoSH0EkjoJJHXiT+ojUF3WiQySEEII0SiFTAtKCCFE0yIJSgghRKMkCUoIIUSjZGjoAOpaUVERr732Gr///juRkZFMnDiRM888s6HDqlX/+9//WL58OXv37mXo0KFMmTLFt23jxo289dZbHD16lE6dOnHbbbeRkJAAgNPp5I033mDt2rWYTCbGjRvHmDFjgjq2MXM6nbz55pts3LiRoqIiWrZsycSJE+nTpw8QmnXy0ksvsWnTJux2O9HR0YwdO5aRI0cCoVkf5R06dIi//e1vDBo0iDvvvBOAH3/8kffff5/CwkJ69OjBbbfdRkREBHDq75Sqjm3MZsyYwc6dO9HpvO2W2NhYXnzxRaAB60M1c88//7x67rnnVGlpqdq6dau67rrr1N69exs6rFq1Zs0atXbtWvX666+rV155xVeen5+vrrvuOrVq1Splt9vVf/7zH/X3v//dt33evHlq2rRpqrCwUO3bt0/deOON6tdffw3q2MastLRUzZ8/X2VlZSm3261+/vlnde2116qsrKyQrZO9e/cqh8OhlFJq//796sYbb1R//vlnyNZHeY8//riaNm2aevHFF5VS3rq69tpr1ebNm1Vpaal64YUX1PPPP+/bv6rvlFMd25hNnz5dLVu2LKC8IeujWXfx2Ww21q5dy4QJE7BYLHTp0oX+/fuzYsWKhg6tVg0aNIiBAwcSGRnpV/7TTz+RkpLCkCFDMJlMXHHFFezZs4cDBw4A8P3333PZZZcRERFBcnIyI0eOZPny5UEd25hZLBbGjx9PYmIiOp2Ofv36kZiYyK5du0K2TlJSUjAajQBomoamaRw+fDhk66PMypUrCQsLo3v37r6yH374gX79+pGeno7FYmHChAmsXbuW0tLSU36nVHVsU9WQ9dGsE9ShQ4fQ6/UkJSX5ylJTU9m3b18DRlV/9u3bR2pqqu+1xWKhVatW7Nu3j6KiIo4dO+a3vW3btr66qerYpiYvL49Dhw6RkpIS0nXy5ptvcs0113D33XcTExND3759Q7o+SkpKWLBgAZMmTfIr379/v9/7atWqFQaDgUOHDp3yO6WqY5uC999/nxtuuIFp06axefNmoGHro1nfg7LZbFitVr+ysLAwbDZbA0VUv2w2G1FRUX5lZe+/rA7CwsICtp3q2KbE5XLx8ssvk5GRQZs2bUK6Tm688UYmT57Mjh072Lx5MwaDIaTrY/78+YwYMYK4uDi/cpvN5veewfu+SktL0el0VX6nVHVsY3f11VeTnJyMwWBg5cqVPP300/zzn/9s0Ppo1i0oi8USUBGlpaVYLJYGiqh+VfT+S0pKsFgsvjoov71s26mObSo8Hg+vvPIKBoOByZMnA1InOp2OLl26kJOTw5IlS0K2Pvbs2cPGjRv9BnyUqex7w2q1nvI7papjG7tOnTphtVoxGo0MHz6ctLQ0fv311watj2adoFq3bo3b7fZrTmZmZpKSktKAUdWflJQUMjMzfa9tNhtZWVmkpKQQERFBTEyM3/bydVPVsU2BUorZs2eTn5/P1KlTMRi8nQWhXCfleTweX+yhWB+bN28mOzubW2+9lZtuuonPP/+ctWvX8sADD5CcnOz3vrKysnA6nbRu3fqU3ylVHdvUaJqGUqpB66NZJyiLxcKgQYOYP38+NpuNbdu2sW7dOs4666yGDq1Wud1uHA4HHo8Hj8eDw+HA7XYzcOBA9u7dy5o1a3A4HCxatIjU1FTatGkDwFlnncWHH35IUVERBw4c4JtvvmH48OEApzy2sXvjjTc4cOAADzzwACaTyVceinWSn5/PypUrsdlseDweNmzYwMqVK+nRo0dI1gd45497+eWXeeaZZ3jmmWc455xz6Nu3Lw8//DDDhg1j/fr1bN26FZvNxvz58xk0aJCvxVDVd0pVxzZmxcXFbNiwwffd8cMPP7B161Z69+7doPXR7OfiKyoq4v/+7//YuHEjERERXH311c3uOagFCxawaNEiv7LLL7+c8ePH8/vvv/P222+TnZ3te04lMTEROPUzLlUd25hlZ2czZcoUjEaj75kOgJtvvplhw4aFXJ0UFBTw7LPPkpmZiVKK+Ph4LrjgAt8kn6FWHxVZsGABhw8f9nsOat68eRQVFVX43E9V3ylVHdtYFRQUMHPmTA4cOIBOp6NNmzZMmDCBnj17Ag1XH80+QQkhhGiamnUXnxBCiKZLEpQQQohGSRKUEEKIRkkSlBBCiEZJEpQQQohGSRKUEEKIRkkSlAh5y5cvZ/z48Rw+fBiAxYsXs3bt2gaLp7i4mAULFrBr166AbTNmzGDGjBn1H5QQDaBZTxYrRE18+eWXpKWlMWjQoAa5fnFxMYsWLSIuLo727dv7bbvxxhsbJCYhGoIkKCHqgdPp9K3HdDqSk5NrIRohmgZJUEKUM2XKFLKzs8nOzubHH38EICMjgylTpgDeWbDnz5/Ptm3bcDgctG/fnokTJ9K1a1ffOV599VU2btzIvffey3/+8x92797NqFGj+H//7/+xcuVKli1bxt69e3E4HLRu3ZoLL7zQN7/dkSNHuP322wGYM2cOc+bMAeC2225j+PDhvu698t18Bw8eZN68eWzevBmn00nbtm254oor6N27t2+fsumwXnzxRebOncuWLVuIjIzk7LPP5tJLL/VNCWWz2Xj//fdZt24d+fn5hIWFkZqayuTJk5vEHHuieZEEJUQ5f/vb35g5cyapqalcccUVAL41j3bt2sX06dNp27Ytt9xyCyaTiaVLl/L444/zxBNP+HXHlZSU8MILL3DRRRdx1VVX+SaszcrKYvDgwVx88cVomsbWrVuZM2cODoeDc889l5iYGP72t7/xr3/9i4svvpj+/fsD3oXeKpKbm8u0adOwWq1MnjyZsLAwvv76a2bOnMmDDz5Inz59/Pb/17/+xfDhwxk9ejTr169nwYIFxMXFMWLECADmzp3L+vXrueqqq2jVqhVFRUVs27aN4uLi2q1oIYIgCUqIctq1a4fRaCQyMpLOnTv7bXvvvfeIj49n+vTpvuU7evfuzdSpU1m0aBH333+/b1+bzcYdd9zBgAED/M5x6aWX+v7u8Xjo1q0bx44dY+nSpZx77rkYjUbatm0LQMuWLQNiONkXX3xBcXExTz75pC+J9e3bl3vuuYcPPvggIEGNGTPGl4x69uzJpk2bWLlypa9s586dnHnmmZx99tm+YwYOHHjKehOiLkiCEiIIDoeDLVu2cMkll6BpGm6327etR48e/PDDD3776/V6+vXrF3CeQ4cOMX/+fLZu3UpeXh5lczXX9P7U1q1b6dSpk18LS6fTMXToUD788ENKSkr8VjTt27ev3/EpKSns2bPH97pDhw4sX76cyMhIevXqRbt27fxmhBeiPkmCEiIIRUVFeDwePvzwQz788MMK9/F4PL4v86ioqIAvdpvNxhNPPIHJZOLqq6+mZcuWGAwGlixZwnfffVfjuNq1axdQHh0djVKK4uJivwR18jIHRqMRp9Ppez158mSio6P57rvv+OCDD4iIiOCss87iqquuwmw21yhGIWpKEpQQQQgLC0PTNM477zwyMjIq3Kd8QtI0LWD7jh07yM7O5rHHHqNLly6+8vKtseqKiIggLy8voDwvLw9N0wgPD6/W+SwWCxMnTmTixIlkZ2ezZs0a3n//fQwGA9dcc02N4xSiJiRBCXESg8GAw+HwK7NYLHTt2pXMzMwad3vZ7XbA2/1XpqioiJ9//tlvv7LuvpNjqEh6ejpffvklR44c8S0U6PF4WL16NW3btvVrPVVXQkICF110ET/++CP79u2r8XmEqClJUEKcJDk5mW3btrF+/Xqio6OJjIwkMTGR6667junTp/Pkk09y9tlnExMTQ0FBAbt378bj8XD11VdXed60tDSsVitvvfUW48ePx2az8dFHHxEZGUlJSYlvvxYtWhAZGcmqVatITU3FbDaTmJhIZGRkwDlHjx7N8uXLeeKJJxg/fjxWq5UlS5Zw8OBBHnrooWq/94cffpj+/ftzxhlnYLFY2LJlC3v27GHSpEnVPpcQp0sSlBAnmThxInPmzOH555/H4XD4noNq3749M2fOZNGiRbzzzjuUlJQQFRVFu3btOOecc0553qioKO677z7+85//8OyzzxIbG8sFF1xAUVERixYt8u2n0+m45ZZb+O9//8vjjz+O2+32PQd1stjYWB5//HHee+893njjDVwuF23btuWhhx7yew4qWF27dmX16tV88skneDweEhMTmTRpEhdeeGG1zyXE6ZIl34UQQjRKMn5UCCFEoyQJSgghRKMkCUoIIUSjJAlKCCFEoyQJSgghRKMkCUoIIUSjJAlKCCFEoyQJSgghRKP0/wHiniFheK2FBwAAAABJRU5ErkJggg==",
       "datasetInfos": [],
       "metadata": {
        "imageDimensions": {
         "height": 352,
         "width": 424
        }
       },
       "removedWidgets": [],
       "type": "image"
      },
      "image/png": {
       "height": 352,
       "width": 424
      }
     },
     "output_type": "display_data"
    }
   ],
   "source": [
    "# loggloss during training\n",
    "fig = plt.figure(figsize=(6, 5))\n",
    "plt.style.use('ggplot')\n",
    "\n",
    "# Train curve\n",
    "plt.title(\"log-loss versus iterations\", size = 16 )\n",
    "plt.xlabel(r\"Iterations\", size = 16)\n",
    "plt.ylabel(\"log-loss Score\", size = 16)\n",
    "\n",
    "plt.xticks(size = 12)\n",
    "plt.yticks(size = 12)\n",
    "plt.plot(comb_ann['RHC'], label=\"RHC\", lw=3)\n",
    "plt.plot(comb_ann['SA'], label=\"SA\", lw=3)\n",
    "plt.plot(comb_ann['GA'], label=\"GA\", lw=3)\n",
    "\n",
    "plt.legend(loc='best', fontsize=12)\n",
    "plt.tight_layout()"
   ]
  },
  {
   "cell_type": "code",
   "execution_count": 0,
   "metadata": {
    "application/vnd.databricks.v1+cell": {
     "inputWidgets": {},
     "nuid": "27b7b082-e8da-4397-b3be-4311cdf34985",
     "showTitle": false,
     "title": ""
    }
   },
   "outputs": [
    {
     "data": {
      "text/html": [
       "<style scoped>\n",
       "  .ansiout {\n",
       "    display: block;\n",
       "    unicode-bidi: embed;\n",
       "    white-space: pre-wrap;\n",
       "    word-wrap: break-word;\n",
       "    word-break: break-all;\n",
       "    font-family: \"Source Code Pro\", \"Menlo\", monospace;;\n",
       "    font-size: 13px;\n",
       "    color: #555;\n",
       "    margin-left: 4px;\n",
       "    line-height: 19px;\n",
       "  }\n",
       "</style>"
      ]
     },
     "metadata": {
      "application/vnd.databricks.v1+output": {
       "arguments": {},
       "data": "",
       "errorSummary": "",
       "errorTraceType": null,
       "metadata": {},
       "type": "ipynbError"
      }
     },
     "output_type": "display_data"
    }
   ],
   "source": []
  },
  {
   "cell_type": "code",
   "execution_count": 0,
   "metadata": {
    "application/vnd.databricks.v1+cell": {
     "inputWidgets": {},
     "nuid": "467a5421-b71c-4b3f-88d7-cf730deb2c6a",
     "showTitle": false,
     "title": ""
    }
   },
   "outputs": [
    {
     "data": {
      "text/html": [
       "<style scoped>\n",
       "  .ansiout {\n",
       "    display: block;\n",
       "    unicode-bidi: embed;\n",
       "    white-space: pre-wrap;\n",
       "    word-wrap: break-word;\n",
       "    word-break: break-all;\n",
       "    font-family: \"Source Code Pro\", \"Menlo\", monospace;;\n",
       "    font-size: 13px;\n",
       "    color: #555;\n",
       "    margin-left: 4px;\n",
       "    line-height: 19px;\n",
       "  }\n",
       "</style>"
      ]
     },
     "metadata": {
      "application/vnd.databricks.v1+output": {
       "arguments": {},
       "data": "",
       "errorSummary": "",
       "errorTraceType": null,
       "metadata": {},
       "type": "ipynbError"
      }
     },
     "output_type": "display_data"
    }
   ],
   "source": []
  },
  {
   "cell_type": "code",
   "execution_count": 0,
   "metadata": {
    "application/vnd.databricks.v1+cell": {
     "inputWidgets": {},
     "nuid": "49cf3ca3-9779-4db7-9ba0-d5ad0fb3e784",
     "showTitle": false,
     "title": ""
    }
   },
   "outputs": [
    {
     "data": {
      "text/html": [
       "<style scoped>\n",
       "  .ansiout {\n",
       "    display: block;\n",
       "    unicode-bidi: embed;\n",
       "    white-space: pre-wrap;\n",
       "    word-wrap: break-word;\n",
       "    word-break: break-all;\n",
       "    font-family: \"Source Code Pro\", \"Menlo\", monospace;;\n",
       "    font-size: 13px;\n",
       "    color: #555;\n",
       "    margin-left: 4px;\n",
       "    line-height: 19px;\n",
       "  }\n",
       "</style>"
      ]
     },
     "metadata": {
      "application/vnd.databricks.v1+output": {
       "arguments": {},
       "data": "",
       "errorSummary": "",
       "errorTraceType": null,
       "metadata": {},
       "type": "ipynbError"
      }
     },
     "output_type": "display_data"
    }
   ],
   "source": []
  }
 ],
 "metadata": {
  "application/vnd.databricks.v1+notebook": {
   "dashboards": [],
   "language": "python",
   "notebookMetadata": {
    "pythonIndentUnit": 2
   },
   "notebookName": "02-Randomized-Optimization-2022-03-03",
   "notebookOrigID": 3574955792645936,
   "widgets": {}
  },
  "kernelspec": {
   "display_name": "Python 3",
   "language": "python",
   "name": "python3"
  },
  "language_info": {
   "codemirror_mode": {
    "name": "ipython",
    "version": 3
   },
   "file_extension": ".py",
   "mimetype": "text/x-python",
   "name": "python",
   "nbconvert_exporter": "python",
   "pygments_lexer": "ipython3",
   "version": "3.7.8"
  }
 },
 "nbformat": 4,
 "nbformat_minor": 1
}
